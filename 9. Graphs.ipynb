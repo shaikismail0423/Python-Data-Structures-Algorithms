{
 "cells": [
  {
   "cell_type": "markdown",
   "id": "bab54c61-75af-4b96-ac8c-1f4a2853361a",
   "metadata": {},
   "source": [
    "# Graph\n",
    "\n",
    "A graph is a fundamental data structure in computer science and mathematics used to represent a collection of interconnected nodes or vertices and the edges or connections between them. Graphs are used to model a wide range of real-world relationships and networks, such as social networks, transportation systems, computer networks, and more.\n",
    "\n",
    "Terminoligies:\n",
    "\n",
    "1. **Node (Vertex):** A node, often referred to as a vertex, is a fundamental unit of a graph. It can represent an entity, object, or point in the graph. Nodes can have attributes or properties associated with them.\n",
    "\n",
    "2. **Edge:** An edge is a connection between two nodes in a graph. It represents a relationship or interaction between the connected nodes. Edges can be directed or undirected, depending on whether they have a specific direction or not.\n",
    "\n",
    "3. **Directed Graph (Digraph):** In a directed graph, edges have a direction, meaning they go from one node (the source or tail) to another (the target or head). These are often used to represent relationships with a clear direction, such as one-way roads or dependencies.\n",
    "\n",
    "4. **Undirected Graph:** In an undirected graph, edges do not have a direction. They simply represent a symmetric relationship between nodes, where the connection is bidirectional.\n",
    "\n",
    "5. **Weighted Graph:** In a weighted graph, each edge is assigned a weight or cost, which can represent some numerical value associated with the relationship between nodes. Weighted graphs are used in various applications, such as finding the shortest path in a network.\n",
    "\n",
    "6. **Cyclic vs. Acyclic Graphs:** A graph can be cyclic if it contains one or more cycles (loops) where you can follow a sequence of edges and return to the same node. An acyclic graph has no cycles.\n",
    "\n",
    "7. **Connected vs. Disconnected Graphs:** A connected graph is one in which there is a path between any pair of nodes. In contrast, a disconnected graph consists of multiple connected components, where there is no path between nodes in different components.\n",
    "\n",
    "8. **Degree of a Node:** The degree of a node is the number of edges connected to it. In a directed graph, nodes can have both in-degrees (incoming edges) and out-degrees (outgoing edges).\n",
    "\n",
    "9. **Graph Representation:** Graphs can be represented using various data structures, including adjacency matrices, adjacency lists, and edge lists. The choice of representation depends on the specific problem and the operations you need to perform efficiently.\r",
    ".10\n",
    "\r\n",
    "2. **Adjacent Vertices**: In a graph, if two vertices are connected by an edge, they are considered adjacent to each other. In an undirected graph, the relationship is symmetric, meaning if vertex A is adjacent to vertex B, then vertex B is also adjacent to vertext11x).\r\n",
    "\r\n",
    "4. **Path**: A path in a graph is a sequence of vertices in which each adjacent pair is connected by an edge. A path can be used to represent a route or a sequence of steps from one vertex to another within thec12mponents.\r\n",
    "\r\n",
    "7. **Tree**: A tree is a special type of graph that has the following properties:\r\n",
    "   - It is a connected graph, meaning there is a path between any two vertices.\r\n",
    "   - It is acyclic, which means it has no cycles or loops.\r\n",
    "   - There is a unique path between any pair of vertices in a tree.\r\n",
    "   - In a tree, you can traverse from the root (top) to the leaves (bottom) following the edges, but you can't traverse upwards (from child to parent) in tlinguistics, among others."
   ]
  },
  {
   "cell_type": "markdown",
   "id": "6581fae5-1a46-471f-a7e0-6eb4af70ea01",
   "metadata": {},
   "source": [
    "Common operations on graphs include:\n",
    "\n",
    "- **Adding and removing nodes and edges**\n",
    "- **Traversing the graph (e.g., depth-first search or breadth-first search)**\n",
    "- **Finding paths and cycles**\n",
    "- **Detecting connected components**\n",
    "- **Calculating properties like shortest paths, minimum spanning trees, and centrality measures**"
   ]
  },
  {
   "cell_type": "markdown",
   "id": "7d651e9c-d32b-4c86-bd02-6c8c0888c415",
   "metadata": {},
   "source": [
    "Time Complexity in Graphs:\n",
    "\n",
    "Consider a graph with n vertices.\n",
    "\n",
    "1. The minimum number of edges in a graph with n vertices is 0. This means that it is possible to have a graph with no edges, where each vertex is isolated from the others.\n",
    "\n",
    "2. In a connected graph with n vertices, the minimum number of edges required to ensure connectivity is n-1. This minimal number of edges forms a spanning tree, allowing you to reach any vertex from any other vertex in the graph.\n",
    "\n",
    "3. If the number of edges in the graph is equal to or greater than n, then there will be at least one cycle in the graph. This is because the presence of additional edges beyond n would create paths that loop back to previously visited vertices.\n",
    "\n",
    "4. To find the maximum number of edges in a connected graph with n vertices, you can consider the following:\n",
    "   - The first node can be connected to n-1 other nodes.\n",
    "   - The second node can be connected to n-2 other nodes (excluding the first node).\n",
    "   - This pattern continues until the last node, which can be connected to 1 other node.\n",
    "   - Therefore, the maximum number of edges in a connected graph with n vertices is given by the sum of the series 1 + 2 + 3 + ... + (n-1), which can be calculated as n*(n-1)/2."
   ]
  },
  {
   "cell_type": "markdown",
   "id": "c8e5f12f-16f0-4541-8095-86800faf70ce",
   "metadata": {},
   "source": [
    "## Representation of Graphs:"
   ]
  },
  {
   "cell_type": "markdown",
   "id": "c4882e21-d77f-4ccb-9135-46d8a326bff9",
   "metadata": {},
   "source": [
    "1. **Edge List**:\n",
    "   - An edge list is the simplest way to represent a graph.\n",
    "   - It consists of a list of all the edges in the graph, where each edge is represented as a pair of vertices (u, v).\n",
    "   - This representation is space-efficient for sparse graphs (graphs with relatively few edges).\n",
    "   - Edge lists are commonly used for algorithms that iterate through all the edges of a graph."
   ]
  },
  {
   "cell_type": "code",
   "execution_count": 3,
   "id": "b06f7e20-cca0-4a7c-8268-881b91fc619d",
   "metadata": {},
   "outputs": [],
   "source": [
    "# Brute force implementation\n",
    "\n",
    "# 1. EDGE LIST\n",
    "v = [0,1,2,3]\n",
    "e = [(0,1),(1,2),(2,3)] # (v1,v2) \n",
    "\n",
    "# we need to traverse O(edges) to find whether edge is present or not"
   ]
  },
  {
   "cell_type": "markdown",
   "id": "e27d6757-8686-4941-a27f-283b788584c2",
   "metadata": {},
   "source": [
    "\n",
    "2. **Adjacency List**:\n",
    "   - In an adjacency list representation, each vertex in the graph has a list of its neighboring vertices.\n",
    "   - It is a more memory-efficient representation for sparse graphs compared to an adjacency matrix.\n",
    "   - Suitable for algorithms that require traversing neighbors of a vertex.\n",
    "\n",
    "   Example (Undirected Graph):\n",
    "   ```\n",
    "   {\n",
    "       1: [2, 3],\n",
    "       2: [1, 3],\n",
    "       3: [1, 2, 4],\n",
    "       4: [3]\n",
    "   }\n",
    "   ```\n",
    "\n",
    "   Example (Directed Graph):\n",
    "   ```\n",
    "   {\n",
    "       1: [2, 3],\n",
    "       2: [3],\n",
    "       3: [4],\n",
    "       4: []\n",
    "   }\n",
    "   ```"
   ]
  },
  {
   "cell_type": "code",
   "execution_count": 4,
   "id": "9a63e02d-7bb7-4335-852e-a17cdf6d742b",
   "metadata": {},
   "outputs": [],
   "source": [
    "# 2. Adjaceny List\n",
    "adj_list = {\n",
    "    1: [2, 3],\n",
    "    2: [1, 3],\n",
    "    3: [1, 2, 4],\n",
    "    4: [3]\n",
    "}\n",
    "# stores vertex in the form of dict\n",
    "# search operation in dict is O(1)\n",
    "\n",
    "# Each vertex stores the adjacent vertices"
   ]
  },
  {
   "cell_type": "markdown",
   "id": "ffaca102-dae4-4d0d-be92-09973277744e",
   "metadata": {},
   "source": [
    "3. **Adjacency Matrix**:\n",
    "   - An adjacency matrix is a 2D matrix where rows and columns represent vertices, and the entries indicate whether there is an edge between two vertices.\n",
    "   - It is space-inefficient for sparse graphs but efficient for dense graphs.\n",
    "   - Suitable for algorithms that require checking the presence of edges between any pair of vertices (e.g., graph connectivity, shortest path algorithms).\n",
    "\n",
    "   Example (Undirected Graph):\n",
    "   ```\n",
    "   [\n",
    "       [0, 1, 1, 0],\n",
    "       [1, 0, 1, 0],\n",
    "       [1, 1, 0, 1],\n",
    "       [0, 0, 1, 0]\n",
    "   ]\n",
    "   ```\n",
    "\n",
    "   Example (Directed Graph):\n",
    "   ```\n",
    "   [\n",
    "       [0, 1, 0, 0],\n",
    "       [0, 0, 1, 0],\n",
    "       [0, 0, 0, 1],\n",
    "       [0, 0, 0, 0]\n",
    "   ]\n",
    "   ```"
   ]
  },
  {
   "cell_type": "code",
   "execution_count": 5,
   "id": "9745bf9c-b367-4e8a-b3f7-f61513d90330",
   "metadata": {},
   "outputs": [],
   "source": [
    "# 3. Adjacency MAtrix\n",
    "adj = [\n",
    "    [0, 1, 1, 0],\n",
    "    [1, 0, 1, 0],\n",
    "    [1, 1, 0, 1],\n",
    "    [0, 0, 1, 0]\n",
    "]\n",
    "# if n vertices: n*n shaped matrix\n",
    "# we will store 1 or 0 : 1 = edge present, 0=no edge\n",
    "# adj[v1][v2]"
   ]
  },
  {
   "cell_type": "code",
   "execution_count": 1,
   "id": "aa19ce6e-776c-450f-a4cb-30497af1a0ba",
   "metadata": {},
   "outputs": [],
   "source": [
    "import queue\n",
    "\n",
    "class Graph:\n",
    "    def __init__(self, no_of_vertices):\n",
    "        self.no_of_vertices = no_of_vertices\n",
    "        self.adj_matrix = [[0]*self.no_of_vertices for _ in range(self.no_of_vertices)]\n",
    "        \n",
    "    def addEdge(self,v1,v2):\n",
    "        self.adj_matrix[v1][v2] = 1\n",
    "        self.adj_matrix[v2][v1] = 1\n",
    "        \n",
    "    def removeEdge(self, v1, v2):\n",
    "        if self.containEdge(v1,v2):\n",
    "            self.adj_matrix[v1][v2] = 0\n",
    "            self.adj_matrix[v2][v1] = 0\n",
    "        else:\n",
    "            return -1\n",
    "            \n",
    "    def containEdge(self, v1, v2):\n",
    "        return (True if self.adj_matrix[v1][v2] == 1 else False)\n",
    "\n",
    "    def printGraph(self):\n",
    "        print(self.adj_matrix)\n",
    "        \n",
    "    def __str__(self):\n",
    "        return str(self.adj_matrix)"
   ]
  },
  {
   "cell_type": "code",
   "execution_count": 21,
   "id": "71c095c9-e17a-4920-9abf-f7d5db256b94",
   "metadata": {},
   "outputs": [],
   "source": [
    "g = Graph(8)\n",
    "g.addEdge(0,1)\n",
    "g.addEdge(0,2)\n",
    "g.addEdge(0,3)\n",
    "g.addEdge(1,4)\n",
    "g.addEdge(1,5)\n",
    "g.addEdge(2,6)\n",
    "g.addEdge(6,7)"
   ]
  },
  {
   "cell_type": "code",
   "execution_count": 22,
   "id": "00487c73-ff54-494e-acac-3b18864e141f",
   "metadata": {},
   "outputs": [
    {
     "name": "stdout",
     "output_type": "stream",
     "text": [
      "[[0, 1, 1, 1, 0, 0, 0, 0], [1, 0, 0, 0, 1, 1, 0, 0], [1, 0, 0, 0, 0, 0, 1, 0], [1, 0, 0, 0, 0, 0, 0, 0], [0, 1, 0, 0, 0, 0, 0, 0], [0, 1, 0, 0, 0, 0, 0, 0], [0, 0, 1, 0, 0, 0, 0, 1], [0, 0, 0, 0, 0, 0, 1, 0]]\n"
     ]
    }
   ],
   "source": [
    "print(g)"
   ]
  },
  {
   "cell_type": "code",
   "execution_count": 23,
   "id": "802b7f0b-b567-4c3c-b6af-42f7e72c2b09",
   "metadata": {},
   "outputs": [],
   "source": [
    "g.removeEdge(6,7)"
   ]
  },
  {
   "cell_type": "code",
   "execution_count": 27,
   "id": "87263fd2-ef92-48df-b7e8-1e8083621c6e",
   "metadata": {},
   "outputs": [
    {
     "data": {
      "text/plain": [
       "False"
      ]
     },
     "execution_count": 27,
     "metadata": {},
     "output_type": "execute_result"
    }
   ],
   "source": [
    "g.containEdge(6,7)"
   ]
  },
  {
   "cell_type": "markdown",
   "id": "eb6962e0-dd10-464d-bc45-faac006ec0d1",
   "metadata": {},
   "source": [
    "# Traversal in Graph\n",
    "Traversing a graph means visiting all the vertices and edges of the graph in a systematic manner. There are two common traversal algorithms for graphs: Depth-First Search (DFS) and Breadth-First Search (BFS)."
   ]
  },
  {
   "cell_type": "markdown",
   "id": "078017b0-b162-48bc-a7b4-14b8e7c2b891",
   "metadata": {},
   "source": [
    "1. **Depth-First Search (DFS)**:\n",
    "   - DFS explores as far as possible along each branch before backtracking.\n",
    "   - It uses a stack (or recursion) to keep track of vertices to visit.\n",
    "   - DFS is often used to find paths, cycles, and connected components in a graph.\n",
    "   - It can be implemented using both recursive and iterative approaches.\n",
    "\n",
    "   Pseudocode for DFS (recursive):\n",
    "   ```python\n",
    "   function DFS(node):\n",
    "       if node has not been visited:\n",
    "           mark node as visited\n",
    "           for each neighbor of node:\n",
    "               if neighbor has not been visited:\n",
    "                   DFS(neighbor)\n",
    "   ```"
   ]
  },
  {
   "cell_type": "code",
   "execution_count": 45,
   "id": "32707d87-7a89-4219-9ef5-0fda1746ac2a",
   "metadata": {},
   "outputs": [],
   "source": [
    "class Dfs(Graph):\n",
    "    def __init__(self, no_of_vertices):\n",
    "        super().__init__(no_of_vertices)\n",
    "        \n",
    "    def __dfsHelper(self, node, visited):\n",
    "        print(node)\n",
    "        visited[node] = True\n",
    "        for neighbour, isNeighbour in enumerate(self.adj_matrix[node]):\n",
    "            if (isNeighbour == 1 and visited[neighbour] == False):\n",
    "                self.__dfsHelper(neighbour, visited)\n",
    "\n",
    "    def dfs(self):\n",
    "        visited =  [False for i in range(self.no_of_vertices)]\n",
    "        # if disconnected graph also this work\n",
    "        for i in range(self.no_of_vertices):\n",
    "            if visited[i] is False:\n",
    "                self.__dfsHelper(i, visited)"
   ]
  },
  {
   "cell_type": "code",
   "execution_count": 46,
   "id": "ff4d4278-f3e3-469e-93a3-50b1a054945f",
   "metadata": {},
   "outputs": [
    {
     "name": "stdout",
     "output_type": "stream",
     "text": [
      "[[0, 0, 0, 0, 0], [0, 0, 0, 0, 0], [0, 0, 0, 0, 0], [0, 0, 0, 0, 0], [0, 0, 0, 0, 0]]\n"
     ]
    }
   ],
   "source": [
    "g_dfs = Dfs(5)\n",
    "print(g_dfs)"
   ]
  },
  {
   "cell_type": "code",
   "execution_count": 47,
   "id": "cedb0568-75d1-4fd1-80e8-387ebd7042c7",
   "metadata": {},
   "outputs": [
    {
     "name": "stdout",
     "output_type": "stream",
     "text": [
      "0\n",
      "1\n",
      "2\n",
      "3\n",
      "4\n"
     ]
    }
   ],
   "source": [
    "g_dfs.dfs() #disconnected graph, no edges"
   ]
  },
  {
   "cell_type": "code",
   "execution_count": 49,
   "id": "c306e1db-4e08-4da3-8f24-292a1964efdf",
   "metadata": {},
   "outputs": [],
   "source": [
    "import queue\n",
    "\n",
    "class Bfs(Graph):\n",
    "    def __init__(self, no_of_vertices):\n",
    "        super().__init__(no_of_vertices)\n",
    "        \n",
    "    def __bfsHelper(self, node, visited):\n",
    "        q = queue.Queue()\n",
    "        q.put(node)\n",
    "        while not q.empty():\n",
    "            node = q.get()\n",
    "            if visited[node] == False:\n",
    "                print(node)\n",
    "            visited[node] = True\n",
    "            for neighbour, value in enumerate(self.adj_matrix[node]):\n",
    "                if (value == 1 and visited[neighbour] == False):\n",
    "                    q.put(neighbour)\n",
    "\n",
    "    def bfs(self):\n",
    "        visited =  [False for i in range(self.no_of_vertices)]\n",
    "        for i in range(self.no_of_vertices):\n",
    "            if visited[i] is False:\n",
    "                self.__bfsHelper(i, visited)"
   ]
  },
  {
   "cell_type": "code",
   "execution_count": 51,
   "id": "b64123c5-76f0-4da2-a90e-1fc0e8adae5d",
   "metadata": {},
   "outputs": [
    {
     "name": "stdout",
     "output_type": "stream",
     "text": [
      "[[0, 0, 0, 0, 0], [0, 0, 0, 0, 0], [0, 0, 0, 0, 0], [0, 0, 0, 0, 0], [0, 0, 0, 0, 0]]\n",
      "0\n",
      "1\n",
      "2\n",
      "3\n",
      "4\n"
     ]
    }
   ],
   "source": [
    "g_bfs = Bfs(5)\n",
    "print(g_bfs)\n",
    "g_bfs.bfs() #disconnected graph, no edges"
   ]
  },
  {
   "cell_type": "code",
   "execution_count": 52,
   "id": "bba48d56-1c8d-4907-9413-48e910927b5b",
   "metadata": {},
   "outputs": [],
   "source": [
    "class HasPath(Graph):\n",
    "    def __init__(self, no_of_vertices):\n",
    "        super().__init__(no_of_vertices)\n",
    "\n",
    "    # if any ddjacenet vertex have path to v2, then there is path to v1\n",
    "    def hasPathHelper(self, v1, v2, visited):\n",
    "        visited[v1] = True\n",
    "        \n",
    "        if v1 == v2:\n",
    "            return True\n",
    "        \n",
    "        for neighbour, value in enumerate(self.adj_matrix[v1]):\n",
    "            if value == 1 and visited[neighbour] == False:\n",
    "                if self.hasPathHelper(neighbour, v2, visited):\n",
    "                    return True\n",
    "        return False\n",
    "\n",
    "    def hasPathDfs(self, v1, v2):\n",
    "        visited = [False for _ in range(self.no_of_vertices)]\n",
    "        return self.hasPathHelper(v1, v2, visited)"
   ]
  },
  {
   "cell_type": "code",
   "execution_count": 55,
   "id": "74061b05-f1c4-4a90-baad-e84aa1b3d377",
   "metadata": {},
   "outputs": [
    {
     "name": "stdout",
     "output_type": "stream",
     "text": [
      "[[0, 0, 0, 0, 0], [0, 0, 0, 0, 0], [0, 0, 0, 0, 0], [0, 0, 0, 0, 0], [0, 0, 0, 0, 0]]\n"
     ]
    },
    {
     "data": {
      "text/plain": [
       "False"
      ]
     },
     "execution_count": 55,
     "metadata": {},
     "output_type": "execute_result"
    }
   ],
   "source": [
    "g = HasPath(5)\n",
    "print(g)\n",
    "g.hasPathDfs(0,1) #disconnected graph, no edges"
   ]
  },
  {
   "cell_type": "code",
   "execution_count": 58,
   "id": "c28e66ff-4d13-417c-a42d-f9d9e279ba6a",
   "metadata": {},
   "outputs": [
    {
     "name": "stdout",
     "output_type": "stream",
     "text": [
      "True\n",
      "[[0, 1, 0, 0, 0], [1, 0, 0, 0, 0], [0, 0, 0, 0, 0], [0, 0, 0, 0, 0], [0, 0, 0, 0, 0]]\n"
     ]
    }
   ],
   "source": [
    "g.addEdge(0,1)\n",
    "print(g.hasPathDfs(0,1))\n",
    "print(g)"
   ]
  },
  {
   "cell_type": "code",
   "execution_count": 4,
   "id": "c10e58fe-664f-4751-90f7-1278995b1cb7",
   "metadata": {},
   "outputs": [],
   "source": [
    "class GetPath(Graph):\n",
    "    def __init__(self, no_of_vertices):\n",
    "        super().__init__(no_of_vertices)\n",
    "\n",
    "    # May or may not be shortest path\n",
    "    def getPathDfsHelper(self, v1, v2, visited):\n",
    "        visited[v1] = True\n",
    "        if v1 == v2:\n",
    "            return (True,[v1])\n",
    "        \n",
    "        for neighbour, value in enumerate(self.adj_matrix[v1]):\n",
    "            if value == 1 and not visited[neighbour]:\n",
    "                isExist, path_in = self.getPathDfsHelper(neighbour, v2, visited)\n",
    "                if isExist:\n",
    "                    path_in.append(v1)\n",
    "                    return (True, path_in)\n",
    "                    \n",
    "        return (False , [])\n",
    "\n",
    "    def getPathDfs(self, v1, v2):\n",
    "        visited = [False for _ in range(self.no_of_vertices)]\n",
    "        return self.getPathDfsHelper(v1, v2, visited)\n",
    "\n",
    "\n",
    "    # Shortest path\n",
    "    # we store which node is putting the node\n",
    "    # we maintain parent dict\n",
    "    def getPathBfsHelper(self, v1, target, visited):\n",
    "        q = queue.Queue()\n",
    "        q.put(v1)\n",
    "        parentDict ={}\n",
    "        while not q.empty():\n",
    "            node = q.get()\n",
    "            visited[node] = True\n",
    "            for neighbour, value in enumerate(self.adj_matrix[node]):\n",
    "                if (value == 1 and visited[neighbour] == False):\n",
    "                    q.put(neighbour)\n",
    "                    parentDict[neighbour] = node\n",
    "                    if neighbour == target:\n",
    "                        break\n",
    "        arr = []\n",
    "        arr.append(target)\n",
    "        while parentDict.get(target,-1) != -1:\n",
    "            tar_parent = parentDict[target]\n",
    "            arr.append(tar_parent)\n",
    "            target = tar_parent\n",
    "        return arr\n",
    "        \n",
    "\n",
    "    def getPathBfs(self, v1, v2):\n",
    "        visited = [False for _ in range(self.no_of_vertices)]\n",
    "        return self.getPathBfsHelper(v1, v2, visited)"
   ]
  },
  {
   "cell_type": "code",
   "execution_count": 7,
   "id": "fbd66d1e-4c02-4477-b2be-e0962e0841d3",
   "metadata": {},
   "outputs": [
    {
     "name": "stdout",
     "output_type": "stream",
     "text": [
      "(True, [1, 0])\n",
      "[1, 0]\n",
      "[[0, 1, 0, 0, 0], [1, 0, 0, 0, 0], [0, 0, 0, 0, 0], [0, 0, 0, 0, 0], [0, 0, 0, 0, 0]]\n"
     ]
    }
   ],
   "source": [
    "g = GetPath(5)\n",
    "g.addEdge(0,1)\n",
    "print(g.getPathDfs(0,1))\n",
    "print(g.getPathBfs(0,1))\n",
    "print(g)"
   ]
  },
  {
   "cell_type": "code",
   "execution_count": 46,
   "id": "2796b371-530e-4f38-9643-10d72da6d0c5",
   "metadata": {},
   "outputs": [],
   "source": [
    "class IsConnected(Graph):\n",
    "    def __init__(self, no_of_vertices):\n",
    "        super().__init__(no_of_vertices)\n",
    "  \n",
    "    def dfs(self, source, visited):\n",
    "        visited[source] = True\n",
    "        for i in range(self.no_of_vertices):\n",
    "            if self.adj_matrix[source][i] == 1 and visited[i] == False:\n",
    "                visited[i] = True\n",
    "                self.dfs(i, visited)\n",
    "\n",
    "    def is_connected(self):\n",
    "        if self.no_of_vertices == 0:\n",
    "            return True\n",
    "        visited = [False for i in range(self.no_of_vertices)]\n",
    "        # dfs on any source vertex\n",
    "        self.dfs(0,visited)\n",
    "        # after dfs if any visiting is False\n",
    "        for i in visited:\n",
    "            if i is False:\n",
    "                return False\n",
    "        return True\n",
    "        \n",
    "    def getPathdfs(self, source, visited, arr):\n",
    "        if visited[source] == False:\n",
    "            visited[source] = True\n",
    "            arr.append(source)\n",
    "            \n",
    "        for i in range(self.no_of_vertices):\n",
    "            if self.adj_matrix[source][i] == 1 and visited[i] == False:\n",
    "                visited[i] = True\n",
    "                arr.append(i)\n",
    "                self.getPathdfs(i, visited,arr)\n",
    "        return arr\n",
    "                 \n",
    "    def allConnectedComponents(self):\n",
    "        visited =  [False for i in range(self.no_of_vertices)]\n",
    "        final_list = []\n",
    "        for i in range(self.no_of_vertices):\n",
    "            if visited[i] is False:\n",
    "                cc = self.getPathdfs(i, visited,[])\n",
    "                final_list.append(cc)\n",
    "        return final_list\n"
   ]
  },
  {
   "cell_type": "code",
   "execution_count": 47,
   "id": "e0ac55e5-e4e9-4659-b55a-1e1df0640a0d",
   "metadata": {},
   "outputs": [
    {
     "name": "stdout",
     "output_type": "stream",
     "text": [
      "False\n",
      "[[0, 1, 4], [2, 3]]\n",
      "[[0, 1, 0, 0, 1], [1, 0, 0, 0, 0], [0, 0, 0, 1, 0], [0, 0, 1, 0, 0], [1, 0, 0, 0, 0]]\n"
     ]
    }
   ],
   "source": [
    "g = IsConnected(5)\n",
    "g.addEdge(0,1)\n",
    "g.addEdge(2,3)\n",
    "# g.addEdge(0)\n",
    "g.addEdge(4,0)\n",
    "# g.addEdge(1,4)\n",
    "print(g.is_connected())\n",
    "print(g.allConnectedComponents())\n",
    "print(g)"
   ]
  },
  {
   "cell_type": "markdown",
   "id": "a28bbce1-0f34-4fba-b330-eb4aff102f3a",
   "metadata": {},
   "source": [
    "# Minimum Spanning Tree(MST)\n",
    "\n",
    "A Minimum Spanning Tree (MST) is a fundamental concept in graph theory and network design. It is a subgraph of a given, connected graph that includes all the vertices of the original graph and a subset of its edges, such that:\n",
    "\n",
    "1. It forms a tree (a connected acyclic graph).\n",
    "2. It spans (includes) all the vertices of the original graph.\n",
    "3. The sum of the weights (or costs) of its edges is minimized.\n",
    "\n",
    "Point 1 and 2 combined called as spanning Tree\n",
    "There may be many spanning trees possible\n",
    "Point 1 and 2 and 3 combined called as minimum spanning tree\n",
    "\n",
    "MSTs have numerous applications in various fields, including network design, transportation planning, clustering, and more. They help find the most efficient way to connect a set of points in a graph while minimizing the total cost or weight\n",
    "\n",
    "If n vertices in a graph then n-1 edges will be there in mst"
   ]
  },
  {
   "cell_type": "markdown",
   "id": "089ee702-f069-47aa-a212-9ec73cc3d85f",
   "metadata": {},
   "source": [
    "## Algorithms for Finding MST from a graph\n",
    "There are several algorithms to find the minimum spanning tree of a graph. Some of the most well-known ones include:\n",
    "\n",
    "1. **Kruskal's Algorithm:** Kruskal's algorithm starts with an empty set of edges and iteratively adds edges to the MST while ensuring that adding an edge doesn't create a cycle. It sorts all the edges by weight and picks the smallest edge that doesn't form a cycle.\n"
   ]
  },
  {
   "cell_type": "code",
   "execution_count": 48,
   "id": "29ea7e53-8942-4242-a981-6a40391fad0e",
   "metadata": {},
   "outputs": [],
   "source": [
    "# continously Pick the edge with minimum weight\n",
    "# if forms cycle skip that edge"
   ]
  },
  {
   "cell_type": "code",
   "execution_count": 50,
   "id": "ef748b4d-28e3-4324-b4bd-90aa75486924",
   "metadata": {},
   "outputs": [],
   "source": [
    "# till n-1 edges form do that"
   ]
  },
  {
   "cell_type": "code",
   "execution_count": 51,
   "id": "1ddbe3e2-7bd6-410f-8a97-75bb07c1cbfa",
   "metadata": {},
   "outputs": [],
   "source": [
    "# Detect cycle\n",
    "# Check if there is any path\n",
    "# if already between two vertices path exist, then one more edge gives cycle\n",
    "# Complexity: At worst O(E) : search all Edges\n",
    "# Edges = v^2 O(v^2)"
   ]
  },
  {
   "cell_type": "code",
   "execution_count": 75,
   "id": "565adf49-b35f-42ef-9161-9284da15d152",
   "metadata": {},
   "outputs": [],
   "source": [
    "# Union Find Algorithm\n",
    "# If the vertices are on two different components then there will not be a cycle\n",
    "\n",
    "# To check whether two components are in same component or not we can use unio find Algorithm\n",
    "# We will assign each component with same top most parent\n",
    "\n",
    "# 6 nodes:0,1,2,3,4,5 -> Each vertex will have same top most parent\n",
    "\n",
    "# parent = [0,1,2,3,4,5]\n",
    "\n",
    "# v1 v2 p1 p2 count\n",
    "# 0  1  0  1  1\n",
    "\n",
    "# .\n",
    "# .\n",
    "# O(v)"
   ]
  },
  {
   "cell_type": "raw",
   "id": "cd4dbad2-6d63-4eae-8691-dcc543a5eb61",
   "metadata": {},
   "source": [
    "6 11\n",
    "0 1 1\n",
    "0 2 5\n",
    "0 2 5"
   ]
  },
  {
   "cell_type": "markdown",
   "id": "e634dffc-e827-4eec-a0f7-55566d34b84a",
   "metadata": {},
   "source": [
    "Kruskals Algorithm:\n",
    "1. sort the input array according to weight\n",
    "2. count = 0\n",
    "3. parent_array = []\n",
    "4. while count<n-1:\n",
    "5. check v1, v2 forms a cycle or not using union find algorithm\n",
    "6. if top_most_parent of v1 and v2 are differnet, make changes in parent_array and that edge in the output then count+=1\n",
    "7. when n-1 reached return output"
   ]
  },
  {
   "cell_type": "code",
   "execution_count": 62,
   "id": "ac3371ea-f0df-4be2-869a-68f085a542ff",
   "metadata": {},
   "outputs": [],
   "source": [
    "class Edge:\n",
    "    def __init__(self,src,dest,weight):\n",
    "        self.src = src\n",
    "        self.dest = dest\n",
    "        self.weight = weight\n",
    "        \n",
    "    def __lt__(self, other):\n",
    "        return self.weight < other.weight\n",
    "        \n",
    "    def __eq__(self, other):\n",
    "        return self.weight == other.weight"
   ]
  },
  {
   "cell_type": "code",
   "execution_count": 69,
   "id": "80525fdb-7fee-4bd1-917b-59619a0b51fe",
   "metadata": {},
   "outputs": [],
   "source": [
    "def getParent(v, parent):\n",
    "    if v == parent[v]:\n",
    "        return v\n",
    "    return getParent(parent[v], parent)"
   ]
  },
  {
   "cell_type": "code",
   "execution_count": 72,
   "id": "1927b2ba-231b-4253-99a9-abd82b07bb5f",
   "metadata": {},
   "outputs": [],
   "source": [
    "def kruskal(edges, n):\n",
    "    parent = [i for i in range(n)]\n",
    "    edges = sorted(edges,key =  lambda edge:edge.weight)\n",
    "    count= 0\n",
    "    output_edges=[]\n",
    "    i = 0\n",
    "    while count < (n -1):\n",
    "        curr_edge = edges[i]\n",
    "        srcparent = getParent(curr_edge.src, parent)\n",
    "        destparent = getParent(curr_edge.dest, parent)\n",
    "\n",
    "        if srcparent != destparent:\n",
    "            output_edges.append(curr_edge)\n",
    "            parent[srcparent] = destparent\n",
    "            count+=1\n",
    "        i+=1\n",
    "    return output_edges\n",
    "    # output is mst : n-1 edges"
   ]
  },
  {
   "cell_type": "code",
   "execution_count": 74,
   "id": "fed9a618-e874-4300-a509-eb4b8156fa49",
   "metadata": {},
   "outputs": [
    {
     "name": "stdin",
     "output_type": "stream",
     "text": [
      " 4 4\n",
      " 0 1 2\n",
      " 1 3 3\n",
      " 0 2 5\n",
      " 2 3 8\n"
     ]
    },
    {
     "name": "stdout",
     "output_type": "stream",
     "text": [
      "0 1 2\n",
      "1 3 3\n",
      "0 2 5\n"
     ]
    }
   ],
   "source": [
    "# no of vertices, no of edges\n",
    "li = [ int(ele) for ele in input().split()]\n",
    "n = li[0]\n",
    "e = li[1]\n",
    "edges = []\n",
    "\n",
    "for i in range(e):\n",
    "    curr_input = [ int(ele) for ele in input().split()]\n",
    "    src = curr_input[0]\n",
    "    dest = curr_input[1]\n",
    "    wt = curr_input[2]\n",
    "    edge =  Edge(src,dest,wt)\n",
    "    edges.append(edge)\n",
    "    \n",
    "output_mst_edges = kruskal(edges,n)\n",
    "for edge in output_mst_edges:\n",
    "    if edge.src < edge.dest:\n",
    "        print(str(edge.src) + \" \" + str(edge.dest) + \" \" + str(edge.weight))\n",
    "    else:\n",
    "        print(str(edge.dest) + \" \" + str(edge.src) + \" \" + str(edge.weight))"
   ]
  },
  {
   "cell_type": "markdown",
   "id": "ded1fb3e-8538-41a1-9179-be1c81a6015c",
   "metadata": {},
   "source": [
    "Time Complexity of Kruskal's Algorithm:\n",
    "1. Taking Input : E edges = O(E)\n",
    "2. Sort the array of e edges: O(eloge)\n",
    "3. Pick n-1 edges from e and form mst\n",
    "    1. Cycle Detection: Find top most parent: Worst case O(v)\n",
    "    2. Overall E*v\n",
    "4. O(eloge) + O(e*v)"
   ]
  },
  {
   "cell_type": "markdown",
   "id": "e41a28f3-82ad-4ccc-aad8-a9b56081d167",
   "metadata": {},
   "source": [
    "# 2. **Prim's Algorithm:**\n",
    "Prim's algorithm starts with an arbitrary vertex and repeatedly adds the shortest edge that connects a vertex in the MST to a vertex outside the MST. It maintains a set of vertices in the MST and a set of vertices outside the MST."
   ]
  },
  {
   "cell_type": "code",
   "execution_count": null,
   "id": "2254fc7d-1bb9-46c5-9ad7-5638321dd251",
   "metadata": {},
   "outputs": [],
   "source": []
  }
 ],
 "metadata": {
  "kernelspec": {
   "display_name": "Python 3 (ipykernel)",
   "language": "python",
   "name": "python3"
  },
  "language_info": {
   "codemirror_mode": {
    "name": "ipython",
    "version": 3
   },
   "file_extension": ".py",
   "mimetype": "text/x-python",
   "name": "python",
   "nbconvert_exporter": "python",
   "pygments_lexer": "ipython3",
   "version": "3.11.3"
  }
 },
 "nbformat": 4,
 "nbformat_minor": 5
}
