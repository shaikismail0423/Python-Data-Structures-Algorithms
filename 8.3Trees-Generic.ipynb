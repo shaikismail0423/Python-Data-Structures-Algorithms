{
 "cells": [
  {
   "cell_type": "markdown",
   "id": "4954ad37-d345-45ee-8622-ffd6a4f5d7c8",
   "metadata": {},
   "source": [
    "A generic tree is a data structure that consists of nodes connected by edges in a hierarchical structure. Unlike binary trees, where each node has at most two children, generic trees can have any number of children for each node. In a generic tree:\n",
    "\n",
    "1. **Root**: There is a single special node at the top called the \"root\" of the tree. This node is the starting point for traversing the tree.\n",
    "\n",
    "2. **Nodes**: Each node in the tree can have zero or more child nodes. Nodes are connected to their parent node through edges.\n",
    "\n",
    "3. **Leaves**: Nodes that have no children are called \"leaves\" or \"leaf nodes.\"\n",
    "\n",
    "4. **Parent and Child Relationship**: Each node (except the root) has a parent node. The node directly connected to another node is called its child, and the node it's connected to is called its parent.\n",
    "\n",
    "5. **Siblings**: Nodes that share the same parent are called \"siblings.\"\n",
    "\n",
    "6. **Depth**: The depth of a node is the length of the path from the root to that node. The root has a depth of 0.\n",
    "\n",
    "7. **Height**: The height of a tree is the length of the longest path from the root to a leaf node. It represents the depth of the deepest leaf node.\n",
    "\n",
    "Generic trees are commonly used to represent hierarchical structures in various applications, such as file systems, organization charts, XML/HTML document structures, and more. They provide a flexible way to organize and store data in a tree-like manner.\n",
    "\n",
    "Here's a simple example of a generic tree in a textual representation:\n",
    "\n",
    "```\n",
    "       A\n",
    "     / | \\\n",
    "    B  C  D\n",
    "   / \\\n",
    "  E   F\n",
    "```\n",
    "\n",
    "In this tree:\n",
    "\n",
    "- Node A is the root.\n",
    "- Nodes B, C, and D are the children of A.\n",
    "- Nodes E and F are the children of B.\n",
    "- Nodes B, C, and D are siblings.\n",
    "- The depth of node E is 2, and its height is 0 (as it's a leaf).\n",
    "- The depth of node A is 0, and the height of the tree is 2.\n",
    "\n",
    "Generic trees can be implemented in various ways, including using linked structures (each node contains a reference to its children) or using arrays (where each element represents a node, and indices are used to establish parent-child relationships). The choice of implementation depends on the specific requirements and constraints of your application."
   ]
  },
  {
   "cell_type": "code",
   "execution_count": 4,
   "id": "0ec35234-793b-4156-ac51-ac6b218ab855",
   "metadata": {},
   "outputs": [],
   "source": [
    "class TreeNode:\n",
    "    def __init__(self,data):\n",
    "        self.data = data\n",
    "        self.children = list()"
   ]
  },
  {
   "cell_type": "code",
   "execution_count": 2,
   "id": "f29ec2fb-9568-4403-9c4e-e5df89340281",
   "metadata": {},
   "outputs": [],
   "source": [
    "def printTree(root):\n",
    "    # This is not a base case: Its a edge case, if one node which is None\n",
    "    # remaining case we dont need this\n",
    "    \n",
    "    if root == None:\n",
    "        return\n",
    "    print(root.data)\n",
    "    for child in root.children:\n",
    "        printTree(child)"
   ]
  },
  {
   "cell_type": "code",
   "execution_count": 24,
   "id": "c667fb47-c7a8-4d08-8398-059d83eda194",
   "metadata": {},
   "outputs": [],
   "source": [
    "def printTreeDetailed(root):\n",
    "    if root == None:\n",
    "        return\n",
    "    print(root.data,\": \", end = \"\")\n",
    "    for child in root.children:\n",
    "        print(child.data,\",\", end = \"\")\n",
    "    print()\n",
    "    for child in root.children:\n",
    "        printTreeDetailed(child)"
   ]
  },
  {
   "cell_type": "code",
   "execution_count": 38,
   "id": "b33e3f5c-0058-4638-97e0-fd0abfa1b86b",
   "metadata": {},
   "outputs": [],
   "source": [
    "def takeTreeInput():\n",
    "    rootData =  int(input(\"Enter root Data: \"))\n",
    "    if rootData == -1:\n",
    "        return \n",
    "    root = TreeNode(rootData)\n",
    "    print(f\"Enter No of Children for {rootData}\")\n",
    "    \n",
    "    children_count =  int(input())\n",
    "    for i in range(children_count):\n",
    "        child = takeTreeInput()\n",
    "        root.children.append(child)\n",
    "    return root"
   ]
  },
  {
   "cell_type": "code",
   "execution_count": 51,
   "id": "25b9817c-cb41-45d6-b463-486715194176",
   "metadata": {},
   "outputs": [],
   "source": [
    "def noOfNodes(root):\n",
    "    if root == None:\n",
    "        return 0\n",
    "    sum_no_of_children = 1\n",
    "    for child in root.children:\n",
    "        sum_no_of_children += noOfNodes(child)\n",
    "    return sum_no_of_children"
   ]
  },
  {
   "cell_type": "code",
   "execution_count": 53,
   "id": "7ada5f51-daee-4263-b847-eba06890f189",
   "metadata": {},
   "outputs": [],
   "source": [
    "def sumOfNodes(root):\n",
    "    if root == None:\n",
    "        return 0\n",
    "    sum_of_children = root.data\n",
    "    for child in root.children:\n",
    "        sum_of_children += sumOfNodes(child)\n",
    "    return sum_of_children"
   ]
  },
  {
   "cell_type": "code",
   "execution_count": 55,
   "id": "e054ee69-9471-4c31-8654-4f01d05dcdf6",
   "metadata": {},
   "outputs": [],
   "source": [
    "def height(root):\n",
    "    if root is None:\n",
    "        return 0\n",
    "    child_heights = []\n",
    "    for child in root.children:\n",
    "        child_heights.append(height(child))\n",
    "    if not child_heights:\n",
    "        return 1  # leaf\n",
    "    return 1 + max(child_heights)"
   ]
  },
  {
   "cell_type": "code",
   "execution_count": 58,
   "id": "620e17ed-bf54-4aa3-8e75-b4d4e69de0e6",
   "metadata": {},
   "outputs": [],
   "source": [
    "def nodeWithLargestData(root):\n",
    "    if root is None:\n",
    "        return -100000\n",
    "    child_largests = []\n",
    "    for child in root.children:\n",
    "        child_largests.append(nodeWithLargestData(child))\n",
    "    if not child_largests:\n",
    "        return root.data  # leaf\n",
    "    return max(max(child_largests),root.data)"
   ]
  },
  {
   "cell_type": "code",
   "execution_count": 14,
   "id": "616afffb-c0f6-4ae4-a0ff-b5931627a13b",
   "metadata": {},
   "outputs": [],
   "source": [
    "root = TreeNode(5)\n",
    "child1 = TreeNode(2)\n",
    "child2 = TreeNode(9)\n",
    "child3 = TreeNode(8)\n",
    "child4 = TreeNode(7)\n",
    "child21 = TreeNode(15)\n",
    "child22 = TreeNode(1)"
   ]
  },
  {
   "cell_type": "code",
   "execution_count": 15,
   "id": "b40a07e4-27d9-4b25-bdf1-30dd6c714fce",
   "metadata": {},
   "outputs": [],
   "source": [
    "root.children.append(child1)\n",
    "root.children.append(child2)\n",
    "root.children.append(child3)\n",
    "root.children.append(child4)\n",
    "child2.children.append(child21)\n",
    "child2.children.append(child22)"
   ]
  },
  {
   "cell_type": "code",
   "execution_count": 19,
   "id": "5acf2532-556d-4738-b651-0d81ed7f51ea",
   "metadata": {},
   "outputs": [
    {
     "name": "stdout",
     "output_type": "stream",
     "text": [
      "5\n",
      "2\n",
      "9\n",
      "15\n",
      "1\n",
      "8\n",
      "7\n"
     ]
    }
   ],
   "source": [
    "printTree(root)"
   ]
  },
  {
   "cell_type": "code",
   "execution_count": 26,
   "id": "21e60def-afbc-46ab-a79c-c0eb00f332ca",
   "metadata": {},
   "outputs": [
    {
     "name": "stdout",
     "output_type": "stream",
     "text": [
      "5 : 2 ,9 ,8 ,7 ,\n",
      "2 : \n",
      "9 : 15 ,1 ,\n",
      "15 : \n",
      "1 : \n",
      "8 : \n",
      "7 : \n"
     ]
    }
   ],
   "source": [
    "printTreeDetailed(root)"
   ]
  },
  {
   "cell_type": "code",
   "execution_count": 35,
   "id": "07941aed-4fab-47a2-835c-3e9ffafc889b",
   "metadata": {},
   "outputs": [
    {
     "name": "stdin",
     "output_type": "stream",
     "text": [
      "Enter root Data:  5\n"
     ]
    },
    {
     "name": "stdout",
     "output_type": "stream",
     "text": [
      "Enter No of Children for 5\n"
     ]
    },
    {
     "name": "stdin",
     "output_type": "stream",
     "text": [
      " 4\n",
      "Enter root Data:  1\n"
     ]
    },
    {
     "name": "stdout",
     "output_type": "stream",
     "text": [
      "Enter No of Children for 1\n"
     ]
    },
    {
     "name": "stdin",
     "output_type": "stream",
     "text": [
      " -1\n",
      "Enter root Data:  34\n"
     ]
    },
    {
     "name": "stdout",
     "output_type": "stream",
     "text": [
      "Enter No of Children for 34\n"
     ]
    },
    {
     "name": "stdin",
     "output_type": "stream",
     "text": [
      " -1\n",
      "Enter root Data:  35\n"
     ]
    },
    {
     "name": "stdout",
     "output_type": "stream",
     "text": [
      "Enter No of Children for 35\n"
     ]
    },
    {
     "name": "stdin",
     "output_type": "stream",
     "text": [
      " -1\n",
      "Enter root Data:  56\n"
     ]
    },
    {
     "name": "stdout",
     "output_type": "stream",
     "text": [
      "Enter No of Children for 56\n"
     ]
    },
    {
     "name": "stdin",
     "output_type": "stream",
     "text": [
      " -1\n"
     ]
    }
   ],
   "source": [
    "root2 = takeTreeInput()"
   ]
  },
  {
   "cell_type": "code",
   "execution_count": 36,
   "id": "a9129ce5-65a4-42f0-a3d2-ae85f6bf9032",
   "metadata": {},
   "outputs": [
    {
     "name": "stdout",
     "output_type": "stream",
     "text": [
      "5 : 1 ,34 ,35 ,56 ,\n",
      "1 : \n",
      "34 : \n",
      "35 : \n",
      "56 : \n"
     ]
    }
   ],
   "source": [
    "printTreeDetailed(root2)"
   ]
  },
  {
   "cell_type": "code",
   "execution_count": 40,
   "id": "0d3414aa-5f39-4936-b91a-9d579e1eab2e",
   "metadata": {},
   "outputs": [
    {
     "data": {
      "text/plain": [
       "5"
      ]
     },
     "execution_count": 40,
     "metadata": {},
     "output_type": "execute_result"
    }
   ],
   "source": [
    "noOfNodes(root2)"
   ]
  },
  {
   "cell_type": "code",
   "execution_count": 49,
   "id": "901740b3-66a0-4cf7-84fb-5bc6a9a72b7e",
   "metadata": {},
   "outputs": [
    {
     "data": {
      "text/plain": [
       "2"
      ]
     },
     "execution_count": 49,
     "metadata": {},
     "output_type": "execute_result"
    }
   ],
   "source": [
    "height(root2)"
   ]
  },
  {
   "cell_type": "code",
   "execution_count": 54,
   "id": "cb6b93d8-dba2-4309-9710-0db14fa5f2b3",
   "metadata": {},
   "outputs": [
    {
     "data": {
      "text/plain": [
       "131"
      ]
     },
     "execution_count": 54,
     "metadata": {},
     "output_type": "execute_result"
    }
   ],
   "source": [
    "sumOfNodes(root2)"
   ]
  },
  {
   "cell_type": "code",
   "execution_count": 59,
   "id": "a6549318-065d-4d5f-8145-9c12afcd8d9a",
   "metadata": {},
   "outputs": [
    {
     "data": {
      "text/plain": [
       "56"
      ]
     },
     "execution_count": 59,
     "metadata": {},
     "output_type": "execute_result"
    }
   ],
   "source": [
    "nodeWithLargestData(root2)"
   ]
  },
  {
   "cell_type": "code",
   "execution_count": 3,
   "id": "912e3b54-afbc-4aa7-9ee9-26cbd6e78e32",
   "metadata": {},
   "outputs": [],
   "source": [
    "import queue\n",
    "def TakeInputLevelWise():\n",
    "    # level wise input: recursion cant help, iterative\n",
    "    print(\"Enter the root:\")\n",
    "    root_data =  int(input())\n",
    "    if root_data == -1:\n",
    "        return\n",
    "    r1 =  TreeNode(root_data)\n",
    "    q = queue.Queue()\n",
    "    q.put(r1)\n",
    "    \n",
    "    while not q.empty():\n",
    "        root = q.get()\n",
    "        print(\"Enter the no of children for\",root.data)\n",
    "        no_of_children = int(input())\n",
    "        \n",
    "        for i in range(1,no_of_children+1):\n",
    "            print(f\"Enter child {i}:\")\n",
    "            child_Data = int(input())\n",
    "            child =  TreeNode(child_Data)\n",
    "            root.children.append(child)\n",
    "            q.put(child)\n",
    "    return r1"
   ]
  },
  {
   "cell_type": "code",
   "execution_count": 5,
   "id": "b5a89128-34af-4b23-b94a-6bb332cc11bd",
   "metadata": {},
   "outputs": [
    {
     "name": "stdout",
     "output_type": "stream",
     "text": [
      "Enter the root:\n"
     ]
    },
    {
     "name": "stdin",
     "output_type": "stream",
     "text": [
      " 2\n"
     ]
    },
    {
     "name": "stdout",
     "output_type": "stream",
     "text": [
      "Enter the no of children for 2\n"
     ]
    },
    {
     "name": "stdin",
     "output_type": "stream",
     "text": [
      " 3\n"
     ]
    },
    {
     "name": "stdout",
     "output_type": "stream",
     "text": [
      "Enter child 1:\n"
     ]
    },
    {
     "name": "stdin",
     "output_type": "stream",
     "text": [
      " 12\n"
     ]
    },
    {
     "name": "stdout",
     "output_type": "stream",
     "text": [
      "Enter child 2:\n"
     ]
    },
    {
     "name": "stdin",
     "output_type": "stream",
     "text": [
      " 13\n"
     ]
    },
    {
     "name": "stdout",
     "output_type": "stream",
     "text": [
      "Enter child 3:\n"
     ]
    },
    {
     "name": "stdin",
     "output_type": "stream",
     "text": [
      " 14\n"
     ]
    },
    {
     "name": "stdout",
     "output_type": "stream",
     "text": [
      "Enter the no of children for 12\n"
     ]
    },
    {
     "name": "stdin",
     "output_type": "stream",
     "text": [
      " 2\n"
     ]
    },
    {
     "name": "stdout",
     "output_type": "stream",
     "text": [
      "Enter child 1:\n"
     ]
    },
    {
     "name": "stdin",
     "output_type": "stream",
     "text": [
      " 56\n"
     ]
    },
    {
     "name": "stdout",
     "output_type": "stream",
     "text": [
      "Enter child 2:\n"
     ]
    },
    {
     "name": "stdin",
     "output_type": "stream",
     "text": [
      " 89\n"
     ]
    },
    {
     "name": "stdout",
     "output_type": "stream",
     "text": [
      "Enter the no of children for 13\n"
     ]
    },
    {
     "name": "stdin",
     "output_type": "stream",
     "text": [
      " 0\n"
     ]
    },
    {
     "name": "stdout",
     "output_type": "stream",
     "text": [
      "Enter the no of children for 14\n"
     ]
    },
    {
     "name": "stdin",
     "output_type": "stream",
     "text": [
      " 0\n"
     ]
    },
    {
     "name": "stdout",
     "output_type": "stream",
     "text": [
      "Enter the no of children for 56\n"
     ]
    },
    {
     "name": "stdin",
     "output_type": "stream",
     "text": [
      " 0\n"
     ]
    },
    {
     "name": "stdout",
     "output_type": "stream",
     "text": [
      "Enter the no of children for 89\n"
     ]
    },
    {
     "name": "stdin",
     "output_type": "stream",
     "text": [
      " 0\n"
     ]
    }
   ],
   "source": [
    "root4 = TakeInputLevelWise()"
   ]
  },
  {
   "cell_type": "code",
   "execution_count": 28,
   "id": "3bb32eab-7413-4b1b-b922-f952713f915e",
   "metadata": {},
   "outputs": [
    {
     "name": "stdout",
     "output_type": "stream",
     "text": [
      "6 : 1 ,3 ,5 ,\n",
      "1 : \n",
      "3 : \n",
      "5 : \n"
     ]
    }
   ],
   "source": [
    "printTreeDetailed(root4)"
   ]
  },
  {
   "cell_type": "code",
   "execution_count": 12,
   "id": "3dd9b062-bb92-4dd0-a45a-409cd0b1bccf",
   "metadata": {},
   "outputs": [],
   "source": [
    "def nodeWithLargestSum(root):\n",
    "    if root is None:\n",
    "        return -100000, -100000\n",
    "        \n",
    "    curr_node = root.data\n",
    "    curr_node_sum = root.data\n",
    "    \n",
    "    for child in root.children:\n",
    "        curr_node_sum += child.data\n",
    "        \n",
    "    for child in root.children:\n",
    "        child_data, child_sum = nodeWithLargestSum(child)\n",
    "        if child_sum > curr_node_sum:\n",
    "            curr_node = child_data\n",
    "            curr_node_sum = child_sum\n",
    "            \n",
    "    return (curr_node,curr_node_sum)"
   ]
  },
  {
   "cell_type": "code",
   "execution_count": 6,
   "id": "95c136af-4940-4274-861d-e33223729eea",
   "metadata": {},
   "outputs": [
    {
     "name": "stdout",
     "output_type": "stream",
     "text": [
      "Enter the root:\n"
     ]
    },
    {
     "name": "stdin",
     "output_type": "stream",
     "text": [
      " 1\n"
     ]
    },
    {
     "name": "stdout",
     "output_type": "stream",
     "text": [
      "Enter the no of children for 1\n"
     ]
    },
    {
     "name": "stdin",
     "output_type": "stream",
     "text": [
      " 3\n"
     ]
    },
    {
     "name": "stdout",
     "output_type": "stream",
     "text": [
      "Enter child 1:\n"
     ]
    },
    {
     "name": "stdin",
     "output_type": "stream",
     "text": [
      " 2\n"
     ]
    },
    {
     "name": "stdout",
     "output_type": "stream",
     "text": [
      "Enter child 2:\n"
     ]
    },
    {
     "name": "stdin",
     "output_type": "stream",
     "text": [
      " 3\n"
     ]
    },
    {
     "name": "stdout",
     "output_type": "stream",
     "text": [
      "Enter child 3:\n"
     ]
    },
    {
     "name": "stdin",
     "output_type": "stream",
     "text": [
      " 4\n"
     ]
    },
    {
     "name": "stdout",
     "output_type": "stream",
     "text": [
      "Enter the no of children for 2\n"
     ]
    },
    {
     "name": "stdin",
     "output_type": "stream",
     "text": [
      " 2\n"
     ]
    },
    {
     "name": "stdout",
     "output_type": "stream",
     "text": [
      "Enter child 1:\n"
     ]
    },
    {
     "name": "stdin",
     "output_type": "stream",
     "text": [
      " 5\n"
     ]
    },
    {
     "name": "stdout",
     "output_type": "stream",
     "text": [
      "Enter child 2:\n"
     ]
    },
    {
     "name": "stdin",
     "output_type": "stream",
     "text": [
      " 6\n"
     ]
    },
    {
     "name": "stdout",
     "output_type": "stream",
     "text": [
      "Enter the no of children for 3\n"
     ]
    },
    {
     "name": "stdin",
     "output_type": "stream",
     "text": [
      " 0\n"
     ]
    },
    {
     "name": "stdout",
     "output_type": "stream",
     "text": [
      "Enter the no of children for 4\n"
     ]
    },
    {
     "name": "stdin",
     "output_type": "stream",
     "text": [
      " 0\n"
     ]
    },
    {
     "name": "stdout",
     "output_type": "stream",
     "text": [
      "Enter the no of children for 5\n"
     ]
    },
    {
     "name": "stdin",
     "output_type": "stream",
     "text": [
      " 0\n"
     ]
    },
    {
     "name": "stdout",
     "output_type": "stream",
     "text": [
      "Enter the no of children for 6\n"
     ]
    },
    {
     "name": "stdin",
     "output_type": "stream",
     "text": [
      " 0\n"
     ]
    }
   ],
   "source": [
    "root5 = TakeInputLevelWise()"
   ]
  },
  {
   "cell_type": "code",
   "execution_count": 14,
   "id": "d55805a9-5704-4049-9fd0-5224ed6c8d6f",
   "metadata": {},
   "outputs": [
    {
     "data": {
      "text/plain": [
       "(2, 13)"
      ]
     },
     "execution_count": 14,
     "metadata": {},
     "output_type": "execute_result"
    }
   ],
   "source": [
    "nodeWithLargestSum(root5)"
   ]
  },
  {
   "cell_type": "code",
   "execution_count": 15,
   "id": "321ad219-0858-4492-9ef5-e60e62ef3244",
   "metadata": {},
   "outputs": [],
   "source": [
    "# in maximum trees programs, we have to some work on root and remaining work for recursion"
   ]
  },
  {
   "cell_type": "code",
   "execution_count": 20,
   "id": "5a99ebdb-70a2-4538-a3a3-baf65ac91d2e",
   "metadata": {},
   "outputs": [],
   "source": [
    "def nextLarger(root, k):\n",
    "    if root is None:\n",
    "        return None\n",
    "\n",
    "    next_large = None\n",
    "    if root.data > k:\n",
    "        next_large = root.data\n",
    "    \n",
    "    for child in root.children:\n",
    "        child_next_large = nextLarger(child, k)\n",
    "        if next_large == None:\n",
    "            next_large = child_next_large\n",
    "        else:\n",
    "            if child_next_large != None:\n",
    "                next_large = min(child_next_large,next_large)\n",
    "    return next_large"
   ]
  },
  {
   "cell_type": "code",
   "execution_count": 22,
   "id": "527997ac-be6f-4a1e-9bdb-4c4ebd27edd5",
   "metadata": {},
   "outputs": [
    {
     "data": {
      "text/plain": [
       "3"
      ]
     },
     "execution_count": 22,
     "metadata": {},
     "output_type": "execute_result"
    }
   ],
   "source": [
    "nextLarger(root5, 2)"
   ]
  },
  {
   "cell_type": "code",
   "execution_count": 23,
   "id": "120a24db-1c37-4ab5-9cac-e5008fb9d890",
   "metadata": {},
   "outputs": [],
   "source": [
    "def nodeReplaceWithDepth(root, depth):\n",
    "    if root is None:\n",
    "        return None\n",
    "    root.data = depth\n",
    "    for child in root.children:\n",
    "        nodeReplaceWithDepth(child, depth+1)"
   ]
  },
  {
   "cell_type": "code",
   "execution_count": 25,
   "id": "990945d0-b8b5-48e3-8fb2-441a114ebf6e",
   "metadata": {},
   "outputs": [],
   "source": [
    "nodeReplaceWithDepth(root5, depth=0)"
   ]
  },
  {
   "cell_type": "code",
   "execution_count": 26,
   "id": "d7c44714-bc68-43b9-9bdc-d85501aa7e8a",
   "metadata": {},
   "outputs": [
    {
     "name": "stdout",
     "output_type": "stream",
     "text": [
      "0 : 1 ,1 ,1 ,\n",
      "1 : 2 ,2 ,\n",
      "2 : \n",
      "2 : \n",
      "1 : \n",
      "1 : \n"
     ]
    }
   ],
   "source": [
    "printTreeDetailed(root5)"
   ]
  },
  {
   "cell_type": "code",
   "execution_count": null,
   "id": "d2398339-ee96-44d7-9402-cc255fb39027",
   "metadata": {},
   "outputs": [],
   "source": []
  }
 ],
 "metadata": {
  "kernelspec": {
   "display_name": "Python 3 (ipykernel)",
   "language": "python",
   "name": "python3"
  },
  "language_info": {
   "codemirror_mode": {
    "name": "ipython",
    "version": 3
   },
   "file_extension": ".py",
   "mimetype": "text/x-python",
   "name": "python",
   "nbconvert_exporter": "python",
   "pygments_lexer": "ipython3",
   "version": "3.11.3"
  }
 },
 "nbformat": 4,
 "nbformat_minor": 5
}
