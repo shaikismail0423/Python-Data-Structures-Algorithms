{
 "cells": [
  {
   "cell_type": "markdown",
   "id": "93e13e28-8e01-47fd-b5cb-5629f07cb3ef",
   "metadata": {},
   "source": [
    "# Binary Search Trees\n",
    "A Binary Search Tree (BST) is a data structure used in computer science and programming for efficient searching, insertion, and deletion of elements. It is a type of binary tree where each node has at most two children: a left child and a right child. The key property of a BST is that for any given node:\r\n",
    "\r\n",
    "1. All nodes in its left subtree have values less than the node's value.\r\n",
    "2. All nodes in its right subtree have values greater than the node's value.\r\n",
    "\r\n",
    "This property ensures that the elements in a BST are organized in such a way that searching for a specific element can be done efficiently through a process of elimination, similar to searching in a sorted array.\r\n",
    "\r\n",
    "Here's a brief overview of some common operations on a Binary Search Tree:\r\n",
    "\r\n",
    "1. **Insertion**: To insert an element into a BST, you start at the root and compare the value to be inserted with the current node's value. If it's less, you go to the left subtree; if it's greater, you go to the right subtree. You continue this process until you reach a null pointer, at which point you insert the new node with the appropriate value.\r\n",
    "\r\n",
    "2. **Deletion**: Deleting a node from a BST can be a bit more complex. There are three cases to consider:\r\n",
    "   - If the node to be deleted has no children, you can simply remove it.\r\n",
    "   - If the node to be deleted has one child, you can replace the node with its child.\r\n",
    "   - If the node to be deleted has two children, you need to find the node's in-order predecessor (the maximum value node in its left subtree) or in-order successor (the minimum value node in its right subtree), replace the node to be deleted with that value, and then delete the in-order predecessor or successor node recursively.\r\n",
    "\r\n",
    "3. **Search**: To search for an element in a BST, you start at the root and compare the value you're looking for with the current node's value. If they match, you've found the element. If the value is less, you go to the left subtree; if it's greater, you go to the right subtree. You continue this process until you find the element or reach a null pointer, indicating that the element is not present.\r\n",
    "\r\n",
    "4. **Traversal**: There are several ways to traverse a BST to visit all its nodes in a specific order:\r\n",
    "   - In-order traversal: Visit left subtree, current node, right subtree, which results in visiting nodes in ascending order.\r\n",
    "   - Pre-order traversal: Visit current node, left subtree, right subtree.\r\n",
    "   - Post-order traversal: Visit left subtree, right subtree, current node.\r\n",
    "\r\n",
    "BSTs are particularly useful for applications that require maintaining a sorted set of elements, as they provide efficient insertion, deletion, and search operations with an average time complexity of O(log n) for balanced trees. However, it's important to note that if the BST becomes unbalanced (e.g., if elements are inserted in sorted order), the time complexity for these operations can degrade to O(n). To maintain balance, self-balancing BSTs like AVL trees and Red-Black trees are used."
   ]
  },
  {
   "cell_type": "markdown",
   "id": "7453570f-ff65-4193-aaee-a5d86780fa66",
   "metadata": {},
   "source": [
    "For each node with data d\n",
    "\n",
    "its left subtree <d\n",
    "                     \n",
    "its right subtree >=d\n"
   ]
  },
  {
   "cell_type": "code",
   "execution_count": 4,
   "id": "48e7e724-cbd1-4278-b783-474c9a1675a9",
   "metadata": {},
   "outputs": [],
   "source": [
    "class BinaryTreeNode:\n",
    "    def __init__(self,data):\n",
    "        self.data = data\n",
    "        self.left = None \n",
    "        self.right = None"
   ]
  },
  {
   "cell_type": "code",
   "execution_count": 13,
   "id": "694e3716-f2e0-4c38-a7fb-251d608f5bab",
   "metadata": {},
   "outputs": [],
   "source": [
    "def takeInput():\n",
    "    print(\"Enter root Data\")\n",
    "    rootData = int(input())\n",
    "\n",
    "    if rootData == -1:\n",
    "        return None\n",
    "        \n",
    "    root = BinaryTreeNode(rootData)\n",
    "    \n",
    "    leftTree = takeInput()\n",
    "    rightTree = takeInput()\n",
    "    \n",
    "    root.left = leftTree\n",
    "    root.right = rightTree\n",
    "    return root"
   ]
  },
  {
   "cell_type": "code",
   "execution_count": 17,
   "id": "3c250c82-abb2-447b-8805-f1e29a603f41",
   "metadata": {},
   "outputs": [],
   "source": [
    "# TC: h\n",
    "# Balanced = h = logn :1+2+2^2 .... 2^h-1 : logn\n",
    "# skewed = n\n",
    "\n",
    "def searchBst(root, x):\n",
    "    if root == None or root.data == x:\n",
    "        return root\n",
    "    elif root.data > x:\n",
    "        return searchBst(root.left,x)\n",
    "    else:\n",
    "        return searchBst(root.right,x)"
   ]
  },
  {
   "cell_type": "code",
   "execution_count": 26,
   "id": "2a563d9d-5cd5-49d0-b4ea-b956300099d3",
   "metadata": {},
   "outputs": [],
   "source": [
    "def searchBst1(root, x):\n",
    "    if root == None:\n",
    "        return False\n",
    "    if root.data == x:\n",
    "        return True\n",
    "    elif root.data > x:\n",
    "        return searchBst1(root.left,x)\n",
    "    else:\n",
    "        return searchBst1(root.right,x)"
   ]
  },
  {
   "cell_type": "code",
   "execution_count": 14,
   "id": "35264478-c316-4eff-bc6f-5e53620b7e2f",
   "metadata": {},
   "outputs": [
    {
     "name": "stdout",
     "output_type": "stream",
     "text": [
      "Enter root Data\n"
     ]
    },
    {
     "name": "stdin",
     "output_type": "stream",
     "text": [
      " 4\n"
     ]
    },
    {
     "name": "stdout",
     "output_type": "stream",
     "text": [
      "Enter root Data\n"
     ]
    },
    {
     "name": "stdin",
     "output_type": "stream",
     "text": [
      " 2\n"
     ]
    },
    {
     "name": "stdout",
     "output_type": "stream",
     "text": [
      "Enter root Data\n"
     ]
    },
    {
     "name": "stdin",
     "output_type": "stream",
     "text": [
      " 1\n"
     ]
    },
    {
     "name": "stdout",
     "output_type": "stream",
     "text": [
      "Enter root Data\n"
     ]
    },
    {
     "name": "stdin",
     "output_type": "stream",
     "text": [
      " -1\n"
     ]
    },
    {
     "name": "stdout",
     "output_type": "stream",
     "text": [
      "Enter root Data\n"
     ]
    },
    {
     "name": "stdin",
     "output_type": "stream",
     "text": [
      " -1\n"
     ]
    },
    {
     "name": "stdout",
     "output_type": "stream",
     "text": [
      "Enter root Data\n"
     ]
    },
    {
     "name": "stdin",
     "output_type": "stream",
     "text": [
      " 3\n"
     ]
    },
    {
     "name": "stdout",
     "output_type": "stream",
     "text": [
      "Enter root Data\n"
     ]
    },
    {
     "name": "stdin",
     "output_type": "stream",
     "text": [
      " -1\n"
     ]
    },
    {
     "name": "stdout",
     "output_type": "stream",
     "text": [
      "Enter root Data\n"
     ]
    },
    {
     "name": "stdin",
     "output_type": "stream",
     "text": [
      " -1\n"
     ]
    },
    {
     "name": "stdout",
     "output_type": "stream",
     "text": [
      "Enter root Data\n"
     ]
    },
    {
     "name": "stdin",
     "output_type": "stream",
     "text": [
      " 6\n"
     ]
    },
    {
     "name": "stdout",
     "output_type": "stream",
     "text": [
      "Enter root Data\n"
     ]
    },
    {
     "name": "stdin",
     "output_type": "stream",
     "text": [
      " 5\n"
     ]
    },
    {
     "name": "stdout",
     "output_type": "stream",
     "text": [
      "Enter root Data\n"
     ]
    },
    {
     "name": "stdin",
     "output_type": "stream",
     "text": [
      " -1\n"
     ]
    },
    {
     "name": "stdout",
     "output_type": "stream",
     "text": [
      "Enter root Data\n"
     ]
    },
    {
     "name": "stdin",
     "output_type": "stream",
     "text": [
      " -1\n"
     ]
    },
    {
     "name": "stdout",
     "output_type": "stream",
     "text": [
      "Enter root Data\n"
     ]
    },
    {
     "name": "stdin",
     "output_type": "stream",
     "text": [
      " 7\n"
     ]
    },
    {
     "name": "stdout",
     "output_type": "stream",
     "text": [
      "Enter root Data\n"
     ]
    },
    {
     "name": "stdin",
     "output_type": "stream",
     "text": [
      " -1\n"
     ]
    },
    {
     "name": "stdout",
     "output_type": "stream",
     "text": [
      "Enter root Data\n"
     ]
    },
    {
     "name": "stdin",
     "output_type": "stream",
     "text": [
      " -1\n"
     ]
    }
   ],
   "source": [
    "root1 = takeInput()"
   ]
  },
  {
   "cell_type": "code",
   "execution_count": 47,
   "id": "7d58c862-4c55-43bd-aea0-cefb2503e4f5",
   "metadata": {},
   "outputs": [
    {
     "data": {
      "text/plain": [
       "True"
      ]
     },
     "execution_count": 47,
     "metadata": {},
     "output_type": "execute_result"
    }
   ],
   "source": [
    "searchBst1(root1, 3)    "
   ]
  },
  {
   "cell_type": "code",
   "execution_count": 48,
   "id": "f68229dc-773c-4d16-b09c-4552991b0955",
   "metadata": {},
   "outputs": [],
   "source": [
    "def printTree(root):\n",
    "    if root is None:\n",
    "        return\n",
    "        \n",
    "    print(root.data,\": \", end = \"\")\n",
    "    if root.left :\n",
    "        print(f\"L {root.left.data}\", end = \"\")\n",
    "    if root.right :\n",
    "        print(\", R\", root.right.data, end = \"\")\n",
    "    print()\n",
    "    printTree(root.left)\n",
    "    printTree(root.right)"
   ]
  },
  {
   "cell_type": "code",
   "execution_count": 28,
   "id": "4521a750-e3dd-47f8-8882-b993cb3bc97b",
   "metadata": {},
   "outputs": [],
   "source": [
    "# Print Elements in Range k1 and K2"
   ]
  },
  {
   "cell_type": "code",
   "execution_count": 39,
   "id": "dede9e0f-402f-47d7-9852-cc2d39b39c34",
   "metadata": {},
   "outputs": [],
   "source": [
    "def printInRange(root, k1,k2):\n",
    "    if root == None:\n",
    "        return\n",
    "    if root.data > k2:\n",
    "        printInRange(root.left,k1, k2)\n",
    "    elif root.data < k1:\n",
    "        printInRange(root.right,k1, k2)\n",
    "    else:\n",
    "        printInRange(root.left,k1, k2)\n",
    "        print(root.data)\n",
    "        printInRange(root.right,k1, k2)"
   ]
  },
  {
   "cell_type": "code",
   "execution_count": 40,
   "id": "8931706a-3115-4935-9e61-2896471608c0",
   "metadata": {},
   "outputs": [
    {
     "name": "stdout",
     "output_type": "stream",
     "text": [
      "1\n",
      "2\n",
      "3\n",
      "4\n",
      "5\n",
      "6\n"
     ]
    }
   ],
   "source": [
    "printInRange(root1, 1,6)"
   ]
  },
  {
   "cell_type": "code",
   "execution_count": 41,
   "id": "56242fe6-a3e2-4f86-8e6e-f4e2037ede7c",
   "metadata": {},
   "outputs": [],
   "source": [
    "# Convert sorted array to BSt\n",
    "# Bst : Binary search tree: This can be skewed , binary or any form\n",
    "# But we want balanced binary search tree"
   ]
  },
  {
   "cell_type": "code",
   "execution_count": 50,
   "id": "0f95dc3f-432a-4947-982f-607f5eb67f06",
   "metadata": {},
   "outputs": [],
   "source": [
    "def BuildBalancedBstFromSortedArray(arr, left, right):\n",
    "    if len(arr) == 0 or left > right:\n",
    "        return None\n",
    "    mid =  (left + right)//2\n",
    "    val = arr[mid]\n",
    "    root = BinaryTreeNode(val)\n",
    "    \n",
    "    rootLeft = BuildBalancedBstFromSortedArray(arr, left, mid - 1)\n",
    "    rootRight = BuildBalancedBstFromSortedArray(arr, mid+1, right)\n",
    "    root.left = rootLeft\n",
    "    root.right = rootRight\n",
    "    \n",
    "    return root "
   ]
  },
  {
   "cell_type": "code",
   "execution_count": 45,
   "id": "8995c714-49ce-4eb1-9b3a-db22c45525c3",
   "metadata": {},
   "outputs": [],
   "source": [
    "root2 = BuildBalancedBstFromSortedArray([1,2,3,4,5,6,7], left=0, right=6)"
   ]
  },
  {
   "cell_type": "code",
   "execution_count": 46,
   "id": "1544edca-ccb7-431d-aa2b-2444be492f94",
   "metadata": {},
   "outputs": [
    {
     "name": "stdout",
     "output_type": "stream",
     "text": [
      "1\n",
      "2\n",
      "3\n",
      "4\n",
      "5\n",
      "6\n",
      "7\n"
     ]
    }
   ],
   "source": [
    "printInRange(root2, 1,7)"
   ]
  },
  {
   "cell_type": "code",
   "execution_count": 49,
   "id": "16dad2b6-09e3-4c60-beef-66da80253f73",
   "metadata": {},
   "outputs": [
    {
     "name": "stdout",
     "output_type": "stream",
     "text": [
      "4 : L 2, R 6\n",
      "2 : L 1, R 3\n",
      "1 : \n",
      "3 : \n",
      "6 : L 5, R 7\n",
      "5 : \n",
      "7 : \n"
     ]
    }
   ],
   "source": [
    "printTree(root2)"
   ]
  },
  {
   "cell_type": "code",
   "execution_count": 57,
   "id": "312854e1-151a-4063-bca3-0eed930ac9de",
   "metadata": {},
   "outputs": [],
   "source": [
    "def maxTree(root):\n",
    "    if root == None:\n",
    "        return -100000\n",
    "    return max( maxTree(root.left), maxTree(root.right), root.data)"
   ]
  },
  {
   "cell_type": "code",
   "execution_count": 56,
   "id": "88684b7e-052b-4b13-a4c4-bf287e1c4e53",
   "metadata": {},
   "outputs": [],
   "source": [
    "def minTree(root):\n",
    "    if root == None:\n",
    "        return 100000 \n",
    "    return min( minTree(root.left), minTree(root.right), root.data)"
   ]
  },
  {
   "cell_type": "code",
   "execution_count": 58,
   "id": "480702db-40b8-45c5-aacb-dab611e8b638",
   "metadata": {},
   "outputs": [],
   "source": [
    "def isBst(root):\n",
    "    if root == None:\n",
    "        return True\n",
    "        \n",
    "    maxDataLeft = maxTree(root.left)\n",
    "    minDataRight = minTree(root.right)\n",
    "    \n",
    "    if root.data <= maxDataLeft or root.data > minDataRight:\n",
    "        return False\n",
    "        \n",
    "    return isBst(root.left) and isBst(root.right)"
   ]
  },
  {
   "cell_type": "code",
   "execution_count": 59,
   "id": "59e370f6-9d47-4a02-955f-edd9dca846bf",
   "metadata": {},
   "outputs": [
    {
     "data": {
      "text/plain": [
       "True"
      ]
     },
     "execution_count": 59,
     "metadata": {},
     "output_type": "execute_result"
    }
   ],
   "source": [
    "isBst(root2)"
   ]
  },
  {
   "cell_type": "code",
   "execution_count": 60,
   "id": "1b461582-d997-4aac-857f-1a8f41ebfcea",
   "metadata": {},
   "outputs": [],
   "source": [
    "# Optimize the Above code\n",
    "# Basically what we need, \n",
    "# max, isBst from left side and min,isBst from right side"
   ]
  },
  {
   "cell_type": "code",
   "execution_count": 66,
   "id": "8a30e4f9-9b79-46b7-b004-503c482f9d10",
   "metadata": {},
   "outputs": [],
   "source": [
    "def minmaxIsBst(root):\n",
    "    if root == None:\n",
    "        return (100000,-100000, True)\n",
    "        \n",
    "    minLeft, maxLeft, isBstLeft = minmaxIsBst(root.left) \n",
    "    minRight, maxRight, isBstRight = minmaxIsBst(root.right)\n",
    "\n",
    "    overall_Min = min(minLeft, minRight, root.data)\n",
    "    overall_Max =  max(maxLeft,maxRight,root.data)\n",
    "    \n",
    "    # we need maxLeft, minRight, isBstLeft, isBstRight\n",
    "    if root.data <= maxLeft or root.data > minRight or not(isBstLeft) or not(isBstRight):\n",
    "        return (overall_Min,overall_Max, False)\n",
    "    else:\n",
    "        return (overall_Min, overall_Max,True) "
   ]
  },
  {
   "cell_type": "code",
   "execution_count": 67,
   "id": "0530e576-2037-4ef1-86b8-bef4ec96950c",
   "metadata": {},
   "outputs": [
    {
     "data": {
      "text/plain": [
       "(1, 7, True)"
      ]
     },
     "execution_count": 67,
     "metadata": {},
     "output_type": "execute_result"
    }
   ],
   "source": [
    "minmaxIsBst(root2)"
   ]
  },
  {
   "cell_type": "raw",
   "id": "a598b614-aa9c-4133-acf3-b323521b1b07",
   "metadata": {},
   "source": [
    "Time Complexity:\n",
    "\n",
    "T(n) = 2*T(n/2) + constantWork\n",
    "Total (k + k+ ...n/2 times ) + (k + k+ ...n/2 times ) = nk = O(N)\n",
    "\n",
    "T(n) = T(n-1) + constantWork\n",
    "total k + k+ ...n = nk = O(N)"
   ]
  },
  {
   "cell_type": "code",
   "execution_count": 69,
   "id": "0beaa520-6400-4378-8a41-54462297efc8",
   "metadata": {},
   "outputs": [],
   "source": [
    "# Intresting solution for above solution\n",
    "\n",
    "# there is no constraint on root\n",
    "# root can be -infintity to + infinity\n",
    "# root.left can be -infinity to root.data -1\n",
    "# root.right can be root.data to + infinity"
   ]
  },
  {
   "cell_type": "code",
   "execution_count": 85,
   "id": "b54d79be-7610-4d34-896d-3186ea7c03ca",
   "metadata": {},
   "outputs": [],
   "source": [
    "def isBstusingRange(root, minRange, maxRange):\n",
    "    if root == None:\n",
    "        return True\n",
    "    if root.data < minRange or root.data > maxRange:\n",
    "        return False\n",
    "    isLeftWithinConstraints = isBstusingRange(root.left, minRange, root.data - 1)\n",
    "    isRightWithinConstraints = isBstusingRange(root.right, root.data, maxRange)\n",
    "    return isLeftWithinConstraints and isRightWithinConstraints"
   ]
  },
  {
   "cell_type": "code",
   "execution_count": 87,
   "id": "5b2a74f7-d965-4532-8757-0f01a43d412a",
   "metadata": {},
   "outputs": [
    {
     "data": {
      "text/plain": [
       "True"
      ]
     },
     "execution_count": 87,
     "metadata": {},
     "output_type": "execute_result"
    }
   ],
   "source": [
    "isBstusingRange(root2, -100000, 100000)"
   ]
  },
  {
   "cell_type": "code",
   "execution_count": 88,
   "id": "cf06a6e3-1d2e-461e-8d9b-5ec7b0f70494",
   "metadata": {},
   "outputs": [],
   "source": [
    "class BinaryTreeNode:\n",
    "    def __init__(self,data):\n",
    "        self.data = data\n",
    "        self.left = None \n",
    "        self.right = None"
   ]
  },
  {
   "cell_type": "code",
   "execution_count": 129,
   "id": "e2ecc9a3-0732-4db9-b064-c3d43b823c08",
   "metadata": {},
   "outputs": [],
   "source": [
    "class BST:\n",
    "    def __init__(self):\n",
    "        self.bst_root = None\n",
    "        self.num_Nodes = 0\n",
    "        \n",
    "    def isPresentHelper(self, root, k):\n",
    "        if root == None:\n",
    "            return False\n",
    "        if root.data == k:\n",
    "            return True\n",
    "        leftPresent = self.isPresentHelper(root.left, k)\n",
    "        rightPresent = self.isPresentHelper(root.right, k)\n",
    "        return leftPresent or rightPresent\n",
    "        \n",
    "    def isPresent(self,k):\n",
    "        isPresentk = self.isPresentHelper(self.bst_root, k)\n",
    "        return isPresentk\n",
    "        \n",
    "    def insertHelper(self, root, k):\n",
    "        if root == None:\n",
    "            root = BinaryTreeNode(k)\n",
    "            return root\n",
    "            \n",
    "        if k < root.data:\n",
    "            root.left = self.insertHelper(root.left, k)\n",
    "        else:\n",
    "            root.right = self.insertHelper(root.right, k)\n",
    "            \n",
    "        return root\n",
    "            \n",
    "    def insert(self,k):\n",
    "        self.bst_root = self.insertHelper(self.bst_root,k)\n",
    "        self.num_Nodes += 1\n",
    "        \n",
    "    def minData(self, root):\n",
    "        if root == None:\n",
    "            return None\n",
    "            \n",
    "        if root.left == None:\n",
    "            return root.data\n",
    "            \n",
    "        return self.minData(root.left)\n",
    "# # plan:\n",
    "# 1. root == None\n",
    "# 2. root.data < data -> call delete on right side\n",
    "# 3. root.data > data -> call delete on left side\n",
    "# 4. root.data == data\n",
    "#    1. root is leaf return None\n",
    "#    2. root has one child return that child as new root\n",
    "#    3. two children -> replace root with minimum of right side\n",
    "#       1. delete minimum from right side\n",
    "    \n",
    "    def deleteHelper(self,root,k):\n",
    "        if root == None:\n",
    "            return (False, None)\n",
    "            \n",
    "        # delete left side\n",
    "        if root.data > k:\n",
    "            isDeleted, LeftNewRoot= self.deleteHelper(root.left, k)\n",
    "            root.left = LeftNewRoot\n",
    "            return (isDeleted, root)\n",
    "            \n",
    "        # delete right side\n",
    "        if root.data < k:\n",
    "            isDeleted, rightNewRoot= self.deleteHelper(root.right,k)\n",
    "            root.right = rightNewRoot\n",
    "            return (isDeleted, root)\n",
    "            \n",
    "        # if left not there and right also not there\n",
    "        if root.data == k:\n",
    "            # if root is Leaf \n",
    "            if root.left == None and root.right == None:\n",
    "                return (True, None)\n",
    "            # if root has one child\n",
    "            if root.left is None:\n",
    "                return (True, root.right)\n",
    "            if root.right is None:\n",
    "                return (True, root.left)\n",
    "            # if root have both childs\n",
    "            # find minimum in the right side\n",
    "            replacement =  self.minData(root.right)\n",
    "            root.data = replacement\n",
    "            isDeleted, newRoot = self.deleteHelper(root.right, replacement)\n",
    "            root.right = newRoot\n",
    "            return (isDeleted,root)\n",
    "        \n",
    "    def delete(self,k):\n",
    "        isDeleted, newRoot = self.deleteHelper(self.bst_root,k)\n",
    "        self.bst_root = newRoot\n",
    "        if isDeleted:\n",
    "            self.num_Nodes -= 1\n",
    "        return isDeleted\n",
    "        \n",
    "    def count(self,k):\n",
    "        return self.numNodes\n",
    "        \n",
    "    def printTreeHelper(self, root):\n",
    "        if root is None:\n",
    "            return\n",
    "        print(f\"{root.data} : \", end = \"\")\n",
    "        \n",
    "        if root.left != None:\n",
    "            print(f\"L {root.left.data} \", end = \"\") \n",
    "        if root.right != None:\n",
    "            print(f\"R {root.right.data} \",end=\"\")\n",
    "        print()\n",
    "        self.printTreeHelper(root.left)\n",
    "        self.printTreeHelper(root.right)\n",
    "        \n",
    "    def printTree(self):\n",
    "        self.printTreeHelper(self.bst_root)\n"
   ]
  },
  {
   "cell_type": "code",
   "execution_count": 130,
   "id": "1877bc62-89c6-41ed-a0ff-df0884014095",
   "metadata": {},
   "outputs": [],
   "source": [
    "b = BST()\n",
    "b.insert(4)\n",
    "b.insert(3)\n",
    "b.insert(2)\n",
    "b.insert(1)\n",
    "b.insert(5)\n",
    "b.insert(6)"
   ]
  },
  {
   "cell_type": "code",
   "execution_count": 131,
   "id": "5d6e5cb8-b68f-4d07-82a5-5e1df372fbf3",
   "metadata": {},
   "outputs": [
    {
     "name": "stdout",
     "output_type": "stream",
     "text": [
      "4 : L 3 R 5 \n",
      "3 : L 2 \n",
      "2 : L 1 \n",
      "1 : \n",
      "5 : R 6 \n",
      "6 : \n"
     ]
    }
   ],
   "source": [
    "b.printTree()"
   ]
  },
  {
   "cell_type": "code",
   "execution_count": 132,
   "id": "19b3b23c-8dff-474a-9446-5057f14a9f42",
   "metadata": {},
   "outputs": [
    {
     "data": {
      "text/plain": [
       "False"
      ]
     },
     "execution_count": 132,
     "metadata": {},
     "output_type": "execute_result"
    }
   ],
   "source": [
    "b.isPresent(50)"
   ]
  },
  {
   "cell_type": "code",
   "execution_count": 133,
   "id": "a5bab218-d245-40e9-9592-c69eddaa81cd",
   "metadata": {},
   "outputs": [
    {
     "name": "stdout",
     "output_type": "stream",
     "text": [
      "True\n"
     ]
    }
   ],
   "source": [
    "print(b.delete(3))"
   ]
  },
  {
   "cell_type": "code",
   "execution_count": 134,
   "id": "89017599-5dff-460d-a4ea-dbb5687c8077",
   "metadata": {},
   "outputs": [
    {
     "name": "stdout",
     "output_type": "stream",
     "text": [
      "4 : L 2 R 5 \n",
      "2 : L 1 \n",
      "1 : \n",
      "5 : R 6 \n",
      "6 : \n"
     ]
    }
   ],
   "source": [
    "b.printTree()"
   ]
  },
  {
   "cell_type": "code",
   "execution_count": 135,
   "id": "1f2ffeb9-17c3-45d8-a503-e19402e8347a",
   "metadata": {},
   "outputs": [
    {
     "name": "stdout",
     "output_type": "stream",
     "text": [
      "True\n"
     ]
    }
   ],
   "source": [
    "print(b.delete(4))"
   ]
  },
  {
   "cell_type": "code",
   "execution_count": 136,
   "id": "d3d6f61a-abd0-4de2-a1d0-2ab708d760d8",
   "metadata": {},
   "outputs": [
    {
     "name": "stdout",
     "output_type": "stream",
     "text": [
      "5 : L 2 R 6 \n",
      "2 : L 1 \n",
      "1 : \n",
      "6 : \n"
     ]
    }
   ],
   "source": [
    "b.printTree()"
   ]
  },
  {
   "cell_type": "markdown",
   "id": "03332b58-20f1-4883-aa65-0314e639428f",
   "metadata": {},
   "source": [
    "Deleting a node in a Binary Search Tree (BST) can be a bit more involved than inserting a node because you need to ensure that the resulting tree maintains the BST property (all nodes in the left subtree are less than the node, and all nodes in the right subtree are greater than the node). There are three cases to consider when deleting a node:\n",
    "\n",
    "1. **Node with no children (leaf node)**: In this case, you can simply remove the node from the tree.\n",
    "\n",
    "2. **Node with one child**: If the node to be deleted has only one child, you can replace the node with its child.\n",
    "\n",
    "3. **Node with two children**: When the node to be deleted has two children, you need to find a suitable replacement node to maintain the BST property. There are two common approaches for this:\n",
    "\n",
    "    a. **In-order predecessor**: Find the maximum value node in the left subtree (the node with the largest value that is less than the node to be deleted). Replace the node to be deleted with this predecessor node, and then delete the predecessor node from its original position.\n",
    "\n",
    "    b. **In-order successor**: Find the minimum value node in the right subtree (the node with the smallest value that is greater than the node to be deleted). Replace the node to be deleted with this successor node, and then delete the successor node from its original position.\n",
    "\n",
    "Here's a step-by-step explanation of how to delete a node in a BST using the in-order predecessor approach:\n",
    "\n",
    "1. Start at the root and traverse the tree to find the node to be deleted.\n",
    "\n",
    "2. Once you find the node to be deleted, determine whether it falls into one of the three cases mentioned above.\n",
    "\n",
    "3. If it's a leaf node or a node with one child, you can remove it directly by updating the parent's pointer to the appropriate child.\n",
    "\n",
    "4. If it's a node with two children (the most complex case), find its in-order predecessor (the maximum value node in the left subtree).\n",
    "\n",
    "5. Replace the node to be deleted with the in-order predecessor's value.\n",
    "\n",
    "6. Recursively delete the in-order predecessor node (which is now a duplicate).\n",
    "\n",
    "Here's some Python-like pseudocode for the above steps:\n",
    "\n",
    "```python\n",
    "def delete_node(root, key):\n",
    "    if root is None:\n",
    "        return root  # Node not found in the tree\n",
    "\n",
    "    # Search for the node to be deleted\n",
    "    if key < root.value:\n",
    "        root.left = delete_node(root.left, key)\n",
    "    elif key > root.value:\n",
    "        root.right = delete_node(root.right, key)\n",
    "    else:  # Found the node to be deleted\n",
    "        if root.left is None:\n",
    "            return root.right  # Node with one child or no child\n",
    "        elif root.right is None:\n",
    "            return root.left  # Node with one child or no child\n",
    "\n",
    "        # Node with two children; find the in-order predecessor\n",
    "        root.value = find_max(root.left).value\n",
    "        root.left = delete_node(root.left, root.value)\n",
    "\n",
    "    return root\n",
    "\n",
    "def find_max(node):\n",
    "    while node.right is not None:\n",
    "        node = node.right\n",
    "    return node\n",
    "```\n",
    "\n",
    "This pseudocode demonstrates how to delete a node in a BST using the in-order predecessor approach. Remember to handle all three cases and update the tree's structure accordingly."
   ]
  },
  {
   "cell_type": "markdown",
   "id": "51e8bd53-939a-44d8-893d-d944a3b9537a",
   "metadata": {},
   "source": [
    "# plan:\n",
    "1. root == None\n",
    "2. root.data < data -> call delete on right side\n",
    "3. root.data > data -> call delete on left side\n",
    "4. root.data == data\n",
    "   1. root is leaf return None\n",
    "   2. root has one child return that child as new root\n",
    "   3. two children -> replace root with minimum of right side\n",
    "      1. delete minimum from right side"
   ]
  },
  {
   "cell_type": "code",
   "execution_count": 103,
   "id": "5230aadf-594b-4d0d-a85c-5a7d1e23cebb",
   "metadata": {},
   "outputs": [],
   "source": [
    "# Time Complexities:\n",
    "# Search: O(h)\n",
    "# insert : O(h)\n",
    "# delete : O(h)\n",
    "# k: find the node with data\n",
    "# h-k : finf the min of the right side\n",
    "# h-k : delete the min in the right side\n",
    "\n",
    "# the min of right side will not have left node\n",
    "\n",
    "# we always wish our bst to be balanced such that we can benifit of logn "
   ]
  },
  {
   "cell_type": "code",
   "execution_count": 104,
   "id": "755cef4e-8ec3-4b7a-87e3-c18a3e0eecb0",
   "metadata": {},
   "outputs": [],
   "source": [
    "# if you have time read about avl trees, red black trees\n",
    "# these are balanced binary search trees\n",
    "# to balance bst rotate to compensate: read this concept if possible"
   ]
  },
  {
   "cell_type": "code",
   "execution_count": null,
   "id": "34a82ae4-6807-4ac4-a211-b9696c4cf006",
   "metadata": {},
   "outputs": [],
   "source": []
  }
 ],
 "metadata": {
  "kernelspec": {
   "display_name": "Python 3 (ipykernel)",
   "language": "python",
   "name": "python3"
  },
  "language_info": {
   "codemirror_mode": {
    "name": "ipython",
    "version": 3
   },
   "file_extension": ".py",
   "mimetype": "text/x-python",
   "name": "python",
   "nbconvert_exporter": "python",
   "pygments_lexer": "ipython3",
   "version": "3.11.3"
  }
 },
 "nbformat": 4,
 "nbformat_minor": 5
}
