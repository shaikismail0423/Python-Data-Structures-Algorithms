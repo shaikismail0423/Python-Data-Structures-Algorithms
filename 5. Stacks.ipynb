{
 "cells": [
  {
   "cell_type": "markdown",
   "id": "54365cdd-0fa5-4167-95ca-5a77b0c11f18",
   "metadata": {},
   "source": [
    "## Stack"
   ]
  },
  {
   "cell_type": "markdown",
   "id": "ea42fd69-253f-426b-b550-9a48751d98e1",
   "metadata": {},
   "source": [
    "Lifo\n",
    "\n",
    "entry and exit point is same\n",
    "\n",
    "Stack -> Abstract Data type\n",
    "\n",
    "Push \n",
    "pop\n",
    "top\n",
    "\n",
    "\n",
    "Recursion Stack"
   ]
  },
  {
   "cell_type": "code",
   "execution_count": 28,
   "id": "04ec9361-e55b-4e89-8570-f92ea16bb7ce",
   "metadata": {},
   "outputs": [],
   "source": [
    "class Stack:\n",
    "    def __init__(self):\n",
    "        self.__data = []\n",
    "        \n",
    "    def push(self,data):\n",
    "        self.__data.append(data)\n",
    "        \n",
    "    def pop(self):\n",
    "        if self.isEmpty():\n",
    "            print(\"There are no Elements\")\n",
    "        else:\n",
    "            return self.__data.pop()\n",
    "        \n",
    "    def isEmpty(self):\n",
    "        return len(self.__data) == 0\n",
    "        \n",
    "    def top(self):\n",
    "        return self.__data[-1]\n",
    "        \n",
    "    def size(self):\n",
    "        return len(self.__data)\n",
    "        \n",
    "    # def "
   ]
  },
  {
   "cell_type": "code",
   "execution_count": 29,
   "id": "cefa1015-dc31-4b8e-9c30-1c49a6b2f6a6",
   "metadata": {},
   "outputs": [],
   "source": [
    "stack = Stack()\n",
    "stack.push(10)\n",
    "stack.push(20)\n",
    "stack.push(30)\n",
    "stack.push(40)"
   ]
  },
  {
   "cell_type": "code",
   "execution_count": 30,
   "id": "0ec6ba28-3905-4357-8c24-7ab0ec5aa93c",
   "metadata": {},
   "outputs": [
    {
     "name": "stdout",
     "output_type": "stream",
     "text": [
      "40\n",
      "30\n",
      "20\n",
      "10\n"
     ]
    }
   ],
   "source": [
    "while stack.isEmpty() is False:\n",
    "    print(stack.pop())"
   ]
  },
  {
   "cell_type": "code",
   "execution_count": 32,
   "id": "1ec58aa4-ce76-4c23-9d8b-b606ea0cf5ac",
   "metadata": {},
   "outputs": [
    {
     "data": {
      "text/plain": [
       "40"
      ]
     },
     "execution_count": 32,
     "metadata": {},
     "output_type": "execute_result"
    }
   ],
   "source": [
    "stack.top()"
   ]
  },
  {
   "cell_type": "code",
   "execution_count": 33,
   "id": "a027ad34-7c61-42cb-8da0-026d7d92e623",
   "metadata": {},
   "outputs": [
    {
     "data": {
      "text/plain": [
       "4"
      ]
     },
     "execution_count": 33,
     "metadata": {},
     "output_type": "execute_result"
    }
   ],
   "source": [
    "stack.size()"
   ]
  },
  {
   "cell_type": "code",
   "execution_count": 35,
   "id": "90aae333-494a-42b2-a031-99bdbe7f690a",
   "metadata": {},
   "outputs": [],
   "source": [
    "class Node:\n",
    "    def __init__(self,data):\n",
    "        self.data = data\n",
    "        self.next = None"
   ]
  },
  {
   "cell_type": "code",
   "execution_count": 58,
   "id": "9e5209fd-cc8d-45cc-a466-6a5fe5ef9f7c",
   "metadata": {},
   "outputs": [],
   "source": [
    "class Stack:\n",
    "    def __init__(self):\n",
    "        self.__head = None\n",
    "        self.__count = 0\n",
    "        \n",
    "    def push(self,data):\n",
    "        new_node = Node(data)\n",
    "        if self.__head is None:\n",
    "            self.__head = new_node\n",
    "        else:\n",
    "            new_node.next = self.__head\n",
    "            self.__head = new_node\n",
    "        self.__count+=1\n",
    "        \n",
    "    def pop(self):\n",
    "        if self.isEmpty():\n",
    "            print(\"There are no Elements\")\n",
    "        else:\n",
    "            node_data = self.__head.data\n",
    "            self.__head = self.__head.next\n",
    "            self.__count-=1\n",
    "            return node_data\n",
    "        \n",
    "    def isEmpty(self):\n",
    "        return self.__count == 0\n",
    "        \n",
    "    def top(self):\n",
    "        if self.isEmpty():\n",
    "            return -1\n",
    "        return self.__head.data\n",
    "        \n",
    "    def size(self):\n",
    "        return self.__count"
   ]
  },
  {
   "cell_type": "code",
   "execution_count": 53,
   "id": "0ac974d3-4113-483e-929b-b6fed4554689",
   "metadata": {},
   "outputs": [],
   "source": [
    "stack = Stack()\n",
    "stack.push(10)\n",
    "stack.push(20)\n",
    "stack.push(30)\n",
    "stack.push(40)"
   ]
  },
  {
   "cell_type": "code",
   "execution_count": 54,
   "id": "f0550c83-4997-4bc7-b99a-b54626a48142",
   "metadata": {},
   "outputs": [
    {
     "name": "stdout",
     "output_type": "stream",
     "text": [
      "40\n",
      "30\n",
      "20\n",
      "10\n"
     ]
    }
   ],
   "source": [
    "while stack.isEmpty() is False:\n",
    "    print(stack.pop())"
   ]
  },
  {
   "cell_type": "code",
   "execution_count": 55,
   "id": "ae21dc75-c76c-437c-950e-b4a2a08a897e",
   "metadata": {},
   "outputs": [
    {
     "data": {
      "text/plain": [
       "-1"
      ]
     },
     "execution_count": 55,
     "metadata": {},
     "output_type": "execute_result"
    }
   ],
   "source": [
    "stack.top()"
   ]
  },
  {
   "cell_type": "code",
   "execution_count": 56,
   "id": "88d41546-6fa0-46f4-a53d-52c841bf923f",
   "metadata": {},
   "outputs": [
    {
     "data": {
      "text/plain": [
       "0"
      ]
     },
     "execution_count": 56,
     "metadata": {},
     "output_type": "execute_result"
    }
   ],
   "source": [
    "stack.size()"
   ]
  },
  {
   "cell_type": "markdown",
   "id": "3debcbfb-8491-4339-9de2-da4db381895a",
   "metadata": {},
   "source": [
    "Inbuilt stack using arrays"
   ]
  },
  {
   "cell_type": "code",
   "execution_count": 59,
   "id": "80479932-a852-44ae-97c6-f21664299123",
   "metadata": {},
   "outputs": [
    {
     "name": "stdout",
     "output_type": "stream",
     "text": [
      "5\n",
      "4\n",
      "3\n",
      "2\n",
      "1\n"
     ]
    }
   ],
   "source": [
    "s = [1, 2, 3]\n",
    "s.append(4)\n",
    "s.append(5)\n",
    "\n",
    "while s:\n",
    "    print(s.pop()) "
   ]
  },
  {
   "cell_type": "code",
   "execution_count": 60,
   "id": "c0f6d560-c6a0-4241-9dc9-738e07c6fcb5",
   "metadata": {},
   "outputs": [],
   "source": [
    "# For queue dont use array, it can o(n) complexity for moving elements after deque"
   ]
  },
  {
   "cell_type": "markdown",
   "id": "e716fd90-b12b-40ac-bb49-776447489c1e",
   "metadata": {},
   "source": [
    "Inbuilt library queue in python, we have Queue class"
   ]
  },
  {
   "cell_type": "code",
   "execution_count": 62,
   "id": "38385c09-c17d-4ac9-b971-12cb9aa2b9e6",
   "metadata": {},
   "outputs": [
    {
     "name": "stdout",
     "output_type": "stream",
     "text": [
      "1\n",
      "2\n",
      "3\n",
      "4\n",
      "5\n"
     ]
    }
   ],
   "source": [
    "import queue\n",
    "\n",
    "q = queue.Queue()\n",
    "q.put(1)\n",
    "q.put(2)\n",
    "q.put(3)\n",
    "q.put(4)\n",
    "q.put(5)\n",
    "\n",
    "while not q.empty():\n",
    "    print(q.get())"
   ]
  },
  {
   "cell_type": "markdown",
   "id": "c45ded50-5858-458f-9617-749f5d2a06ce",
   "metadata": {},
   "source": [
    "queue libray for stack"
   ]
  },
  {
   "cell_type": "code",
   "execution_count": 64,
   "id": "143abb13-b193-40d3-bb7b-28b5429456a7",
   "metadata": {},
   "outputs": [
    {
     "name": "stdout",
     "output_type": "stream",
     "text": [
      "5\n",
      "4\n",
      "3\n",
      "2\n",
      "1\n"
     ]
    }
   ],
   "source": [
    "import queue\n",
    "\n",
    "q = queue.LifoQueue()\n",
    "q.put(1)\n",
    "q.put(2)\n",
    "q.put(3)\n",
    "q.put(4)\n",
    "q.put(5)\n",
    "\n",
    "while not q.empty():\n",
    "    print(q.get())"
   ]
  },
  {
   "cell_type": "markdown",
   "id": "5e4d1213-43dc-46e8-9ebf-2a49b0f60e87",
   "metadata": {},
   "source": [
    "Balanced Parenthesis\n",
    "\n",
    "Logic: whoever is coming at last should close first\n",
    "\n",
    "li = list(str)"
   ]
  },
  {
   "cell_type": "code",
   "execution_count": 10,
   "id": "9dfb5016-f161-429e-ba07-fe3dc6776fa6",
   "metadata": {},
   "outputs": [],
   "source": [
    "def isBalancedParenthesis(str):\n",
    "    s = []\n",
    "    for val in str:\n",
    "        if val in '([{':\n",
    "            s.append(val)\n",
    "        elif val == \"}\":\n",
    "            if not s or s.pop() != \"{\":\n",
    "                return False\n",
    "        elif val == \"]\":\n",
    "            if not s or s.pop() != \"[\":\n",
    "                return False\n",
    "        elif val == \")\":\n",
    "            if not s or  s.pop() != \"(\":\n",
    "                return False\n",
    "    if not s:\n",
    "        return True\n",
    "    else:\n",
    "        return False"
   ]
  },
  {
   "cell_type": "code",
   "execution_count": 12,
   "id": "fec46eb1-7914-4822-871e-28fcd7e69a33",
   "metadata": {},
   "outputs": [
    {
     "data": {
      "text/plain": [
       "False"
      ]
     },
     "execution_count": 12,
     "metadata": {},
     "output_type": "execute_result"
    }
   ],
   "source": [
    "isBalancedParenthesis(\"}\")"
   ]
  },
  {
   "cell_type": "markdown",
   "id": "b99843da-6f65-4c83-a8a5-cf109ed7c286",
   "metadata": {},
   "source": [
    "Reverse a Stack using another stack\n",
    "\n",
    "We can recursion stack \n",
    "1.We ask recusrion to do work on n-1 elements\n",
    "\n"
   ]
  },
  {
   "cell_type": "code",
   "execution_count": 17,
   "id": "977f0702-0031-4b4e-b0c3-a48c65f7a994",
   "metadata": {},
   "outputs": [],
   "source": [
    "def reverseStackUsingAnotherStack(s1,s2):\n",
    "    if len(s1) == 0 or len(s1) == 1:\n",
    "        return s1\n",
    "    top = s1.pop()\n",
    "    smallreversed = reverseStackUsingAnotherStack(s1,s2)\n",
    "    \n",
    "    while s1:\n",
    "        s2.append(s1.pop())\n",
    "    s1.append(top)\n",
    "    \n",
    "    while s2:\n",
    "        s1.append(s2.pop())\n",
    "    return s1   "
   ]
  },
  {
   "cell_type": "code",
   "execution_count": 18,
   "id": "2b21d3fe-e573-4440-a5d0-103d4cbb95ab",
   "metadata": {},
   "outputs": [
    {
     "name": "stdout",
     "output_type": "stream",
     "text": [
      "Stack 1 Before [1, 2, 3, 4]\n",
      "Stack 1 After reversing [4, 3, 2, 1]\n"
     ]
    }
   ],
   "source": [
    "s1 = [1,2,3,4]\n",
    "s2 = []\n",
    "print(\"Stack 1 Before\", s1)\n",
    "s1 = reverseStackUsingAnotherStack(s1,s2)\n",
    "print(\"Stack 1 After reversing\", s1)"
   ]
  },
  {
   "cell_type": "markdown",
   "id": "70a17304-32b3-4355-bea4-b9bdb0806e62",
   "metadata": {},
   "source": [
    "## Problems:\n",
    "1.Check Redundant Brackets\n",
    "\n",
    "(a+b)\n",
    "((a+b))\n",
    "\n",
    "(a+b+(c+d))\n",
    "\n",
    "2. Intitution:\n",
    "     push every character into a stack up to closing bracket.\n",
    "   count number of useful while popping towards the opening bracket"
   ]
  },
  {
   "cell_type": "code",
   "execution_count": 13,
   "id": "5a81e7b2-2abb-4eaf-930c-a9d008959b07",
   "metadata": {},
   "outputs": [],
   "source": [
    "def isRedundantBracketsAvailable(str):\n",
    "    s = []\n",
    "    for char in str:\n",
    "        if char == ')':\n",
    "            count = 0\n",
    "            while s and s[-1] != '(':\n",
    "                count+=1\n",
    "                s.pop()\n",
    "            if count == 0:\n",
    "                return True\n",
    "        else:\n",
    "            s.append(str)\n",
    "    return False"
   ]
  },
  {
   "cell_type": "code",
   "execution_count": 15,
   "id": "fed61a03-2edc-4bb0-99a0-bb14dc237027",
   "metadata": {},
   "outputs": [
    {
     "name": "stdout",
     "output_type": "stream",
     "text": [
      "False\n"
     ]
    }
   ],
   "source": [
    "print(isRedundantBracketsAvailable(\"(a+b)\"))"
   ]
  },
  {
   "cell_type": "markdown",
   "id": "0281dff4-c31e-4758-b2dc-1f3780e9ae21",
   "metadata": {},
   "source": [
    "## Stock Span\n",
    "\n",
    "for [5,3,8,7,10,7,7,12,16]\n",
    "is : [1,1,3,1,4,1,1,7,8]\n",
    "\n",
    "The consecutive days the price is best / price is dominated: Stock\n",
    "\n",
    "Intution 1:\n",
    "start from last unless until past >= curr: count++\n",
    "\n",
    "O(N^2)"
   ]
  },
  {
   "cell_type": "code",
   "execution_count": null,
   "id": "6ad25b09-9762-4eba-b6f1-b61eb091c214",
   "metadata": {},
   "outputs": [],
   "source": []
  }
 ],
 "metadata": {
  "kernelspec": {
   "display_name": "Python 3 (ipykernel)",
   "language": "python",
   "name": "python3"
  },
  "language_info": {
   "codemirror_mode": {
    "name": "ipython",
    "version": 3
   },
   "file_extension": ".py",
   "mimetype": "text/x-python",
   "name": "python",
   "nbconvert_exporter": "python",
   "pygments_lexer": "ipython3",
   "version": "3.11.3"
  }
 },
 "nbformat": 4,
 "nbformat_minor": 5
}
