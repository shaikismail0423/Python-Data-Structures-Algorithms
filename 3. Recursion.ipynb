{
 "cells": [
  {
   "cell_type": "markdown",
   "id": "1b5b1c6d-feb9-4c3b-9494-98df8cdbd2fe",
   "metadata": {},
   "source": [
    "# Recursion\n",
    "\n",
    "**3 Basic steps of Recursion**:\n",
    "\n",
    "1. Base Case: The initial condition that stops the recursion and provides a result.\n",
    "2. Induction Hypothesis: The assumption that the recursion works correctly for a smaller or simpler problem. \n",
    "3. Induction Step: The process of breaking down a problem into smaller instances and applying the recursion to solve them."
   ]
  },
  {
   "cell_type": "code",
   "execution_count": 1,
   "id": "73c3c97f-61c7-4329-b61c-f64a71da80d1",
   "metadata": {},
   "outputs": [],
   "source": [
    "def fact(n):\n",
    "    if n == 0:\n",
    "        return 1\n",
    "    return n*fact(n-1)"
   ]
  },
  {
   "cell_type": "code",
   "execution_count": 2,
   "id": "5e71292b-86be-46f9-b3b7-5f524ef0fd37",
   "metadata": {},
   "outputs": [
    {
     "name": "stdin",
     "output_type": "stream",
     "text": [
      " 5\n"
     ]
    },
    {
     "data": {
      "text/plain": [
       "120"
      ]
     },
     "execution_count": 2,
     "metadata": {},
     "output_type": "execute_result"
    }
   ],
   "source": [
    "n = int(input())\n",
    "fact(n)"
   ]
  },
  {
   "cell_type": "code",
   "execution_count": 3,
   "id": "e33adcd2-8f56-4a06-9659-7953894d7f20",
   "metadata": {},
   "outputs": [],
   "source": [
    "def Sum_n(n):\n",
    "    if n ==0:\n",
    "        return 0\n",
    "    smalloutput = Sum_n(n-1)\n",
    "    output = smalloutput + n\n",
    "    return output  "
   ]
  },
  {
   "cell_type": "code",
   "execution_count": 4,
   "id": "d53cc5fa-124b-4626-a7a7-5b344bde69da",
   "metadata": {},
   "outputs": [
    {
     "name": "stdin",
     "output_type": "stream",
     "text": [
      " 5\n"
     ]
    },
    {
     "data": {
      "text/plain": [
       "15"
      ]
     },
     "execution_count": 4,
     "metadata": {},
     "output_type": "execute_result"
    }
   ],
   "source": [
    "n = int(input())\n",
    "Sum_n(n)"
   ]
  },
  {
   "cell_type": "code",
   "execution_count": null,
   "id": "2dbf4a25-1ae3-464b-88a3-81372c38aac4",
   "metadata": {},
   "outputs": [],
   "source": [
    "# RecursionError: maximum recursion depth exceeded\n",
    "\n",
    "def func(num):\n",
    "    return func(num-1)\n",
    "num = 5\n",
    "ans = func(num-1)\n",
    "print(ans)"
   ]
  },
  {
   "cell_type": "markdown",
   "id": "020dc29b-21dd-4d8d-9304-81c006bc63f4",
   "metadata": {},
   "source": [
    "## Print numbers from 1 to n"
   ]
  },
  {
   "cell_type": "code",
   "execution_count": 5,
   "id": "9abdf12e-b346-4232-b131-ec3a2a0ba3a4",
   "metadata": {},
   "outputs": [],
   "source": [
    "def print_1_to_n(n):\n",
    "    if n == 0:\n",
    "        return 0\n",
    "    print_1_to_n(n-1)\n",
    "    print(n)"
   ]
  },
  {
   "cell_type": "code",
   "execution_count": 6,
   "id": "a7b17d8b-7edf-40ed-b589-75ec73394ab1",
   "metadata": {},
   "outputs": [
    {
     "name": "stdin",
     "output_type": "stream",
     "text": [
      " 10\n"
     ]
    },
    {
     "name": "stdout",
     "output_type": "stream",
     "text": [
      "1\n",
      "2\n",
      "3\n",
      "4\n",
      "5\n",
      "6\n",
      "7\n",
      "8\n",
      "9\n",
      "10\n"
     ]
    }
   ],
   "source": [
    "n = int(input())\n",
    "print_1_to_n(n)"
   ]
  },
  {
   "cell_type": "markdown",
   "id": "ae0296a2-4d49-4837-b964-dc29ee82415a",
   "metadata": {},
   "source": [
    "## My Approach\n",
    "### Dealing with Recursion\n",
    "1. Base case\n",
    "2. What i will caluculate \n",
    "3. what part recursion to calculate"
   ]
  },
  {
   "cell_type": "markdown",
   "id": "9e8eeb21-e2a7-4a5e-ba85-b2e100224f2e",
   "metadata": {},
   "source": [
    "## Print numbers from n to 1"
   ]
  },
  {
   "cell_type": "code",
   "execution_count": 7,
   "id": "1ac512c9-86e4-4647-94da-b3dc197b25b1",
   "metadata": {},
   "outputs": [],
   "source": [
    "def print_n_to_1(n):\n",
    "    if n == 0:\n",
    "        return 0\n",
    "    print(n)\n",
    "    print_1_to_n(n-1)"
   ]
  },
  {
   "cell_type": "code",
   "execution_count": 8,
   "id": "2f4cc869-e5be-4d07-ba6d-c32d23204e2d",
   "metadata": {},
   "outputs": [
    {
     "name": "stdin",
     "output_type": "stream",
     "text": [
      " 10\n"
     ]
    },
    {
     "name": "stdout",
     "output_type": "stream",
     "text": [
      "10\n",
      "1\n",
      "2\n",
      "3\n",
      "4\n",
      "5\n",
      "6\n",
      "7\n",
      "8\n",
      "9\n"
     ]
    }
   ],
   "source": [
    "n = int(input())\n",
    "print_n_to_1(n)"
   ]
  },
  {
   "cell_type": "code",
   "execution_count": 9,
   "id": "db2df3a3-a4e1-4466-9377-24c21eba4828",
   "metadata": {},
   "outputs": [
    {
     "name": "stdout",
     "output_type": "stream",
     "text": [
      "5 3 1 "
     ]
    }
   ],
   "source": [
    "#Predict the Output:\n",
    "\n",
    "def printNumbers(n):\n",
    "    if(n<0):\n",
    "        return\n",
    "    print(n,end=\" \")\n",
    "    printNumbers(n-2)\n",
    "num = 5\n",
    "printNumbers(num)"
   ]
  },
  {
   "cell_type": "markdown",
   "id": "2e463b72-79fb-42b3-a05d-76d6e057ae2d",
   "metadata": {},
   "source": [
    "## Fibonacci Number using Recursion:\n",
    "1. fib(n) = fib(n-1) + fib(n-2)\n",
    "2. Base case: fib(1) = 1"
   ]
  },
  {
   "cell_type": "code",
   "execution_count": 10,
   "id": "ddfc43ce-8597-4bfb-9f13-c38b63a0bfd0",
   "metadata": {},
   "outputs": [],
   "source": [
    "def fib(n):\n",
    "    if n == 1 or n==2:\n",
    "        return 1\n",
    "    return fib(n-1) + fib(n-2)"
   ]
  },
  {
   "cell_type": "code",
   "execution_count": 11,
   "id": "4a62f8a9-b17d-4bca-9925-b7de7fa31254",
   "metadata": {},
   "outputs": [
    {
     "name": "stdin",
     "output_type": "stream",
     "text": [
      " 10\n"
     ]
    },
    {
     "data": {
      "text/plain": [
       "55"
      ]
     },
     "execution_count": 11,
     "metadata": {},
     "output_type": "execute_result"
    }
   ],
   "source": [
    "n = int(input())\n",
    "fib(n)"
   ]
  },
  {
   "cell_type": "code",
   "execution_count": 12,
   "id": "c57b9cdf-906e-4d17-83b3-0aa4e474058c",
   "metadata": {},
   "outputs": [
    {
     "name": "stdout",
     "output_type": "stream",
     "text": [
      "16\n"
     ]
    }
   ],
   "source": [
    "#Predict the output:\n",
    "def fun(n):\n",
    "    if(n == 4):\n",
    "        return n\n",
    "    else:\n",
    "        return 2*fun(n+1)\n",
    "\n",
    "print(fun(2))"
   ]
  },
  {
   "cell_type": "code",
   "execution_count": 28,
   "id": "76890a89-4d26-4b0c-8435-e04ee3c357f2",
   "metadata": {},
   "outputs": [],
   "source": [
    "## Set the recusion limit using sys"
   ]
  },
  {
   "cell_type": "code",
   "execution_count": 13,
   "id": "01479769-24b4-4984-9586-8d215d32578e",
   "metadata": {},
   "outputs": [
    {
     "name": "stdout",
     "output_type": "stream",
     "text": [
      "Before changing, limit of stack = 3000\n",
      "After changing, limit of stack = 500\n"
     ]
    }
   ],
   "source": [
    "import sys \n",
    "\n",
    "print('Before changing, limit of stack =', sys.getrecursionlimit()) \n",
    "sys.setrecursionlimit(500) \n",
    "print('After changing, limit of stack =', sys.getrecursionlimit()) "
   ]
  },
  {
   "cell_type": "code",
   "execution_count": 14,
   "id": "db388a6d-723d-4ecc-888c-7c1edbaa7a2a",
   "metadata": {},
   "outputs": [],
   "source": [
    "sys.setrecursionlimit(3000) "
   ]
  },
  {
   "cell_type": "markdown",
   "id": "d93ac696-000e-47d1-b9bb-90e078c84ae5",
   "metadata": {},
   "source": [
    "## Check if list is sorted or not\n",
    "\n",
    "1. Base case: If my list is of size 0 or 1 then by default list is sorted (l==0,l==1 return true)\n",
    "\n",
    "2. Induction Hypothesis: List of size l-1 my function works \n",
    "\n",
    "3. Induction step: If the list is sorted then return true else return false( check [0]>[1] then check shorter list starting from 1 to n)"
   ]
  },
  {
   "cell_type": "code",
   "execution_count": 15,
   "id": "eed62588-1612-4726-910d-3565078240a3",
   "metadata": {},
   "outputs": [],
   "source": [
    "def is_sorted(li):\n",
    "    if len(li) == 0 or len(li) == 1:\n",
    "        return True\n",
    "    if li[0] > li[1]:\n",
    "        return False\n",
    "    return is_sorted(li[1:])"
   ]
  },
  {
   "cell_type": "code",
   "execution_count": 16,
   "id": "3a25e29e-d433-49dc-b07c-e99a5745b0e3",
   "metadata": {},
   "outputs": [
    {
     "data": {
      "text/plain": [
       "False"
      ]
     },
     "execution_count": 16,
     "metadata": {},
     "output_type": "execute_result"
    }
   ],
   "source": [
    "is_sorted([0,1,4,3])"
   ]
  },
  {
   "cell_type": "code",
   "execution_count": 18,
   "id": "69f9c158-ff3a-4b39-8a20-ed40565b4274",
   "metadata": {},
   "outputs": [
    {
     "name": "stdin",
     "output_type": "stream",
     "text": [
      " 1 2 4 3\n"
     ]
    },
    {
     "data": {
      "text/plain": [
       "False"
      ]
     },
     "execution_count": 18,
     "metadata": {},
     "output_type": "execute_result"
    }
   ],
   "source": [
    "list = input().split()\n",
    "is_sorted(list)"
   ]
  },
  {
   "cell_type": "markdown",
   "id": "4b57a43d-c681-40cd-852e-b790266dc24c",
   "metadata": {},
   "source": [
    "### Check if list is sorted or not (without making copy)"
   ]
  },
  {
   "cell_type": "code",
   "execution_count": 21,
   "id": "2891afa2-1f75-4365-80de-647e147526d3",
   "metadata": {},
   "outputs": [],
   "source": [
    "def is_sorted(li, start_index):\n",
    "    if len(li) - start_index == 0 or len(li) - start_index == 1:\n",
    "        return True\n",
    "    if li[start_index] > li[start_index + 1]:\n",
    "        return False\n",
    "    else:\n",
    "        return is_sorted(li,start_index+1)"
   ]
  },
  {
   "cell_type": "code",
   "execution_count": 22,
   "id": "83587d5f-297d-4137-9775-21110fb415b2",
   "metadata": {},
   "outputs": [
    {
     "data": {
      "text/plain": [
       "True"
      ]
     },
     "execution_count": 22,
     "metadata": {},
     "output_type": "execute_result"
    }
   ],
   "source": [
    "is_sorted([0,1,3,3],0)"
   ]
  },
  {
   "cell_type": "markdown",
   "id": "586cf280-60de-42c4-a118-6d1f348b7ca3",
   "metadata": {},
   "source": [
    "## Sum of elements in a array"
   ]
  },
  {
   "cell_type": "code",
   "execution_count": 1,
   "id": "21316e61-7215-44d4-b8f3-ec4d2f446b58",
   "metadata": {},
   "outputs": [
    {
     "name": "stdin",
     "output_type": "stream",
     "text": [
      " 5\n",
      " 1 2 3 4 5\n"
     ]
    },
    {
     "name": "stdout",
     "output_type": "stream",
     "text": [
      "15\n"
     ]
    }
   ],
   "source": [
    "def sumArray(arr): \n",
    "    if len(arr) == 0:\n",
    "        return 0\n",
    "    else:\n",
    "        return arr[0]+ sum(arr[1:])\n",
    "\n",
    "n=int(input())\n",
    "arr=list(int(i) for i in input().strip().split(' '))\n",
    "print(sumArray(arr))"
   ]
  },
  {
   "cell_type": "code",
   "execution_count": 2,
   "id": "379a7cf4-a411-4b21-8fd2-336c31e3de18",
   "metadata": {},
   "outputs": [
    {
     "name": "stdin",
     "output_type": "stream",
     "text": [
      " 5\n",
      " 1 2 3 4 5\n"
     ]
    },
    {
     "name": "stdout",
     "output_type": "stream",
     "text": [
      "15\n"
     ]
    }
   ],
   "source": [
    "def sumArray(arr, start_index): \n",
    "    if len(arr) == start_index:\n",
    "        return 0\n",
    "    return arr[start_index] + sumArray(arr, start_index + 1)\n",
    "\n",
    "n=int(input())\n",
    "arr=list(int(i) for i in input().strip().split(' '))\n",
    "print(sumArray(arr,0))"
   ]
  },
  {
   "cell_type": "markdown",
   "id": "670594fa-20e2-4ef6-8508-98ebb04cb874",
   "metadata": {},
   "source": [
    "## Check a number in an array or not"
   ]
  },
  {
   "cell_type": "code",
   "execution_count": 3,
   "id": "645ea5d0-3525-4bb5-8a77-855f1bc5790f",
   "metadata": {},
   "outputs": [],
   "source": [
    "def check_number(li, start_index, number):\n",
    "    if len(li) == start_index:\n",
    "        return False\n",
    "    if li[start_index] == number:\n",
    "        return True\n",
    "    else:\n",
    "        return check_number(li, start_index+1, number)"
   ]
  },
  {
   "cell_type": "code",
   "execution_count": 4,
   "id": "ac9f6069-5115-40ae-9c73-795bcd245c42",
   "metadata": {},
   "outputs": [
    {
     "name": "stdin",
     "output_type": "stream",
     "text": [
      " 5\n",
      " 1 2 3 4 5\n"
     ]
    },
    {
     "name": "stdout",
     "output_type": "stream",
     "text": [
      "True\n"
     ]
    }
   ],
   "source": [
    "n=int(input())\n",
    "\n",
    "arr=list(int(i) for i in input().strip().split(' '))\n",
    "# strip() Removes whitespaces from the beginning or end of a string\n",
    "print(check_number(arr,0,5))"
   ]
  },
  {
   "cell_type": "markdown",
   "id": "f32af889-cf34-4093-a3c2-b04a74ec5741",
   "metadata": {},
   "source": [
    "## Return the index of first occurence of a number in a list"
   ]
  },
  {
   "cell_type": "code",
   "execution_count": 5,
   "id": "3433566f-59bc-4414-8b67-6907c6d42299",
   "metadata": {},
   "outputs": [
    {
     "name": "stdin",
     "output_type": "stream",
     "text": [
      " 5\n",
      " 1 2 54 3 54\n"
     ]
    },
    {
     "name": "stdout",
     "output_type": "stream",
     "text": [
      "2\n"
     ]
    }
   ],
   "source": [
    "def first_occurence_without_copy(li, n, start_index):\n",
    "    if len(li) == start_index:\n",
    "        return -1\n",
    "    if li[start_index] == n:\n",
    "        return start_index\n",
    "    else:\n",
    "        return first_occurence_without_copy(li,n,start_index+1)\n",
    "\n",
    "n = int(input())\n",
    "\n",
    "arr = [int(i) for i in input().strip().split()]\n",
    "\n",
    "print(first_occurence_without_copy(arr, 54, 0))"
   ]
  },
  {
   "cell_type": "code",
   "execution_count": 6,
   "id": "3c8021c2-89ce-4b35-ac32-d742838a5806",
   "metadata": {},
   "outputs": [
    {
     "name": "stdin",
     "output_type": "stream",
     "text": [
      " 5\n",
      " 1 2 3 54 2\n"
     ]
    },
    {
     "name": "stdout",
     "output_type": "stream",
     "text": [
      "3\n"
     ]
    }
   ],
   "source": [
    "def first_occurence(li, n):\n",
    "    if len(li) == 0:\n",
    "        return -1\n",
    "    if li[0] == n:\n",
    "        return 0\n",
    "    smaller_list_output = first_occurence(li[1:],n)\n",
    "    if smaller_list_output == -1:\n",
    "        return -1\n",
    "    else:\n",
    "        return smaller_list_output + 1 \n",
    "\n",
    "n = int(input())\n",
    "\n",
    "arr = [int(i) for i in input().strip().split()]\n",
    "\n",
    "print(first_occurence(arr, 54))"
   ]
  },
  {
   "cell_type": "markdown",
   "id": "22831bb4-160b-4fc4-98ef-0c429cc57fd9",
   "metadata": {},
   "source": [
    "## Return the index of last occurence of a number in a list\n",
    "\n",
    "1. Base Case: l==0 return -1\n",
    "2. First call search on saller list\n",
    "is small list output is -1,then check the present index"
   ]
  },
  {
   "cell_type": "code",
   "execution_count": 7,
   "id": "3e210549-8b81-4fdb-9a12-b51e0a7eca6b",
   "metadata": {},
   "outputs": [
    {
     "name": "stdin",
     "output_type": "stream",
     "text": [
      " 5\n",
      " 1 2 5 4 5\n",
      " 5\n"
     ]
    },
    {
     "name": "stdout",
     "output_type": "stream",
     "text": [
      "4\n"
     ]
    }
   ],
   "source": [
    "from sys import setrecursionlimit\n",
    "setrecursionlimit(11000)\n",
    "\n",
    "def lastindex(arr,x):\n",
    "    if len(arr) == 0:\n",
    "        return -1\n",
    "    smallerlistoutput = lastindex(arr[1:],x)\n",
    "    if smallerlistoutput != -1:\n",
    "        return smallerlistoutput + 1\n",
    "    else:\n",
    "        if arr[0] == x:\n",
    "            return 0\n",
    "        else:\n",
    "            return -1\n",
    "\n",
    "n=int(input())\n",
    "arr=list(int(i) for i in input().strip().split(' '))\n",
    "\n",
    "x=int(input())\n",
    "print(lastindex(arr, x))"
   ]
  },
  {
   "cell_type": "code",
   "execution_count": 9,
   "id": "c0d313d6-ade2-47d4-b7a1-451510e47599",
   "metadata": {},
   "outputs": [],
   "source": [
    "# Using starting index\n",
    "\n",
    "def lastIndexBetter(arr, si, x):\n",
    "    l = len(arr)\n",
    "    if si == l:\n",
    "        return -1\n",
    "    smallerListOutput = lastIndexBetter(arr, si+1, x)\n",
    "    if smallerListOutput != -1:\n",
    "        return smallerListOutput \n",
    "    else:\n",
    "        if arr[si] == x:\n",
    "            return si\n",
    "        else:\n",
    "            return -1"
   ]
  },
  {
   "cell_type": "markdown",
   "id": "38577ea8-ed9f-4be4-89b2-25b65832dcc8",
   "metadata": {},
   "source": [
    "## Recursion with Strings"
   ]
  },
  {
   "cell_type": "markdown",
   "id": "aae1f52d-3086-4e38-875c-4f9144055573",
   "metadata": {},
   "source": [
    "**Replace a character with another character**\n",
    "1. Base Case: len = 0\n",
    "2. our function can do this more l-1 sized strings\n",
    "\n",
    "Strings are immutable, new strings are created in the process"
   ]
  },
  {
   "cell_type": "code",
   "execution_count": 10,
   "id": "10fb4bcc-9d57-4dc8-b821-d87923996717",
   "metadata": {},
   "outputs": [],
   "source": [
    "def replaceChar(s,a,b):\n",
    "    if len(s) == 0:\n",
    "        return s\n",
    "    smallerOutput = replaceChar(s[1:], a, b)\n",
    "    firstChar = b if s[0] == a else s[0]\n",
    "    return firstChar + smallerOutput"
   ]
  },
  {
   "cell_type": "code",
   "execution_count": 11,
   "id": "6a479b3b-350a-4882-92d4-e4ef00b44149",
   "metadata": {},
   "outputs": [
    {
     "data": {
      "text/plain": [
       "'ismbil'"
      ]
     },
     "execution_count": 11,
     "metadata": {},
     "output_type": "execute_result"
    }
   ],
   "source": [
    "replaceChar(\"ismail\",\"a\",\"b\")"
   ]
  },
  {
   "cell_type": "markdown",
   "id": "71115b35-0e0c-47cc-8baf-1e7278fbdc73",
   "metadata": {},
   "source": [
    "**Remove x**"
   ]
  },
  {
   "cell_type": "code",
   "execution_count": 14,
   "id": "52aa59fb-6330-4576-8c50-c85a9e7a7ca0",
   "metadata": {},
   "outputs": [],
   "source": [
    "def removeChar(s,ch):\n",
    "    if len(s) == 0:\n",
    "        return s\n",
    "    smallerOutput = removeChar(s[1:], ch)\n",
    "    firstChar = \"\" if s[0] == ch else s[0]\n",
    "    return firstChar + smallerOutput"
   ]
  },
  {
   "cell_type": "code",
   "execution_count": 15,
   "id": "8894555f-a94e-457c-bcb9-2edb50f8afd4",
   "metadata": {},
   "outputs": [
    {
     "data": {
      "text/plain": [
       "'abccv'"
      ]
     },
     "execution_count": 15,
     "metadata": {},
     "output_type": "execute_result"
    }
   ],
   "source": [
    "removeChar(\"abcxxxcxvx\",\"x\")"
   ]
  },
  {
   "cell_type": "markdown",
   "id": "252018d4-fcc9-4267-8d3d-f7270ae87d47",
   "metadata": {},
   "source": [
    "**Replace pi with 3.14**"
   ]
  },
  {
   "cell_type": "code",
   "execution_count": 16,
   "id": "d4d792a5-b422-4c05-885a-993b4e735e25",
   "metadata": {},
   "outputs": [],
   "source": [
    "def replacePI(s):\n",
    "    if len(s) == 0 or len(s) == 1:\n",
    "        return s\n",
    "    if s[:2] == \"pi\":\n",
    "        return \"3.14\" + replacePI(s[2:])\n",
    "    else:\n",
    "        return s[0] + replacePI(s[1:])"
   ]
  },
  {
   "cell_type": "code",
   "execution_count": 17,
   "id": "86ab79e3-f637-417f-b462-0bdcfbe4e3cd",
   "metadata": {},
   "outputs": [
    {
     "data": {
      "text/plain": [
       "'3.14of3.14is3.14'"
      ]
     },
     "execution_count": 17,
     "metadata": {},
     "output_type": "execute_result"
    }
   ],
   "source": [
    "replacePI(\"piofpiispi\")"
   ]
  },
  {
   "cell_type": "markdown",
   "id": "e99c1aa7-8280-43f5-91c0-a917cbf3df7c",
   "metadata": {},
   "source": [
    "## Binary Search\n",
    "\n",
    "1. List must be sorted"
   ]
  },
  {
   "cell_type": "code",
   "execution_count": 26,
   "id": "b1232fa6-b636-4e39-ba61-a7f3c115a42a",
   "metadata": {},
   "outputs": [],
   "source": [
    "def binary_search(arr, num):\n",
    "    start = 0\n",
    "    end = len(arr) - 1\n",
    "    while(start <= end):\n",
    "        mid = (start + end) // 2\n",
    "        if arr[mid] == num:\n",
    "            return mid\n",
    "        elif arr[mid] > num:\n",
    "            end= mid -1\n",
    "        else:\n",
    "            start = mid+1\n",
    "    return -1"
   ]
  },
  {
   "cell_type": "code",
   "execution_count": 27,
   "id": "efdd8241-baf2-4573-ac8d-4a15a04a1eb5",
   "metadata": {},
   "outputs": [
    {
     "data": {
      "text/plain": [
       "5"
      ]
     },
     "execution_count": 27,
     "metadata": {},
     "output_type": "execute_result"
    }
   ],
   "source": [
    "binary_search([1,2,3,4,5,6],6)"
   ]
  },
  {
   "cell_type": "markdown",
   "id": "bc14b91e-8d85-4f6f-95ed-c949dcb7402a",
   "metadata": {},
   "source": [
    "## Binary Search Recursive"
   ]
  },
  {
   "cell_type": "code",
   "execution_count": 46,
   "id": "a346a909-0e66-4297-a6a2-793e97bdacf8",
   "metadata": {},
   "outputs": [],
   "source": [
    "def binary_search_recursive(arr, num, start, end):\n",
    "    if start > end:\n",
    "        return -1\n",
    "    mid = (start + end) // 2 \n",
    "    if arr[mid] == num:\n",
    "        return mid\n",
    "    elif num < arr[mid]:\n",
    "        return binary_search_recursive(arr, num, start, mid - 1)\n",
    "    else:\n",
    "        return binary_search_recursive(arr, num, mid + 1, end)"
   ]
  },
  {
   "cell_type": "code",
   "execution_count": 48,
   "id": "9400fe5e-7cb8-4a8e-8808-13c6f6ff91b2",
   "metadata": {},
   "outputs": [
    {
     "name": "stdout",
     "output_type": "stream",
     "text": [
      "Element 12 found at index 5\n"
     ]
    }
   ],
   "source": [
    "result = binary_search_recursive([2, 4, 6, 8, 10, 12, 14], 12, 0, 6)\n",
    "\n",
    "if result != -1:\n",
    "    print(f\"Element {num} found at index {result}\")\n",
    "else:\n",
    "    print(f\"Element {num} not found\")"
   ]
  },
  {
   "attachments": {},
   "cell_type": "markdown",
   "id": "80277eb9-7e53-410f-ad63-26644e1a6d01",
   "metadata": {},
   "source": [
    "## Merge Sort Recursive\n",
    "\n",
    "One of the Fastest sorting algorithm, O(nlogn)\n",
    "\n",
    "1. divide the list into 2 parts, sort first, sort second\n",
    "2. merge both "
   ]
  },
  {
   "cell_type": "code",
   "execution_count": 7,
   "id": "8ca4f153-e326-4ed8-b691-957f168598ef",
   "metadata": {},
   "outputs": [],
   "source": [
    "def mergeinto1(l1, l2, l):\n",
    "    i = 0\n",
    "    j = 0\n",
    "    k = 0\n",
    "    \n",
    "    while i < len(l1) and j < len(l2):\n",
    "        if l1[i] <= l2[j]:\n",
    "            l[k] = l1[i]\n",
    "            i += 1\n",
    "        else:\n",
    "            l[k] = l2[j]\n",
    "            j += 1\n",
    "        k += 1\n",
    "    while i < len(l1):\n",
    "        l[k] = l1[i]\n",
    "        i += 1\n",
    "        k += 1\n",
    "    while j < len(l2):\n",
    "        l[k] = l2[j]\n",
    "        j += 1\n",
    "        k += 1\n",
    "    return l"
   ]
  },
  {
   "cell_type": "code",
   "execution_count": 8,
   "id": "a63513ad-4785-4e8e-856d-fbd58542fb99",
   "metadata": {},
   "outputs": [],
   "source": [
    "def mergeSort(l):\n",
    "    if len(l) == 0 or len(l) == 1:\n",
    "        return l\n",
    "    mid = len(l)//2\n",
    "    l1 = mergeSort(l[:mid])\n",
    "    l2 = mergeSort(l[mid:])\n",
    "    return mergeinto1(l1,l2,l)"
   ]
  },
  {
   "cell_type": "code",
   "execution_count": 12,
   "id": "b755f551-445c-405e-973f-99a543fa1e50",
   "metadata": {},
   "outputs": [
    {
     "data": {
      "text/plain": [
       "[1, 2, 3, 4, 6, 7, 8, 8, 9, 103]"
      ]
     },
     "execution_count": 12,
     "metadata": {},
     "output_type": "execute_result"
    }
   ],
   "source": [
    "mergeSort([1,9,2,8,8,3,7,4,6,103])"
   ]
  },
  {
   "cell_type": "markdown",
   "id": "28516c78-2d11-426a-9e94-fa6b12311a73",
   "metadata": {},
   "source": [
    "## QUICK SORT\n",
    "1. Take one number and keep it to its right place\n",
    "2. quick sort on left half and quick sort on rightplace\n",
    "3. No need to create copies\n",
    "4. partition\n",
    "5. i = partition(a)\n",
    "6. QS(a, s, i)\n",
    "7. QS(a,i+1,e)\n",
    "8. Base case : len = 0 and len = 1\n",
    "9. partition index is no of elements < the pivot element"
   ]
  },
  {
   "cell_type": "code",
   "execution_count": 19,
   "id": "87c69d5a-211b-477f-9949-ad4afbce0c4a",
   "metadata": {},
   "outputs": [],
   "source": [
    "def partition(a, si, ei):\n",
    "    pivot = a[si]\n",
    "    #find number of elements smaller than pivot    \n",
    "    count = 0\n",
    "    \n",
    "    for i in range(si, ei+1):\n",
    "        if a[i] < pivot:\n",
    "            count = count + 1\n",
    "    \n",
    "    a[si+count], a[si] = a[si], a[si+count]\n",
    "    \n",
    "    pivot_index = si + count\n",
    "    \n",
    "    i = si\n",
    "    j = ei\n",
    "\n",
    "    while i < j:\n",
    "      if a[i] < pivot:\n",
    "        i = i + 1\n",
    "      elif a[j] >= pivot:\n",
    "        j = j - 1\n",
    "      else:\n",
    "        a[i], a[j] = a[j], a[i]\n",
    "        i = i + 1\n",
    "        j = j - 1\n",
    "        \n",
    "    return pivot_index"
   ]
  },
  {
   "cell_type": "code",
   "execution_count": 20,
   "id": "3ade7188-7e06-4977-826c-361e75c8a252",
   "metadata": {},
   "outputs": [],
   "source": [
    "def quick_sort(a, si, ei):\n",
    "    if si >= ei:\n",
    "        return \n",
    "    \n",
    "    pivot_index = partition(a, si, ei)\n",
    "    quick_sort(a, si, pivot_index-1)\n",
    "    quick_sort(a, pivot_index+1, ei)"
   ]
  },
  {
   "cell_type": "code",
   "execution_count": 21,
   "id": "6decec44-5bf1-4c90-9361-4f2ca6d7be1c",
   "metadata": {},
   "outputs": [
    {
     "data": {
      "text/plain": [
       "[1, 2, 3, 4, 5, 7, 8, 9, 10]"
      ]
     },
     "execution_count": 21,
     "metadata": {},
     "output_type": "execute_result"
    }
   ],
   "source": [
    "a = [10,9,8,7,1,3,5,4,2]\n",
    "quick_sort(a, 0, len(a)-1)\n",
    "a"
   ]
  },
  {
   "cell_type": "markdown",
   "id": "09ca6bd6-8423-449c-bebf-55f60b20f9f5",
   "metadata": {},
   "source": [
    "## Tower of Hanoi\n",
    "1. 3 poles (source, auxillary, destination)\n",
    "2. n disks on source to destination with same order\n",
    "\n",
    "Rules:\n",
    "1. Can move only 1 disk at a time\n",
    "2. Always place smaller disk on larger disk\n",
    "\n",
    "PMI:\n",
    "1. if one disk: then move from source to destination"
   ]
  },
  {
   "cell_type": "code",
   "execution_count": 36,
   "id": "6754f3ca-f1d8-4c02-bf7b-a86bf0e085ea",
   "metadata": {},
   "outputs": [
    {
     "name": "stdin",
     "output_type": "stream",
     "text": [
      " 3\n"
     ]
    },
    {
     "name": "stdout",
     "output_type": "stream",
     "text": [
      "move 1st disk from  a  to  c\n",
      "move  2 th disk from  a  to  b\n",
      "move 1st disk from  c  to  b\n",
      "move  3 th disk from  a  to  c\n",
      "move 1st disk from  b  to  a\n",
      "move  2 th disk from  b  to  c\n",
      "move 1st disk from  a  to  c\n"
     ]
    }
   ],
   "source": [
    "def tower_of_hanoi(n, source, aux, dest):\n",
    "    if n == 1:\n",
    "        print(\"move 1st disk from \", source, \" to \", dest)\n",
    "        return\n",
    "    tower_of_hanoi(n-1, source, dest, aux)\n",
    "    print(\"move \", n, \"th disk from \", source, \" to \", dest)\n",
    "    tower_of_hanoi(n-1, aux, source, dest)\n",
    "    \n",
    "n=int(input())\n",
    "tower_of_hanoi(n, 'a', 'b', 'c')"
   ]
  },
  {
   "cell_type": "markdown",
   "id": "01e89d79-0cae-4580-834e-542c281b049c",
   "metadata": {},
   "source": [
    "## Geometric Sum\n",
    "1 + 1/2 + 1/2^2 .....1/2^k"
   ]
  },
  {
   "cell_type": "code",
   "execution_count": 39,
   "id": "97ceeecf-90c8-4d5b-86f0-f5109153ca88",
   "metadata": {},
   "outputs": [],
   "source": [
    "def Gsum(k):\n",
    "    if k == 0:\n",
    "        return 1\n",
    "    return (1 / 2**k) + Gsum(k-1)"
   ]
  },
  {
   "cell_type": "code",
   "execution_count": 44,
   "id": "6187e493-df39-4223-80bf-2ee6fec36be1",
   "metadata": {},
   "outputs": [
    {
     "data": {
      "text/plain": [
       "1.9990234375"
      ]
     },
     "execution_count": 44,
     "metadata": {},
     "output_type": "execute_result"
    }
   ],
   "source": [
    "Gsum(10)"
   ]
  },
  {
   "cell_type": "markdown",
   "id": "a2a43a0e-b339-49bf-b428-ac6b9517bce0",
   "metadata": {},
   "source": [
    "## Check Palindrome recursive"
   ]
  },
  {
   "cell_type": "code",
   "execution_count": 51,
   "id": "6bcf02eb-2e59-4be5-bc8e-5f840f9291d4",
   "metadata": {},
   "outputs": [],
   "source": [
    "def isPaindrome(s):\n",
    "    if len(s) <= 1:\n",
    "        return True\n",
    "    if s[0] == s[len(s)-1]:\n",
    "        return isPaindrome(s[1:-1])\n",
    "    else:\n",
    "        return False"
   ]
  },
  {
   "cell_type": "code",
   "execution_count": 52,
   "id": "905251a7-5c3f-46dd-8490-104115d58f08",
   "metadata": {},
   "outputs": [
    {
     "data": {
      "text/plain": [
       "True"
      ]
     },
     "execution_count": 52,
     "metadata": {},
     "output_type": "execute_result"
    }
   ],
   "source": [
    "isPaindrome(\"malayalam\")"
   ]
  },
  {
   "cell_type": "markdown",
   "id": "d3022edd-2dcc-4725-8b44-d2026fc5ca3c",
   "metadata": {},
   "source": [
    "## Multiplication with *, only use +,- using recursion"
   ]
  },
  {
   "cell_type": "code",
   "execution_count": 53,
   "id": "ea13b516-a146-4e63-8e45-5b7a5b6cfb8c",
   "metadata": {},
   "outputs": [],
   "source": [
    "def mul_with_recursion(m,n):\n",
    "    if n == 1:\n",
    "        return m\n",
    "    return m + mul_with_recursion(m,n-1)"
   ]
  },
  {
   "cell_type": "code",
   "execution_count": 55,
   "id": "265f92b5-aa2a-410e-82a5-d0c887e7c063",
   "metadata": {},
   "outputs": [
    {
     "data": {
      "text/plain": [
       "48"
      ]
     },
     "execution_count": 55,
     "metadata": {},
     "output_type": "execute_result"
    }
   ],
   "source": [
    "mul_with_recursion(12,4)"
   ]
  },
  {
   "cell_type": "markdown",
   "id": "40884e3b-b33c-41be-8f67-b665261f019f",
   "metadata": {},
   "source": [
    "## Sum of digits in a array"
   ]
  },
  {
   "cell_type": "code",
   "execution_count": 56,
   "id": "5ac4c86a-f6cb-47cd-a8a9-eac14d8ef8df",
   "metadata": {},
   "outputs": [],
   "source": [
    "def sum_array(arr):\n",
    "    if len(arr) == 0:\n",
    "        return 0\n",
    "    return arr[0] + sum_array(arr[1:])"
   ]
  },
  {
   "cell_type": "code",
   "execution_count": 57,
   "id": "73818379-cce6-4e6c-8493-c7855e58fe6d",
   "metadata": {},
   "outputs": [
    {
     "data": {
      "text/plain": [
       "15"
      ]
     },
     "execution_count": 57,
     "metadata": {},
     "output_type": "execute_result"
    }
   ],
   "source": [
    "sum_array([1,2,3,4,5])"
   ]
  },
  {
   "cell_type": "markdown",
   "id": "fbaf436d-5aaf-4103-8706-754fab6729c9",
   "metadata": {},
   "source": [
    "## Count no of zeroes in number"
   ]
  },
  {
   "cell_type": "code",
   "execution_count": 63,
   "id": "ac0b16a7-2fb5-4a76-8497-26ed69f8d7fd",
   "metadata": {},
   "outputs": [],
   "source": [
    "def countzeroes(num):\n",
    "    if num == 0:\n",
    "        return 1\n",
    "    last_digit = num % 10\n",
    "    if last_digit == 0:\n",
    "        return 1 + countzeroes(num//10)\n",
    "    else:\n",
    "        return countzeroes(num//10)"
   ]
  },
  {
   "cell_type": "code",
   "execution_count": 64,
   "id": "bfbd48be-d45b-4dfe-84c5-ff5beffdbad4",
   "metadata": {},
   "outputs": [
    {
     "data": {
      "text/plain": [
       "1"
      ]
     },
     "execution_count": 64,
     "metadata": {},
     "output_type": "execute_result"
    }
   ],
   "source": [
    "countzeroes(0)"
   ]
  },
  {
   "cell_type": "markdown",
   "id": "18b19d61-8d17-4e94-b041-215d72b4024f",
   "metadata": {},
   "source": [
    "## String to Integer\n",
    "\n",
    "1. ASCII value of '0' is 48\n",
    "2. ASCII value of '1' is 49"
   ]
  },
  {
   "cell_type": "code",
   "execution_count": 68,
   "id": "adfef477-4d0a-4373-a649-8afc4b7a37d8",
   "metadata": {},
   "outputs": [],
   "source": [
    "def string_to_integer(str):\n",
    "    if len(str) == 0:\n",
    "        return 0\n",
    "    return (string_to_integer(str[:-1])* 10) + ord(str[-1]) -48"
   ]
  },
  {
   "cell_type": "code",
   "execution_count": 69,
   "id": "b251cdc8-74c8-4614-9ec0-76ac830654f8",
   "metadata": {},
   "outputs": [
    {
     "data": {
      "text/plain": [
       "12345"
      ]
     },
     "execution_count": 69,
     "metadata": {},
     "output_type": "execute_result"
    }
   ],
   "source": [
    "string_to_integer(\"12345\")"
   ]
  },
  {
   "cell_type": "code",
   "execution_count": 70,
   "id": "a0ebfe01-543c-4225-a3ae-fad7ea076cde",
   "metadata": {},
   "outputs": [],
   "source": [
    "def string_to_integer(str):\n",
    "    if len(str) == 0:\n",
    "        return 0\n",
    "    return (string_to_integer(str[:-1])* 10) + int(str[-1])"
   ]
  },
  {
   "cell_type": "code",
   "execution_count": 75,
   "id": "4e7bfaf2-d339-4608-bf93-f48a5fa5f799",
   "metadata": {},
   "outputs": [],
   "source": [
    "def string_to_integer(str):\n",
    "    if len(str) == 0:\n",
    "        return 0\n",
    "    return int(str[0])* (10**(len(str)-1)) + (string_to_integer(str[1:]) )"
   ]
  },
  {
   "cell_type": "code",
   "execution_count": 76,
   "id": "1fe993c5-7fb9-4084-b8a4-1c99bc565e41",
   "metadata": {},
   "outputs": [
    {
     "data": {
      "text/plain": [
       "12345"
      ]
     },
     "execution_count": 76,
     "metadata": {},
     "output_type": "execute_result"
    }
   ],
   "source": [
    "string_to_integer(\"12345\")"
   ]
  },
  {
   "cell_type": "markdown",
   "id": "560822d2-6437-4990-a049-f0a990aa714c",
   "metadata": {},
   "source": [
    "## Stair Case\n",
    "3 possible ways child\n",
    "1. 1 step\n",
    "2. 2 steps\n",
    "3. 3 steps"
   ]
  },
  {
   "cell_type": "code",
   "execution_count": 77,
   "id": "8c0231db-8da5-4705-a9cf-f837c7c964c7",
   "metadata": {},
   "outputs": [
    {
     "name": "stdin",
     "output_type": "stream",
     "text": [
      "Enter the number of steps:  10\n"
     ]
    },
    {
     "name": "stdout",
     "output_type": "stream",
     "text": [
      "Number of possible ways: 274\n"
     ]
    }
   ],
   "source": [
    "def countWays(n):\n",
    "    if n <= 0:\n",
    "        return 0\n",
    "    if n == 1:\n",
    "        return 1\n",
    "    if n == 2:\n",
    "        return 2\n",
    "    if n == 3:\n",
    "        return 4\n",
    "    \n",
    "    return countWays(n - 1) + countWays(n - 2) + countWays(n - 3)\n",
    "\n",
    "# Test the countWays function\n",
    "n = int(input(\"Enter the number of steps: \"))\n",
    "ways = countWays(n)\n",
    "print(\"Number of possible ways:\", ways)"
   ]
  },
  {
   "cell_type": "code",
   "execution_count": null,
   "id": "a7070974-5df4-41a6-b29e-6560b072d566",
   "metadata": {},
   "outputs": [],
   "source": []
  }
 ],
 "metadata": {
  "kernelspec": {
   "display_name": "Python 3 (ipykernel)",
   "language": "python",
   "name": "python3"
  },
  "language_info": {
   "codemirror_mode": {
    "name": "ipython",
    "version": 3
   },
   "file_extension": ".py",
   "mimetype": "text/x-python",
   "name": "python",
   "nbconvert_exporter": "python",
   "pygments_lexer": "ipython3",
   "version": "3.11.3"
  }
 },
 "nbformat": 4,
 "nbformat_minor": 5
}
