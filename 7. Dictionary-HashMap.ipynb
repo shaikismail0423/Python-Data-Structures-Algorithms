{
 "cells": [
  {
   "cell_type": "markdown",
   "id": "61583b7b-92c2-4772-82ae-9f353f699034",
   "metadata": {},
   "source": [
    "# Dictionary\n",
    "- In Python, a dictionary is a data structure that stores a collection of key-value pairs.\n",
    "- It is also known as an associative array or a hash map in other programming languages.\n",
    "- Dictionaries are unordered, mutable, and indexed by unique keys.\n",
    "\n",
    "Here's the basic syntax of a dictionary:\n",
    "\n",
    "```python\n",
    "my_dict = {\n",
    "    key1: value1,\n",
    "    key2: value2,\n",
    "    ...\n",
    "}\n",
    "```\n",
    "\n",
    "- `key1`, `key2`, ...: Unique keys used to access the corresponding values.\n",
    "- `value1`, `value2`, ...: Values associated wi related data.\n",
    "m\n",
    "Some of the most commonly used inbuilt methods for dictionaries in Python include:\n",
    "\n",
    "1. `dict.get(key, default)`: Returns the value associated with the specified key. If the key is not found, it returns the specified default value (if provided) or `None`.\n",
    "\n",
    "2. `dict.keys()`: Returns a view of all the keys in the dictionary.\n",
    "\n",
    "3. `dict.values()`: Returns a view of all the values in the dictionary.\n",
    "\n",
    "4. `dict.items()`: Returns a view of all the key-value pairs in the dictionary as tuples.\n",
    "\n",
    "5. `dict.update(other_dict)`: Updates the dictionary with the key-value pairs from another dictionary.\n",
    "\n",
    "6. `dict.pop(key, default)`: Removes the key and its associated value from the dictionary. If the key is not found, it returns the specified default value (if provided) or raises a `KeyError`.\n",
    "\n",
    "7. `dict.popitem()`: Removes and returns the last key-value pair (in Python 3.7+).\n",
    "\n",
    "8. `dict.clear()`: Removes all key-value pairs from the dictionary, making it empty.\n",
    "\n",
    "9. `len(dict)`: Returns the number of making it easy to manipulate and access data in the dictionary."
   ]
  },
  {
   "cell_type": "code",
   "execution_count": 12,
   "id": "441ea663-46c6-4d9f-964e-5f33111205e5",
   "metadata": {},
   "outputs": [
    {
     "name": "stdout",
     "output_type": "stream",
     "text": [
      "Ismail\n",
      "dict_keys(['name', 'age', 'city'])\n",
      "dict_values(['Ismail', 21, 'New York'])\n",
      "dict_items([('name', 'Ismail'), ('age', 21), ('city', 'New York')])\n",
      "{'name': 'Ismail', 'age': 21, 'city': 'Khammam', 'country': 'India'}\n",
      "{'name': 'Ismail', 'city': 'Khammam', 'country': 'India'}\n",
      "{}\n"
     ]
    }
   ],
   "source": [
    "a = {\n",
    "    'name': 'Ismail',\n",
    "    'age': 21,\n",
    "    'city': 'New York'\n",
    "}\n",
    "\n",
    "# Using inbuilt methods\n",
    "print(a.get('name',\"name\"))   \n",
    "print(a.keys())          # Output: dict_keys(['name', 'age', 'city'])\n",
    "print(a.values())        # Output: dict_values(['Ismail', 21, 'New York'])\n",
    "print(a.items())         # Output: dict_items([('name', 'Ismail'), ('age', 21), ('city', 'New York')])\n",
    "\n",
    "a.update({'city': 'Khammam',\"country\":\"India\"})\n",
    "print(a)                 \n",
    "\n",
    "a.pop('age',0)\n",
    "print(a)     # Output: {'name': 'Ismail','age':21, 'city': 'Khammam', 'country': 'India'}\n",
    "\n",
    "a.clear() \n",
    "print(a)    # Output: {}"
   ]
  },
  {
   "cell_type": "code",
   "execution_count": 16,
   "id": "d582af8f-297c-41d1-8ba7-9a68c7e1c324",
   "metadata": {},
   "outputs": [
    {
     "data": {
      "text/plain": [
       "0"
      ]
     },
     "execution_count": 16,
     "metadata": {},
     "output_type": "execute_result"
    }
   ],
   "source": [
    "len(a)"
   ]
  },
  {
   "cell_type": "code",
   "execution_count": 18,
   "id": "52d7f42b-17b9-4e97-8be4-e096fcf9910b",
   "metadata": {},
   "outputs": [],
   "source": [
    "a = {\n",
    "    'name': 'Ismail',\n",
    "    'age': 21,\n",
    "    'city': 'New York'\n",
    "}"
   ]
  },
  {
   "cell_type": "code",
   "execution_count": 19,
   "id": "81569421-4f6a-4ebf-9f7c-cf85a4522d1e",
   "metadata": {},
   "outputs": [],
   "source": [
    "b = a.copy()"
   ]
  },
  {
   "cell_type": "code",
   "execution_count": 20,
   "id": "21a48982-8927-4432-a2ce-371426edca97",
   "metadata": {},
   "outputs": [
    {
     "data": {
      "text/plain": [
       "{'name': 'Ismail', 'age': 21, 'city': 'New York'}"
      ]
     },
     "execution_count": 20,
     "metadata": {},
     "output_type": "execute_result"
    }
   ],
   "source": [
    "b"
   ]
  },
  {
   "cell_type": "code",
   "execution_count": 21,
   "id": "b4d70593-e016-4a56-adb6-07eab29ce0e1",
   "metadata": {},
   "outputs": [],
   "source": [
    "d = dict()"
   ]
  },
  {
   "cell_type": "code",
   "execution_count": 22,
   "id": "2aec3e46-4d29-409f-bb7c-3e139017f346",
   "metadata": {},
   "outputs": [
    {
     "data": {
      "text/plain": [
       "{}"
      ]
     },
     "execution_count": 22,
     "metadata": {},
     "output_type": "execute_result"
    }
   ],
   "source": [
    "d"
   ]
  },
  {
   "cell_type": "code",
   "execution_count": 23,
   "id": "461424de-4517-4c41-a62b-af8ac8c451e4",
   "metadata": {},
   "outputs": [],
   "source": [
    "d = dict({\n",
    "    'name': 'Ismail',\n",
    "    'age': 21,\n",
    "    'city': 'New York'\n",
    "})"
   ]
  },
  {
   "cell_type": "code",
   "execution_count": 25,
   "id": "ed0fc8be-9baa-45d9-9ae7-012683d6f3f8",
   "metadata": {},
   "outputs": [
    {
     "data": {
      "text/plain": [
       "{'name': 'Ismail', 'age': 21, 'city': 'New York'}"
      ]
     },
     "execution_count": 25,
     "metadata": {},
     "output_type": "execute_result"
    }
   ],
   "source": [
    "d"
   ]
  },
  {
   "cell_type": "code",
   "execution_count": 27,
   "id": "93c42fc6-d756-4f4b-bd8b-d07c900b2e28",
   "metadata": {},
   "outputs": [],
   "source": [
    "d = dict([\n",
    "    ('name', 'Ismail'),\n",
    "    ('age', 21),\n",
    "    ('city', 'New York')\n",
    "])"
   ]
  },
  {
   "cell_type": "code",
   "execution_count": 28,
   "id": "321ebd2b-558f-4faa-a7a9-3c97c2b82e60",
   "metadata": {},
   "outputs": [
    {
     "data": {
      "text/plain": [
       "{'name': 'Ismail', 'age': 21, 'city': 'New York'}"
      ]
     },
     "execution_count": 28,
     "metadata": {},
     "output_type": "execute_result"
    }
   ],
   "source": [
    "d"
   ]
  },
  {
   "cell_type": "code",
   "execution_count": 31,
   "id": "61611a46-e0d1-4d24-b9bb-9f1e1f4fda63",
   "metadata": {},
   "outputs": [],
   "source": [
    "d = dict.fromkeys([\"NAme\",\"Age\",32],2)"
   ]
  },
  {
   "cell_type": "code",
   "execution_count": 32,
   "id": "34fe2ae0-18bd-474c-9952-ce4f09b5ed97",
   "metadata": {},
   "outputs": [
    {
     "data": {
      "text/plain": [
       "{'NAme': 2, 'Age': 2, 32: 2}"
      ]
     },
     "execution_count": 32,
     "metadata": {},
     "output_type": "execute_result"
    }
   ],
   "source": [
    "d"
   ]
  },
  {
   "cell_type": "code",
   "execution_count": 33,
   "id": "b14ce709-692d-4e48-9240-5858ea744996",
   "metadata": {},
   "outputs": [],
   "source": [
    "a = {\n",
    "    'name': 'Ismail',\n",
    "    'age': 21,\n",
    "    'city': 'New York'\n",
    "} "
   ]
  },
  {
   "cell_type": "code",
   "execution_count": 38,
   "id": "c1c0aded-4a97-4495-a269-61fd91eba194",
   "metadata": {},
   "outputs": [
    {
     "data": {
      "text/plain": [
       "'Ismail'"
      ]
     },
     "execution_count": 38,
     "metadata": {},
     "output_type": "execute_result"
    }
   ],
   "source": [
    "a['name']"
   ]
  },
  {
   "cell_type": "code",
   "execution_count": 39,
   "id": "a668138d-88b3-4210-948b-0a85d5be27cb",
   "metadata": {},
   "outputs": [],
   "source": [
    "a.get(\"mp\") #mp error: returns None"
   ]
  },
  {
   "cell_type": "code",
   "execution_count": 35,
   "id": "e6cc8ce5-b9b1-4728-9ef3-f9a5912ddb04",
   "metadata": {},
   "outputs": [
    {
     "data": {
      "text/plain": [
       "0"
      ]
     },
     "execution_count": 35,
     "metadata": {},
     "output_type": "execute_result"
    }
   ],
   "source": [
    "a.get(\"np\",0)"
   ]
  },
  {
   "cell_type": "code",
   "execution_count": 36,
   "id": "b06147a4-cdf3-42a6-9766-f8028aaf5194",
   "metadata": {},
   "outputs": [
    {
     "data": {
      "text/plain": [
       "0"
      ]
     },
     "execution_count": 36,
     "metadata": {},
     "output_type": "execute_result"
    }
   ],
   "source": [
    "a.pop(\"np\",0)"
   ]
  },
  {
   "cell_type": "code",
   "execution_count": 48,
   "id": "56e32676-b211-4da3-8536-868194d02ce0",
   "metadata": {},
   "outputs": [
    {
     "ename": "KeyError",
     "evalue": "'mp'",
     "output_type": "error",
     "traceback": [
      "\u001b[1;31m---------------------------------------------------------------------------\u001b[0m",
      "\u001b[1;31mKeyError\u001b[0m                                  Traceback (most recent call last)",
      "Cell \u001b[1;32mIn[48], line 1\u001b[0m\n\u001b[1;32m----> 1\u001b[0m \u001b[43ma\u001b[49m\u001b[38;5;241;43m.\u001b[39;49m\u001b[43mpop\u001b[49m\u001b[43m(\u001b[49m\u001b[38;5;124;43m\"\u001b[39;49m\u001b[38;5;124;43mmp\u001b[39;49m\u001b[38;5;124;43m\"\u001b[39;49m\u001b[43m)\u001b[49m \u001b[38;5;66;03m#erroe\u001b[39;00m\n",
      "\u001b[1;31mKeyError\u001b[0m: 'mp'"
     ]
    }
   ],
   "source": [
    "a.pop(\"mp\") #erroe"
   ]
  },
  {
   "cell_type": "code",
   "execution_count": 49,
   "id": "e433bd65-7106-4e36-b50d-44c77aded42e",
   "metadata": {},
   "outputs": [
    {
     "ename": "KeyError",
     "evalue": "'mp'",
     "output_type": "error",
     "traceback": [
      "\u001b[1;31m---------------------------------------------------------------------------\u001b[0m",
      "\u001b[1;31mKeyError\u001b[0m                                  Traceback (most recent call last)",
      "Cell \u001b[1;32mIn[49], line 1\u001b[0m\n\u001b[1;32m----> 1\u001b[0m \u001b[38;5;28;01mdel\u001b[39;00m \u001b[43ma\u001b[49m\u001b[43m[\u001b[49m\u001b[38;5;124;43m'\u001b[39;49m\u001b[38;5;124;43mmp\u001b[39;49m\u001b[38;5;124;43m'\u001b[39;49m\u001b[43m]\u001b[49m\n",
      "\u001b[1;31mKeyError\u001b[0m: 'mp'"
     ]
    }
   ],
   "source": [
    "del a['mp']"
   ]
  },
  {
   "cell_type": "code",
   "execution_count": 40,
   "id": "1bfede1b-ed4a-4581-87af-3d5c0d8b9192",
   "metadata": {},
   "outputs": [
    {
     "name": "stdout",
     "output_type": "stream",
     "text": [
      "name\n",
      "age\n",
      "city\n"
     ]
    }
   ],
   "source": [
    "for i in a:\n",
    "    print(i)"
   ]
  },
  {
   "cell_type": "code",
   "execution_count": 41,
   "id": "23740fb6-6635-4f6d-9dc6-aa4670495bf0",
   "metadata": {},
   "outputs": [
    {
     "name": "stdout",
     "output_type": "stream",
     "text": [
      "Ismail\n",
      "21\n",
      "New York\n"
     ]
    }
   ],
   "source": [
    "for i in a:\n",
    "    print(a[i])"
   ]
  },
  {
   "cell_type": "code",
   "execution_count": 42,
   "id": "40b4a368-5706-4f36-96fb-2a6700760433",
   "metadata": {},
   "outputs": [
    {
     "name": "stdout",
     "output_type": "stream",
     "text": [
      "name Ismail\n",
      "age 21\n",
      "city New York\n"
     ]
    }
   ],
   "source": [
    "for key,value in a.items():\n",
    "    print(key,value)"
   ]
  },
  {
   "cell_type": "code",
   "execution_count": 44,
   "id": "115667a8-3df8-4e1c-bae0-9bc1445bef56",
   "metadata": {},
   "outputs": [
    {
     "data": {
      "text/plain": [
       "False"
      ]
     },
     "execution_count": 44,
     "metadata": {},
     "output_type": "execute_result"
    }
   ],
   "source": [
    "2 in a #checks in keys"
   ]
  },
  {
   "cell_type": "code",
   "execution_count": 45,
   "id": "cccba4e4-2058-4cd4-8546-849b0a4ed46d",
   "metadata": {},
   "outputs": [],
   "source": [
    "a['t'] = (1,2,3,4,5)"
   ]
  },
  {
   "cell_type": "code",
   "execution_count": 46,
   "id": "8720bc09-959b-4712-b9fc-47fcffde6b5c",
   "metadata": {},
   "outputs": [
    {
     "data": {
      "text/plain": [
       "{'name': 'Ismail', 'age': 21, 'city': 'New York', 't': (1, 2, 3, 4, 5)}"
      ]
     },
     "execution_count": 46,
     "metadata": {},
     "output_type": "execute_result"
    }
   ],
   "source": [
    "a"
   ]
  },
  {
   "cell_type": "code",
   "execution_count": 47,
   "id": "aa559cc0-5128-4126-acc9-7d1eb525cb89",
   "metadata": {},
   "outputs": [],
   "source": [
    "# a.update(b)\n",
    "# if common b value used,\n",
    "# if extra present in b, those key and values are added into the a"
   ]
  },
  {
   "cell_type": "code",
   "execution_count": 50,
   "id": "f0251fdc-196a-4998-9fe4-9bd0a4965b4a",
   "metadata": {},
   "outputs": [],
   "source": [
    "# print All Words with Frequency k"
   ]
  },
  {
   "cell_type": "code",
   "execution_count": 51,
   "id": "1321166f-5493-45a5-947e-d0a48973102a",
   "metadata": {},
   "outputs": [],
   "source": [
    "s = \"This is a string which is very good many many\""
   ]
  },
  {
   "cell_type": "code",
   "execution_count": 52,
   "id": "8eaa12a0-0727-4121-9953-7a221efd4f8f",
   "metadata": {},
   "outputs": [],
   "source": [
    "l = s.split()"
   ]
  },
  {
   "cell_type": "code",
   "execution_count": 53,
   "id": "f4e7ca26-088f-415f-bc2d-69aa5555bef1",
   "metadata": {},
   "outputs": [
    {
     "name": "stdout",
     "output_type": "stream",
     "text": [
      "is\n",
      "many\n"
     ]
    }
   ],
   "source": [
    "freq = {}\n",
    "for word in l:\n",
    "    freq[word]=freq.get(word,0)+1\n",
    "k=2\n",
    "\n",
    "for key, value in freq.items():\n",
    "    if value == k:\n",
    "        print(key)"
   ]
  },
  {
   "cell_type": "code",
   "execution_count": 54,
   "id": "770abd4f-9707-4f1d-83e0-817765a5691a",
   "metadata": {},
   "outputs": [],
   "source": [
    "# Pair sum to 0"
   ]
  },
  {
   "cell_type": "raw",
   "id": "7cb3a1fc-64c0-4248-a897-58dff1e1ab19",
   "metadata": {},
   "source": [
    "input: -2, 2, 6, -2, 2, -6, 3\n",
    "output: \n",
    "        -2,2\n",
    "        -2,2\n",
    "        -2,2\n",
    "        -2,2\n",
    "        -6,6"
   ]
  },
  {
   "cell_type": "code",
   "execution_count": 58,
   "id": "c27109c6-c077-44fb-bc3c-968bde747c61",
   "metadata": {},
   "outputs": [
    {
     "data": {
      "text/plain": [
       "[(-2, 2), (-2, 2), (-2, 2), (-2, 2), (6, -6)]"
      ]
     },
     "execution_count": 58,
     "metadata": {},
     "output_type": "execute_result"
    }
   ],
   "source": [
    "inp= [-2, 2, 6, -2, 2, -6, 3]\n",
    "out = []\n",
    "freq = {}\n",
    "for i in inp:\n",
    "    freq[i] = freq.get(i,0) + 1\n",
    "for key, value in freq.items():\n",
    "    if -key in freq:\n",
    "        num = value * freq[-key]\n",
    "        out += [(key,-key)]*num\n",
    "        freq[-key] = 0\n",
    "        freq[key] = 0\n",
    "\n",
    "out\n",
    "        "
   ]
  },
  {
   "cell_type": "code",
   "execution_count": 57,
   "id": "47f143e4-e6c8-47fa-9774-41759273163b",
   "metadata": {},
   "outputs": [
    {
     "data": {
      "text/plain": [
       "[(2, -2), (2, -2), (2, -2), (2, -2), 2, 3]"
      ]
     },
     "execution_count": 57,
     "metadata": {},
     "output_type": "execute_result"
    }
   ],
   "source": [
    "[(2,-2)]*4 + [2,3]"
   ]
  },
  {
   "cell_type": "code",
   "execution_count": 72,
   "id": "2226b789-9a72-4b62-8c48-6691cfa916d3",
   "metadata": {},
   "outputs": [
    {
     "data": {
      "text/plain": [
       "[(2, -2), (2, -2), (2, -2), (-6, 6)]"
      ]
     },
     "execution_count": 72,
     "metadata": {},
     "output_type": "execute_result"
    }
   ],
   "source": [
    "inp= [-2, 2, 6, -2, 2, -6, 3]\n",
    "out = []\n",
    "freq = {}\n",
    "\n",
    "for key in inp:\n",
    "    if -key in freq:\n",
    "        out+= [(key, -key)]* freq[-key]\n",
    "    else:\n",
    "        freq[key]=freq.get(key,0)+1\n",
    "\n",
    "out    "
   ]
  },
  {
   "cell_type": "markdown",
   "id": "515e8e02-ddbe-4eaa-b9da-4bc820adb6c5",
   "metadata": {},
   "source": [
    "# How to make our name own Hashmap\n",
    "Hashmap is all about key, value\n",
    "\n",
    "Access, insert as fast as possible\n",
    "\n",
    "in array if we know index arr[index] fast retrival\n",
    "\n",
    "insertion arr[key] = value\n",
    "\n",
    "index is numerical\n",
    "\n",
    "key -> Hash Function -> integer\n",
    "The array we are using is called Bucket array\n",
    "\n",
    "Hash Function:\n",
    "Two parts:\n",
    "1. Calculationg Hash code\n",
    "2. Compression function to keep within bucket size\n",
    "\n",
    "Lets supposse\n",
    "20 positions in aray\n",
    "\n",
    "\"abc\" is key we got hashcode 10000\n",
    "compression makes the number in the limits\n",
    "\n",
    "Perfect compression is   number % Bucket size\n",
    "\n",
    "\n",
    "How to Find HashCode:\n",
    "\n",
    "for integer : -> Hashcode -> integer\n",
    "For Strings : -> HashcodeV -> SUM OF(ASCII VALUES)(NOT PERFECT BRUTAL HASH FUNCTION)\n",
    "                ->NUMBER bASE P\n",
    "                -> \"abc\" = 10^2 * ascii(a) + 10^1 * ascii(b) + 10^0 * ascii(c)\n",
    "p - > prime nmber-> prime number gives more distribution\n",
    "\n",
    " We have inbuilt hash function in python\n",
    "% we have to do\n",
    "\n",
    "one problem: suppose abc =  105, def -> 205\n",
    "if our bucket size is 20\n",
    "then 105%10 = 5 and also 205%20 is 5\n",
    "Those two points to same location\n",
    "\n",
    "We have to solve collison \n",
    "Collision Handling"
   ]
  },
  {
   "cell_type": "markdown",
   "id": "53f54ddf-bf21-4f2b-992f-c26fb402a136",
   "metadata": {},
   "source": [
    "# Collison Handling\n",
    "\n",
    "1. Closed Hashing (seperate chaining): Each Element linkedlist ->(a,v1) ->(b, v2)\n",
    "2. Open Adressing\n",
    "   1. hi(a) - > hf(a) + f(i)   (f(0) = 0 ))\n",
    "       1. Linear probing : f(i) = i\n",
    "       2. Quadratic Probing: f(i) = i^2 : we have to find the empty position as fast\n",
    "       3. Double Hashing:  f(i) = i*h'(a)\n",
    "     \n",
    "In real scenerio seperating chaining works well like open adressing"
   ]
  },
  {
   "cell_type": "markdown",
   "id": "b5214053-ffdc-4ce4-83d9-6d7083cf0baa",
   "metadata": {},
   "source": [
    "# Implement our own map /hashmap / dict\n",
    "\n",
    "Map:\n",
    "- buckets\n",
    "- bucket size\n",
    "- count\n",
    "\n",
    "\n",
    "Funcions:\n",
    "1. Insert(key, value)\n",
    "2. Remove(key)\n",
    "3. Search(key)\n",
    "\n",
    "        \n",
    "Foe each element , we have the linkedlist \n",
    "mapNode\n",
    "\n",
    "MapNode:\n",
    "- key\n",
    "- value\n",
    "- next\n",
    "\n",
    "    "
   ]
  },
  {
   "cell_type": "code",
   "execution_count": 99,
   "id": "aa632be4-9411-48e7-a040-7ff149e411b3",
   "metadata": {},
   "outputs": [],
   "source": [
    "class MapNode:\n",
    "    def __init__(self, key, value):\n",
    "        self.key = key\n",
    "        self.value = value\n",
    "        self.next = None"
   ]
  },
  {
   "cell_type": "code",
   "execution_count": 122,
   "id": "a893e2d5-fc57-463a-93f4-f3a043adf3f0",
   "metadata": {},
   "outputs": [],
   "source": [
    "class Map:\n",
    "    def __init__(self):\n",
    "        self.bucket_size = 20\n",
    "        self.bucket = [None] * self.bucket_size\n",
    "        self.count = 0\n",
    "        \n",
    "    def getBucketIndex(self, hc):\n",
    "        return abs(hc) % self.bucket_size     # compression function\n",
    "        \n",
    "    def insert(self, key, value):\n",
    "        hc = hash(key)\n",
    "        index = self.getBucketIndex(hc)\n",
    "\n",
    "        temp = self.bucket[index]\n",
    "        while temp:\n",
    "            if temp.key == key:\n",
    "                temp.value = value\n",
    "                return\n",
    "            temp =  temp.next\n",
    "            \n",
    "        new_node= MapNode(key,value)\n",
    "        new_node.next = self.bucket[index]\n",
    "        self.bucket[index] = new_node\n",
    "        self.count += 1\n",
    "\n",
    "    def remove(self, key):\n",
    "        hc = hash(key)\n",
    "        index = self.getBucketIndex(hc)\n",
    "        head =  self.bucket[index]\n",
    "        prev = None\n",
    "        curr = self.bucket[index]\n",
    "        \n",
    "        while curr:\n",
    "            if curr.key == key:\n",
    "                if prev is None:\n",
    "                    self.bucket[index] = self.bucket[index].next\n",
    "                else:\n",
    "                    prev.next = curr.next\n",
    "                self.count -= 1\n",
    "                return curr.value \n",
    "            prev = curr\n",
    "            curr= curr.next\n",
    "            \n",
    "        return -1\n",
    "        \n",
    "    def search(self, key):\n",
    "        hc = hash(key)\n",
    "        index = self.getBucketIndex(hc)\n",
    "        head =  self.bucket[index]\n",
    "        \n",
    "        while head:\n",
    "            if head.key == key:\n",
    "                return head.value\n",
    "            head =  head.next\n",
    "        return -1\n",
    "        \n",
    "    def size(self):\n",
    "        return self.count\n",
    "        "
   ]
  },
  {
   "cell_type": "code",
   "execution_count": 116,
   "id": "cf1ee4ef-5a77-4f52-807f-b659b8fe9908",
   "metadata": {},
   "outputs": [],
   "source": [
    "m = Map()"
   ]
  },
  {
   "cell_type": "code",
   "execution_count": 117,
   "id": "18af7f91-f2e6-434b-bf43-e0b87064f3a7",
   "metadata": {},
   "outputs": [],
   "source": [
    "m.insert(\"abc\",10)\n",
    "m.insert(\"def\",20)\n",
    "m.insert(\"hij\",30)\n",
    "m.insert(\"hij\",40)"
   ]
  },
  {
   "cell_type": "code",
   "execution_count": 118,
   "id": "08ac1c96-b2be-431c-b00e-725d2581c0c2",
   "metadata": {},
   "outputs": [
    {
     "data": {
      "text/plain": [
       "40"
      ]
     },
     "execution_count": 118,
     "metadata": {},
     "output_type": "execute_result"
    }
   ],
   "source": [
    "m.search(\"hij\")"
   ]
  },
  {
   "cell_type": "code",
   "execution_count": 119,
   "id": "0af33044-c5ad-4c8d-9533-6c527e7ef911",
   "metadata": {},
   "outputs": [
    {
     "data": {
      "text/plain": [
       "3"
      ]
     },
     "execution_count": 119,
     "metadata": {},
     "output_type": "execute_result"
    }
   ],
   "source": [
    "m.size()"
   ]
  },
  {
   "cell_type": "code",
   "execution_count": 120,
   "id": "5b287aac-db4f-4d1b-a3d1-a65ff855e51e",
   "metadata": {},
   "outputs": [
    {
     "data": {
      "text/plain": [
       "10"
      ]
     },
     "execution_count": 120,
     "metadata": {},
     "output_type": "execute_result"
    }
   ],
   "source": [
    "m.remove(\"abc\")"
   ]
  },
  {
   "cell_type": "code",
   "execution_count": 121,
   "id": "5357c939-24f5-448a-86a1-1065de1cd5b2",
   "metadata": {},
   "outputs": [
    {
     "data": {
      "text/plain": [
       "-1"
      ]
     },
     "execution_count": 121,
     "metadata": {},
     "output_type": "execute_result"
    }
   ],
   "source": [
    "m.search(\"abc\")"
   ]
  },
  {
   "cell_type": "code",
   "execution_count": 126,
   "id": "2f7211e0-86fb-429d-9b26-32912a77bdf1",
   "metadata": {},
   "outputs": [],
   "source": [
    "# Time complexity of above functions\n",
    "# 1. Calcualting hashcode O(length)\n",
    "\n",
    "# worst case: inserting O(n) : same place\n",
    "# o(l) <<O(n)\n",
    "# Therefore O(n)\n",
    "# Average case: it O(1)\n",
    "# b boxes\n",
    "# n/b entries\n",
    "# n/b << 0.7 -> Load Factor\n",
    "# 20 boxes\n",
    "# 14 entries -> 14/20 =0.7\n",
    "\n",
    "# n =  no of entries curently in the map\n",
    "# b =  buket size\n",
    "# if 15th will come, we will increase the bucket size\n",
    "# bucket size b = 2*b\n",
    "\n",
    "# Rehashing increasing the size\n",
    "\n",
    "# if 100 entries bucket length = 130/140\n",
    "\n",
    "\n",
    "# if we maintain load factor <<0.7 then insertion and deletion O(1)"
   ]
  },
  {
   "cell_type": "code",
   "execution_count": 127,
   "id": "1da87d90-04a7-4f2b-a0e4-90a770d23da5",
   "metadata": {},
   "outputs": [],
   "source": [
    "# How to rehash \n",
    "# we have to insert each element individually into the new bucket, beacuase the\n",
    "# the bucket size changed, compression is changing, acess will be changed\n",
    "# index is changing"
   ]
  },
  {
   "cell_type": "code",
   "execution_count": 128,
   "id": "0d463956-fa28-4f4e-9cd5-b2644c9b60b5",
   "metadata": {},
   "outputs": [],
   "source": [
    "# Largest consecutive Subsequence"
   ]
  },
  {
   "cell_type": "code",
   "execution_count": 129,
   "id": "82473fb9-4c8c-4afc-8829-d0274e23d51d",
   "metadata": {},
   "outputs": [],
   "source": [
    "# sort the array -> nlogn"
   ]
  },
  {
   "cell_type": "code",
   "execution_count": 16,
   "id": "b28271e0-4c3d-406d-858b-a8c34c9922bc",
   "metadata": {},
   "outputs": [],
   "source": [
    "# start,\n",
    "# max length\n",
    "def longestConsecutiveSequence(arr):\n",
    "    d = dict.fromkeys(arr,True)\n",
    "    \n",
    "    max_length=0\n",
    "    start = None\n",
    "    for key,value in d.items():\n",
    "        \n",
    "        if value == False:\n",
    "            continue\n",
    "        \n",
    "        curr_len = 0\n",
    "        temp = key\n",
    "        while temp in d:\n",
    "            if d[temp] == False:\n",
    "                break\n",
    "            curr_len+=1\n",
    "            d[temp] = False\n",
    "            temp-=1\n",
    "        curr_start = temp+1\n",
    "        temp = key+1\n",
    "        \n",
    "        while temp in d:\n",
    "            if d[temp] == False:\n",
    "                break\n",
    "            curr_len+=1\n",
    "            d[temp] = False\n",
    "            key+=1\n",
    "        if curr_len> max_length:\n",
    "            max_length = curr_len \n",
    "            start = curr_start\n",
    "            \n",
    "    return max_length,start"
   ]
  },
  {
   "cell_type": "code",
   "execution_count": 18,
   "id": "b3419961-c1ee-4497-8c70-7b7922a0c76b",
   "metadata": {},
   "outputs": [
    {
     "data": {
      "text/plain": [
       "(5, 6)"
      ]
     },
     "execution_count": 18,
     "metadata": {},
     "output_type": "execute_result"
    }
   ],
   "source": [
    "longestConsecutiveSequence([9,1,8,6,3,4,2,7,10,15])"
   ]
  },
  {
   "cell_type": "code",
   "execution_count": 20,
   "id": "e9c63e37-09eb-4943-8ee9-230c4908d8df",
   "metadata": {},
   "outputs": [],
   "source": [
    "def pairSumZero(inp):\n",
    "    out = []\n",
    "    freq = {}\n",
    "    \n",
    "    for i in inp:\n",
    "        freq[i] = freq.get(i,0) + 1\n",
    "        \n",
    "    for key, value in freq.items():\n",
    "        if -key in freq:\n",
    "            num = value * freq[-key]\n",
    "            out += [(key,-key)]*num\n",
    "            freq[-key] = 0\n",
    "            freq[key] = 0\n",
    "    return out"
   ]
  },
  {
   "cell_type": "code",
   "execution_count": 21,
   "id": "e733066b-d993-4341-ad82-aa9f278d7d29",
   "metadata": {},
   "outputs": [
    {
     "data": {
      "text/plain": [
       "[(-2, 2), (-2, 2), (-2, 2), (-2, 2), (6, -6)]"
      ]
     },
     "execution_count": 21,
     "metadata": {},
     "output_type": "execute_result"
    }
   ],
   "source": [
    "inp= [-2, 2, 6, -2, 2, -6, 3]\n",
    "pairSumZero(inp)"
   ]
  },
  {
   "cell_type": "code",
   "execution_count": 26,
   "id": "5d739f3c-6951-45fb-a573-64b1deb33dab",
   "metadata": {},
   "outputs": [],
   "source": [
    "def pairdiffK(inp,k):\n",
    "    out = []\n",
    "    freq = {}\n",
    "    \n",
    "    for i in inp:\n",
    "        freq[i] = freq.get(i,0) + 1\n",
    "        \n",
    "    for key, value in freq.items():\n",
    "        if (key+k) in freq:\n",
    "            num = value * freq[key+k]\n",
    "            out += [(key,key+k)]*num\n",
    "        if (key-k) in freq:\n",
    "            num = value * freq[key-k]\n",
    "            out += [(key,key-k)]*num\n",
    "        freq[key] = 0\n",
    "    return out   "
   ]
  },
  {
   "cell_type": "code",
   "execution_count": 27,
   "id": "275a204f-1b68-4d5a-a35f-92f93a02e3bc",
   "metadata": {},
   "outputs": [
    {
     "data": {
      "text/plain": [
       "[(2, 5), (2, 5), (2, -1), (2, -1), (2, -1), (2, -1), (3, 6), (3, 6), (3, 0)]"
      ]
     },
     "execution_count": 27,
     "metadata": {},
     "output_type": "execute_result"
    }
   ],
   "source": [
    "pairdiffK([2,-1,3,5,6,0,-1,2,6],k=3)"
   ]
  },
  {
   "cell_type": "raw",
   "id": "660362d7-6e52-4693-916f-577b96980b85",
   "metadata": {},
   "source": [
    "Longest Continous Subset sum to zero\n",
    "Approach 1:\n",
    "Find all the subsets, then find the longest subset\n",
    "Approach 2:\n",
    "if sum of all elements till index i is x and sum of all elements till index j is x\n",
    "then the elements between index i and index j sum is zero\n",
    "\n",
    "keys, values\n",
    "sums, index"
   ]
  },
  {
   "cell_type": "code",
   "execution_count": 39,
   "id": "60c83792-6b7e-4be3-8240-3be1baedfb27",
   "metadata": {},
   "outputs": [],
   "source": [
    "def longestContinousSubsetSumZero(input):\n",
    "    freq = {}\n",
    "    max_length = 0\n",
    "    curr_sum = 0\n",
    "    index = 1\n",
    "    for val in input:\n",
    "        curr_sum += val\n",
    "        if curr_sum == 0:\n",
    "            max_length =  index\n",
    "        if curr_sum in freq:\n",
    "            max_length = max(max_length,index +1 - freq[curr_sum])\n",
    "            continue\n",
    "        freq[curr_sum] = index\n",
    "        index+=1\n",
    "    return max_length"
   ]
  },
  {
   "cell_type": "code",
   "execution_count": 40,
   "id": "e9d5f93c-d8fb-4ead-bc25-6711d60782a0",
   "metadata": {},
   "outputs": [
    {
     "data": {
      "text/plain": [
       "5"
      ]
     },
     "execution_count": 40,
     "metadata": {},
     "output_type": "execute_result"
    }
   ],
   "source": [
    "longestContinousSubsetSumZero([6,3,-1,2,-4,3,1,-2,20])"
   ]
  },
  {
   "cell_type": "code",
   "execution_count": null,
   "id": "b7f547f0-777d-4f5f-b638-c53c297c8a03",
   "metadata": {},
   "outputs": [],
   "source": []
  }
 ],
 "metadata": {
  "kernelspec": {
   "display_name": "Python 3 (ipykernel)",
   "language": "python",
   "name": "python3"
  },
  "language_info": {
   "codemirror_mode": {
    "name": "ipython",
    "version": 3
   },
   "file_extension": ".py",
   "mimetype": "text/x-python",
   "name": "python",
   "nbconvert_exporter": "python",
   "pygments_lexer": "ipython3",
   "version": "3.11.3"
  }
 },
 "nbformat": 4,
 "nbformat_minor": 5
}
