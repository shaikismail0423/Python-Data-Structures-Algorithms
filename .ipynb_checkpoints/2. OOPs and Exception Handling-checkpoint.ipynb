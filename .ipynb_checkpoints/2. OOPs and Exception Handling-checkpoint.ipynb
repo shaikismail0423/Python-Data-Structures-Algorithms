{
 "cells": [
  {
   "cell_type": "markdown",
   "id": "bdba8d8c-6de7-4980-b6c8-0fd82ac1379e",
   "metadata": {},
   "source": [
    "# OOPS"
   ]
  },
  {
   "cell_type": "markdown",
   "id": "8631761d-4903-4eca-8fba-2addaf9ea1e3",
   "metadata": {},
   "source": [
    "**OOPS (Object Oriented Programming):** \n",
    "  - Paradigm for organizing and structuring code based on objects.\n",
    "  \n",
    "**Real World Objects (e.g., Pen):**\n",
    "  - Properties: Height, color, weight, width.\n",
    "  - Behaviors: Writing, refilling.\n",
    "\n",
    "**Every Object Has:**\n",
    "  - Properties\n",
    "  - Behavior\n",
    "\n",
    "**Class:**\n",
    "  - Defines properties and behaviors.\n",
    "  - Serves as a blueprint for objects.\n",
    "\n",
    "**Object:**\n",
    "  - A specific instance of a class.\n",
    "  - Represents a distinct, real-world entity.\n"
   ]
  },
  {
   "cell_type": "code",
   "execution_count": 18,
   "id": "0aa2c522-503b-4f8c-8bd0-5b0944ff7416",
   "metadata": {},
   "outputs": [
    {
     "name": "stdout",
     "output_type": "stream",
     "text": [
      "<class 'int'>\n",
      "<class 'list'>\n"
     ]
    }
   ],
   "source": [
    "a=10\n",
    "print(type(a))\n",
    "\n",
    "l=[1,2,3,4]\n",
    "print(type(l))"
   ]
  },
  {
   "cell_type": "markdown",
   "id": "3750d6fa-07ca-4b7d-b382-b227327fd23e",
   "metadata": {},
   "source": [
    "## Different kinds of attributes\n",
    "\n",
    "### Instance Attributes:\n",
    "- Instance attributes are unique to each instance (object) of the class <br/>\n",
    "- They are defined inside the class's methods, typically within the __init__ method, which is the constructor for the class<br/>\n",
    "- They can be created by object name and \".\" operator\n",
    "- Each instance can have different values for these attributes. <br/>\n",
    "- They represent the state of individual objects and allow each object to have its own set of data. <br/>\n",
    "- Accessing instance attributes is done using the dot notation with the object's name. <br/>\n",
    "\n",
    "### Class Attributes:\n",
    "\n",
    "- Class attributes are shared by all instances of the class.<br/>\n",
    "- They are defined directly inside the class, outside of any class method.<br/>\n",
    "- Class attributes represent characteristics that are common to all objects of the class.<br/>\n",
    "- Modifying a class attribute will affect all instances of that class.<br/>\n",
    "- Accessing class attributes can be done using either the class name or any instance of the class.<br/>\n",
    "- python can have different instance attributes for each object as per our requirements"
   ]
  },
  {
   "cell_type": "code",
   "execution_count": 16,
   "id": "fb507278-e6b2-418e-99e8-ee2b49d14afe",
   "metadata": {},
   "outputs": [
    {
     "ename": "SyntaxError",
     "evalue": "incomplete input (3104358622.py, line 3)",
     "output_type": "error",
     "traceback": [
      "\u001b[1;36m  Cell \u001b[1;32mIn[16], line 3\u001b[1;36m\u001b[0m\n\u001b[1;33m    # python wont allow this\u001b[0m\n\u001b[1;37m                            ^\u001b[0m\n\u001b[1;31mSyntaxError\u001b[0m\u001b[1;31m:\u001b[0m incomplete input\n"
     ]
    }
   ],
   "source": [
    "class Student:\n",
    "\n",
    "# python wont allow this"
   ]
  },
  {
   "cell_type": "code",
   "execution_count": 19,
   "id": "8b6b705d-d52a-4e57-8595-dbc138e41836",
   "metadata": {},
   "outputs": [],
   "source": [
    "class Student:\n",
    "    # class Attributes\n",
    "    pass"
   ]
  },
  {
   "cell_type": "code",
   "execution_count": 20,
   "id": "f3f8bf62-b3e3-49dd-b4de-e8258209622b",
   "metadata": {},
   "outputs": [],
   "source": [
    "s1 = Student()\n",
    "s2 = Student()\n",
    "s3 = Student()"
   ]
  },
  {
   "cell_type": "code",
   "execution_count": 21,
   "id": "e2f41bee-7e3b-40b0-b9e7-b6a3fd08c34b",
   "metadata": {},
   "outputs": [
    {
     "name": "stdout",
     "output_type": "stream",
     "text": [
      "<__main__.Student object at 0x0000020EFF1026D0>\n",
      "<__main__.Student object at 0x0000020EFF0E9590>\n"
     ]
    }
   ],
   "source": [
    "print(s1)\n",
    "print(s2)"
   ]
  },
  {
   "cell_type": "code",
   "execution_count": 22,
   "id": "6fb67971-9ac9-4973-a47b-0ae2ff46a202",
   "metadata": {},
   "outputs": [
    {
     "name": "stdout",
     "output_type": "stream",
     "text": [
      "<class '__main__.Student'>\n",
      "<class '__main__.Student'>\n"
     ]
    }
   ],
   "source": [
    "print(type(s1))\n",
    "print(type(s2))"
   ]
  },
  {
   "cell_type": "code",
   "execution_count": 23,
   "id": "e5edca87-5aff-48a9-b4d7-c5f959d06789",
   "metadata": {},
   "outputs": [],
   "source": [
    "s1.name = \"Subash Chandra Bose\" \n",
    "s1.age = 23\n",
    "s2.roll_no = 101"
   ]
  },
  {
   "cell_type": "code",
   "execution_count": null,
   "id": "0d96cc45-0454-4183-b94c-9fb8b345650c",
   "metadata": {},
   "outputs": [],
   "source": [
    "# In python, each object stores a dicionary for attributes and their values\n",
    "# it can be acessed by object_name.__dict__"
   ]
  },
  {
   "cell_type": "code",
   "execution_count": 24,
   "id": "358b659a-8367-4b11-991f-3c8f928b1142",
   "metadata": {},
   "outputs": [
    {
     "name": "stdout",
     "output_type": "stream",
     "text": [
      "{'name': 'Subash Chandra Bose', 'age': 23}\n",
      "{'roll_no': 101}\n",
      "{}\n"
     ]
    }
   ],
   "source": [
    "print(s1.__dict__)\n",
    "print(s2.__dict__)\n",
    "print(s3.__dict__)"
   ]
  },
  {
   "cell_type": "code",
   "execution_count": 25,
   "id": "a4239531-7393-47d5-b2dd-d62d745677d2",
   "metadata": {},
   "outputs": [
    {
     "data": {
      "text/plain": [
       "'Subash Chandra Bose'"
      ]
     },
     "execution_count": 25,
     "metadata": {},
     "output_type": "execute_result"
    }
   ],
   "source": [
    "s1.name"
   ]
  },
  {
   "cell_type": "code",
   "execution_count": 35,
   "id": "a167286e-3ed1-45a6-b7b9-86a3403fb874",
   "metadata": {},
   "outputs": [
    {
     "ename": "AttributeError",
     "evalue": "'Student' object has no attribute 'name'",
     "output_type": "error",
     "traceback": [
      "\u001b[1;31m---------------------------------------------------------------------------\u001b[0m",
      "\u001b[1;31mAttributeError\u001b[0m                            Traceback (most recent call last)",
      "Cell \u001b[1;32mIn[35], line 1\u001b[0m\n\u001b[1;32m----> 1\u001b[0m \u001b[43ms2\u001b[49m\u001b[38;5;241;43m.\u001b[39;49m\u001b[43mname\u001b[49m \u001b[38;5;66;03m# name is s1 instance variable\u001b[39;00m\n\u001b[0;32m      2\u001b[0m \u001b[38;5;66;03m# if not there, then Attribute Error will come\u001b[39;00m\n",
      "\u001b[1;31mAttributeError\u001b[0m: 'Student' object has no attribute 'name'"
     ]
    }
   ],
   "source": [
    "s2.name # name is s1 instance variable\n",
    "# if not there, then Attribute Error will come"
   ]
  },
  {
   "cell_type": "markdown",
   "id": "99098259-24d9-4576-a8e7-917fa28efe2a",
   "metadata": {},
   "source": [
    "### Attributes and Object Manipulation\n",
    "\n",
    "In Python, attributes are properties or characteristics associated with an object. \n",
    "Here are some useful functions to interact with object attributes:\n",
    "\n",
    "1. `hasattr(object, \"attr\")`: This function checks if the given attribute (`attr`) exists in the specified object. It returns `True` if the attribute is found, and `False` otherwise.\n",
    "\n",
    "2. `setattr(object, \"attr\", value)`: This function sets the value of the attribute (`attr`) for the given object. If the attribute already exists, its value will be updated with the provided `value`. If the attribute does not exist, a new attribute will be created with the specified value.\n",
    "\n",
    "3. `delattr(object, \"attr\")`: This function deletes the specified attribute (`attr`) from the given object. If the attribute is not found, a `AttributeError` will be raised.\n",
    "\n",
    "4. `getattr(object, \"attr\", def_val)`:\n",
    "-  This function attempts to retrieve the value of the specified attribute (`attr`) from the given object. If the attribute exists, its value is returned.\n",
    "- If the attribute is not found and a `def_val` (default value) is provided, the `def_val` is returned.\n",
    "- However, if no `def_val` is provided and the attribute is not present, a `AttributeError` will be raised indicating that the attribute doesn't exist.\n",
    "\n",
    "Remember to enclose the attribute names in quotes as strings when using these functions."
   ]
  },
  {
   "cell_type": "code",
   "execution_count": 29,
   "id": "2a4ec005-d8c2-4071-9037-17d01c1bf80f",
   "metadata": {},
   "outputs": [
    {
     "name": "stdout",
     "output_type": "stream",
     "text": [
      "True\n",
      "Subash Chandra Bose\n"
     ]
    }
   ],
   "source": [
    "print(hasattr(s1,\"name\"))\n",
    "print(getattr(s1,\"name\",\"No name\"))\n",
    "delattr(s1,\"name\")"
   ]
  },
  {
   "cell_type": "code",
   "execution_count": 31,
   "id": "c05192c4-80c3-4be2-ba75-73a015cd6c26",
   "metadata": {},
   "outputs": [
    {
     "data": {
      "text/plain": [
       "{'age': 23}"
      ]
     },
     "execution_count": 31,
     "metadata": {},
     "output_type": "execute_result"
    }
   ],
   "source": [
    "s1.__dict__"
   ]
  },
  {
   "cell_type": "code",
   "execution_count": 32,
   "id": "bc1ecfd0-46e2-43fb-8b4b-f733a68ea66a",
   "metadata": {},
   "outputs": [
    {
     "name": "stdout",
     "output_type": "stream",
     "text": [
      "False\n"
     ]
    }
   ],
   "source": [
    "print(hasattr(s1,\"name\"))"
   ]
  },
  {
   "cell_type": "code",
   "execution_count": 33,
   "id": "575f1ec3-b0ab-4ac8-b091-3064c3f32522",
   "metadata": {},
   "outputs": [],
   "source": [
    "setattr(s1,\"name\",\"Ismail Abilash\")"
   ]
  },
  {
   "cell_type": "code",
   "execution_count": 34,
   "id": "7c89a20c-f3a0-46e6-aa9a-891c77e789e8",
   "metadata": {},
   "outputs": [
    {
     "data": {
      "text/plain": [
       "{'age': 23, 'name': 'Ismail Abilash'}"
      ]
     },
     "execution_count": 34,
     "metadata": {},
     "output_type": "execute_result"
    }
   ],
   "source": [
    "s1.__dict__"
   ]
  },
  {
   "cell_type": "markdown",
   "id": "b399ef7b-2494-4847-b546-90f88743261b",
   "metadata": {},
   "source": [
    "# Types of Methods in Python\n",
    "In Python, there are three main types of methods that can be defined in a class:\n",
    "\n",
    "1. **Instance Methods:**\n",
    "   - Instance methods are the most common type of methods in Python classes.\n",
    "   - They operate on instances (objects) of the class and have access to the instance's attributes and other methods.\n",
    "   - The first parameter of an instance method is usually `self`, which refers to the instance on which the method is called.\n",
    "   - Instance methods can modify the state of the instance or perform specific actions related to the instance.\n",
    "   - They are defined like regular functions inside the class.\n",
    "\n",
    "2. **Class Methods:**\n",
    "   - Class methods are methods that are bound to the class and not the instance.\n",
    "   - They are defined using the `@classmethod` decorator and take the class as the first parameter, commonly named as `cls`.\n",
    "   - Class methods can access and modify class-level attributes but not instance-level attributes directly.\n",
    "   - They are often used for factory methods or for actions that involve the entire class rather than a specific instance.\n",
    "\n",
    "3. **Static Methods:**\n",
    "   - Static methods are methods that do not depend on the instance or class and behave like regular functions within a class.\n",
    "   - They are defined using the `@staticmethod` decorator and do not take `self` or `cls` as the first parameter.\n",
    "   - Static methods are not associated with any specific instance or class and do not have access to instance or class-level attributes.\n",
    "   - They are used when a method is related to the class but does not need any specific instance or class information.\n",
    "   - Generally a utility function used to check something on the class"
   ]
  },
  {
   "cell_type": "markdown",
   "id": "f3ba5996-1c6b-4a9a-a6eb-f3b0bf9e73a0",
   "metadata": {},
   "source": [
    "## Self Parameter\n",
    "In Python, the `self` parameter is used within the methods of a class to refer to the instance of that class itself. It allows you to access and manipulate the attributes and methods of the instance. \n",
    "\n",
    "1. **Method Invocation:** When you call a method on an instance, Python automatically passes the instance as the first argument (`self`) to the method. This happens behind the scenes, so you don't need to explicitly provide the instance when calling methods.\n",
    "\n",
    "2. **Instance-specific Access:** When you create an object (instance) of a class, you often want to access its attributes and methods. The `self` parameter provides a way to refer to the instance itself from within its own methods. This enables you to work with the specific data associated with that instance.\n",
    "\n",
    "3. **Attribute Access:** Within a class method, you can use `self` to access and modify the attributes (variables) of the instance. This allows you to maintain separate state for each instance of the class. Without `self`, methods would not know which instance's data to work with."
   ]
  },
  {
   "cell_type": "code",
   "execution_count": 36,
   "id": "d51f9971-c185-40d6-b6b1-8b5ade0c48aa",
   "metadata": {},
   "outputs": [],
   "source": [
    "class Student:\n",
    "    def studentDetails():\n",
    "        pass"
   ]
  },
  {
   "cell_type": "code",
   "execution_count": 37,
   "id": "f4f1178b-2d84-4bad-ab85-f05acc75b245",
   "metadata": {},
   "outputs": [
    {
     "ename": "TypeError",
     "evalue": "Student.studentDetails() takes 0 positional arguments but 1 was given",
     "output_type": "error",
     "traceback": [
      "\u001b[1;31m---------------------------------------------------------------------------\u001b[0m",
      "\u001b[1;31mTypeError\u001b[0m                                 Traceback (most recent call last)",
      "Cell \u001b[1;32mIn[37], line 2\u001b[0m\n\u001b[0;32m      1\u001b[0m s1 \u001b[38;5;241m=\u001b[39m Student()\n\u001b[1;32m----> 2\u001b[0m \u001b[43ms1\u001b[49m\u001b[38;5;241;43m.\u001b[39;49m\u001b[43mstudentDetails\u001b[49m\u001b[43m(\u001b[49m\u001b[43m)\u001b[49m\n\u001b[0;32m      3\u001b[0m Student\u001b[38;5;241m.\u001b[39mstudentDetails(s1) \u001b[38;5;66;03m#above line and this line is same\u001b[39;00m\n",
      "\u001b[1;31mTypeError\u001b[0m: Student.studentDetails() takes 0 positional arguments but 1 was given"
     ]
    }
   ],
   "source": [
    "s1 = Student()\n",
    "s1.studentDetails()\n",
    "Student.studentDetails(s1) #above line and this line is same"
   ]
  },
  {
   "cell_type": "code",
   "execution_count": 63,
   "id": "666c697c-ee25-4231-92ac-74732f12d8dd",
   "metadata": {},
   "outputs": [],
   "source": [
    "class Student:\n",
    "    passingPercentage = 40\n",
    "    \n",
    "    def studentDetails(self):\n",
    "        self.name = \"Subhash\"\n",
    "        self.percentage = 10\n",
    "        print(\"Name: \", self.name, \"Percentage: \", self.percentage)\n",
    "\n",
    "    def isPassed(self):\n",
    "        if self.percentage > Student.passingPercentage:\n",
    "            print(\"Student is passed\")\n",
    "        else:\n",
    "            print(\"Student is not passed\")\n",
    "            \n",
    "    @staticmethod\n",
    "    def welcomeToSchool():\n",
    "        print(\"Hey! Welcome to School\")"
   ]
  },
  {
   "cell_type": "code",
   "execution_count": 64,
   "id": "9503b027-7e69-4902-9e01-c538b155997b",
   "metadata": {},
   "outputs": [
    {
     "name": "stdout",
     "output_type": "stream",
     "text": [
      "Name:  Subhash Percentage:  10\n",
      "Student is not passed\n",
      "Hey! Welcome to School\n"
     ]
    }
   ],
   "source": [
    "s1 = Student()\n",
    "s1.studentDetails()\n",
    "s1.isPassed()\n",
    "s1.welcomeToSchool()"
   ]
  },
  {
   "cell_type": "markdown",
   "id": "827af166-dd72-4c67-92ab-1b75d4b068d3",
   "metadata": {},
   "source": [
    "# Constructors in Python\n",
    "A constructor is a special method or instance method used to initialize the properties of objects. It is called as soon as a new object is created. For example:\n",
    "```python\n",
    "s1 = Student()\n",
    "```\n",
    "In the above example, when `s1` is created using the `Student()` class, the constructor associated with the `Student` class will be automatically called to set up the initial state of the `s1` object.\n",
    "\n",
    "If a class does not define a specific constructor, Python provides a default constructor that takes no arguments. This default constructor initializes the object with default values for its attributes. However, we can create your own custom constructor to provide specific initial values for the object's properties.\n",
    "\n",
    "`__init__` is a special method in Python classes, known as the constructor. It is automatically called when an object of the class is created. The primary purpose of the `__init__` method is to initialize the object's attributes or properties with specific values in Python classes.\n",
    "\n",
    "s1 and self are having the reference of the object\n"
   ]
  },
  {
   "cell_type": "code",
   "execution_count": 60,
   "id": "c5b35bd9-6fb8-443b-84df-5da101ac1708",
   "metadata": {},
   "outputs": [],
   "source": [
    "class Student:\n",
    "    def __init__(self, name, rollNumber):\n",
    "        self.name = name\n",
    "        self.rollNumber = rollNumber"
   ]
  },
  {
   "cell_type": "code",
   "execution_count": 62,
   "id": "5ed894a2-df24-47fa-bf57-7540352fcc9b",
   "metadata": {},
   "outputs": [
    {
     "name": "stdout",
     "output_type": "stream",
     "text": [
      "{'name': 'Ismail', 'rollNumber': 123004221}\n",
      "{'name': 'Luthu', 'rollNumber': 123004131}\n"
     ]
    }
   ],
   "source": [
    "s1 = Student(\"Ismail\", 123004221)\n",
    "s2 = Student(\"Luthu\", 123004131)\n",
    "print(s1.__dict__)\n",
    "print(s2.__dict__)"
   ]
  },
  {
   "cell_type": "code",
   "execution_count": null,
   "id": "841882d9-6df6-43c3-b86a-548f8a3484d5",
   "metadata": {},
   "outputs": [],
   "source": [
    "## Class Methods\n",
    "1. Also known as factory methods, these methods mostly used for returning objects"
   ]
  },
  {
   "cell_type": "code",
   "execution_count": 81,
   "id": "f58b8241-5a48-4d85-ad1e-806ddd848b8f",
   "metadata": {},
   "outputs": [],
   "source": [
    "from datetime import date\n",
    "\n",
    "class Student:\n",
    "    passingPercentage = 40\n",
    "    \n",
    "    def __init__(self, name, age, percentage):\n",
    "        self.name = name\n",
    "        self.age = age\n",
    "        self.percentage = percentage\n",
    "\n",
    "    def studentDetails(self):\n",
    "        print(\"Name:\", self.name)\n",
    "        print(\"Age:\", self.age)\n",
    "        print(\"Percentage:\", self.percentage)\n",
    "\n",
    "    def isPassed(self):\n",
    "        if self.percentage > Student.passingPercentage:\n",
    "            print(\"Student is passed\")\n",
    "        else:\n",
    "            print(\"Student is not passed\")\n",
    "            \n",
    "    @classmethod\n",
    "    def fromBirthYear(cls, name, year, percentage):\n",
    "        current_year = date.today().year\n",
    "        age = current_year - year\n",
    "        return cls(name, age, percentage)\n",
    "        \n",
    "    @staticmethod\n",
    "    def welcomeToSchool():\n",
    "        print(\"Hey! Welcome to School\")\n",
    "        \n",
    "    @staticmethod\n",
    "    def isTeen(age):\n",
    "        return age >= 13 and age<=19"
   ]
  },
  {
   "cell_type": "code",
   "execution_count": 83,
   "id": "ba5d96bc-fcdc-4430-be6c-2e57518e167d",
   "metadata": {},
   "outputs": [
    {
     "name": "stdout",
     "output_type": "stream",
     "text": [
      "Name: Saraswathi\n",
      "Age: 923\n",
      "Percentage: 100\n",
      "Student is passed\n",
      "Hey! Welcome to School\n",
      "False\n"
     ]
    }
   ],
   "source": [
    "student1 = Student.fromBirthYear(\"Saraswathi\", 1100, 100)\n",
    "\n",
    "student1.studentDetails()\n",
    "student1.isPassed()\n",
    "Student.welcomeToSchool()\n",
    "print(Student.isTeen(1100))"
   ]
  },
  {
   "cell_type": "markdown",
   "id": "44487bf2-5a6c-4644-990a-2cbecc2904c0",
   "metadata": {},
   "source": [
    "# Acess Modifiers\n",
    "In Python, access modifiers are used to control the visibility and accessibility of class attributes and methods from outside the class. However, unlike some other programming languages like Java, Python does not have strict access control keywords like `public`, `private`, or `protected`. Instead, Python uses naming conventions to indicate the intended visibility of attributes and methods. The most commonly used conventions are:\n",
    "\n",
    "1. **Public:**\n",
    "   - By default, all attributes and methods in a class are considered public and can be accessed from outside the class.\n",
    "\n",
    "2. **Private:**\n",
    "   - Attributes and methods with names starting with double underscore `__` (double underscore) are considered private.\n",
    "   - Private attributes and methods are not intended to be accessed from outside the class directly.\n",
    "     \n",
    "3. **Protected:**\n",
    "   - Attributes and methods with names starting with a single underscore `_` are considered protected.\n",
    "   - While they can still be accessed from outside the class, it is a convention that these should be treated as internal and not directly accessed by external code."
   ]
  },
  {
   "cell_type": "code",
   "execution_count": 88,
   "id": "72725c48-3c2b-4805-9372-f7991efceff9",
   "metadata": {},
   "outputs": [
    {
     "name": "stdout",
     "output_type": "stream",
     "text": [
      "Alice\n",
      "Alice\n",
      "\n",
      "Name: Alice\n",
      "Age: 18\n",
      "Percentage: 75\n",
      "Student is passed\n",
      "Hey! Welcome to School\n",
      "True\n"
     ]
    }
   ],
   "source": [
    "from datetime import date\n",
    "\n",
    "class Student:\n",
    "    def __init__(self, name, age, percentage):\n",
    "        self.__name = name            # private attribute\n",
    "        self._age = age             # Protected attribute\n",
    "        self.percentage = percentage  # Public attribute\n",
    "\n",
    "    def studentDetails(self):\n",
    "        print(\"Name:\", self.__name)\n",
    "        print(\"Age:\", self._age)\n",
    "        print(\"Percentage:\", self.percentage)\n",
    "\n",
    "    def isPassed(self):\n",
    "        if self.percentage > 40:  # Accessing private attribute\n",
    "            print(\"Student is passed\")\n",
    "        else:\n",
    "            print(\"Student is not passed\")\n",
    "            \n",
    "    def get_name(self):\n",
    "        return self.__name\n",
    "            \n",
    "    @classmethod\n",
    "    def fromBirthYear(cls, name, year, percentage):\n",
    "        current_year = date.today().year\n",
    "        age = current_year - year\n",
    "        return cls(name, age, percentage)\n",
    "        \n",
    "    @staticmethod\n",
    "    def welcomeToSchool():\n",
    "        print(\"Hey! Welcome to School\")\n",
    "        \n",
    "    @staticmethod\n",
    "    def isTeen(age):\n",
    "        return 13 <= age <= 19\n",
    "\n",
    "# Example usage:\n",
    "student1 = Student.fromBirthYear(\"Alice\", 2005, 75)\n",
    "\n",
    "# Accessing the private attribute directly (though discouraged)\n",
    "# print(student1.__name)  # This will raise an AttributeError\n",
    "\n",
    "# Accessing the private attribute using the mangled name\n",
    "print(student1._Student__name)  # This works but is discouraged\n",
    "\n",
    "# Using the public method to access the private attribute\n",
    "print(student1.get_name())  # This is the recommended way\n",
    "\n",
    "print()\n",
    "student1.studentDetails()\n",
    "student1.isPassed()\n",
    "Student.welcomeToSchool()\n",
    "print(Student.isTeen(17))"
   ]
  },
  {
   "cell_type": "markdown",
   "id": "4defdbf7-ef68-40bb-85ff-1ce1f4323553",
   "metadata": {},
   "source": [
    "# Fraction Class"
   ]
  },
  {
   "cell_type": "code",
   "execution_count": 175,
   "id": "06653d97-05f6-44c4-9829-7fe11891cd41",
   "metadata": {},
   "outputs": [],
   "source": [
    "class Fraction:\n",
    "    def __init__(self, num = 0, den = 1): # default values\n",
    "        if den == 0:\n",
    "            # Throw error\n",
    "            den = 1\n",
    "        self.num = num\n",
    "        self.den = den\n",
    "\n",
    "    def print(self):\n",
    "        if self.num == 0:\n",
    "            print(0)\n",
    "        elif self.den == 1:\n",
    "            print(self.num)\n",
    "        else:\n",
    "            print(self.num,\"/\",self.den)\n",
    "\n",
    "\n",
    "    def simply(self):\n",
    "        if self.num ==  0:\n",
    "            self.den = 1\n",
    "            return\n",
    "        \n",
    "        current = min(self.num, self.den)\n",
    "        \n",
    "        while current >1:\n",
    "            if self.num % current == 0 and self.den % current == 0:\n",
    "                break\n",
    "            current-=1\n",
    "        self.num = self.num // current\n",
    "        self.den = self.den // current\n",
    "\n",
    "    def add(self, f):\n",
    "        num =  self.num * f.den + self.den * f.num\n",
    "        den = self.den * f.den\n",
    "        \n",
    "        self.num = num\n",
    "        self.den = den\n",
    "        \n",
    "        self.simply()\n",
    "        \n",
    "    def multiply(self, f):\n",
    "        num = self.num * f.num\n",
    "        den = self.den * f.den\n",
    "\n",
    "        self.num = num\n",
    "        self.den = den \n",
    "        self.simply()"
   ]
  },
  {
   "cell_type": "code",
   "execution_count": 176,
   "id": "94174388-fee6-474d-9427-1afcc90b8c2c",
   "metadata": {},
   "outputs": [],
   "source": [
    "f = Fraction(3, 1)"
   ]
  },
  {
   "cell_type": "code",
   "execution_count": 177,
   "id": "aa926206-9662-4620-b8e6-089b29733ca5",
   "metadata": {},
   "outputs": [
    {
     "data": {
      "text/plain": [
       "{'num': 3, 'den': 1}"
      ]
     },
     "execution_count": 177,
     "metadata": {},
     "output_type": "execute_result"
    }
   ],
   "source": [
    "f.__dict__"
   ]
  },
  {
   "cell_type": "code",
   "execution_count": 178,
   "id": "e7c1ec29-c6c4-4743-a276-eb3c5541a37e",
   "metadata": {},
   "outputs": [],
   "source": [
    "f1 = Fraction(2)"
   ]
  },
  {
   "cell_type": "code",
   "execution_count": 179,
   "id": "edc33841-7999-4c35-bf4c-f86ecb5428ed",
   "metadata": {},
   "outputs": [
    {
     "data": {
      "text/plain": [
       "{'num': 2, 'den': 1}"
      ]
     },
     "execution_count": 179,
     "metadata": {},
     "output_type": "execute_result"
    }
   ],
   "source": [
    "f1.__dict__"
   ]
  },
  {
   "cell_type": "code",
   "execution_count": 180,
   "id": "e0fedefb-d0d2-47c2-8dbe-31f4d37395fc",
   "metadata": {},
   "outputs": [],
   "source": [
    "f2 = Fraction()"
   ]
  },
  {
   "cell_type": "code",
   "execution_count": 181,
   "id": "0de13c5a-fd03-4a76-b8ff-d010567ff54e",
   "metadata": {},
   "outputs": [
    {
     "data": {
      "text/plain": [
       "{'num': 0, 'den': 1}"
      ]
     },
     "execution_count": 181,
     "metadata": {},
     "output_type": "execute_result"
    }
   ],
   "source": [
    "f2.__dict__"
   ]
  },
  {
   "cell_type": "code",
   "execution_count": 182,
   "id": "3abdd454-e777-4448-8712-c8eac8663edc",
   "metadata": {},
   "outputs": [
    {
     "name": "stdout",
     "output_type": "stream",
     "text": [
      "3\n",
      "2\n"
     ]
    }
   ],
   "source": [
    "f.print()\n",
    "f1.print()\n",
    "f.add(f1)"
   ]
  },
  {
   "cell_type": "code",
   "execution_count": 183,
   "id": "5e965d69-672a-4aeb-967f-c45f122d2d2b",
   "metadata": {},
   "outputs": [
    {
     "name": "stdout",
     "output_type": "stream",
     "text": [
      "5\n"
     ]
    }
   ],
   "source": [
    "f.print()"
   ]
  },
  {
   "cell_type": "code",
   "execution_count": 184,
   "id": "e9ad2ad3-4ad7-43ee-843a-3c24b3496cc1",
   "metadata": {},
   "outputs": [],
   "source": [
    "f.multiply(f1)"
   ]
  },
  {
   "cell_type": "code",
   "execution_count": 185,
   "id": "92921535-4d38-4207-ad5c-f4e588cbcf2e",
   "metadata": {},
   "outputs": [
    {
     "name": "stdout",
     "output_type": "stream",
     "text": [
      "10\n"
     ]
    }
   ],
   "source": [
    "f.print()"
   ]
  },
  {
   "cell_type": "markdown",
   "id": "f326aab2-1ad8-445d-8d1d-66226139d169",
   "metadata": {},
   "source": [
    "# Complex Number Class\n",
    "1. There is inbuilt complex number class"
   ]
  },
  {
   "cell_type": "code",
   "execution_count": 187,
   "id": "6f45700d-1a67-45e4-9974-2263f5654af8",
   "metadata": {},
   "outputs": [
    {
     "name": "stdout",
     "output_type": "stream",
     "text": [
      "(6+8j)\n",
      "(-7+22j)\n",
      "(0.5609756097560976+0.0487804878048781j)\n"
     ]
    }
   ],
   "source": [
    "a = 2 + 3j\n",
    "b = 4 + 5j\n",
    "\n",
    "print(a+b)\n",
    "print(a*b)\n",
    "print(a/b)"
   ]
  },
  {
   "cell_type": "markdown",
   "id": "0c69db70-cf3e-48ae-ac77-1118bf75002f",
   "metadata": {},
   "source": [
    "**Implementation:**"
   ]
  },
  {
   "cell_type": "code",
   "execution_count": 219,
   "id": "f459464c-36f8-4471-80ed-949f4b4db7b2",
   "metadata": {},
   "outputs": [],
   "source": [
    "class Complex:\n",
    "    def __init__(self, real = 0, imag = 0):\n",
    "        self.real = real\n",
    "        self.imag = imag\n",
    "        \n",
    "    def add(self, c):\n",
    "        real = self.real + c.real\n",
    "        imag = self.imag + c.imag\n",
    "        self.real = real\n",
    "        self.imag = imag\n",
    "        \n",
    "    def subtract(self, c):\n",
    "        real = self.real - c.real\n",
    "        imag = self.imag - c.imag\n",
    "        self.real = real\n",
    "        self.imag = imag\n",
    "        \n",
    "    def multiply(self, c):\n",
    "        real = self.real * c.real - self.imag * c.imag\n",
    "        imag = self.imag * c.real + self.imag * c.real\n",
    "        self.real = real\n",
    "        self.imag = imag\n",
    "        \n",
    "    def conjugate(self):\n",
    "        self.imag = -(self.imag)\n",
    "        \n",
    "    def print(self):\n",
    "        if self.imag == 0:\n",
    "            print(self.real)\n",
    "        elif self.imag < 0 :\n",
    "            print(self.real,self.imag,\"j\")\n",
    "        else:\n",
    "            print(self.real,\"+\",self.imag,\"j\")\n",
    "        "
   ]
  },
  {
   "cell_type": "code",
   "execution_count": 220,
   "id": "2d80faf5-7e36-4e3a-895d-4b03fba36a2f",
   "metadata": {},
   "outputs": [],
   "source": [
    "c1 = Complex(2,4)\n",
    "c2 = Complex(5,6)"
   ]
  },
  {
   "cell_type": "code",
   "execution_count": 221,
   "id": "496aef83-370c-4c3b-8043-a2158e0f39cc",
   "metadata": {},
   "outputs": [],
   "source": [
    "c1.add(c2)"
   ]
  },
  {
   "cell_type": "code",
   "execution_count": 222,
   "id": "0786af94-2c21-4a3a-b2ca-b90dbe4c82e7",
   "metadata": {},
   "outputs": [
    {
     "name": "stdout",
     "output_type": "stream",
     "text": [
      "7 + 10 j\n"
     ]
    }
   ],
   "source": [
    "c1.print()"
   ]
  },
  {
   "cell_type": "code",
   "execution_count": 223,
   "id": "62b84ddb-f08b-40a5-b00a-602b1037a82d",
   "metadata": {},
   "outputs": [],
   "source": [
    "c3 = Complex(4,-4)"
   ]
  },
  {
   "cell_type": "code",
   "execution_count": 224,
   "id": "9bb76d95-9de9-46fb-ad7c-0297e23a1cc8",
   "metadata": {},
   "outputs": [],
   "source": [
    "c3.add(c2)"
   ]
  },
  {
   "cell_type": "code",
   "execution_count": 225,
   "id": "d5c540f6-5ba3-4340-b758-8cb8651198e7",
   "metadata": {},
   "outputs": [
    {
     "name": "stdout",
     "output_type": "stream",
     "text": [
      "9 + 2 j\n"
     ]
    }
   ],
   "source": [
    "c3.print()"
   ]
  },
  {
   "cell_type": "code",
   "execution_count": 226,
   "id": "87271fea-7f39-4138-9a51-5726a3ab39a9",
   "metadata": {},
   "outputs": [],
   "source": [
    "c3.multiply(c1)"
   ]
  },
  {
   "cell_type": "code",
   "execution_count": 227,
   "id": "5a029558-1444-4d32-a670-93b7ef1ce6d4",
   "metadata": {},
   "outputs": [
    {
     "name": "stdout",
     "output_type": "stream",
     "text": [
      "43 + 28 j\n"
     ]
    }
   ],
   "source": [
    "c3.print()"
   ]
  },
  {
   "cell_type": "code",
   "execution_count": 228,
   "id": "fb4a164e-774a-4bea-b7d0-778f02c62032",
   "metadata": {},
   "outputs": [],
   "source": [
    "c3.conjugate()"
   ]
  },
  {
   "cell_type": "code",
   "execution_count": 229,
   "id": "10ec549a-dece-4ece-aa7e-cdf5940a3f35",
   "metadata": {},
   "outputs": [
    {
     "data": {
      "text/plain": [
       "{'real': 43, 'imag': -28}"
      ]
     },
     "execution_count": 229,
     "metadata": {},
     "output_type": "execute_result"
    }
   ],
   "source": [
    "c3.__dict__"
   ]
  },
  {
   "cell_type": "markdown",
   "id": "d3e88da5-abfe-4a6d-b099-620d0de58dbd",
   "metadata": {},
   "source": [
    "# Inheritance\n",
    "\n",
    "Inheritance is a fundamental concept in object-oriented programming (OOP) that allows a new class to inherit properties and behaviors (attributes and methods) from an existing class. In Python, inheritance is used to create a new class (subclass or derived class) that inherits the attributes and methods of an existing class (superclass or base class). This promotes code reusability and allows you to create a hierarchy of classes.\n",
    "\n",
    "Here's how inheritance works in Python:\n",
    "\n",
    "```python\n",
    "class ParentClass:\n",
    "    def __init__(self, name):\n",
    "        self.name = name\n",
    "    \n",
    "    def speak(self):\n",
    "        print(f\"{self.name} is speaking.\")\n",
    "\n",
    "class ChildClass(ParentClass):\n",
    "    def __init__(self, name, age):\n",
    "        super().__init__(name)\n",
    "        self.age = age\n",
    "    \n",
    "    def speak(self):\n",
    "        print(f\"{self.name} is a child and is speaking.\")\n",
    "    \n",
    "    def play(self):\n",
    "        print(f\"{self.name} is playing.\")\n",
    "\n",
    "# Creating instances of classes\n",
    "parent = ParentClass(\"Parent\")\n",
    "child = ChildClass(\"Child\", 5)\n",
    "\n",
    "# Using inherited methods\n",
    "parent.speak()  # Output: Parent is speaking.\n",
    "child.speak()   # Output: Child is a child and is speaking.\n",
    "\n",
    "# Using subclass-specific methods\n",
    "child.play()    # Output: Child is playing.\n",
    "```\n",
    "\n",
    "In this example:\n",
    "- `ParentClass` is the base class with an `__init__` method to initialize the `name` attribute and a `speak` method.\n",
    "- `ChildClass` is the subclass that inherits from `ParentClass`. It also has an `__init__` method, but it uses `super()` to call the constructor of the parent class and then adds an `age` attribute. It overrides the `speak` method and adds a `play` method.\n",
    "\n",
    "Key points to note:\n",
    "1. In the subclass's `__init__` method, `super().__init__(...)` is used to call the constructor of the superclass, which ensures that the attributes of the parent class are properly initialized.\n",
    "2. If a method is defined in both the superclass and the subclass (like `speak` in this example), the subclass method overrides the superclass method. This is known as method overriding.\n",
    "3. Subclasses can add new attributes and methods that are specific to them, as shown with the `age` and `play` attributes in the `ChildClass`."
   ]
  },
  {
   "cell_type": "markdown",
   "id": "e73e836d-f55b-4965-8032-3655082407be",
   "metadata": {},
   "source": [
    "In Python, inheritance is a fundamental concept of object-oriented programming (OOP) that allows you to create new classes (called subclasses or derived classes) based on existing classes (called base classes or parent classes). Inheritance promotes code reusability and allows you to create a hierarchy of classes with shared characteristics and behaviors. There are several types of inheritance in Python:\n",
    "\n",
    "1. **Single Inheritance:** In single inheritance, a class inherits from only one base class. This is the simplest form of inheritance."
   ]
  },
  {
   "cell_type": "code",
   "execution_count": 7,
   "id": "04b39e55-4b47-48b7-92d4-c3f1df67d8bc",
   "metadata": {},
   "outputs": [
    {
     "name": "stdout",
     "output_type": "stream",
     "text": [
      "Parent method\n",
      "Child method\n"
     ]
    }
   ],
   "source": [
    "class Parent:\n",
    "    def parent_method(self):\n",
    "        print(\"Parent method\")\n",
    "\n",
    "class Child(Parent):\n",
    "    def child_method(self):\n",
    "        print(\"Child method\")\n",
    "\n",
    "child_obj = Child()\n",
    "child_obj.parent_method()  # Accessing method from Parent class\n",
    "child_obj.child_method()   # Accessing method from Child class"
   ]
  },
  {
   "cell_type": "code",
   "execution_count": 230,
   "id": "6a2f8593-db83-4c12-a3d1-017e71f5ddcb",
   "metadata": {},
   "outputs": [],
   "source": [
    "class Vehicle:\n",
    "    def __init__(self, color, maxspeed):\n",
    "        self.color = color\n",
    "        self.maxspeed = maxspeed\n",
    "\n",
    "class Car(Vehicle):\n",
    "    def __init__(self, color, maxspeed, numGears, isConvertible):\n",
    "        super().__init__(color, maxspeed)\n",
    "        self.numGears = numGears\n",
    "        self.isConvertible = isConvertible\n",
    "        \n",
    "    def printCar(self):\n",
    "        print(\"Color: \",self.color)\n",
    "        print(\"maxspeed: \",self.maxspeed)\n",
    "        print(\"numGears: \",self.numGears)\n",
    "        print(\"isConvertible: \",self.isConvertible)\n",
    "        "
   ]
  },
  {
   "cell_type": "code",
   "execution_count": 232,
   "id": "e610c1a4-7404-47e6-a6ce-ca65b444415a",
   "metadata": {},
   "outputs": [
    {
     "name": "stdout",
     "output_type": "stream",
     "text": [
      "Color:  White\n",
      "maxspeed:  150\n",
      "numGears:  3\n",
      "isConvertible:  False\n"
     ]
    }
   ],
   "source": [
    "c = Car(\"White\",150,3,False)\n",
    "c.printCar()"
   ]
  },
  {
   "cell_type": "markdown",
   "id": "6d592bc6-4786-49f9-8791-d82ac1f422d9",
   "metadata": {},
   "source": [
    "### Private members are not acessible for child classes. for getting acess, we use public functions called setters and getters "
   ]
  },
  {
   "cell_type": "code",
   "execution_count": 234,
   "id": "52388a41-6631-41b1-88dd-0b0e55b661cb",
   "metadata": {},
   "outputs": [],
   "source": [
    "class Vehicle:\n",
    "    def __init__(self, color, maxspeed):\n",
    "        self.color = color\n",
    "        self.__maxspeed = maxspeed\n",
    "        \n",
    "    def getMaxSpeed(self):\n",
    "        return self.__maxspeed\n",
    "        \n",
    "    def setMaxSpeed(self, maxspeed):\n",
    "        self.__maxspeed = maxspeed\n",
    "\n",
    "class Car(Vehicle):\n",
    "    def __init__(self, color, maxspeed, numGears, isConvertible):\n",
    "        super().__init__(color, maxspeed)\n",
    "        self.numGears = numGears\n",
    "        self.isConvertible = isConvertible\n",
    "        \n",
    "    def printCar(self):\n",
    "        print(\"Color: \",self.color)\n",
    "        print(\"maxspeed: \",self.getMaxSpeed())\n",
    "        print(\"numGears: \",self.numGears)\n",
    "        print(\"isConvertible: \",self.isConvertible)"
   ]
  },
  {
   "cell_type": "code",
   "execution_count": 235,
   "id": "a6ef7f1d-b928-4ee0-b932-acf309aede0f",
   "metadata": {},
   "outputs": [
    {
     "name": "stdout",
     "output_type": "stream",
     "text": [
      "Color:  Black\n",
      "maxspeed:  200\n",
      "numGears:  4\n",
      "isConvertible:  True\n"
     ]
    }
   ],
   "source": [
    "c = Car(\"Black\",200,4,True)\n",
    "c.printCar()"
   ]
  },
  {
   "cell_type": "markdown",
   "id": "8c13b547-d94a-4f6b-8c59-9ffd8e8b8ddf",
   "metadata": {},
   "source": [
    "**Calling Function of Parent from Derived Class**"
   ]
  },
  {
   "cell_type": "code",
   "execution_count": 236,
   "id": "f4013424-ae99-463f-a133-80341e6caa63",
   "metadata": {},
   "outputs": [],
   "source": [
    "class Vehicle:\n",
    "    def __init__(self, color, maxspeed):\n",
    "        self.color = color\n",
    "        self.__maxspeed = maxspeed\n",
    "        \n",
    "    def getMaxSpeed(self):\n",
    "        return self.__maxspeed\n",
    "        \n",
    "    def setMaxSpeed(self, maxspeed):\n",
    "        self.__maxspeed = maxspeed\n",
    "        \n",
    "    def print(self):\n",
    "        print(\"Color: \",self.color)\n",
    "        print(\"maxspeed: \",self.__maxspeed)\n",
    "\n",
    "class Car(Vehicle):\n",
    "    def __init__(self, color, maxspeed, numGears, isConvertible):\n",
    "        super().__init__(color, maxspeed)\n",
    "        self.numGears = numGears\n",
    "        self.isConvertible = isConvertible\n",
    "        \n",
    "    def printCar(self):\n",
    "        self.print()\n",
    "        # super().print() #same as above, in this case\n",
    "        print(\"numGears: \",self.numGears)\n",
    "        print(\"isConvertible: \",self.isConvertible)"
   ]
  },
  {
   "cell_type": "code",
   "execution_count": 237,
   "id": "9486eb52-1276-4a08-920c-5d2d1a62a97a",
   "metadata": {},
   "outputs": [
    {
     "name": "stdout",
     "output_type": "stream",
     "text": [
      "Color:  Black\n",
      "maxspeed:  200\n",
      "numGears:  4\n",
      "isConvertible:  True\n"
     ]
    }
   ],
   "source": [
    "c = Car(\"Black\",200,4,True)\n",
    "c.printCar()"
   ]
  },
  {
   "cell_type": "markdown",
   "id": "ac0ae02c-a68a-4771-b5e0-19244a47d4ed",
   "metadata": {},
   "source": [
    "# Polymorphism\n",
    "\n",
    "- Ability to take multiple forms\n",
    "\n",
    "The term \"polymorphism\" comes from Greek, where \"poly\" means \"many\" and \"morph\" means \"form.\" So, polymorphism refers to the ability of an object to respond to the same method or function call in their own unique way. It is one of the key principles of object-oriented programming (OOP) and is closely related to inheritance and method overriding.\n",
    "\n",
    "Polymorphism allows you to write more generic and flexible code, as you can design your functions or methods to work with a variety of different object types, as long as they adhere to a common interface (i.e., they have the required methods or attributes).\n",
    "\n",
    "There are two main types of polymorphism in Python: compile-time (or method overloading) polymorphism and runtime (or method overriding) polymorphism.\n",
    "\n",
    "1. **Compile-Time Polymorphism (Method Overloading):** In some programming languages, you can define multiple methods with the same name but different parameter lists. This is known as method overloading. However, Python does not support traditional method overloading like some other languages. In Python, if you define multiple methods with the same name in a class, only the last one defined will be kept. This is because Python's method resolution is based on the parameter signature, and the last method defined will overwrite the previous ones.\n",
    "\n",
    "2. **Runtime (Dynamic) Polymorphism:**\n",
    "   This is also known as method overriding or late binding. It allows a subclass to provide a specific implementation for a method that is already defined in its superclass. The appropriate method to call is determined at runtime based on the actual object's type.\n",
    "\n",
    "Here's an example of runtime polymorphism (method overriding) in Python:\n",
    "\n",
    "```python\n",
    "class Animal:\n",
    "    def speak(self):\n",
    "        pass\n",
    "\n",
    "class Dog(Animal):\n",
    "    def speak(self):\n",
    "        return \"Woof!\"\n",
    "\n",
    "class Cat(Animal):\n",
    "    def speak(self):\n",
    "        return \"Meow!\"\n",
    "\n",
    "def animal_sound(animal):\n",
    "    return animal.speak()\n",
    "\n",
    "dog = Dog()\n",
    "cat = Cat()\n",
    "\n",
    "print(animal_sound(dog))  # Output: Woof!\n",
    "print(animal_sound(cat))  # Output: Meow!\n",
    "```\n",
    "\n",
    "In this example, both `Dog` and `Cat` classes inherit from the `Animal` class and override the `speak` method. The `animal_sound` function takes an instance of `Animal` (which can be a `Dog` or a `Cat` due to polymorphism) and calls the `speak` method, resulting in different behaviors depending on the actual instance passed."
   ]
  },
  {
   "cell_type": "code",
   "execution_count": 6,
   "id": "1679a9d5-e4ec-4db6-b664-fb39703746a5",
   "metadata": {},
   "outputs": [],
   "source": [
    "class MathOperations:\n",
    "    def add(self, a, b):\n",
    "        return a + b\n",
    "\n",
    "    def add(self, a, b, c):\n",
    "        return a + b + c\n",
    "\n",
    "math_obj = MathOperations()\n",
    "\n",
    "# result1 = math_obj.add(2, 3)       # Calls the second add method\n",
    "# TypeError: MathOperations.add() missing 1 required positional argument: 'c'\n",
    "\n",
    "result2 = math_obj.add(2, 3, 4)    # Calls the second add method"
   ]
  },
  {
   "cell_type": "code",
   "execution_count": 238,
   "id": "b42a6987-56ad-43bb-bd79-2a09bea1c6d0",
   "metadata": {},
   "outputs": [],
   "source": [
    "class Vehicle:\n",
    "    def __init__(self, color, maxspeed):\n",
    "        self.color = color\n",
    "        self.__maxspeed = maxspeed\n",
    "        \n",
    "    def getMaxSpeed(self):\n",
    "        return self.__maxspeed\n",
    "        \n",
    "    def setMaxSpeed(self, maxspeed):\n",
    "        self.__maxspeed = maxspeed\n",
    "        \n",
    "    def print(self):\n",
    "        print(\"Color: \",self.color)\n",
    "        print(\"maxspeed: \",self.__maxspeed)\n",
    "\n",
    "class Car(Vehicle):\n",
    "    def __init__(self, color, maxspeed, numGears, isConvertible):\n",
    "        super().__init__(color, maxspeed)\n",
    "        self.numGears = numGears\n",
    "        self.isConvertible = isConvertible\n",
    "        \n",
    "    def print(self):\n",
    "        # self.print() goes into recursion with itself : to Maximum depth exceeded\n",
    "        super().print() #should be super() to avoid recursion\n",
    "        print(\"numGears: \",self.numGears)\n",
    "        print(\"isConvertible: \",self.isConvertible)"
   ]
  },
  {
   "cell_type": "code",
   "execution_count": 240,
   "id": "62f80678-bbe5-4faa-aef4-2806f4b3dd61",
   "metadata": {},
   "outputs": [
    {
     "name": "stdout",
     "output_type": "stream",
     "text": [
      "Color:  Black\n",
      "maxspeed:  200\n",
      "numGears:  4\n",
      "isConvertible:  True\n"
     ]
    }
   ],
   "source": [
    "c = Car(\"Black\",200,4,True)\n",
    "c.print()"
   ]
  },
  {
   "cell_type": "code",
   "execution_count": 242,
   "id": "3786f9b7-2bc9-42df-a563-fbc6748bde92",
   "metadata": {},
   "outputs": [
    {
     "name": "stdout",
     "output_type": "stream",
     "text": [
      "black5"
     ]
    }
   ],
   "source": [
    "class Vehicle:\n",
    "    def __init__(self, color):\n",
    "        self.color = color\n",
    "\n",
    "    def print(self):\n",
    "        print(\"Color: \",self.color)\n",
    "\n",
    "class Car(Vehicle):\n",
    "    def __init__(self, color,numGears):\n",
    "        super().__init__(color)\n",
    "        self.numGears = numGears\n",
    "        \n",
    "    def print(self):\n",
    "        print(c.color, end = \"\")\n",
    "        print(c.numGears, end = \"\")\n",
    "\n",
    "c = Car(\"black \", 5)\n",
    "c.print()"
   ]
  },
  {
   "cell_type": "markdown",
   "id": "4ac94095-26c3-4eb7-b792-a7d12f3a0184",
   "metadata": {},
   "source": [
    "## Protected Member:\n",
    "In Python, there is a concept of \"protected\" members, which are meant to be treated as non-public parts of a class, although they can still be accessed from outside the class. The convention for protected members is to prefix their names with a single underscore _. This indicates to other developers that these attributes or methods are intended for internal use within the class or its subclasses.\n",
    "\n",
    "Protected Members are just like public members\n",
    "\n",
    "Python thinks programmers are sensible\n"
   ]
  },
  {
   "cell_type": "code",
   "execution_count": 243,
   "id": "6e4f6fef-4cad-41a1-abe0-90411d4db1a4",
   "metadata": {},
   "outputs": [],
   "source": [
    "class Vehicle:\n",
    "    def __init__(self, color, maxspeed):\n",
    "        self.color = color\n",
    "        self._maxspeed = maxspeed\n",
    "        \n",
    "    def getMaxSpeed(self):\n",
    "        return self._maxspeed\n",
    "        \n",
    "    def setMaxSpeed(self, maxspeed):\n",
    "        self._maxspeed = maxspeed\n",
    "        \n",
    "    def print(self):\n",
    "        print(\"Color: \",self.color)\n",
    "        print(\"maxspeed: \",self._maxspeed)\n",
    "\n",
    "class Car(Vehicle):\n",
    "    def __init__(self, color, maxspeed, numGears, isConvertible):\n",
    "        super().__init__(color, maxspeed)\n",
    "        self.numGears = numGears\n",
    "        self.isConvertible = isConvertible\n",
    "        \n",
    "    def print(self):\n",
    "        print(\"Color: \",self.color)\n",
    "        print(\"maxspeed: \",self._maxspeed)\n",
    "        print(\"numGears: \",self.numGears)\n",
    "        print(\"isConvertible: \",self.isConvertible)"
   ]
  },
  {
   "cell_type": "code",
   "execution_count": 244,
   "id": "c6cdad72-8b7c-417d-8eb0-a63fd52165c0",
   "metadata": {},
   "outputs": [
    {
     "name": "stdout",
     "output_type": "stream",
     "text": [
      "Color:  Black\n",
      "maxspeed:  200\n",
      "numGears:  4\n",
      "isConvertible:  True\n"
     ]
    }
   ],
   "source": [
    "c = Car(\"Black\",200,4,True)\n",
    "c.print()"
   ]
  },
  {
   "cell_type": "code",
   "execution_count": 247,
   "id": "acd23ff7-f3f5-4724-90d3-17bb6283fc27",
   "metadata": {},
   "outputs": [],
   "source": [
    "c._maxspeed = 20 # no error"
   ]
  },
  {
   "cell_type": "code",
   "execution_count": 248,
   "id": "9a8c1ea5-1eed-46e9-8962-d0fb980ff4ab",
   "metadata": {},
   "outputs": [
    {
     "name": "stdout",
     "output_type": "stream",
     "text": [
      "Color:  Black\n",
      "maxspeed:  20\n",
      "numGears:  4\n",
      "isConvertible:  True\n"
     ]
    }
   ],
   "source": [
    "c.print()"
   ]
  },
  {
   "cell_type": "markdown",
   "id": "b0faf0c1-a89c-44b3-b628-d6c35406938b",
   "metadata": {},
   "source": [
    "## Object Class\n",
    "In Python, every class is derived from a base class called the \"object\" class. The `object` class is at the top of the class hierarchy in Python's object-oriented programming system. It is the most general class and serves as the base class for all other classes.\n",
    "\n",
    "Here are some key points about the `object` class:\n",
    "\n",
    "1. **Implicit Inheritance:** All classes in Python implicitly inherit from the `object` class. This means that if you define a class without specifying a base class, it will automatically inherit from `object`.\n",
    "\n",
    "2. **Methods and Attributes:** The `object` class provides several built-in methods and attributes that are available to all objects in Python. Some of these methods include `__str__`, `__repr__`, `__eq__`, `__hash__`, `__getattr__`, and more. These methods define default behaviors for objects and can be overridden in subclasses.\n",
    "\n",
    "3. **Built-in Functions:** Many built-in functions and operators in Python rely on the methods provided by the `object` class. For example, the `print` function calls the `__str__` method to convert an object to its string representation.\n",
    "\n",
    "4. **Metaclass:** The `object` class is also used as the default metaclass when creating new classes. The metaclass defines how a class behaves, including how its instances are created and initialized.\n",
    "\n",
    "`__init__`\n",
    "`__str__`\n",
    "`__new__`\n",
    "\n",
    "\n",
    "\n",
    "Here's a simple example demonstrating the implicit inheritance from the `object` class:\n",
    "\n",
    "```python\n",
    "class MyClass:\n",
    "    pass\n",
    "\n",
    "obj = MyClass()\n",
    "\n",
    "# Checking if the class inherits from the object class\n",
    "print(isinstance(obj, object))  # Output: True\n",
    "```\n",
    "\n",
    "In this example, the `MyClass` class does not explicitly inherit from any class, but it still inherits from the `object` class.\n",
    "\n",
    "It's important to note that the `object` class is a fundamental part of Python's object-oriented programming model, and its methods and behaviors underlie many aspects of how classes and objects work in the language. While you don't typically need to interact with the `object` class directly in your code, understanding its role helps you grasp the foundations of Python's object-oriented design."
   ]
  },
  {
   "cell_type": "code",
   "execution_count": 249,
   "id": "387807f6-c6b6-4305-a0ef-aaa35c499b2d",
   "metadata": {},
   "outputs": [],
   "source": [
    "class Circle:\n",
    "    def __init__(self,radius):\n",
    "        self.__radius = radius\n",
    "    def __str__(self):\n",
    "        return \"This is a circle class which takes radius as an argument\""
   ]
  },
  {
   "cell_type": "code",
   "execution_count": 250,
   "id": "ccac94d3-5b1f-42e0-ac17-8a90eaac7b6e",
   "metadata": {},
   "outputs": [],
   "source": [
    "c = Circle(5)"
   ]
  },
  {
   "cell_type": "code",
   "execution_count": 251,
   "id": "9fc4adc9-1b55-48ed-a10a-118e161a705d",
   "metadata": {},
   "outputs": [
    {
     "name": "stdout",
     "output_type": "stream",
     "text": [
      "This is a circle class which takes radius as an argument\n"
     ]
    }
   ],
   "source": [
    "print(c)"
   ]
  },
  {
   "cell_type": "markdown",
   "id": "e0ced908-76c7-4819-84db-8397c4902b8d",
   "metadata": {},
   "source": []
  },
  {
   "cell_type": "markdown",
   "id": "5ca07640-9c8f-4f9c-a2d5-8eb32103595f",
   "metadata": {},
   "source": [
    "# Multiple Inheritance:\n",
    "- In multiple inheritance, a class can inherit from more than one base class. This allows the derived class to inherit attributes and methods from multiple parent classes.\n",
    "- In other words, a class can have multiple base classes, and it can inherit behaviors from all of them. Python supports multiple inheritance, which means that a class can inherit from multiple parent classes.\n",
    "\n",
    "Key points to note about multiple inheritance in Python:\n",
    "\n",
    "1. **Method Resolution Order (MRO):** When a class inherits from multiple classes, Python follows a method resolution order known as the C3 linearization algorithm to determine the order in which methods are looked up. This order ensures that methods are searched for in a consistent and predictable way.\n",
    "\n",
    "2. **Diamond Problem:** Multiple inheritance can lead to a situation called the \"diamond problem,\" where a class inherits from two classes that have a common base class. This can create ambiguities in method resolution. In Python, the C3 linearization algorithm helps resolve such ambiguities.\n",
    "\n",
    "3. **Super Function:** When working with multiple inheritance, the `super()` function is used to call methods of parent classes in a way that respects the method resolution order. This ensures that methods are called only once, and it's particularly useful when dealing with complex inheritance hierarchies.\n",
    "\n",
    "4. **Order of Base Classes:** The order in which you specify the base classes matters. Python will search for methods in the order you provide. If there are method name conflicts, the method from the first specified class will take precedence.\n",
    "\n",
    "Multiple inheritance can be a powerful tool for creating complex class hierarchies and promoting code reuse. However, it should be used with care to avoid creating overly complicated and hard-to-maintain code."
   ]
  },
  {
   "cell_type": "code",
   "execution_count": 254,
   "id": "da7c11e4-0c84-4993-9d5d-30956ba26a1b",
   "metadata": {},
   "outputs": [
    {
     "name": "stdout",
     "output_type": "stream",
     "text": [
      "Father Called\n"
     ]
    }
   ],
   "source": [
    "class Mother:\n",
    "    def print(self):\n",
    "        print(\"Mother Called\")\n",
    "\n",
    "class Father:\n",
    "    def print(self):\n",
    "        print(\"Father Called\")\n",
    "\n",
    "class Child(Father, Mother):\n",
    "    def __init__(self, name):\n",
    "        self.name = name\n",
    "    def printChild(self):\n",
    "        print(\"Name of child is \", self.name)\n",
    "\n",
    "c = Child(\"Sony\")\n",
    "c.print()"
   ]
  },
  {
   "cell_type": "code",
   "execution_count": 255,
   "id": "0fa1d6b1-48e8-446c-8110-8ddc2c95a993",
   "metadata": {},
   "outputs": [
    {
     "name": "stdout",
     "output_type": "stream",
     "text": [
      "Mother Called\n"
     ]
    }
   ],
   "source": [
    "class Mother:\n",
    "    def print(self):\n",
    "        print(\"Mother Called\")\n",
    "\n",
    "class Father:\n",
    "    def print(self):\n",
    "        print(\"Father Called\")\n",
    "\n",
    "class Child( Mother, Father):\n",
    "    def __init__(self, name):\n",
    "        self.name = name\n",
    "    def printChild(self):\n",
    "        print(\"Name of child is \", self.name)\n",
    "\n",
    "c = Child(\"Sony\")\n",
    "c.print()"
   ]
  },
  {
   "cell_type": "code",
   "execution_count": 256,
   "id": "6ce43132-a703-4155-9fb8-596d36179d26",
   "metadata": {},
   "outputs": [
    {
     "name": "stdout",
     "output_type": "stream",
     "text": [
      "Name of child is  Sony\n"
     ]
    }
   ],
   "source": [
    "class Mother:\n",
    "    def print(self):\n",
    "        print(\"Mother Called\")\n",
    "\n",
    "class Father:\n",
    "    def print(self):\n",
    "        print(\"Father Called\")\n",
    "\n",
    "class Child( Mother, Father):\n",
    "    def __init__(self, name):\n",
    "        self.name = name\n",
    "    def print(self):\n",
    "        print(\"Name of child is \", self.name)\n",
    "\n",
    "c = Child(\"Sony\")\n",
    "c.print()"
   ]
  },
  {
   "cell_type": "code",
   "execution_count": 4,
   "id": "2c499741-b448-495b-8f74-af85569ec51f",
   "metadata": {},
   "outputs": [
    {
     "ename": "IndentationError",
     "evalue": "expected an indented block after function definition on line 14 (1126123419.py, line 15)",
     "output_type": "error",
     "traceback": [
      "\u001b[1;36m  Cell \u001b[1;32mIn[4], line 15\u001b[1;36m\u001b[0m\n\u001b[1;33m    def print(self):\u001b[0m\n\u001b[1;37m    ^\u001b[0m\n\u001b[1;31mIndentationError\u001b[0m\u001b[1;31m:\u001b[0m expected an indented block after function definition on line 14\n"
     ]
    }
   ],
   "source": [
    "class Mother:\n",
    "    def __init__(self):\n",
    "        self.name = \"Madhuri\"\n",
    "    def print(self):\n",
    "        print(\"Mother Called\")\n",
    "\n",
    "class Father:\n",
    "    def __init__(self):\n",
    "        self.name = \"Venkata Krishna\"\n",
    "    def print(self):\n",
    "        print(\"Father Called\")\n",
    "\n",
    "class Child( Mother, Father):\n",
    "    def __init__(self):\n",
    "        super().__init__()\n",
    "        \n",
    "    def print(self):\n",
    "        print(\"Name is \", self.name)\n",
    "\n",
    "c = Child()\n",
    "c.print()"
   ]
  },
  {
   "cell_type": "markdown",
   "id": "a3d01c9d-f43f-4835-b5e7-edefc44fd065",
   "metadata": {},
   "source": [
    "# Method resolution order\n",
    "\n",
    "Depth First Search"
   ]
  },
  {
   "cell_type": "code",
   "execution_count": 10,
   "id": "696286ba-b14d-49c4-a5a3-38b9acb0ff6f",
   "metadata": {},
   "outputs": [
    {
     "name": "stdout",
     "output_type": "stream",
     "text": [
      "Name is  Venkata Krishna\n",
      "[<class '__main__.Child'>, <class '__main__.Mother'>, <class '__main__.Father'>, <class 'object'>]\n"
     ]
    }
   ],
   "source": [
    "class Mother:\n",
    "    def __init__(self):\n",
    "        self.name = \"Madhuri\"\n",
    "        super().__init__()\n",
    "        \n",
    "    def print(self):\n",
    "        print(\"Mother Called\")\n",
    "\n",
    "class Father:\n",
    "    def __init__(self):\n",
    "        self.name = \"Venkata Krishna\"\n",
    "        super().__init__()\n",
    "        \n",
    "    def print(self):\n",
    "        print(\"Father Called\")\n",
    "\n",
    "class Child( Mother, Father):\n",
    "    def __init__(self):\n",
    "        super().__init__()\n",
    "        \n",
    "    def print(self):\n",
    "        print(\"Name is \", self.name)\n",
    "\n",
    "c = Child()\n",
    "c.print()\n",
    "print(Child.mro())"
   ]
  },
  {
   "cell_type": "markdown",
   "id": "1ffe9634-c8c0-471d-a4a7-e8b8d93a2cb8",
   "metadata": {},
   "source": [
    "## Multilevel Inheritance:\n",
    "In multilevel inheritance, a class is derived from another class which is itself derived from another class. This forms a chain of inheritance."
   ]
  },
  {
   "cell_type": "code",
   "execution_count": 9,
   "id": "064140d1-8ded-4712-a92f-1b002100d43e",
   "metadata": {},
   "outputs": [
    {
     "name": "stdout",
     "output_type": "stream",
     "text": [
      "Grandparent method\n",
      "Parent method\n",
      "Child method\n"
     ]
    }
   ],
   "source": [
    "\n",
    "class Grandparent:\n",
    "    def grandparent_method(self):\n",
    "        print(\"Grandparent method\")\n",
    "\n",
    "class Parent(Grandparent):\n",
    "    def parent_method(self):\n",
    "        print(\"Parent method\")\n",
    "\n",
    "class Child(Parent):\n",
    "    def child_method(self):\n",
    "        print(\"Child method\")\n",
    "\n",
    "child_obj = Child()\n",
    "child_obj.grandparent_method()\n",
    "child_obj.parent_method()\n",
    "child_obj.child_method()"
   ]
  },
  {
   "cell_type": "markdown",
   "id": "ed6f1e53-0049-409d-b33d-cb3ddc2f7d85",
   "metadata": {},
   "source": [
    "## Hierarchical Inheritance:\n",
    "In hierarchical inheritance, multiple classes inherit from a single base class. Each derived class can have its own additional attributes and methods."
   ]
  },
  {
   "cell_type": "code",
   "execution_count": 10,
   "id": "87b1b663-0e89-4811-902d-3cfe6f2e7818",
   "metadata": {},
   "outputs": [
    {
     "name": "stdout",
     "output_type": "stream",
     "text": [
      "Base method\n",
      "Child 1 method\n",
      "Base method\n",
      "Child 2 method\n"
     ]
    }
   ],
   "source": [
    "class Base:\n",
    "    def base_method(self):\n",
    "        print(\"Base method\")\n",
    "\n",
    "class Child1(Base):\n",
    "    def child1_method(self):\n",
    "        print(\"Child 1 method\")\n",
    "\n",
    "class Child2(Base):\n",
    "    def child2_method(self):\n",
    "        print(\"Child 2 method\")\n",
    "\n",
    "child1_obj = Child1()\n",
    "child2_obj = Child2()\n",
    "\n",
    "child1_obj.base_method()\n",
    "child1_obj.child1_method()\n",
    "\n",
    "child2_obj.base_method()\n",
    "child2_obj.child2_method()"
   ]
  },
  {
   "cell_type": "markdown",
   "id": "6a7a9a9b-a03f-4b9f-a96b-80debe8318bd",
   "metadata": {},
   "source": [
    "## Hybrid Inheritance:\n",
    "Hybrid inheritance is a combination of two or more types of inheritance. It can include a mix of single, multiple, multilevel, or hierarchical inheritance.\n",
    "\n",
    "It's important to be mindful of the complexities that can arise with multiple and hybrid inheritance, as it might lead to the diamond problem (ambiguities when a class inherits from multiple classes with common ancestors). In Python, the Method Resolution Order (MRO) helps determine the order in which base classes are searched when resolving method calls.\n",
    "\n",
    "In general, while inheritance can be a powerful tool, overuse of complex inheritance hierarchies can lead to code that's difficult to understand and maintain."
   ]
  },
  {
   "cell_type": "markdown",
   "id": "e6a8e862-5540-4333-a5b2-e07b2e3a8c02",
   "metadata": {},
   "source": [
    "## Operator overloading\n",
    "\n",
    "Operator overloading in Python allows you to define custom behaviors for built-in operators such as `+`, `-`, `*`, `/`, `==`, `!=`, `>`, `<`, and more. By implementing special methods in your class, you can control how these operators work on instances of that class. This makes your objects more intuitive and expressive when used in operations.\n",
    "\n",
    "Here's how you can achieve operator overloading in Python:\n",
    "\n",
    "1. Choose the operator you want to overload.\n",
    "2. Implement the corresponding special method in your class.\n",
    "\n",
    "Here are a few examples:\n",
    "\n",
    "1. **Binary Operators:**\n",
    "\n",
    "   - `__add__(self, other)`: Overloads the `+` operator.\n",
    "   - `__sub__(self, other)`: Overloads the `-` operator.\n",
    "   - `__mul__(self, other)`: Overloads the `*` operator.\n",
    "   - `__truediv__(self, other)`: Overloads the `/` operator.\n",
    "   - `__mod__(self, other)`: Overloads the `%` operator.\n",
    "   - `__eq__(self, other)`: Overloads the `==` operator.\n",
    "   - `__ne__(self, other)`: Overloads the `!=` operator.\n",
    "   - `__lt__(self, other)`: Overloads the `<` operator.\n",
    "   - `__gt__(self, other)`: Overloads the `>` operator.\n",
    "   - `__le__(self, other)`: Overloads the `<=` operator.\n",
    "   - `__ge__(self, other)`: Overloads the `>=` operator.\n",
    "\n",
    "2. **Unary Operators:**\n",
    "\n",
    "   - `__neg__(self)`: Overloads the unary `-` operator.\n",
    "   - `__pos__(self)`: Overloads the unary `+` operator.\n",
    "   - `__abs__(self)`: Overloads the `abs()` function.\n",
    "\n",
    "Remember that operator overloading should be used judiciously and follow logical conventions to avoid confusion and unexpected behavior in your code."
   ]
  },
  {
   "cell_type": "code",
   "execution_count": 11,
   "id": "1a76ee0f-65a9-4d95-9946-098a00b4b000",
   "metadata": {},
   "outputs": [
    {
     "name": "stdout",
     "output_type": "stream",
     "text": [
      "4 + 6j\n"
     ]
    }
   ],
   "source": [
    "\n",
    "class ComplexNumber:\n",
    "    def __init__(self, real, imag):\n",
    "        self.real = real\n",
    "        self.imag = imag\n",
    "    \n",
    "    def __add__(self, other):\n",
    "        return ComplexNumber(self.real + other.real, self.imag + other.imag)\n",
    "    \n",
    "    def __str__(self):\n",
    "        return f\"{self.real} + {self.imag}j\"\n",
    "\n",
    "        return f\"{self.real} + {self.imag}j\"\n",
    "\n",
    "c1 = ComplexNumber(3, 4)\n",
    "c2 = ComplexNumber(1, 2)\n",
    "result = c1 + c2  # This will call c1.__add__(c2)\n",
    "print(result)     # Output: 4 + 6j\n"
   ]
  },
  {
   "cell_type": "code",
   "execution_count": 15,
   "id": "bc52e16f-5a60-403a-a352-dceb75d447f8",
   "metadata": {},
   "outputs": [
    {
     "name": "stdout",
     "output_type": "stream",
     "text": [
      "The point is at 4 , 6\n"
     ]
    }
   ],
   "source": [
    "import math\n",
    "\n",
    "class Point:\n",
    "    def __init__(self, x, y):\n",
    "        self.x = x\n",
    "        self.y = y\n",
    "    \n",
    "    def __add__(self, p):\n",
    "        return Point(self.x + p.x, self.y + p.y)\n",
    "    \n",
    "    def __str__(self):\n",
    "        return f\"The point is at {self.x} , {self.y}\"\n",
    "    def __lt__(self, p):\n",
    "        a = math.sqrt(self.x**2 + self.y**2)\n",
    "        b = math.sqrt(p.x**2 + p.y**2)\n",
    "        return a < b\n",
    "\n",
    "p1 = Point(3, 4)\n",
    "p2 = Point(1, 2)\n",
    "result = p1 + p2  # This will call c1.__add__(c2)\n",
    "print(result)     # Output: 4 + 6j"
   ]
  },
  {
   "cell_type": "code",
   "execution_count": 16,
   "id": "966fc9b8-326d-4cdc-a997-cdc19a76e48b",
   "metadata": {},
   "outputs": [
    {
     "name": "stdout",
     "output_type": "stream",
     "text": [
      "False\n"
     ]
    }
   ],
   "source": [
    "print( p1 < p2 )"
   ]
  },
  {
   "cell_type": "markdown",
   "id": "1597c2ef-e834-401c-b63e-6215f24d477c",
   "metadata": {},
   "source": [
    "# Abstract classes\n",
    "\n",
    "In Python, abstract classes are classes that cannot be instantiated directly and are meant to serve as a blueprint for other classes. They define a set of methods that subclasses are required to implement. Abstract classes are used to define a common interface for a group of related classes while ensuring that certain methods are implemented consistently across those subclasses. Python provides a module called `abc` (Abstract Base Classes) to facilitate the creation of abstract classes.\n",
    "\n",
    "To create an abstract class in Python:\n",
    "\n",
    "1. Import the `abc` module.\n",
    "2. Inherit from the `ABC` class provided by the module.\n",
    "3. Use the `@abstractmethod` decorator to mark methods that need to be implemented in subclasses.\n",
    "\n",
    "In this example, the `Shape` class is an abstract class that defines two abstract methods, `area()` and `perimeter()`. The `Circle` and `Rectangle` classes inherit from `Shape` and implement these methods.\n",
    "\n",
    "By defining abstract classes and requiring certain methods to be implemented, you create a clear and standardized structure for subclasses to follow. This helps in maintaining a consistent design and behavior across different classes.\n",
    "\n",
    "- Abstract methods can have code"
   ]
  },
  {
   "cell_type": "code",
   "execution_count": 17,
   "id": "d0d667c7-92e9-4a4a-a924-ea2971a1f90a",
   "metadata": {},
   "outputs": [
    {
     "name": "stdout",
     "output_type": "stream",
     "text": [
      "Circle area: 78.5\n",
      "Circle perimeter: 31.400000000000002\n",
      "Rectangle area: 24\n",
      "Rectangle perimeter: 20\n"
     ]
    }
   ],
   "source": [
    "from abc import ABC, abstractmethod\n",
    "\n",
    "class Shape(ABC):\n",
    "    @abstractmethod\n",
    "    def area(self):\n",
    "        pass\n",
    "    \n",
    "    @abstractmethod\n",
    "    def perimeter(self):\n",
    "        pass\n",
    "\n",
    "class Circle(Shape):\n",
    "    def __init__(self, radius):\n",
    "        self.radius = radius\n",
    "    \n",
    "    def area(self):\n",
    "        return 3.14 * self.radius ** 2\n",
    "    \n",
    "    def perimeter(self):\n",
    "        return 2 * 3.14 * self.radius\n",
    " \n",
    "class Rectangle(Shape):\n",
    "    def __init__(self, width, height):\n",
    "        self.width = width\n",
    "        self.height = height\n",
    "    \n",
    "    def area(self):\n",
    "        return self.width * self.height\n",
    "    \n",
    "    def perimeter(self):\n",
    "        return 2 * (self.width + self.height)\n",
    "\n",
    "# Trying to instantiate the abstract class will raise an error\n",
    "# shape = Shape()  # This will raise a TypeError\n",
    "\n",
    "circle = Circle(5)\n",
    "rectangle = Rectangle(4, 6)\n",
    "\n",
    "print(\"Circle area:\", circle.area())\n",
    "print(\"Circle perimeter:\", circle.perimeter())\n",
    "\n",
    "print(\"Rectangle area:\", rectangle.area())\n",
    "print(\"Rectangle perimeter:\", rectangle.perimeter())"
   ]
  },
  {
   "cell_type": "markdown",
   "id": "58d7065c-3a92-4f70-9a7d-e11e0d2a3a50",
   "metadata": {},
   "source": [
    "**Example 2:**\n",
    "\n",
    "Automobile :start, stop, drive\n",
    "\n",
    "Truck, Bus, Car"
   ]
  },
  {
   "cell_type": "code",
   "execution_count": 38,
   "id": "7bb8e788-1652-421a-8b56-88eabd3130ed",
   "metadata": {},
   "outputs": [],
   "source": [
    "from abc import ABC, abstractmethod\n",
    "\n",
    "class Automobile(ABC):\n",
    "    def start (self):\n",
    "        pass\n",
    "    def stop (self):\n",
    "        pass\n",
    "    def drive (self):\n",
    "        pass"
   ]
  },
  {
   "cell_type": "code",
   "execution_count": 40,
   "id": "c746c541-4dab-448a-bc9a-999a11cf7905",
   "metadata": {},
   "outputs": [],
   "source": [
    "a = Automobile() # not a problem, beacuse we inherited from ABC, \n",
    "# But didnt used any any abstract methods"
   ]
  },
  {
   "cell_type": "code",
   "execution_count": 64,
   "id": "61521913-44ca-48e3-acae-5bd512b3098f",
   "metadata": {},
   "outputs": [],
   "source": [
    "from abc import ABC, abstractmethod\n",
    "\n",
    "class Automobile(ABC):\n",
    "    def __init__(self, noOfWheels):\n",
    "        self.noOfWheels = noOfWheels\n",
    "        print(\"Automobile Created\")\n",
    "        \n",
    "    @abstractmethod\n",
    "    def start (self):\n",
    "        print(\"Automobile Started\")\n",
    "        \n",
    "    @abstractmethod\n",
    "    def stop (self):\n",
    "        pass\n",
    "        \n",
    "    @abstractmethod\n",
    "    def drive (self):\n",
    "        pass\n",
    "        \n",
    "    @abstractmethod\n",
    "    def get_no_of_wheels(self):\n",
    "        return self.noOfWheels\n",
    "\n",
    "class Truck(Automobile):\n",
    "    def __init__(self, name, noOfWheels):\n",
    "        super().__init__(noOfWheels)\n",
    "        print(\"Truck Created\")\n",
    "        self.name =  name\n",
    "        \n",
    "    def start(self):\n",
    "        super().start()\n",
    "        print(self.name, \" is started\")\n",
    "        \n",
    "    def stop(self):\n",
    "        print(self.name, \" is stopped\")\n",
    "        \n",
    "    def drive(self):\n",
    "        print(self.name, \" is driving\")\n",
    "        \n",
    "    def get_no_of_wheels(self):\n",
    "        return self.noOfWheels\n",
    "        \n",
    "class Bus(Automobile):\n",
    "    def __init__(self, name, noOfWheels):\n",
    "        super().__init__(noOfWheels)\n",
    "        print(\"Bus Created\")\n",
    "        self.name =  name\n",
    "        \n",
    "    def start(self):\n",
    "        super().start()\n",
    "        print(self.name, \" is started\")\n",
    "        \n",
    "    def stop(self):\n",
    "        print(self.name, \" is stopped\")\n",
    "        \n",
    "    def drive(self):\n",
    "        print(self.name, \" is driving\")\n",
    "        \n",
    "    def get_no_of_wheels(self):\n",
    "        print(\"Calling function \", super().get_no_of_wheels())\n",
    "        return self.noOfWheels\n",
    "        "
   ]
  },
  {
   "cell_type": "code",
   "execution_count": 65,
   "id": "d13d27fa-afa4-4727-8045-15535729b78e",
   "metadata": {},
   "outputs": [
    {
     "ename": "TypeError",
     "evalue": "Can't instantiate abstract class Automobile with abstract methods drive, get_no_of_wheels, start, stop",
     "output_type": "error",
     "traceback": [
      "\u001b[1;31m---------------------------------------------------------------------------\u001b[0m",
      "\u001b[1;31mTypeError\u001b[0m                                 Traceback (most recent call last)",
      "Cell \u001b[1;32mIn[65], line 1\u001b[0m\n\u001b[1;32m----> 1\u001b[0m a \u001b[38;5;241m=\u001b[39m \u001b[43mAutomobile\u001b[49m\u001b[43m(\u001b[49m\u001b[43m)\u001b[49m \u001b[38;5;66;03m#abstract classes cant be created\u001b[39;00m\n",
      "\u001b[1;31mTypeError\u001b[0m: Can't instantiate abstract class Automobile with abstract methods drive, get_no_of_wheels, start, stop"
     ]
    }
   ],
   "source": [
    "a = Automobile() #abstract classes cant be created"
   ]
  },
  {
   "cell_type": "code",
   "execution_count": 66,
   "id": "8ec1ed41-cd37-4471-8875-87080cdc567f",
   "metadata": {},
   "outputs": [
    {
     "name": "stdout",
     "output_type": "stream",
     "text": [
      "Automobile Created\n",
      "Truck Created\n",
      "Automobile Created\n",
      "Bus Created\n",
      "Automobile Started\n",
      "truck 1  is started\n",
      "truck 1  is driving\n",
      "truck 1  is stopped\n",
      "Automobile Started\n",
      "bus 1  is started\n",
      "bus 1  is driving\n",
      "bus 1  is stopped\n"
     ]
    }
   ],
   "source": [
    "t = Truck(\"truck 1\", 4)\n",
    "b = Bus(\"bus 1\",8)\n",
    "\n",
    "t.start()\n",
    "t.drive()\n",
    "t.stop()\n",
    "\n",
    "b.start()\n",
    "b.drive()\n",
    "b.stop()"
   ]
  },
  {
   "cell_type": "code",
   "execution_count": 32,
   "id": "1a61de1e-b6e9-402a-8613-67e0e4b5c72d",
   "metadata": {},
   "outputs": [],
   "source": [
    "# Atleast we have to write the function in the derived class by using pass keyword"
   ]
  },
  {
   "cell_type": "code",
   "execution_count": 67,
   "id": "ba225a8d-cec5-42bd-9b66-72ee40889fee",
   "metadata": {},
   "outputs": [
    {
     "data": {
      "text/plain": [
       "4"
      ]
     },
     "execution_count": 67,
     "metadata": {},
     "output_type": "execute_result"
    }
   ],
   "source": [
    "t.get_no_of_wheels()"
   ]
  },
  {
   "cell_type": "code",
   "execution_count": 68,
   "id": "cabf4b81-de98-498f-9eae-74a705c88e51",
   "metadata": {},
   "outputs": [
    {
     "name": "stdout",
     "output_type": "stream",
     "text": [
      "Calling function  8\n"
     ]
    },
    {
     "data": {
      "text/plain": [
       "8"
      ]
     },
     "execution_count": 68,
     "metadata": {},
     "output_type": "execute_result"
    }
   ],
   "source": [
    "b.get_no_of_wheels()"
   ]
  },
  {
   "cell_type": "markdown",
   "id": "efde2495-4064-4807-a82b-20a0e4e40939",
   "metadata": {},
   "source": [
    "# Exception Handling in Python"
   ]
  },
  {
   "cell_type": "markdown",
   "id": "d3ab712e-4269-42aa-9d16-396e87e9741c",
   "metadata": {},
   "source": [
    "Exception handling in Python allows you to gracefully handle errors and exceptions that can occur during the execution of your code. Instead of crashing the program, you can catch and handle these exceptions, enabling your program to continue running or providing meaningful feedback to the user. Python provides a powerful mechanism for handling exceptions using the `try`, `except`, `else`, and `finally` blocks.\n",
    "\n",
    "Here's how exception handling works in Python:\n",
    "\n",
    "1. **try**: This block contains the code that might raise an exception.\n",
    "\n",
    "2. **except**: If an exception occurs within the `try` block, the code in the corresponding `except` block is executed. You can specify the type of exception you want to catch after the `except` keyword. If no specific exception type is mentioned, it will catch all exceptions (not recommended in most cases).\n",
    "\n",
    "3. **else**: This block is optional and is executed if no exceptions are raised in the `try` block.\n",
    "\n",
    "4. **finally**: This block is also optional and is executed regardless of whether an exception was raised or not. It is often used for cleanup tasks, like closing files or releasing resources."
   ]
  },
  {
   "cell_type": "code",
   "execution_count": 74,
   "id": "b1c3ae8e-a584-4963-b0f7-d735aa56dce1",
   "metadata": {},
   "outputs": [
    {
     "name": "stdin",
     "output_type": "stream",
     "text": [
      "Enter a number:  0\n"
     ]
    },
    {
     "ename": "ZeroDivisionError",
     "evalue": "division by zero",
     "output_type": "error",
     "traceback": [
      "\u001b[1;31m---------------------------------------------------------------------------\u001b[0m",
      "\u001b[1;31mZeroDivisionError\u001b[0m                         Traceback (most recent call last)",
      "Cell \u001b[1;32mIn[74], line 2\u001b[0m\n\u001b[0;32m      1\u001b[0m num \u001b[38;5;241m=\u001b[39m \u001b[38;5;28mint\u001b[39m(\u001b[38;5;28minput\u001b[39m(\u001b[38;5;124m\"\u001b[39m\u001b[38;5;124mEnter a number: \u001b[39m\u001b[38;5;124m\"\u001b[39m))\n\u001b[1;32m----> 2\u001b[0m result \u001b[38;5;241m=\u001b[39m \u001b[38;5;241;43m10\u001b[39;49m\u001b[43m \u001b[49m\u001b[38;5;241;43m/\u001b[39;49m\u001b[43m \u001b[49m\u001b[43mnum\u001b[49m\n\u001b[0;32m      3\u001b[0m \u001b[38;5;28mprint\u001b[39m(result)\n",
      "\u001b[1;31mZeroDivisionError\u001b[0m: division by zero"
     ]
    }
   ],
   "source": [
    "num = int(input(\"Enter a number: \"))\n",
    "result = 10 / num\n",
    "print(result)"
   ]
  },
  {
   "cell_type": "code",
   "execution_count": 103,
   "id": "a23d3cc4-1c23-4d17-bf77-33f25377a919",
   "metadata": {},
   "outputs": [
    {
     "name": "stdin",
     "output_type": "stream",
     "text": [
      "Enter a number:  0\n"
     ]
    },
    {
     "name": "stdout",
     "output_type": "stream",
     "text": [
      "Cannot divide by zero.\n",
      "Execution complete.\n"
     ]
    }
   ],
   "source": [
    "try:\n",
    "    num = int(input(\"Enter a number: \"))\n",
    "    result = 10 / num\n",
    "except ValueError:\n",
    "    print(\"Invalid input. Please enter a valid number.\")\n",
    "except ZeroDivisionError:\n",
    "    print(\"Cannot divide by zero.\")\n",
    "else: # when no exception occured\n",
    "    print(\"Result:\", result)\n",
    "finally:\n",
    "    print(\"Execution complete.\")"
   ]
  },
  {
   "cell_type": "markdown",
   "id": "8aacec94-3b2a-4cef-bbe4-26486350dd6a",
   "metadata": {},
   "source": [
    "In this example, if the user enters a non-numeric input, \n",
    "a `ValueError` is caught. If the user enters `0`,\n",
    "a `ZeroDivisionError` is caught.\n",
    "Otherwise, the result of the division is printed.\n",
    "In any case, the \"Execution complete.\" message is printed after the block executes.It's a good practice to catch specific exceptions rather than catching all exceptions.\n",
    "This allows you to handle different types of errors differently."
   ]
  },
  {
   "cell_type": "code",
   "execution_count": 80,
   "id": "1aa836de-2903-4c69-860d-5830290e837b",
   "metadata": {},
   "outputs": [
    {
     "name": "stdout",
     "output_type": "stream",
     "text": [
      "The exception occured is  division by zero\n"
     ]
    }
   ],
   "source": [
    "try:\n",
    "    a = 10\n",
    "    b = 0\n",
    "    c = a/b\n",
    "    print(c)\n",
    "except (ValueError, KeyError, ZeroDivisionError) as e:\n",
    "    print(\"The exception occured is \",e)"
   ]
  },
  {
   "cell_type": "code",
   "execution_count": 81,
   "id": "19a69e82-b623-47a9-9900-a33afbd78d82",
   "metadata": {},
   "outputs": [
    {
     "name": "stdout",
     "output_type": "stream",
     "text": [
      "Exception Occured\n"
     ]
    }
   ],
   "source": [
    "try:\n",
    "    a = 10\n",
    "    b = 0\n",
    "    c = a/b\n",
    "    print(c)\n",
    "except:\n",
    "    print(\"Exception Occured\")"
   ]
  },
  {
   "cell_type": "code",
   "execution_count": 86,
   "id": "2f0ddaa8-7917-48e0-a2e8-79428120fe8c",
   "metadata": {},
   "outputs": [
    {
     "name": "stdout",
     "output_type": "stream",
     "text": [
      "ValueError: division by zero\n"
     ]
    }
   ],
   "source": [
    "# You can also use the `as` keyword to capture the exception instance and handle it:\n",
    "try:\n",
    "    a = 10\n",
    "    b = 0\n",
    "    c = a/b\n",
    "    print(c)\n",
    "except ZeroDivisionError as ve:\n",
    "    print(\"ValueError:\", ve)"
   ]
  },
  {
   "cell_type": "markdown",
   "id": "40a32b44-f3b4-4ada-bd40-4094873d394f",
   "metadata": {},
   "source": [
    "## Raise Exception"
   ]
  },
  {
   "cell_type": "code",
   "execution_count": 88,
   "id": "8c0a260c-d254-42ac-955b-54f5247a84db",
   "metadata": {},
   "outputs": [
    {
     "name": "stdin",
     "output_type": "stream",
     "text": [
      "Enter your age:  -1\n"
     ]
    },
    {
     "name": "stdout",
     "output_type": "stream",
     "text": [
      "Invalid input: Age cannot be negative.\n"
     ]
    }
   ],
   "source": [
    "try:\n",
    "    age = int(input(\"Enter your age: \"))\n",
    "    if age < 0:\n",
    "        raise ValueError(\"Age cannot be negative.\")\n",
    "    print(\"You are\", age, \"years old.\")\n",
    "except ValueError as ve:\n",
    "    print(\"Invalid input:\", ve)"
   ]
  },
  {
   "cell_type": "markdown",
   "id": "07d6424d-6520-4879-8b14-fa99cb9174c0",
   "metadata": {},
   "source": [
    "## Own Exceptions"
   ]
  },
  {
   "cell_type": "code",
   "execution_count": 97,
   "id": "24a5a3be-ac41-4074-8c7d-cf7f5a712aa7",
   "metadata": {},
   "outputs": [
    {
     "name": "stdin",
     "output_type": "stream",
     "text": [
      "Enter numerator 0\n",
      "Enter Denominator 0\n"
     ]
    },
    {
     "name": "stdout",
     "output_type": "stream",
     "text": [
      "ZeroDenominatorException: Denominator should not be Zero\n"
     ]
    }
   ],
   "source": [
    "class ZeroDenominatorError(Exception):\n",
    "    pass\n",
    "\n",
    "# Exception by deafult have __init__(self, message)\n",
    "try:\n",
    "    a = int(input(\"Enter numerator\"))\n",
    "    b = int(input(\"Enter Denominator\"))\n",
    "    if b == 0:\n",
    "        raise ZeroDenominatorError(\"Denominator should not be Zero\")\n",
    "    c = a/b\n",
    "    print(c)\n",
    "except ZeroDivisionError as ve:\n",
    "    print(\"ValueError:\", ve)\n",
    "    \n",
    "except ZeroDenominatorError as ze:\n",
    "    print(\"ZeroDenominatorException:\", ze)"
   ]
  },
  {
   "cell_type": "code",
   "execution_count": 2,
   "id": "c01c6e6b-3b79-410e-bccd-b51bec6aca2e",
   "metadata": {},
   "outputs": [
    {
     "name": "stdin",
     "output_type": "stream",
     "text": [
      "Enter numerator 10\n",
      "Enter Denominator 0\n"
     ]
    },
    {
     "name": "stdout",
     "output_type": "stream",
     "text": [
      "Zero Division Error: Denominator should not be Zero\n",
      "Numerator:  10\n",
      "Denominator:  0\n",
      "Exception may or may not occur\n",
      "\n"
     ]
    },
    {
     "name": "stdin",
     "output_type": "stream",
     "text": [
      "Enter numerator 10\n",
      "Enter Denominator 5\n"
     ]
    },
    {
     "name": "stdout",
     "output_type": "stream",
     "text": [
      "2.0\n",
      "Numerator:  10\n",
      "Denominator:  5\n",
      "Exception may or may not occur\n",
      "\n"
     ]
    }
   ],
   "source": [
    "class ZeroDenominatorError(ZeroDivisionError):\n",
    "    pass\n",
    "\n",
    "while True:\n",
    "    try:\n",
    "        num = int(input(\"Enter numerator\"))\n",
    "        den = int(input(\"Enter Denominator\"))\n",
    "        if den == 0:\n",
    "            raise ZeroDenominatorError(\"Denominator should not be Zero\")\n",
    "        value = num/den\n",
    "    \n",
    "    except ValueError as ve:\n",
    "        print(\"Value Error:\", ve)\n",
    "    except ZeroDivisionError as zde:\n",
    "        print(\"Zero Division Error:\", zde)\n",
    "    except ZeroDenominatorError as ze:\n",
    "        print(\"ZeroDenominatorException:\", ze)\n",
    "    except:\n",
    "        print(\"Some exception occured\")\n",
    "    else:\n",
    "        print(value)\n",
    "        break\n",
    "    finally:\n",
    "        print(\"Numerator: \", num)\n",
    "        print(\"Denominator: \",den)\n",
    "        # print(\"Value: \",value) This will give Name Error if den = 0 , val =  num/den not executed\n",
    "        print(\"Exception may or may not occur\")\n",
    "        print()\n",
    "        "
   ]
  },
  {
   "cell_type": "code",
   "execution_count": null,
   "id": "c8b32c3a-5ab7-43c4-bac0-7c2901785ee5",
   "metadata": {},
   "outputs": [],
   "source": []
  }
 ],
 "metadata": {
  "kernelspec": {
   "display_name": "Python 3 (ipykernel)",
   "language": "python",
   "name": "python3"
  },
  "language_info": {
   "codemirror_mode": {
    "name": "ipython",
    "version": 3
   },
   "file_extension": ".py",
   "mimetype": "text/x-python",
   "name": "python",
   "nbconvert_exporter": "python",
   "pygments_lexer": "ipython3",
   "version": "3.11.3"
  }
 },
 "nbformat": 4,
 "nbformat_minor": 5
}
