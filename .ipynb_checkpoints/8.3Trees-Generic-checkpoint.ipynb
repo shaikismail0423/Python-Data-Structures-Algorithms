{
 "cells": [
  {
   "cell_type": "markdown",
   "id": "4954ad37-d345-45ee-8622-ffd6a4f5d7c8",
   "metadata": {},
   "source": [
    "A generic tree is a data structure that consists of nodes connected by edges in a hierarchical structure. Unlike binary trees, where each node has at most two children, generic trees can have any number of children for each node. In a generic tree:\n",
    "\n",
    "1. **Root**: There is a single special node at the top called the \"root\" of the tree. This node is the starting point for traversing the tree.\n",
    "\n",
    "2. **Nodes**: Each node in the tree can have zero or more child nodes. Nodes are connected to their parent node through edges.\n",
    "\n",
    "3. **Leaves**: Nodes that have no children are called \"leaves\" or \"leaf nodes.\"\n",
    "\n",
    "4. **Parent and Child Relationship**: Each node (except the root) has a parent node. The node directly connected to another node is called its child, and the node it's connected to is called its parent.\n",
    "\n",
    "5. **Siblings**: Nodes that share the same parent are called \"siblings.\"\n",
    "\n",
    "6. **Depth**: The depth of a node is the length of the path from the root to that node. The root has a depth of 0.\n",
    "\n",
    "7. **Height**: The height of a tree is the length of the longest path from the root to a leaf node. It represents the depth of the deepest leaf node.\n",
    "\n",
    "Generic trees are commonly used to represent hierarchical structures in various applications, such as file systems, organization charts, XML/HTML document structures, and more. They provide a flexible way to organize and store data in a tree-like manner.\n",
    "\n",
    "Here's a simple example of a generic tree in a textual representation:\n",
    "\n",
    "```\n",
    "       A\n",
    "     / | \\\n",
    "    B  C  D\n",
    "   / \\\n",
    "  E   F\n",
    "```\n",
    "\n",
    "In this tree:\n",
    "\n",
    "- Node A is the root.\n",
    "- Nodes B, C, and D are the children of A.\n",
    "- Nodes E and F are the children of B.\n",
    "- Nodes B, C, and D are siblings.\n",
    "- The depth of node E is 2, and its height is 0 (as it's a leaf).\n",
    "- The depth of node A is 0, and the height of the tree is 2.\n",
    "\n",
    "Generic trees can be implemented in various ways, including using linked structures (each node contains a reference to its children) or using arrays (where each element represents a node, and indices are used to establish parent-child relationships). The choice of implementation depends on the specific requirements and constraints of your application."
   ]
  },
  {
   "cell_type": "code",
   "execution_count": 16,
   "id": "0ec35234-793b-4156-ac51-ac6b218ab855",
   "metadata": {},
   "outputs": [],
   "source": [
    "class TreeNode:\n",
    "    def __init__(self,data):\n",
    "        self.data = data\n",
    "        self.children = list()"
   ]
  },
  {
   "cell_type": "code",
   "execution_count": 20,
   "id": "f29ec2fb-9568-4403-9c4e-e5df89340281",
   "metadata": {},
   "outputs": [],
   "source": [
    "def printTree(root):\n",
    "    # This is not a base case: Its a edge case, if one node which is None\n",
    "    # remaining case we dont need this\n",
    "    \n",
    "    if root == None:\n",
    "        return\n",
    "    print(root.data)\n",
    "    for child in root.children:\n",
    "        printTree(child)\n"
   ]
  },
  {
   "cell_type": "code",
   "execution_count": 27,
   "id": "c667fb47-c7a8-4d08-8398-059d83eda194",
   "metadata": {},
   "outputs": [],
   "source": [
    "def printTreeDetailed(root):\n",
    "    if root == None:\n",
    "        return\n",
    "    print(root.data,\": \", end = \"\")\n",
    "    for child in root.children:\n",
    "        print(child.data,\",\", end = \"\")\n",
    "    print()\n",
    "    for child in root.children:\n",
    "        printTreeDetailed(child)"
   ]
  },
  {
   "cell_type": "code",
   "execution_count": 38,
   "id": "b33e3f5c-0058-4638-97e0-fd0abfa1b86b",
   "metadata": {},
   "outputs": [],
   "source": [
    "def takeTreeInput():\n",
    "    rootData =  int(input(\"Enter root Data: \"))\n",
    "    if rootData == -1:\n",
    "        return \n",
    "    root = TreeNode(rootData)\n",
    "    print(f\"Enter No of Children for {rootData}\")\n",
    "    \n",
    "    children_count =  int(input())\n",
    "    for i in range(children_count):\n",
    "        child = takeTreeInput()\n",
    "        root.children.append(child)\n",
    "    return root"
   ]
  },
  {
   "cell_type": "code",
   "execution_count": 39,
   "id": "25b9817c-cb41-45d6-b463-486715194176",
   "metadata": {},
   "outputs": [],
   "source": [
    "def noOfNodes(root):\n",
    "    if root == None:\n",
    "        return 0\n",
    "    sum_no_of_children = 0\n",
    "    for child in root.children:\n",
    "        sum_no_of_children += noOfNodes(child)\n",
    "    return 1 + sum_no_of_children"
   ]
  },
  {
   "cell_type": "code",
   "execution_count": 14,
   "id": "616afffb-c0f6-4ae4-a0ff-b5931627a13b",
   "metadata": {},
   "outputs": [],
   "source": [
    "root = TreeNode(5)\n",
    "child1 = TreeNode(2)\n",
    "child2 = TreeNode(9)\n",
    "child3 = TreeNode(8)\n",
    "child4 = TreeNode(7)\n",
    "child21 = TreeNode(15)\n",
    "child22 = TreeNode(1)"
   ]
  },
  {
   "cell_type": "code",
   "execution_count": 15,
   "id": "b40a07e4-27d9-4b25-bdf1-30dd6c714fce",
   "metadata": {},
   "outputs": [],
   "source": [
    "root.children.append(child1)\n",
    "root.children.append(child2)\n",
    "root.children.append(child3)\n",
    "root.children.append(child4)\n",
    "child2.children.append(child21)\n",
    "child2.children.append(child22)"
   ]
  },
  {
   "cell_type": "code",
   "execution_count": 19,
   "id": "5acf2532-556d-4738-b651-0d81ed7f51ea",
   "metadata": {},
   "outputs": [
    {
     "name": "stdout",
     "output_type": "stream",
     "text": [
      "5\n",
      "2\n",
      "9\n",
      "15\n",
      "1\n",
      "8\n",
      "7\n"
     ]
    }
   ],
   "source": [
    "printTree(root)"
   ]
  },
  {
   "cell_type": "code",
   "execution_count": 26,
   "id": "21e60def-afbc-46ab-a79c-c0eb00f332ca",
   "metadata": {},
   "outputs": [
    {
     "name": "stdout",
     "output_type": "stream",
     "text": [
      "5 : 2 ,9 ,8 ,7 ,\n",
      "2 : \n",
      "9 : 15 ,1 ,\n",
      "15 : \n",
      "1 : \n",
      "8 : \n",
      "7 : \n"
     ]
    }
   ],
   "source": [
    "printTreeDetailed(root)"
   ]
  },
  {
   "cell_type": "code",
   "execution_count": 35,
   "id": "07941aed-4fab-47a2-835c-3e9ffafc889b",
   "metadata": {},
   "outputs": [
    {
     "name": "stdin",
     "output_type": "stream",
     "text": [
      "Enter root Data:  5\n"
     ]
    },
    {
     "name": "stdout",
     "output_type": "stream",
     "text": [
      "Enter No of Children for 5\n"
     ]
    },
    {
     "name": "stdin",
     "output_type": "stream",
     "text": [
      " 4\n",
      "Enter root Data:  1\n"
     ]
    },
    {
     "name": "stdout",
     "output_type": "stream",
     "text": [
      "Enter No of Children for 1\n"
     ]
    },
    {
     "name": "stdin",
     "output_type": "stream",
     "text": [
      " -1\n",
      "Enter root Data:  34\n"
     ]
    },
    {
     "name": "stdout",
     "output_type": "stream",
     "text": [
      "Enter No of Children for 34\n"
     ]
    },
    {
     "name": "stdin",
     "output_type": "stream",
     "text": [
      " -1\n",
      "Enter root Data:  35\n"
     ]
    },
    {
     "name": "stdout",
     "output_type": "stream",
     "text": [
      "Enter No of Children for 35\n"
     ]
    },
    {
     "name": "stdin",
     "output_type": "stream",
     "text": [
      " -1\n",
      "Enter root Data:  56\n"
     ]
    },
    {
     "name": "stdout",
     "output_type": "stream",
     "text": [
      "Enter No of Children for 56\n"
     ]
    },
    {
     "name": "stdin",
     "output_type": "stream",
     "text": [
      " -1\n"
     ]
    }
   ],
   "source": [
    "root2 = takeTreeInput()"
   ]
  },
  {
   "cell_type": "code",
   "execution_count": 36,
   "id": "a9129ce5-65a4-42f0-a3d2-ae85f6bf9032",
   "metadata": {},
   "outputs": [
    {
     "name": "stdout",
     "output_type": "stream",
     "text": [
      "5 : 1 ,34 ,35 ,56 ,\n",
      "1 : \n",
      "34 : \n",
      "35 : \n",
      "56 : \n"
     ]
    }
   ],
   "source": [
    "printTreeDetailed(root2)"
   ]
  },
  {
   "cell_type": "code",
   "execution_count": null,
   "id": "0d3414aa-5f39-4936-b91a-9d579e1eab2e",
   "metadata": {},
   "outputs": [],
   "source": [
    "no"
   ]
  }
 ],
 "metadata": {
  "kernelspec": {
   "display_name": "Python 3 (ipykernel)",
   "language": "python",
   "name": "python3"
  },
  "language_info": {
   "codemirror_mode": {
    "name": "ipython",
    "version": 3
   },
   "file_extension": ".py",
   "mimetype": "text/x-python",
   "name": "python",
   "nbconvert_exporter": "python",
   "pygments_lexer": "ipython3",
   "version": "3.11.3"
  }
 },
 "nbformat": 4,
 "nbformat_minor": 5
}
