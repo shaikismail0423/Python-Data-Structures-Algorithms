{
 "cells": [
  {
   "cell_type": "markdown",
   "id": "61583b7b-92c2-4772-82ae-9f353f699034",
   "metadata": {},
   "source": [
    "# Dictionary\n",
    "- In Python, a dictionary is a data structure that stores a collection of key-value pairs.\n",
    "- It is also known as an associative array or a hash map in other programming languages.\n",
    "- Dictionaries are unordered, mutable, and indexed by unique keys.\n",
    "\n",
    "Here's the basic syntax of a dictionary:\n",
    "\n",
    "```python\n",
    "my_dict = {\n",
    "    key1: value1,\n",
    "    key2: value2,\n",
    "    ...\n",
    "}\n",
    "```\n",
    "\n",
    "- `key1`, `key2`, ...: Unique keys used to access the corresponding values.\n",
    "- `value1`, `value2`, ...: Values associated wi related data.\n",
    "m\n",
    "Some of the most commonly used inbuilt methods for dictionaries in Python include:\n",
    "\n",
    "1. `dict.get(key, default)`: Returns the value associated with the specified key. If the key is not found, it returns the specified default value (if provided) or `None`.\n",
    "\n",
    "2. `dict.keys()`: Returns a view of all the keys in the dictionary.\n",
    "\n",
    "3. `dict.values()`: Returns a view of all the values in the dictionary.\n",
    "\n",
    "4. `dict.items()`: Returns a view of all the key-value pairs in the dictionary as tuples.\n",
    "\n",
    "5. `dict.update(other_dict)`: Updates the dictionary with the key-value pairs from another dictionary.\n",
    "\n",
    "6. `dict.pop(key, default)`: Removes the key and its associated value from the dictionary. If the key is not found, it returns the specified default value (if provided) or raises a `KeyError`.\n",
    "\n",
    "7. `dict.popitem()`: Removes and returns the last key-value pair (in Python 3.7+).\n",
    "\n",
    "8. `dict.clear()`: Removes all key-value pairs from the dictionary, making it empty.\n",
    "\n",
    "9. `len(dict)`: Returns the number of making it easy to manipulate and access data in the dictionary."
   ]
  },
  {
   "cell_type": "code",
   "execution_count": 3,
   "id": "441ea663-46c6-4d9f-964e-5f33111205e5",
   "metadata": {},
   "outputs": [
    {
     "name": "stdout",
     "output_type": "stream",
     "text": [
      "Ismail abi\n",
      "dict_keys(['name', 'age', 'city'])\n",
      "dict_values(['Ismail abi', 30, 'New York'])\n",
      "dict_items([('name', 'Ismail abi'), ('age', 30), ('city', 'New York')])\n",
      "{'name': 'Ismail abi', 'age': 30, 'city': 'New York', 'country': 'USA'}\n",
      "{'name': 'Ismail abi', 'city': 'New York', 'country': 'USA'}\n",
      "{}\n"
     ]
    }
   ],
   "source": [
    "my_dict = {\n",
    "    'name': 'Ismail abi',\n",
    "    'age': 30,\n",
    "    'city': 'New York'\n",
    "}\n",
    "\n",
    "# Using inbuilt methods\n",
    "print(my_dict.get('name',\"name\"))     # Output: 'John'\n",
    "print(my_dict.keys())          # Output: dict_keys(['name', 'age', 'city'])\n",
    "print(my_dict.values())        # Output: dict_values(['John', 30, 'New York'])\n",
    "print(my_dict.items())         # Output: dict_items([('name', 'John'), ('age', 30), ('city', 'New York')])\n",
    "\n",
    "my_dict.update({'country': 'USA'})\n",
    "print(my_dict)                 # Output: {'name': 'John', 'age': 30, 'city': 'New York', 'country': 'USA'}\n",
    "\n",
    "my_dict.pop('age',0)\n",
    "print(my_dict)                 # Output: {'name': 'John', 'city': 'New York', 'country': 'USA'}\n",
    "\n",
    "my_dict.clear()\n",
    "print(my_dict)                 # Output: {}"
   ]
  },
  {
   "cell_type": "code",
   "execution_count": 4,
   "id": "d582af8f-297c-41d1-8ba7-9a68c7e1c324",
   "metadata": {},
   "outputs": [
    {
     "name": "stdout",
     "output_type": "stream",
     "text": [
      "<class 'dict'>\n",
      "{100: 'the'}\n"
     ]
    }
   ],
   "source": [
    "# we give key value pair\n",
    "\n",
    "a={\n",
    "    \"the\":2,\n",
    "    \"a\":5\n",
    "}\n",
    "print(type(a))\n",
    "\n",
    "b= {\n",
    "    100:\"the\",\n",
    "}\n",
    "print(b)"
   ]
  },
  {
   "cell_type": "code",
   "execution_count": null,
   "id": "21a48982-8927-4432-a2ce-371426edca97",
   "metadata": {},
   "outputs": [],
   "source": []
  }
 ],
 "metadata": {
  "kernelspec": {
   "display_name": "Python 3 (ipykernel)",
   "language": "python",
   "name": "python3"
  },
  "language_info": {
   "codemirror_mode": {
    "name": "ipython",
    "version": 3
   },
   "file_extension": ".py",
   "mimetype": "text/x-python",
   "name": "python",
   "nbconvert_exporter": "python",
   "pygments_lexer": "ipython3",
   "version": "3.11.3"
  }
 },
 "nbformat": 4,
 "nbformat_minor": 5
}
