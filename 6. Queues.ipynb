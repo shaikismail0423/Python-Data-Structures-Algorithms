{
 "cells": [
  {
   "cell_type": "markdown",
   "id": "4bd09376-666e-482e-8964-80727355e1a0",
   "metadata": {},
   "source": [
    "First in First out"
   ]
  },
  {
   "cell_type": "markdown",
   "id": "c834fd56-1fcf-4bd9-a949-81461e319456",
   "metadata": {},
   "source": [
    "12345"
   ]
  },
  {
   "cell_type": "markdown",
   "id": "193e22d7-bf62-41d7-835b-4d3ad2c233cf",
   "metadata": {},
   "source": [
    "In Python, you can implement queues using various data structures and libraries. A queue is a data structure that follows the First-In-First-Out (FIFO) order, meaning that the item added first will be the first one to be removed. Here are a few ways to implement queues in Python:\n",
    "\n",
    "1. Using Lists:\n",
    "   Python lists can be used to implement a simple queue. You can use the `append()` method to enqueue an item at the end of the list and the `pop(0)` method to dequeue an item from the front of the list. However, using `pop(0)` can be inefficient for large queues because it requires shifting all elements to fill the gap.\n",
    "\n",
    "   ```python\n",
    "   queue = []\n",
    "\n",
    "   # Enqueue\n",
    "   queue.append(1)\n",
    "   queue.append(2)\n",
    "\n",
    "   # Dequeue\n",
    "   if queue:\n",
    "       item = queue.pop(0)\n",
    "       print(item)  # 1\n",
    "   ```\n",
    "\n",
    "2. Using collections.deque:\n",
    "   The `collections` module provides a `deque` (double-ended queue) class that is more efficient for implementing a queue. You can use the `append()` method to enqueue an item and the `popleft()` method to dequeue an item from the left (front) of the deque.\n",
    "\n",
    "   ```python\n",
    "   from collections import deque\n",
    "\n",
    "   queue = deque()\n",
    "\n",
    "   # Enqueue\n",
    "   queue.append(1)\n",
    "   queue.append(2)\n",
    "\n",
    "   # Dequeue\n",
    "   if queue:\n",
    "       item = queue.popleft()\n",
    "       print(item)  # 1\n",
    "   ```\n",
    "\n",
    "3. Using queue.Queue (Multithreading/Concurrency):\n",
    "   If you are working with multithreaded or concurrent programs, you can use the `queue.Queue` class from the `queue` module. This class provides thread-safe enqueue and dequeue operations.\n",
    "\n",
    "   ```python\n",
    "   import queue\n",
    "\n",
    "   q = queue.Queue()\n",
    "\n",
    "   # Enqueue\n",
    "   q.put(1)\n",
    "   q.put(2)\n",
    "\n",
    "   # Dequeue\n",
    "   item = q.get()\n",
    "   print(item)  # 1\n",
    "   ```\n",
    "\n",
    "Each of these methods has its use case depending on your specific requirements. If you need a simple queue in a single-threaded environment, a list or `deque` is usually sufficient. If you're working with multiple threads, `queue.Queue` is a safer choice.\n",
    "\n",
    "Choose the implementation that best suits your application's needs."
   ]
  },
  {
   "cell_type": "markdown",
   "id": "bd96098f-91fa-49d3-8dd1-3b730d59a099",
   "metadata": {},
   "source": [
    "Functionalities:\n",
    "\n",
    "1.Enquue\n",
    "2.Dequeue\n",
    "3.size\n",
    "4.isEmpty\n",
    "5.front\n",
    "\n",
    "Front and rear end"
   ]
  },
  {
   "cell_type": "code",
   "execution_count": 11,
   "id": "8f9715a4-5494-4dcc-8666-5ec901161b90",
   "metadata": {},
   "outputs": [],
   "source": [
    "class QueueUsingArray:\n",
    "    def __init__(self):\n",
    "        self.__queue = []\n",
    "        self.__count = 0\n",
    "        self.__front = 0\n",
    "        \n",
    "    def enqueue(self,data):\n",
    "        self.__queue.append(data)\n",
    "        self.__count+=1\n",
    "        \n",
    "    def dequeue(self):\n",
    "        if self.__count ==0:\n",
    "            return -1\n",
    "        val = self.__queue[self.__front]\n",
    "        self.__front += 1\n",
    "        self.__count-=1\n",
    "        return val\n",
    "        \n",
    "    def front(self):\n",
    "        if self.__count ==0:\n",
    "            return -1\n",
    "        return self.__queue[self.__front]\n",
    "        \n",
    "    def size(self):\n",
    "        return self.__count\n",
    "        \n",
    "    def isEmpty(self):\n",
    "        return self.__count == 0"
   ]
  },
  {
   "cell_type": "code",
   "execution_count": 12,
   "id": "af6a2175-96f2-44c3-a053-0212d6d624bd",
   "metadata": {},
   "outputs": [],
   "source": [
    "q = QueueUsingArray()\n",
    "q.enqueue(10)\n",
    "q.enqueue(11)\n",
    "q.enqueue(12)\n",
    "q.enqueue(13)"
   ]
  },
  {
   "cell_type": "code",
   "execution_count": 13,
   "id": "da6a55e0-19b7-4579-b7d1-e2910ae601dd",
   "metadata": {},
   "outputs": [
    {
     "name": "stdout",
     "output_type": "stream",
     "text": [
      "10\n",
      "11\n",
      "12\n",
      "13\n"
     ]
    }
   ],
   "source": [
    "while q.isEmpty() is False:\n",
    "    print(q.dequeue())"
   ]
  },
  {
   "cell_type": "code",
   "execution_count": 16,
   "id": "4b2b11b3-f871-4c50-a788-dd556f0cf760",
   "metadata": {},
   "outputs": [],
   "source": [
    "class Node:\n",
    "    def __init__(self,data):\n",
    "        self.data = data\n",
    "        self.next = None"
   ]
  },
  {
   "cell_type": "code",
   "execution_count": 29,
   "id": "769eea93-0e1e-4358-9039-8eff1cd88b62",
   "metadata": {},
   "outputs": [],
   "source": [
    "class QueueUsingLinkedList:\n",
    "    def __init__(self):\n",
    "        self.__head = None\n",
    "        self.__tail = None\n",
    "        self.__count = 0\n",
    "        \n",
    "    def enqueue(self,data):\n",
    "        new_node = Node(data)\n",
    "        if self.__head is None:\n",
    "            self.__head = new_node\n",
    "        else:\n",
    "            self.__tail.next = new_node\n",
    "        self.__tail = new_node\n",
    "            \n",
    "        self.__count+=1\n",
    "        \n",
    "    def dequeue(self):\n",
    "        if self.__count == 0:\n",
    "            return -1\n",
    "        \n",
    "        val = self.__head.data\n",
    "        self.__head = self.__head.next\n",
    "        self.__count-=1\n",
    "        return val\n",
    "        \n",
    "    def front(self):\n",
    "        if self.__count == 0:\n",
    "            return -1\n",
    "        return self.__head.data\n",
    "        \n",
    "    def size(self):\n",
    "        return self.__count\n",
    "        \n",
    "    def isEmpty(self):\n",
    "        return self.__count == 0"
   ]
  },
  {
   "cell_type": "code",
   "execution_count": 24,
   "id": "66a58417-42ba-4334-be55-744bc1aa1e5c",
   "metadata": {},
   "outputs": [],
   "source": [
    "q = QueueUsingLinkedList()\n",
    "q.enqueue(10)\n",
    "q.enqueue(11)\n",
    "q.enqueue(12)\n",
    "q.enqueue(13)"
   ]
  },
  {
   "cell_type": "code",
   "execution_count": 25,
   "id": "322a84ed-70e9-445c-8bde-47a3003c20d0",
   "metadata": {},
   "outputs": [
    {
     "name": "stdout",
     "output_type": "stream",
     "text": [
      "10\n",
      "11\n",
      "12\n",
      "13\n"
     ]
    }
   ],
   "source": [
    "while q.isEmpty() is False:\n",
    "    print(q.dequeue())"
   ]
  },
  {
   "cell_type": "code",
   "execution_count": 27,
   "id": "6b68771d-05fc-4414-a16a-b9e620d74afe",
   "metadata": {},
   "outputs": [
    {
     "data": {
      "text/plain": [
       "-1"
      ]
     },
     "execution_count": 27,
     "metadata": {},
     "output_type": "execute_result"
    }
   ],
   "source": [
    "q.front()"
   ]
  },
  {
   "cell_type": "code",
   "execution_count": 32,
   "id": "d51af2ff-1beb-4402-baef-e68b3bd1e5ab",
   "metadata": {},
   "outputs": [
    {
     "name": "stdout",
     "output_type": "stream",
     "text": [
      "1\n",
      "2\n",
      "3\n",
      "4\n",
      "5\n"
     ]
    }
   ],
   "source": [
    "import queue\n",
    "\n",
    "q = queue.Queue()\n",
    "q.put(1)\n",
    "q.put(2)\n",
    "q.put(3)\n",
    "q.put(4)\n",
    "q.put(5)\n",
    "\n",
    "while q.empty() is False:\n",
    "    print(q.get())"
   ]
  },
  {
   "cell_type": "code",
   "execution_count": 33,
   "id": "7bc6041f-1de7-453f-a6cd-65c081503f3e",
   "metadata": {},
   "outputs": [
    {
     "name": "stdout",
     "output_type": "stream",
     "text": [
      "5\n",
      "4\n",
      "3\n",
      "2\n",
      "1\n"
     ]
    }
   ],
   "source": [
    "import queue\n",
    "\n",
    "q = queue.LifoQueue()\n",
    "q.put(1)\n",
    "q.put(2)\n",
    "q.put(3)\n",
    "q.put(4)\n",
    "q.put(5)\n",
    "\n",
    "while not q.empty():\n",
    "    print(q.get())"
   ]
  },
  {
   "cell_type": "raw",
   "id": "6f0dd931-c2cc-4ab0-90a8-f80bda7067cb",
   "metadata": {},
   "source": [
    "Implement Queue using 2 stacks\n",
    "\n",
    "Functionalities:\n",
    "\n",
    "1.Enquue O(1) O(n)\n",
    "2.Dequeue O(n) O(1)\n",
    "3.size\n",
    "4.isEmpty\n",
    "5.front\n",
    "\n",
    "Front and rear end\n",
    "\n",
    "\n",
    "1. First Approach: insert all elements in the stack 1 then while dequeue , pop n-1 elements from stack 1 to stack 2 then pop then place back the elements\n",
    "\n",
    "2. Second Approach: Before inserting new elements into pop all elements from stack 1 to stack2\n",
    "then enqueue into stack 1 and insert all elements into stack 1"
   ]
  },
  {
   "cell_type": "code",
   "execution_count": 34,
   "id": "7cc8df04-82e1-440c-bf17-7d59be2ab10c",
   "metadata": {},
   "outputs": [],
   "source": [
    "class QueueUsingTwoStacks:\n",
    "    def __init__(self):\n",
    "        self.stack1 = []\n",
    "        self.stack2 = []\n",
    "        self.__count = 0\n",
    "        \n",
    "    # O(n)\n",
    "    def enqueue(self, data):\n",
    "        # pop all from stack 1 to stack2\n",
    "        while self.stack1:\n",
    "            self.stack2.append(self.stack1.pop())\n",
    "        self.stack1.append(data)\n",
    "        while self.stack2:\n",
    "            self.stack1.append(self.stack2.pop())\n",
    "        self.__count+=1\n",
    "\n",
    "    # O(1)\n",
    "    def dequeue(self):\n",
    "        if self.__count == 0:\n",
    "            return -1\n",
    "        \n",
    "        val = self.stack1.pop()\n",
    "        self.__count-=1\n",
    "        return val\n",
    "        \n",
    "    def front(self):\n",
    "        if self.__count == 0:\n",
    "            return -1\n",
    "        return self.stack1[-1]\n",
    "        \n",
    "    def size(self):\n",
    "        return self.__count\n",
    "        \n",
    "    def isEmpty(self):\n",
    "        return self.__count == 0    "
   ]
  },
  {
   "cell_type": "code",
   "execution_count": 35,
   "id": "d7fbd5ff-a843-448d-ace7-51fdba0f0897",
   "metadata": {},
   "outputs": [],
   "source": [
    "q = QueueUsingTwoStacks()\n",
    "q.enqueue(10)\n",
    "q.enqueue(11)\n",
    "q.enqueue(12)\n",
    "q.enqueue(13)"
   ]
  },
  {
   "cell_type": "code",
   "execution_count": 36,
   "id": "ab9f70a7-f38b-4aac-a5d3-bf3cafa5fd6e",
   "metadata": {},
   "outputs": [
    {
     "name": "stdout",
     "output_type": "stream",
     "text": [
      "10\n",
      "11\n",
      "12\n",
      "13\n"
     ]
    }
   ],
   "source": [
    "while q.isEmpty() is False:\n",
    "    print(q.dequeue())"
   ]
  },
  {
   "cell_type": "code",
   "execution_count": 57,
   "id": "9a025d64-6210-48cc-9d15-7d8cb8fabcdb",
   "metadata": {},
   "outputs": [
    {
     "name": "stdout",
     "output_type": "stream",
     "text": [
      "Stack: [10, 11, 12, 13, 14]\n",
      "\n",
      "Queue:\n",
      "14\n",
      "13\n",
      "12\n",
      "11\n",
      "10\n"
     ]
    }
   ],
   "source": [
    "# reverse a queue using stack\n",
    "import queue\n",
    "\n",
    "q = queue.Queue()\n",
    "\n",
    "q.put(10)\n",
    "q.put(11)\n",
    "q.put(12)\n",
    "q.put(13)\n",
    "q.put(14)\n",
    "\n",
    "sta = []\n",
    "\n",
    "while q.empty() is False:\n",
    "    sta.append(q.get())\n",
    "    \n",
    "print(\"Stack:\", sta)\n",
    "\n",
    "while sta:\n",
    "    q.put(sta.pop())\n",
    "\n",
    "print()\n",
    "print(\"Queue:\")\n",
    "\n",
    "while q.empty() is False:\n",
    "    print(q.get())"
   ]
  },
  {
   "cell_type": "code",
   "execution_count": 1,
   "id": "7f91aaeb-b41f-4d95-aaee-44c34b688bee",
   "metadata": {},
   "outputs": [],
   "source": [
    "def reverseUsingRecuriveStack(q):\n",
    "    if q.empty() is True:\n",
    "        return q\n",
    "        \n",
    "    val = q.get()\n",
    "    reversedQueue = reverseUsingRecuriveStack(q)\n",
    "    reversedQueue.put(val)\n",
    "    return reversedQueue"
   ]
  },
  {
   "cell_type": "code",
   "execution_count": 2,
   "id": "9cdec6c7-c431-45b2-b97a-cc96a11e0720",
   "metadata": {},
   "outputs": [],
   "source": [
    "# reverse a queue using recursive stack\n",
    "import queue\n",
    "\n",
    "q = queue.Queue()\n",
    "\n",
    "q.put(10)\n",
    "q.put(11)\n",
    "q.put(12)\n",
    "q.put(13)\n",
    "q.put(14)"
   ]
  },
  {
   "cell_type": "code",
   "execution_count": 3,
   "id": "b227429d-65bd-42f5-93b1-c9534b6750b3",
   "metadata": {},
   "outputs": [
    {
     "data": {
      "text/plain": [
       "<queue.Queue at 0x20b8e489150>"
      ]
     },
     "execution_count": 3,
     "metadata": {},
     "output_type": "execute_result"
    }
   ],
   "source": [
    "q = reverseUsingRecuriveStack(q)\n",
    "q"
   ]
  },
  {
   "cell_type": "code",
   "execution_count": 4,
   "id": "605ed34c-b5ef-425f-9964-7fe5a29b3c7e",
   "metadata": {},
   "outputs": [
    {
     "name": "stdout",
     "output_type": "stream",
     "text": [
      "14\n",
      "13\n",
      "12\n",
      "11\n",
      "10\n"
     ]
    }
   ],
   "source": [
    "while q.empty() is False:\n",
    "    print(q.get())"
   ]
  },
  {
   "cell_type": "code",
   "execution_count": null,
   "id": "398bc7d3-4886-4efc-91a2-9bc95771e719",
   "metadata": {},
   "outputs": [],
   "source": [
    "from sys import stdin\n",
    "import queue\n",
    "\n",
    "def reverseKElements(inputQueue, k) :\n",
    "    if (inputQueue.empty()) or (k > inputQueue.qsize()) :\n",
    "        return inputQueue\n",
    "    \n",
    "    if k <= 0 :\n",
    "        return inputQueue\n",
    "    \n",
    "    stack = list()\n",
    "\n",
    "    for i in range(k) :\n",
    "        stack.append(inputQueue.get())\n",
    "\n",
    "\n",
    "    while not isEmpty(stack) :\n",
    "        inputQueue.put((stack.pop()))\n",
    "\n",
    "    for i in range(inputQueue.qsize() - k) :\n",
    "        inputQueue.put(inputQueue.get())\n",
    "\n",
    "\n",
    "    return inputQueue\n",
    "\n",
    "\n",
    "\n",
    "'''-------------- Utility Functions --------------'''\n",
    "\n",
    "\n",
    "#Takes a list as a stack and returns whether the stack is empty or not\n",
    "def isEmpty(stack) :\n",
    "    return len(stack) == 0\n",
    "\n",
    "\n",
    "#Takes a list as a stack and returns the element at the top\n",
    "def top(stack) :\n",
    "    #assuming the stack is never empty\n",
    "    return stack[len(stack) - 1]\n",
    "\n",
    "\n",
    "\n",
    "def takeInput():\n",
    "    n_k = list(map(int, stdin.readline().strip().split(\" \")))\n",
    "    n = n_k[0]\n",
    "    k = n_k[1]\n",
    "\n",
    "    qu = queue.Queue()\n",
    "    values = list(map(int, stdin.readline().strip().split()))\n",
    "\n",
    "    for i in range(n) :\n",
    "        qu.put(values[i])\n",
    "\n",
    "    return k, qu\n",
    "\n",
    "\n",
    "#main\n",
    "k, qu = takeInput()\n",
    "\n",
    "qu = reverseKElements(qu, k)\n",
    "\n",
    "while not qu.empty() :\n",
    "    print(qu.get(), end = \" \")"
   ]
  }
 ],
 "metadata": {
  "kernelspec": {
   "display_name": "Python 3 (ipykernel)",
   "language": "python",
   "name": "python3"
  },
  "language_info": {
   "codemirror_mode": {
    "name": "ipython",
    "version": 3
   },
   "file_extension": ".py",
   "mimetype": "text/x-python",
   "name": "python",
   "nbconvert_exporter": "python",
   "pygments_lexer": "ipython3",
   "version": "3.11.3"
  }
 },
 "nbformat": 4,
 "nbformat_minor": 5
}
