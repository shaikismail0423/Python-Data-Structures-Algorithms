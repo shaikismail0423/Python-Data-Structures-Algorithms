{
 "cells": [
  {
   "cell_type": "markdown",
   "id": "f45562ba-0602-435d-80f2-63b36dc21c83",
   "metadata": {},
   "source": [
    "Trees are a fundamental data structure in computer science and have a wide range of applications. A tree is a hierarchical data structure that consists of nodes connected by edges. Each node has a value or data associated with it, and it can have zero or more child nodes. The top node of a tree is called the root, and nodes with no children are called leaves. Here are some key concepts related to trees:\n",
    "\n",
    "1. **Tree Terminology:**\n",
    "\n",
    "   - **Root:** The topmost node in a tree.\n",
    "   - **Node:** A data element within a tree that can have zero or more children.\n",
    "   - **Child:** A node directly connected to another node when moving away from the root.\n",
    "   - **Parent:** The converse notion of a child.\n",
    "   - **Siblings:** Nodes with the same parent.\n",
    "   - **Leaf:** A node with no children.\n",
    "   - **Height:** The length of the longest path to a leaf from a given node. The height of the tree is the height of the root.\n",
    "   - **Depth:** The length of the path to the root from a given node.\n",
    "   - **Subtree:** A tree formed by selecting a node and all its descendants.\n",
    "   - **Ancestors:** The nodes in the path of current node to root.\n",
    "\n",
    "2. **Types of Trees:**\n",
    "\n",
    "   - **Binary Tree:** A tree in which each node has at most two children, referred to as the left child and the right child. 0,1,2\n",
    "   - **Binary Search Tree (BST):** A binary tree where each node's left child has a value less than its parent, and the right child has a value greater than its parent. BSTs are often used for efficient searching and sorting.\n",
    "   - **Balanced Tree:** A tree in which the height of the left and right subtrees of any node differs by at most one. Examples include AVL trees and Red-Black trees.\n",
    "   - **Binary Heap:** A binary tree with a specific ordering property that is often used in heap data structures for efficient priority queue implementations.\n",
    "   - **Trie:** A tree-like data structure used for storing a dynamic set or associative array, often used for text and string-related operations.\n",
    "\n",
    "3. **Tree Traversal:**\n",
    "\n",
    "   - **In-order:** Traverse the left subtree, visit the current node, and then traverse the right subtree.\n",
    "   - **Pre-order:** Visit the current node, traverse the left subtree, and then traverse the right subtree.\n",
    "   - **Post-order:** Traverse the left subtree, traverse the right subtree, and then visit the current node.\n",
    "\n",
    "4. **Applications of Trees:**\n",
    "\n",
    "   - **Binary Search Trees (BSTs):** Efficient searching, insertion, and deletion of elements.\n",
    "   - **Expression Trees:** Used for evaluating expressions and parsing.\n",
    "   - **Directory and File Systems:** Representing file hierarchies.\n",
    "   - **HTML and XML Parsing:** Parsing and navigating structured data.\n",
    "   - **Graph Algorithms:** Trees are a fundamental building block for many graph algorithms.\n",
    "   - **Game Trees:** Used in game-playing algorithms like minimax.\n",
    "   - **Data Compression:** Huffman coding uses binary trees for efficient data compression.\n",
    "\n",
    "Understanding trees and their properties is essential for solving various computational problems and is a fundamental topic in data structures and algorithms. Different types of trees are suited for different tasks, so choosing the right tree structure for a particular problem is crucial."
   ]
  },
  {
   "cell_type": "code",
   "execution_count": 5,
   "id": "7c395025-0fab-402b-83fa-bf08e9267bf2",
   "metadata": {},
   "outputs": [],
   "source": [
    "class BinaryTreeNode:\n",
    "    def __init__(self,data):\n",
    "        self.data = data\n",
    "        self.left = None # Address of nodes children\n",
    "        self.right = None"
   ]
  },
  {
   "cell_type": "code",
   "execution_count": 5,
   "id": "f8571a15-ae90-4baa-a921-f511b5ad7265",
   "metadata": {},
   "outputs": [],
   "source": [
    "bt1 = BinaryTreeNode(1)\n",
    "bt2 = BinaryTreeNode(2)\n",
    "bt3 = BinaryTreeNode(3)\n",
    "bt4 = BinaryTreeNode(4)\n",
    "bt5 = BinaryTreeNode(5)\n",
    "\n",
    "bt1.left = bt2\n",
    "bt1.right = bt3\n",
    "bt3.left = bt4\n",
    "bt3.right = bt5"
   ]
  },
  {
   "cell_type": "code",
   "execution_count": 12,
   "id": "26f7053d-4b5a-4adc-a23c-11d8c8178b3c",
   "metadata": {},
   "outputs": [
    {
     "data": {
      "text/plain": [
       "2"
      ]
     },
     "execution_count": 12,
     "metadata": {},
     "output_type": "execute_result"
    }
   ],
   "source": [
    "bt1.left.data"
   ]
  },
  {
   "cell_type": "code",
   "execution_count": 13,
   "id": "79eafda7-9d8c-44e8-b3d7-0dee68082080",
   "metadata": {},
   "outputs": [
    {
     "data": {
      "text/plain": [
       "3"
      ]
     },
     "execution_count": 13,
     "metadata": {},
     "output_type": "execute_result"
    }
   ],
   "source": [
    "bt1.right.data"
   ]
  },
  {
   "cell_type": "markdown",
   "id": "bc1c8fea-1911-47f6-8581-62b3e78257c6",
   "metadata": {},
   "source": [
    "# Print tree\n",
    "\n",
    "Base Case:\n",
    "1. root is None"
   ]
  },
  {
   "cell_type": "code",
   "execution_count": 6,
   "id": "d4426574-a481-4078-a1a2-16eb7af4c95a",
   "metadata": {},
   "outputs": [],
   "source": [
    "def printTree(root):\n",
    "    if root is None:\n",
    "        return\n",
    "    print(root.data)\n",
    "    \n",
    "    printTree(root.left)\n",
    "    printTree(root.right)"
   ]
  },
  {
   "cell_type": "code",
   "execution_count": 7,
   "id": "d7778162-3a02-4865-9ad2-42bdf27a9b5c",
   "metadata": {},
   "outputs": [],
   "source": [
    "def printTree(root):\n",
    "    if root is None:\n",
    "        return\n",
    "        \n",
    "    print(root.data,\": \", end = \"\")\n",
    "    if root.left :\n",
    "        print(f\"L {root.left.data}\", end = \"\")\n",
    "    if root.right :\n",
    "        print(\", R\", root.right.data, end = \"\")\n",
    "    print()\n",
    "    printTree(root.left)\n",
    "    printTree(root.right)"
   ]
  },
  {
   "cell_type": "code",
   "execution_count": 16,
   "id": "4dd4e422-a3d5-4078-877b-4b4156525e52",
   "metadata": {},
   "outputs": [
    {
     "name": "stdout",
     "output_type": "stream",
     "text": [
      "1 : L 2, R 3\n",
      "2 : \n",
      "3 : L 4, R 5\n",
      "4 : \n",
      "5 : \n"
     ]
    }
   ],
   "source": [
    "printTree(bt1)"
   ]
  },
  {
   "cell_type": "code",
   "execution_count": 17,
   "id": "d4cbf0ab-c234-4ff4-b012-308deae20663",
   "metadata": {},
   "outputs": [],
   "source": [
    "# Take input recursive"
   ]
  },
  {
   "cell_type": "code",
   "execution_count": 8,
   "id": "6e314366-5591-45eb-a47c-fd986ba814d1",
   "metadata": {},
   "outputs": [],
   "source": [
    "def takeInput():\n",
    "    print(\"Enter root Data\")\n",
    "    rootData = int(input())\n",
    "\n",
    "    if rootData == -1:\n",
    "        return None\n",
    "        \n",
    "    root = BinaryTreeNode(rootData)\n",
    "    \n",
    "    leftTree = takeInput()\n",
    "    rightTree = takeInput()\n",
    "    \n",
    "    root.left = leftTree\n",
    "    root.right = rightTree\n",
    "    return root"
   ]
  },
  {
   "cell_type": "code",
   "execution_count": 20,
   "id": "12f74576-b5c4-4ff8-9db7-63cb7e28f9e9",
   "metadata": {},
   "outputs": [
    {
     "name": "stdout",
     "output_type": "stream",
     "text": [
      "Enter root Data\n"
     ]
    },
    {
     "name": "stdin",
     "output_type": "stream",
     "text": [
      " 1\n"
     ]
    },
    {
     "name": "stdout",
     "output_type": "stream",
     "text": [
      "Enter root Data\n"
     ]
    },
    {
     "name": "stdin",
     "output_type": "stream",
     "text": [
      " 2\n"
     ]
    },
    {
     "name": "stdout",
     "output_type": "stream",
     "text": [
      "Enter root Data\n"
     ]
    },
    {
     "name": "stdin",
     "output_type": "stream",
     "text": [
      " 3\n"
     ]
    },
    {
     "name": "stdout",
     "output_type": "stream",
     "text": [
      "Enter root Data\n"
     ]
    },
    {
     "name": "stdin",
     "output_type": "stream",
     "text": [
      " -1\n"
     ]
    },
    {
     "name": "stdout",
     "output_type": "stream",
     "text": [
      "Enter root Data\n"
     ]
    },
    {
     "name": "stdin",
     "output_type": "stream",
     "text": [
      " -1\n"
     ]
    },
    {
     "name": "stdout",
     "output_type": "stream",
     "text": [
      "Enter root Data\n"
     ]
    },
    {
     "name": "stdin",
     "output_type": "stream",
     "text": [
      " 4\n"
     ]
    },
    {
     "name": "stdout",
     "output_type": "stream",
     "text": [
      "Enter root Data\n"
     ]
    },
    {
     "name": "stdin",
     "output_type": "stream",
     "text": [
      " 5\n"
     ]
    },
    {
     "name": "stdout",
     "output_type": "stream",
     "text": [
      "Enter root Data\n"
     ]
    },
    {
     "name": "stdin",
     "output_type": "stream",
     "text": [
      " -1\n"
     ]
    },
    {
     "name": "stdout",
     "output_type": "stream",
     "text": [
      "Enter root Data\n"
     ]
    },
    {
     "name": "stdin",
     "output_type": "stream",
     "text": [
      " -1\n"
     ]
    },
    {
     "name": "stdout",
     "output_type": "stream",
     "text": [
      "Enter root Data\n"
     ]
    },
    {
     "name": "stdin",
     "output_type": "stream",
     "text": [
      " 7\n"
     ]
    },
    {
     "name": "stdout",
     "output_type": "stream",
     "text": [
      "Enter root Data\n"
     ]
    },
    {
     "name": "stdin",
     "output_type": "stream",
     "text": [
      " -1\n"
     ]
    },
    {
     "name": "stdout",
     "output_type": "stream",
     "text": [
      "Enter root Data\n"
     ]
    },
    {
     "name": "stdin",
     "output_type": "stream",
     "text": [
      " -1\n"
     ]
    },
    {
     "name": "stdout",
     "output_type": "stream",
     "text": [
      "Enter root Data\n"
     ]
    },
    {
     "name": "stdin",
     "output_type": "stream",
     "text": [
      " -1\n"
     ]
    }
   ],
   "source": [
    "root = takeInput()"
   ]
  },
  {
   "cell_type": "code",
   "execution_count": 21,
   "id": "56a59c24-eda1-48c2-acb9-1effa80697b4",
   "metadata": {},
   "outputs": [
    {
     "name": "stdout",
     "output_type": "stream",
     "text": [
      "1 : L 2\n",
      "2 : L 3, R 4\n",
      "3 : \n",
      "4 : L 5, R 7\n",
      "5 : \n",
      "7 : \n"
     ]
    }
   ],
   "source": [
    "printTree(root)"
   ]
  },
  {
   "cell_type": "code",
   "execution_count": null,
   "id": "0f106248-e0c5-4b11-bc68-7c4cdc388473",
   "metadata": {},
   "outputs": [],
   "source": [
    "def noOfNodes(root):\n",
    "    if root is None:\n",
    "        return 0\n",
    "    leftCount = noOfNodes(root.left)\n",
    "    rightCount = noOfNodes(root.right)\n",
    "    return 1 + leftCount + rightCount\n",
    "# O(n)"
   ]
  },
  {
   "cell_type": "code",
   "execution_count": null,
   "id": "04612198-6151-472e-aaa7-2eeb8ce22555",
   "metadata": {},
   "outputs": [],
   "source": [
    "noOfNodes(root)"
   ]
  },
  {
   "cell_type": "markdown",
   "id": "b87137c5-5279-4ad7-af75-b1298c191447",
   "metadata": {},
   "source": [
    "# Tree Traversals\n",
    "Tree traversal refers to the process of visiting and processing all the nodes in a tree data structure. There are three common methods for traversing trees: in-order, pre-order, and post-order. These methods determine the order in which nodes are visited and processed.\n",
    "\n",
    "Here's an explanation of each tree traversal technique:\n",
    "\n",
    "1. **In-Order Traversal:**\n",
    "   - In an in-order traversal, you visit the nodes of the tree in ascending order of their values (for binary search trees).\n",
    "   - The traversal process starts from the leftmost node, then visits the current node, and finally goes to the right child.\n",
    "   - For binary search trees, this traversal results in a sorted list of the elements.\n",
    "\n",
    "   ```python\n",
    "   def in_order_traversal(node):\n",
    "       if node:\n",
    "           in_order_traversal(node.left)\n",
    "           print(node.data, end=' ')\n",
    "           in_order_traversal(node.right)\n",
    "   ```\n",
    "\n",
    "2. **Pre-Order Traversal:**\n",
    "   - In a pre-order traversal, you visit the current node before its children.\n",
    "   - This traversal is often used for creating a copy of the tree, as it helps to reconstruct the tree structure.\n",
    "\n",
    "   ```python\n",
    "   def pre_order_traversal(node):\n",
    "       if node:\n",
    "           print(node.data, end=' ')\n",
    "           pre_order_traversal(node.left)\n",
    "           pre_order_traversal(node.right)\n",
    "   ```\n",
    "\n",
    "3. **Post-Order Traversal:**\n",
    "   - In a post-order traversal, you visit the current node after its children.\n",
    "   - This traversal is often used for tasks such as deleting the tree, as it ensures that you visit child nodes before their parent.\n",
    "\n",
    "   ```python\n",
    "   def post_order_traversal(node):\n",
    "       if node:\n",
    "           post_order_traversal(node.left)\n",
    "           post_order_traversal(node.right)\n",
    "           print(node.data, end=' ')\n",
    "   ```\n",
    "\n",
    "Here's how you can use these traversal functions with a binary tree in Python:\n",
    "\n",
    "```python\n",
    "class TreeNode:\n",
    "    def __init__(self, data):\n",
    "        self.data = data\n",
    "        self.left = None\n",
    "        self.right = None\n",
    "\n",
    "# Creating a binary tree\n",
    "root = TreeNode(1)\n",
    "root.left = TreeNode(2)\n",
    "root.right = TreeNode(3)\n",
    "root.left.left = TreeNode(4)\n",
    "root.left.right = TreeNode(5)\n",
    "\n",
    "print(\"In-order traversal:\")\n",
    "in_order_traversal(root)  # Output: 4 2 5 1 3\n",
    "\n",
    "print(\"\\nPre-order traversal:\")\n",
    "pre_order_traversal(root)  # Output: 1 2 4 5 3\n",
    "\n",
    "print(\"\\nPost-order traversal:\")\n",
    "post_order_traversal(root)  # Output: 4 5 2 3 1\n",
    "```\n",
    "\n",
    "These traversal methods are essential for various tree-related algorithms and operations, including searching, insertion, deletion, and many other tasks involving tree structures."
   ]
  },
  {
   "cell_type": "markdown",
   "id": "91d45668-097a-40a2-a5e5-b9f7c4981797",
   "metadata": {},
   "source": [
    "\n",
    "\n",
    "\n",
    "\n",
    "Level-order traversal, also known as breadth-first traversal, is a tree traversal method that visits all the nodes at each level of the tree before moving on to the next level. This traversal is commonly implemented using a queue data structure to keep track of nodes at each level. Here's how to perform a level-order traversal in Python:\n",
    "\n",
    "```python\n",
    "from collections import deque\n",
    "\n",
    "class TreeNode:\n",
    "    def __init__(self, data):\n",
    "        self.data = data\n",
    "        self.left = None\n",
    "        self.right = None\n",
    "\n",
    "def level_order_traversal(root):\n",
    "    if root is None:\n",
    "        return\n",
    "    \n",
    "    # Create a queue for level-order traversal\n",
    "    queue = deque()\n",
    "    \n",
    "    # Enqueue the root node\n",
    "    queue.append(root)\n",
    "    \n",
    "    while queue:\n",
    "        # Dequeue a node and process it\n",
    "        current_node = queue.popleft()\n",
    "        print(current_node.data, end=' ')\n",
    "        \n",
    "        # Enqueue the left child if it exists\n",
    "        if current_node.left:\n",
    "            queue.append(current_node.left)\n",
    "        \n",
    "        # Enqueue the right child if it exists\n",
    "        if current_node.right:\n",
    "            queue.append(current_node.right)\n",
    "\n",
    "# Creating a binary tree\n",
    "root = TreeNode(1)\n",
    "root.left = TreeNode(2)\n",
    "root.right = TreeNode(3)\n",
    "root.left.left = TreeNode(4)\n",
    "root.left.right = TreeNode(5)\n",
    "\n",
    "print(\"Level-order traversal:\")\n",
    "level_order_traversal(root)\n",
    "```\n",
    "\n",
    "In this code:\n",
    "\n",
    "1. We define the `level_order_traversal` function that takes the root node of the tree as an argument.\n",
    "\n",
    "2. We use a `deque` (double-ended queue) from the `collections` module to implement the queue for the level-order traversal.\n",
    "\n",
    "3. We enqueue the root node into the queue.\n",
    "\n",
    "4. Inside the `while` loop, we dequeue a node, process it (print its data in this case), and then enqueue its left and right children if they exist.\n",
    "\n",
    "5. The loop continues until the queue becomes empty, which means we have visited all nodes in the tree in level-order.\n",
    "\n",
    "When you run this code, it will produce the level-order traversal of the binary tree:\n",
    "\n",
    "```\n",
    "Level-order traversal:\n",
    "1 2 3 4 5\n",
    "```\n",
    "\n",
    "Level-order traversal is useful for tasks such as finding the width of a binary tree, finding the level of a specific node, and performing various tree-related operations that require visiting nodes level by level."
   ]
  },
  {
   "cell_type": "code",
   "execution_count": null,
   "id": "7a352319-c79e-43a8-b1bc-2f7559fdeb94",
   "metadata": {},
   "outputs": [],
   "source": [
    "# Node with Largest data\n",
    "import sys\n",
    "\n",
    "def nodeWithLargestData(root):\n",
    "    if root is None:\n",
    "        return -sys.maxsize -1\n",
    "    maxLeft = nodeWithLargestData(root.left) \n",
    "    maxRight = nodeWithLargestData(root.right) \n",
    "    return max(root.data, maxLeft, maxRight)   "
   ]
  },
  {
   "cell_type": "code",
   "execution_count": null,
   "id": "0d71a91e-053a-4ffc-af4b-660f612c8a11",
   "metadata": {},
   "outputs": [],
   "source": [
    "nodeWithLargestData(root)"
   ]
  },
  {
   "cell_type": "code",
   "execution_count": null,
   "id": "c739f47a-5328-49d3-abe1-88f1a2799b64",
   "metadata": {},
   "outputs": [],
   "source": [
    "root2 = takeInput()"
   ]
  },
  {
   "cell_type": "code",
   "execution_count": null,
   "id": "964ba368-b3bd-43a2-a717-0aad9e9cc56f",
   "metadata": {},
   "outputs": [],
   "source": [
    "nodeWithLargestData(root2)"
   ]
  },
  {
   "cell_type": "markdown",
   "id": "55b46660-5f47-4ed1-8466-748585e4ebeb",
   "metadata": {},
   "source": [
    "   - **Height:** The length of the longest path to a leaf from a given node. The height of the tree is the height of the root."
   ]
  },
  {
   "cell_type": "code",
   "execution_count": null,
   "id": "e4eab51b-58ad-4510-9fad-3c224ef984d9",
   "metadata": {},
   "outputs": [],
   "source": [
    "def HeightOfATree(root):\n",
    "    if root is None:\n",
    "        return 0\n",
    "    if root.left is None and root.right is None:\n",
    "        return 1\n",
    "    leftHeight = HeightOfATree(root.left)\n",
    "    rightHeight = HeightOfATree(root.right)\n",
    "    \n",
    "    return 1 + max(leftHeight,rightHeight)\n",
    "# O(N)"
   ]
  },
  {
   "cell_type": "code",
   "execution_count": null,
   "id": "16897184-ab55-4ae5-9263-96f61cb7dd62",
   "metadata": {},
   "outputs": [],
   "source": [
    "HeightOfATree(root)"
   ]
  },
  {
   "cell_type": "code",
   "execution_count": null,
   "id": "6d6bfff8-7be9-4ee1-926d-a3a43d484be3",
   "metadata": {},
   "outputs": [],
   "source": [
    "printTree(root)"
   ]
  },
  {
   "cell_type": "code",
   "execution_count": null,
   "id": "2eaf7da5-005d-4d0e-854b-6ff2b4cdf1de",
   "metadata": {},
   "outputs": [],
   "source": [
    "# No of Leaf Nodes\n",
    "def noOfLeafNodes(root):\n",
    "    if root is None:\n",
    "        return 0\n",
    "    if root.left is None and root.right is None:\n",
    "        return 1\n",
    "    numLeafLeft = noOfLeafNodes(root.left)\n",
    "    numLeafRight = noOfLeafNodes(root.right)\n",
    "    return numLeafLeft + numLeafRight"
   ]
  },
  {
   "cell_type": "code",
   "execution_count": null,
   "id": "9a5b9bf8-711c-43c7-a92e-8828ea857284",
   "metadata": {},
   "outputs": [],
   "source": [
    "noOfLeafNodes(root)"
   ]
  },
  {
   "cell_type": "code",
   "execution_count": null,
   "id": "e7297af2-7396-4242-9000-721e89796574",
   "metadata": {},
   "outputs": [],
   "source": [
    "# Print Nodes at Depth k"
   ]
  },
  {
   "cell_type": "code",
   "execution_count": null,
   "id": "5bf75778-0640-47db-b14e-077e44200f81",
   "metadata": {},
   "outputs": [],
   "source": [
    "def printNodesAtDepthK(root, k):\n",
    "    if root is None or k < 0:\n",
    "        return \n",
    "    if k == 0:\n",
    "        print(root.data)\n",
    "        return\n",
    "        \n",
    "    printNodesAtDepthK(root.left, k-1)\n",
    "    printNodesAtDepthK(root.right, k-1)\n",
    "# O(n)"
   ]
  },
  {
   "cell_type": "code",
   "execution_count": null,
   "id": "96626eb9-d1dc-43f5-902d-c727d02ea886",
   "metadata": {},
   "outputs": [],
   "source": [
    "root3 = takeInput()"
   ]
  },
  {
   "cell_type": "code",
   "execution_count": null,
   "id": "fc08fae4-6931-4c10-aba3-fd98ec214d51",
   "metadata": {},
   "outputs": [],
   "source": [
    "printNodesAtDepthK(root3, 2)"
   ]
  },
  {
   "cell_type": "code",
   "execution_count": null,
   "id": "ba10a4ea-7360-4e07-a0f0-16ee9494ad85",
   "metadata": {},
   "outputs": [],
   "source": [
    "# Another version passing the root, depth=0 and k\n",
    "# recursin step = print(root.left, k, d+1)"
   ]
  },
  {
   "cell_type": "code",
   "execution_count": null,
   "id": "ae99cde2-9be2-4fb5-a801-550f63c7e68a",
   "metadata": {},
   "outputs": [],
   "source": [
    "def printNodesAtDepthKV2(root, k, d = 0):\n",
    "    if root is None or k < 0:\n",
    "        return \n",
    "        \n",
    "    if k == d:\n",
    "        print(root.data)\n",
    "        return\n",
    "        \n",
    "    printNodesAtDepthKV2(root.left, k, d+1)\n",
    "    printNodesAtDepthKV2(root.right, k, d+1)\n"
   ]
  },
  {
   "cell_type": "code",
   "execution_count": null,
   "id": "a8ad31cd-5df7-44ae-b83d-af2a94c357bf",
   "metadata": {},
   "outputs": [],
   "source": [
    "printNodesAtDepthKV2(root3, 2)"
   ]
  },
  {
   "cell_type": "code",
   "execution_count": null,
   "id": "8a2ef78e-3718-4f48-b3b9-46b1f1347731",
   "metadata": {},
   "outputs": [],
   "source": [
    "# Remove Leaf Nodes"
   ]
  },
  {
   "cell_type": "code",
   "execution_count": 44,
   "id": "96c68dd6-16a9-456c-8a34-ec7d092ec462",
   "metadata": {},
   "outputs": [],
   "source": [
    "def removeLeafNode(root):\n",
    "    if root is None:\n",
    "        return root\n",
    "    if root.left is None and root.right is None:\n",
    "        return None\n",
    "    rootLeft = removeLeafNode(root.left)\n",
    "    rootRight = removeLeafNode(root.right)\n",
    "    root.left = rootLeft\n",
    "    root.right = rootRight\n",
    "    return root"
   ]
  },
  {
   "cell_type": "code",
   "execution_count": 49,
   "id": "44fad568-6948-4094-9153-f7563d3f4b82",
   "metadata": {},
   "outputs": [
    {
     "name": "stdout",
     "output_type": "stream",
     "text": [
      "Enter root Data\n"
     ]
    },
    {
     "name": "stdin",
     "output_type": "stream",
     "text": [
      " 1\n"
     ]
    },
    {
     "name": "stdout",
     "output_type": "stream",
     "text": [
      "Enter root Data\n"
     ]
    },
    {
     "name": "stdin",
     "output_type": "stream",
     "text": [
      " 2\n"
     ]
    },
    {
     "name": "stdout",
     "output_type": "stream",
     "text": [
      "Enter root Data\n"
     ]
    },
    {
     "name": "stdin",
     "output_type": "stream",
     "text": [
      " 4\n"
     ]
    },
    {
     "name": "stdout",
     "output_type": "stream",
     "text": [
      "Enter root Data\n"
     ]
    },
    {
     "name": "stdin",
     "output_type": "stream",
     "text": [
      " -1\n"
     ]
    },
    {
     "name": "stdout",
     "output_type": "stream",
     "text": [
      "Enter root Data\n"
     ]
    },
    {
     "name": "stdin",
     "output_type": "stream",
     "text": [
      " -1\n"
     ]
    },
    {
     "name": "stdout",
     "output_type": "stream",
     "text": [
      "Enter root Data\n"
     ]
    },
    {
     "name": "stdin",
     "output_type": "stream",
     "text": [
      " 5\n"
     ]
    },
    {
     "name": "stdout",
     "output_type": "stream",
     "text": [
      "Enter root Data\n"
     ]
    },
    {
     "name": "stdin",
     "output_type": "stream",
     "text": [
      " 8\n"
     ]
    },
    {
     "name": "stdout",
     "output_type": "stream",
     "text": [
      "Enter root Data\n"
     ]
    },
    {
     "name": "stdin",
     "output_type": "stream",
     "text": [
      " -1\n"
     ]
    },
    {
     "name": "stdout",
     "output_type": "stream",
     "text": [
      "Enter root Data\n"
     ]
    },
    {
     "name": "stdin",
     "output_type": "stream",
     "text": [
      " -1\n"
     ]
    },
    {
     "name": "stdout",
     "output_type": "stream",
     "text": [
      "Enter root Data\n"
     ]
    },
    {
     "name": "stdin",
     "output_type": "stream",
     "text": [
      " 9\n"
     ]
    },
    {
     "name": "stdout",
     "output_type": "stream",
     "text": [
      "Enter root Data\n"
     ]
    },
    {
     "name": "stdin",
     "output_type": "stream",
     "text": [
      " -1\n"
     ]
    },
    {
     "name": "stdout",
     "output_type": "stream",
     "text": [
      "Enter root Data\n"
     ]
    },
    {
     "name": "stdin",
     "output_type": "stream",
     "text": [
      " -1\n"
     ]
    },
    {
     "name": "stdout",
     "output_type": "stream",
     "text": [
      "Enter root Data\n"
     ]
    },
    {
     "name": "stdin",
     "output_type": "stream",
     "text": [
      " 3\n"
     ]
    },
    {
     "name": "stdout",
     "output_type": "stream",
     "text": [
      "Enter root Data\n"
     ]
    },
    {
     "name": "stdin",
     "output_type": "stream",
     "text": [
      " 6\n"
     ]
    },
    {
     "name": "stdout",
     "output_type": "stream",
     "text": [
      "Enter root Data\n"
     ]
    },
    {
     "name": "stdin",
     "output_type": "stream",
     "text": [
      " -1\n"
     ]
    },
    {
     "name": "stdout",
     "output_type": "stream",
     "text": [
      "Enter root Data\n"
     ]
    },
    {
     "name": "stdin",
     "output_type": "stream",
     "text": [
      " -1\n"
     ]
    },
    {
     "name": "stdout",
     "output_type": "stream",
     "text": [
      "Enter root Data\n"
     ]
    },
    {
     "name": "stdin",
     "output_type": "stream",
     "text": [
      " 7\n"
     ]
    },
    {
     "name": "stdout",
     "output_type": "stream",
     "text": [
      "Enter root Data\n"
     ]
    },
    {
     "name": "stdin",
     "output_type": "stream",
     "text": [
      " -1\n"
     ]
    },
    {
     "name": "stdout",
     "output_type": "stream",
     "text": [
      "Enter root Data\n"
     ]
    },
    {
     "name": "stdin",
     "output_type": "stream",
     "text": [
      " -1\n"
     ]
    }
   ],
   "source": [
    "root5 = takeInput()"
   ]
  },
  {
   "cell_type": "code",
   "execution_count": 50,
   "id": "da56b188-9a9d-4b91-af18-c691732bcee2",
   "metadata": {},
   "outputs": [
    {
     "name": "stdout",
     "output_type": "stream",
     "text": [
      "1 : L 2, R 3\n",
      "2 : L 4, R 5\n",
      "4 : \n",
      "5 : L 8, R 9\n",
      "8 : \n",
      "9 : \n",
      "3 : L 6, R 7\n",
      "6 : \n",
      "7 : \n"
     ]
    }
   ],
   "source": [
    "printTree(root5)"
   ]
  },
  {
   "cell_type": "code",
   "execution_count": 51,
   "id": "ae538ce4-1e4d-4317-9bad-ebc70c735136",
   "metadata": {},
   "outputs": [],
   "source": [
    "root5 = removeLeafNode(root5)"
   ]
  },
  {
   "cell_type": "code",
   "execution_count": 52,
   "id": "63e975f6-1ff9-4b20-8580-c68b960c9932",
   "metadata": {},
   "outputs": [
    {
     "name": "stdout",
     "output_type": "stream",
     "text": [
      "1 : L 2, R 3\n",
      "2 : , R 5\n",
      "5 : \n",
      "3 : \n"
     ]
    }
   ],
   "source": [
    "printTree(root5)"
   ]
  },
  {
   "cell_type": "markdown",
   "id": "81575d7a-ce80-45c7-8615-fa201bdcaf67",
   "metadata": {},
   "source": [
    "## Check whether tree is balanced or not\n",
    "For each node in our trees that nodes left and right sub tree shouldnt have\n",
    "height difference of more than 1"
   ]
  },
  {
   "cell_type": "code",
   "execution_count": 67,
   "id": "1304b779-b831-4122-9ae5-b5ee6c56f4a0",
   "metadata": {},
   "outputs": [],
   "source": [
    "def height(root):\n",
    "    if root is None:\n",
    "        return 0\n",
    "    return 1 + max(height(root.left),height(root.right))"
   ]
  },
  {
   "cell_type": "code",
   "execution_count": 68,
   "id": "5d74dd28-0ac5-4194-92da-7c3e0800cb34",
   "metadata": {},
   "outputs": [],
   "source": [
    "def isBalanced(root):\n",
    "    if root is None:\n",
    "        return True\n",
    "\n",
    "    left_height = height(root.left)\n",
    "    right_height = height(root.right)\n",
    "\n",
    "    if abs(left_height - right_height) > 1:\n",
    "        return False\n",
    "\n",
    "    left_balance = isBalanced(root.left)\n",
    "    right_balance = isBalanced(root.right)\n",
    "\n",
    "    return left_balance and right_balance\n"
   ]
  },
  {
   "cell_type": "code",
   "execution_count": 7,
   "id": "3aa4e8fd-f978-4bea-a2f0-d2d4e055248e",
   "metadata": {},
   "outputs": [
    {
     "name": "stdout",
     "output_type": "stream",
     "text": [
      "Enter root Data\n"
     ]
    },
    {
     "name": "stdin",
     "output_type": "stream",
     "text": [
      " 1\n"
     ]
    },
    {
     "name": "stdout",
     "output_type": "stream",
     "text": [
      "Enter root Data\n"
     ]
    },
    {
     "name": "stdin",
     "output_type": "stream",
     "text": [
      " 2\n"
     ]
    },
    {
     "name": "stdout",
     "output_type": "stream",
     "text": [
      "Enter root Data\n"
     ]
    },
    {
     "name": "stdin",
     "output_type": "stream",
     "text": [
      " 4\n"
     ]
    },
    {
     "name": "stdout",
     "output_type": "stream",
     "text": [
      "Enter root Data\n"
     ]
    },
    {
     "name": "stdin",
     "output_type": "stream",
     "text": [
      " 8\n"
     ]
    },
    {
     "name": "stdout",
     "output_type": "stream",
     "text": [
      "Enter root Data\n"
     ]
    },
    {
     "name": "stdin",
     "output_type": "stream",
     "text": [
      " 9\n"
     ]
    },
    {
     "name": "stdout",
     "output_type": "stream",
     "text": [
      "Enter root Data\n"
     ]
    },
    {
     "name": "stdin",
     "output_type": "stream",
     "text": [
      " -1\n"
     ]
    },
    {
     "name": "stdout",
     "output_type": "stream",
     "text": [
      "Enter root Data\n"
     ]
    },
    {
     "name": "stdin",
     "output_type": "stream",
     "text": [
      " -1\n"
     ]
    },
    {
     "name": "stdout",
     "output_type": "stream",
     "text": [
      "Enter root Data\n"
     ]
    },
    {
     "name": "stdin",
     "output_type": "stream",
     "text": [
      " -1\n"
     ]
    },
    {
     "name": "stdout",
     "output_type": "stream",
     "text": [
      "Enter root Data\n"
     ]
    },
    {
     "name": "stdin",
     "output_type": "stream",
     "text": [
      " -1\n"
     ]
    },
    {
     "name": "stdout",
     "output_type": "stream",
     "text": [
      "Enter root Data\n"
     ]
    },
    {
     "name": "stdin",
     "output_type": "stream",
     "text": [
      " -1\n"
     ]
    },
    {
     "name": "stdout",
     "output_type": "stream",
     "text": [
      "Enter root Data\n"
     ]
    },
    {
     "name": "stdin",
     "output_type": "stream",
     "text": [
      " -1\n"
     ]
    }
   ],
   "source": [
    "root5 = takeInput()"
   ]
  },
  {
   "cell_type": "code",
   "execution_count": 74,
   "id": "45f821c5-9436-4b43-97a9-ad87287d9a7b",
   "metadata": {},
   "outputs": [
    {
     "data": {
      "text/plain": [
       "False"
      ]
     },
     "execution_count": 74,
     "metadata": {},
     "output_type": "execute_result"
    }
   ],
   "source": [
    "isBalanced(root5)"
   ]
  },
  {
   "cell_type": "markdown",
   "id": "3eb23ad9-d397-4b0e-b276-ca3ec5d0c4b1",
   "metadata": {},
   "source": [
    "### The above solution is\n",
    "\n",
    "Balanced Tree:\n",
    "At node we do n work\n",
    "T(n) = n + 2*T(n/2): \n",
    "Merge Sort lantidi\n",
    "O(nlogn)\n",
    "\n",
    "Right/left skewed :\n",
    "T(n) = n + T(n-1): \n",
    "O(n^2)\n",
    "\n",
    "Above complexity can be written as: O(nh)\n",
    "h = height of tree"
   ]
  },
  {
   "cell_type": "markdown",
   "id": "b5b1bdde-2567-4592-805c-e86278c9d8db",
   "metadata": {},
   "source": [
    "## Another Approach\n",
    "give height and isBalanced"
   ]
  },
  {
   "cell_type": "code",
   "execution_count": 12,
   "id": "4dd3a730-0fe9-4735-a9b8-167aae52287f",
   "metadata": {},
   "outputs": [],
   "source": [
    "def isTreeBalanced(root):\n",
    "    if root is None:\n",
    "        return (True, 0)\n",
    "    is_left_bal, leftHeight = isTreeBalanced(root.left)\n",
    "    is_right_bal, rightHeight = isTreeBalanced(root.right)\n",
    "\n",
    "    isBal =  True if abs(leftHeight-rightHeight) <= 1 and (is_left_bal and is_right_bal) else False\n",
    "    curr_height = 1 + max(leftHeight, rightHeight)\n",
    "    return (isBal,curr_height)"
   ]
  },
  {
   "cell_type": "code",
   "execution_count": 13,
   "id": "f38e0724-60b4-4422-ba30-9dcc8ce54d15",
   "metadata": {},
   "outputs": [
    {
     "data": {
      "text/plain": [
       "(False, 4)"
      ]
     },
     "execution_count": 13,
     "metadata": {},
     "output_type": "execute_result"
    }
   ],
   "source": [
    "isTreeBalanced(root5)"
   ]
  },
  {
   "cell_type": "markdown",
   "id": "191e58e2-8066-4b05-bc6f-9273aa8da9c7",
   "metadata": {},
   "source": [
    "# Diameter\n",
    "Distance between two farthest nodes\n",
    "3 optons :\n",
    "1. one node left,one node right: lh+rh\n",
    "2. two nodes left :ld\n",
    "3. two nodes right : rd"
   ]
  },
  {
   "cell_type": "code",
   "execution_count": 25,
   "id": "34caf761-3660-4573-8688-769fdb94fb71",
   "metadata": {},
   "outputs": [],
   "source": [
    "def height(root):\n",
    "    if root is None:\n",
    "        return 0\n",
    "    return 1 + max(height(root.left), height(root.right))"
   ]
  },
  {
   "cell_type": "code",
   "execution_count": 26,
   "id": "6d4029a8-a94f-4447-860a-b47efc14b2b5",
   "metadata": {},
   "outputs": [],
   "source": [
    "def diameter(root):\n",
    "    if root is None:\n",
    "        return 0\n",
    "    diameter_left = diameter(root.left)\n",
    "    diameter_right = diameter(root.right)\n",
    "    left_height = height(root.left)\n",
    "    right_height = height(root.right)\n",
    "    return max(diameter_left, diameter_right, left_height + right_height)"
   ]
  },
  {
   "cell_type": "code",
   "execution_count": 20,
   "id": "2fe4aa15-9fcb-495e-90c8-857aff084352",
   "metadata": {
    "scrolled": true
   },
   "outputs": [
    {
     "name": "stdout",
     "output_type": "stream",
     "text": [
      "Enter root Data\n"
     ]
    },
    {
     "name": "stdin",
     "output_type": "stream",
     "text": [
      " 3\n"
     ]
    },
    {
     "name": "stdout",
     "output_type": "stream",
     "text": [
      "Enter root Data\n"
     ]
    },
    {
     "name": "stdin",
     "output_type": "stream",
     "text": [
      " 2\n"
     ]
    },
    {
     "name": "stdout",
     "output_type": "stream",
     "text": [
      "Enter root Data\n"
     ]
    },
    {
     "name": "stdin",
     "output_type": "stream",
     "text": [
      " 1\n"
     ]
    },
    {
     "name": "stdout",
     "output_type": "stream",
     "text": [
      "Enter root Data\n"
     ]
    },
    {
     "name": "stdin",
     "output_type": "stream",
     "text": [
      " -1\n"
     ]
    },
    {
     "name": "stdout",
     "output_type": "stream",
     "text": [
      "Enter root Data\n"
     ]
    },
    {
     "name": "stdin",
     "output_type": "stream",
     "text": [
      " -1\n"
     ]
    },
    {
     "name": "stdout",
     "output_type": "stream",
     "text": [
      "Enter root Data\n"
     ]
    },
    {
     "name": "stdin",
     "output_type": "stream",
     "text": [
      " -1\n"
     ]
    },
    {
     "name": "stdout",
     "output_type": "stream",
     "text": [
      "Enter root Data\n"
     ]
    },
    {
     "name": "stdin",
     "output_type": "stream",
     "text": [
      " 4\n"
     ]
    },
    {
     "name": "stdout",
     "output_type": "stream",
     "text": [
      "Enter root Data\n"
     ]
    },
    {
     "name": "stdin",
     "output_type": "stream",
     "text": [
      " -1\n"
     ]
    },
    {
     "name": "stdout",
     "output_type": "stream",
     "text": [
      "Enter root Data\n"
     ]
    },
    {
     "name": "stdin",
     "output_type": "stream",
     "text": [
      " -1\n"
     ]
    }
   ],
   "source": [
    "root5 = takeInput()"
   ]
  },
  {
   "cell_type": "code",
   "execution_count": 27,
   "id": "347d24e3-c3f7-4183-96ca-0893fd74128b",
   "metadata": {},
   "outputs": [
    {
     "data": {
      "text/plain": [
       "3"
      ]
     },
     "execution_count": 27,
     "metadata": {},
     "output_type": "execute_result"
    }
   ],
   "source": [
    "diameter(root5)"
   ]
  },
  {
   "cell_type": "code",
   "execution_count": 8,
   "id": "af6fb065-efa9-4390-838a-2bf4703ea39a",
   "metadata": {},
   "outputs": [],
   "source": [
    "def diameterAndHeight(root):\n",
    "    if root is None:\n",
    "        return (0, 0)\n",
    "    lh, ld = diameterAndHeight(root.left)\n",
    "    rh, rd = diameterAndHeight(root.right)\n",
    "    \n",
    "    curr_h = 1 + max(lh, rh)\n",
    "    curr_d = max(lh + rh+1, ld, rd)\n",
    "    \n",
    "    return (curr_h, curr_d)"
   ]
  },
  {
   "cell_type": "code",
   "execution_count": 9,
   "id": "f6fe4cf4-9b33-43e7-bf0b-4b373cb81077",
   "metadata": {},
   "outputs": [
    {
     "data": {
      "text/plain": [
       "(5, 5)"
      ]
     },
     "execution_count": 9,
     "metadata": {},
     "output_type": "execute_result"
    }
   ],
   "source": [
    "diameterAndHeight(root5)"
   ]
  },
  {
   "cell_type": "code",
   "execution_count": 60,
   "id": "ba1f3086-507e-4c3e-af9a-570bd8b2168d",
   "metadata": {},
   "outputs": [
    {
     "name": "stdout",
     "output_type": "stream",
     "text": [
      "Enter root Data\n"
     ]
    },
    {
     "name": "stdin",
     "output_type": "stream",
     "text": [
      " 5\n"
     ]
    },
    {
     "name": "stdout",
     "output_type": "stream",
     "text": [
      "Enter root Data\n"
     ]
    },
    {
     "name": "stdin",
     "output_type": "stream",
     "text": [
      " 4\n"
     ]
    },
    {
     "name": "stdout",
     "output_type": "stream",
     "text": [
      "Enter root Data\n"
     ]
    },
    {
     "name": "stdin",
     "output_type": "stream",
     "text": [
      " 3\n"
     ]
    },
    {
     "name": "stdout",
     "output_type": "stream",
     "text": [
      "Enter root Data\n"
     ]
    },
    {
     "name": "stdin",
     "output_type": "stream",
     "text": [
      " 2\n"
     ]
    },
    {
     "name": "stdout",
     "output_type": "stream",
     "text": [
      "Enter root Data\n"
     ]
    },
    {
     "name": "stdin",
     "output_type": "stream",
     "text": [
      " 1\n"
     ]
    },
    {
     "name": "stdout",
     "output_type": "stream",
     "text": [
      "Enter root Data\n"
     ]
    },
    {
     "name": "stdin",
     "output_type": "stream",
     "text": [
      " -1\n"
     ]
    },
    {
     "name": "stdout",
     "output_type": "stream",
     "text": [
      "Enter root Data\n"
     ]
    },
    {
     "name": "stdin",
     "output_type": "stream",
     "text": [
      " -1\n"
     ]
    },
    {
     "name": "stdout",
     "output_type": "stream",
     "text": [
      "Enter root Data\n"
     ]
    },
    {
     "name": "stdin",
     "output_type": "stream",
     "text": [
      " -1\n"
     ]
    },
    {
     "name": "stdout",
     "output_type": "stream",
     "text": [
      "Enter root Data\n"
     ]
    },
    {
     "name": "stdin",
     "output_type": "stream",
     "text": [
      " -1\n"
     ]
    },
    {
     "name": "stdout",
     "output_type": "stream",
     "text": [
      "Enter root Data\n"
     ]
    },
    {
     "name": "stdin",
     "output_type": "stream",
     "text": [
      " -1\n"
     ]
    },
    {
     "name": "stdout",
     "output_type": "stream",
     "text": [
      "Enter root Data\n"
     ]
    },
    {
     "name": "stdin",
     "output_type": "stream",
     "text": [
      " 6\n"
     ]
    },
    {
     "name": "stdout",
     "output_type": "stream",
     "text": [
      "Enter root Data\n"
     ]
    },
    {
     "name": "stdin",
     "output_type": "stream",
     "text": [
      " -1\n"
     ]
    },
    {
     "name": "stdout",
     "output_type": "stream",
     "text": [
      "Enter root Data\n"
     ]
    },
    {
     "name": "stdin",
     "output_type": "stream",
     "text": [
      " 7\n"
     ]
    },
    {
     "name": "stdout",
     "output_type": "stream",
     "text": [
      "Enter root Data\n"
     ]
    },
    {
     "name": "stdin",
     "output_type": "stream",
     "text": [
      " -1\n"
     ]
    },
    {
     "name": "stdout",
     "output_type": "stream",
     "text": [
      "Enter root Data\n"
     ]
    },
    {
     "name": "stdin",
     "output_type": "stream",
     "text": [
      " 8\n"
     ]
    },
    {
     "name": "stdout",
     "output_type": "stream",
     "text": [
      "Enter root Data\n"
     ]
    },
    {
     "name": "stdin",
     "output_type": "stream",
     "text": [
      " -1\n"
     ]
    },
    {
     "name": "stdout",
     "output_type": "stream",
     "text": [
      "Enter root Data\n"
     ]
    },
    {
     "name": "stdin",
     "output_type": "stream",
     "text": [
      " 9\n"
     ]
    },
    {
     "name": "stdout",
     "output_type": "stream",
     "text": [
      "Enter root Data\n"
     ]
    },
    {
     "name": "stdin",
     "output_type": "stream",
     "text": [
      " -1\n"
     ]
    },
    {
     "name": "stdout",
     "output_type": "stream",
     "text": [
      "Enter root Data\n"
     ]
    },
    {
     "name": "stdin",
     "output_type": "stream",
     "text": [
      " 10\n"
     ]
    },
    {
     "name": "stdout",
     "output_type": "stream",
     "text": [
      "Enter root Data\n"
     ]
    },
    {
     "name": "stdin",
     "output_type": "stream",
     "text": [
      " -1\n"
     ]
    },
    {
     "name": "stdout",
     "output_type": "stream",
     "text": [
      "Enter root Data\n"
     ]
    },
    {
     "name": "stdin",
     "output_type": "stream",
     "text": [
      " -1\n"
     ]
    }
   ],
   "source": [
    "root6 = takeInput()"
   ]
  },
  {
   "cell_type": "code",
   "execution_count": 12,
   "id": "f6f0cd34-893f-4102-a910-17325e1d36ff",
   "metadata": {},
   "outputs": [
    {
     "data": {
      "text/plain": [
       "(5, 5)"
      ]
     },
     "execution_count": 12,
     "metadata": {},
     "output_type": "execute_result"
    }
   ],
   "source": [
    "diameterAndHeight(root5)"
   ]
  },
  {
   "cell_type": "code",
   "execution_count": 6,
   "id": "8473067c-a1a9-433e-98eb-ba1d24a26d6a",
   "metadata": {},
   "outputs": [],
   "source": [
    "from queue import Queue\n",
    "def takeInputLevelWise():\n",
    "    print(\"Enter root Data\")\n",
    "    rootData = int(input())\n",
    "    \n",
    "    if rootData == -1:\n",
    "        return None\n",
    "        \n",
    "    q = Queue()\n",
    "    root = BinaryTreeNode(rootData)\n",
    "    q.put(root)\n",
    "    \n",
    "    while not q.empty():\n",
    "        current_root = q.get() \n",
    "        left_child_data = int(input(f\"Enter Left child of {current_root.data} \"))\n",
    "        right_child_data = int(input(f\"Enter Right child of {current_root.data} \"))\n",
    "        \n",
    "        if left_child_data != -1:\n",
    "            left_child = BinaryTreeNode(left_child_data)\n",
    "            current_root.left = left_child\n",
    "            q.put(left_child)\n",
    "            \n",
    "        if right_child_data != -1:\n",
    "            right_child = BinaryTreeNode(right_child_data)\n",
    "            current_root.right = right_child\n",
    "            q.put(right_child)\n",
    " \n",
    "    return root"
   ]
  },
  {
   "cell_type": "code",
   "execution_count": 33,
   "id": "5c1d9a49-1eb9-409b-bafc-394e665bbdee",
   "metadata": {},
   "outputs": [
    {
     "name": "stdout",
     "output_type": "stream",
     "text": [
      "Enter root Data\n"
     ]
    },
    {
     "name": "stdin",
     "output_type": "stream",
     "text": [
      " 1\n",
      "Enter Left child of 1  2\n",
      "Enter Right child of 1  3\n",
      "Enter Left child of 2  4\n",
      "Enter Right child of 2  5\n",
      "Enter Left child of 3  6\n",
      "Enter Right child of 3  7\n",
      "Enter Left child of 4  -1\n",
      "Enter Right child of 4  -1\n",
      "Enter Left child of 5  8\n",
      "Enter Right child of 5  -1\n",
      "Enter Left child of 6  -1\n",
      "Enter Right child of 6  -1\n",
      "Enter Left child of 7  -1\n",
      "Enter Right child of 7  -1\n",
      "Enter Left child of 8  -1\n",
      "Enter Right child of 8  -1\n"
     ]
    }
   ],
   "source": [
    "root1 = takeInputLevelWise()"
   ]
  },
  {
   "cell_type": "code",
   "execution_count": 34,
   "id": "9402cbde-e344-4eba-bc0d-f51ed43b81d1",
   "metadata": {},
   "outputs": [
    {
     "name": "stdout",
     "output_type": "stream",
     "text": [
      "1 : L 2, R 3\n",
      "2 : L 4, R 5\n",
      "4 : \n",
      "5 : L 8\n",
      "8 : \n",
      "3 : L 6, R 7\n",
      "6 : \n",
      "7 : \n"
     ]
    }
   ],
   "source": [
    "printTree(root1)"
   ]
  },
  {
   "cell_type": "code",
   "execution_count": 43,
   "id": "21a17b0f-c36f-44a8-bc2e-8403dab2b076",
   "metadata": {},
   "outputs": [],
   "source": [
    "from queue import Queue\n",
    "\n",
    "def printLevelWise(root):\n",
    "    if root == None:\n",
    "        return\n",
    "    q = Queue()\n",
    "    q.put(root) \n",
    "    \n",
    "    print(f\"{root.data}\", end = \"\") \n",
    "    while not q.empty():\n",
    "        current_root = q.get()\n",
    "        left_child = current_root.left\n",
    "        right_child = current_root.right\n",
    "        \n",
    "        if left_child != None:\n",
    "            left_child_data = left_child.data\n",
    "            print(f\"{left_child.data}\",end= \"\")\n",
    "            q.put(left_child)\n",
    "            \n",
    "        if right_child != None:\n",
    "            right_child_data = right_child.data\n",
    "            print(f\"{right_child.data}\", end= \"\")\n",
    "            q.put(right_child)\n"
   ]
  },
  {
   "cell_type": "code",
   "execution_count": 44,
   "id": "55489d37-bfc4-40ad-99b0-5f9e4f2a5053",
   "metadata": {},
   "outputs": [
    {
     "name": "stdout",
     "output_type": "stream",
     "text": [
      "12345678"
     ]
    }
   ],
   "source": [
    "printLevelWise(root1)"
   ]
  },
  {
   "cell_type": "code",
   "execution_count": 53,
   "id": "02f5ca5d-605b-4ca6-bc51-b4e2eff70a67",
   "metadata": {},
   "outputs": [],
   "source": [
    "from queue import Queue\n",
    "\n",
    "def printLevelWiseDetailed(root):\n",
    "    if root == None:\n",
    "        return\n",
    "    q = Queue()\n",
    "    q.put(root) \n",
    "    \n",
    "    while not q.empty():\n",
    "        current_root = q.get()\n",
    "        print(f\"{current_root.data}: \", end = \"\")\n",
    "        left_child = current_root.left\n",
    "        right_child = current_root.right\n",
    "        \n",
    "        if left_child != None:\n",
    "            left_child_data = left_child.data\n",
    "            print(f\"L {left_child.data}\",end= \"\")\n",
    "            q.put(left_child)\n",
    "            \n",
    "        if right_child != None:\n",
    "            right_child_data = right_child.data\n",
    "            print(f\", R {right_child.data}\")\n",
    "            q.put(right_child)\n",
    "            \n",
    "        if (left_child == None and right_child == None) or right_child == None:\n",
    "            print()\n",
    "        "
   ]
  },
  {
   "cell_type": "code",
   "execution_count": 54,
   "id": "a10a41df-a3c6-4e78-9c8d-1cd2b9df308b",
   "metadata": {},
   "outputs": [
    {
     "name": "stdout",
     "output_type": "stream",
     "text": [
      "1: L 2, R 3\n",
      "2: L 4, R 5\n",
      "3: L 6, R 7\n",
      "4: \n",
      "5: L 8\n",
      "6: \n",
      "7: \n",
      "8: \n"
     ]
    }
   ],
   "source": [
    "printLevelWiseDetailed(root1)"
   ]
  },
  {
   "cell_type": "markdown",
   "id": "99346848-9a1c-46c1-b8af-923138c72a7d",
   "metadata": {},
   "source": [
    "- Inorder: LeftInOrder root RightInOrder\n",
    "- Preorder: root LeftPreorder RightPreorder\n",
    "- PostOrder: LeftPostOrder RightPostOrder root\n",
    "  \n",
    "Build Tree using Inorder and Preorder\n",
    "Steps to Follow to build tree:\n",
    "1. Find the root of the tree\n",
    "2. Find iorder of both left and right subtree\n",
    "3. Find Preorder of both left and right subtree \n",
    "4. use recursion to build left and right subtree\n",
    "5. attach the left and right tree to the root node\n"
   ]
  },
  {
   "cell_type": "code",
   "execution_count": 57,
   "id": "ed09a8da-2e4d-4ed8-8a5a-0d4297a58b4f",
   "metadata": {},
   "outputs": [],
   "source": [
    "# All nodes are unique\n",
    "\n",
    "# length of leftinorder == length of leftpreorder"
   ]
  },
  {
   "cell_type": "code",
   "execution_count": 108,
   "id": "241b6b07-9a87-4201-ae39-2d2236531fc5",
   "metadata": {},
   "outputs": [],
   "source": [
    "def build_tree_using_inorder_preorder(in_order, pre_order):\n",
    "    if len(in_order) == 0:\n",
    "        return None\n",
    "\n",
    "    if len(pre_order) == 1:\n",
    "        return BinaryTreeNode(pre_order[0])\n",
    "        \n",
    "    root_data = pre_order[0]\n",
    "    root = BinaryTreeNode(root_data)\n",
    "    root_index = -1\n",
    "    \n",
    "    for index,value in enumerate(in_order):\n",
    "        if value == root_data:\n",
    "            root_index = index\n",
    "            break\n",
    "            \n",
    "    left_inorder = in_order[:root_index]\n",
    "    left_preorder = pre_order[1:len(left_inorder)+1]\n",
    "    left_subtree = build_tree_using_inorder_preorder(left_inorder, left_preorder)\n",
    "    \n",
    "    right_inorder = in_order[root_index+1:]\n",
    "    right_preorder = pre_order[len(left_inorder)+1:]\n",
    "    right_subtree = build_tree_using_inorder_preorder(right_inorder, right_preorder)\n",
    "\n",
    "    root.left = left_subtree\n",
    "    root.right = right_subtree\n",
    "    return root"
   ]
  },
  {
   "cell_type": "code",
   "execution_count": 62,
   "id": "cf8f6de7-51b0-42b3-b48f-2f83e25a0c92",
   "metadata": {},
   "outputs": [],
   "source": [
    "in_order = ['d','b','e','a','p','q','r']\n",
    "pre_order = ['a','b','d','e','q','p','r']"
   ]
  },
  {
   "cell_type": "code",
   "execution_count": 65,
   "id": "2c16d718-09e7-4f29-82fb-f4ca9f9accfd",
   "metadata": {},
   "outputs": [],
   "source": [
    "rootalpha = build_tree_using_inorder_preorder(in_order, pre_order)"
   ]
  },
  {
   "cell_type": "code",
   "execution_count": 66,
   "id": "03b21e70-a4d0-454d-80f8-7f38d0158348",
   "metadata": {},
   "outputs": [
    {
     "name": "stdout",
     "output_type": "stream",
     "text": [
      "a: L b, R q\n",
      "b: L d, R e\n",
      "q: L p, R r\n",
      "d: \n",
      "e: \n",
      "p: \n",
      "r: \n"
     ]
    }
   ],
   "source": [
    "printLevelWiseDetailed(rootalpha)"
   ]
  },
  {
   "cell_type": "code",
   "execution_count": 101,
   "id": "4dc52a15-b75d-417c-8020-2f1d5b0011af",
   "metadata": {},
   "outputs": [],
   "source": [
    "def build_tree_using_inorder_postorder(in_order, post_order):\n",
    "    if len(post_order) == 0:\n",
    "        return None\n",
    "\n",
    "    if len(post_order) == 1:\n",
    "        return BinaryTreeNode(post_order[-1])\n",
    "        \n",
    "    root_data = post_order[-1]\n",
    "    root = BinaryTreeNode(root_data)\n",
    "    root_index = -1\n",
    "    \n",
    "    for index,value in enumerate(in_order):\n",
    "        if value == root_data:\n",
    "            root_index = index\n",
    "            \n",
    "    left_inorder = in_order[:root_index]\n",
    "    left_postorder = post_order[:len(left_inorder)]\n",
    "    left_subtree = build_tree_using_inorder_postorder(left_inorder, left_postorder)\n",
    "    \n",
    "    right_inorder = in_order[root_index+1:]\n",
    "    right_postorder = post_order[len(left_inorder):-1]\n",
    "    right_subtree = build_tree_using_inorder_postorder(right_inorder, right_postorder)\n",
    "\n",
    "    root.left = left_subtree\n",
    "    root.right = right_subtree\n",
    "    return root"
   ]
  },
  {
   "cell_type": "code",
   "execution_count": 105,
   "id": "809726d5-b006-4580-8a5e-05c76a7bfb62",
   "metadata": {},
   "outputs": [],
   "source": [
    "post_order = ['4','5','2','6','7','3','1']\n",
    "in_order = ['4','2','5','1','6','3','7']"
   ]
  },
  {
   "cell_type": "code",
   "execution_count": 106,
   "id": "7cf3c870-d675-4e4f-8584-1d56909f8f8d",
   "metadata": {},
   "outputs": [],
   "source": [
    "rootalpha = build_tree_using_inorder_postorder(in_order, post_order)"
   ]
  },
  {
   "cell_type": "code",
   "execution_count": 107,
   "id": "b6f0e5cb-9301-416b-aa79-53e2569c343b",
   "metadata": {},
   "outputs": [
    {
     "name": "stdout",
     "output_type": "stream",
     "text": [
      "1: L 2, R 3\n",
      "2: L 4, R 5\n",
      "3: L 6, R 7\n",
      "4: \n",
      "5: \n",
      "6: \n",
      "7: \n"
     ]
    }
   ],
   "source": [
    "printLevelWiseDetailed(rootalpha)"
   ]
  },
  {
   "cell_type": "code",
   "execution_count": 109,
   "id": "32183e66-ad80-40a5-b46a-c89b6c611a11",
   "metadata": {},
   "outputs": [],
   "source": [
    "# Create and Insert Duplicate Node"
   ]
  },
  {
   "cell_type": "code",
   "execution_count": 110,
   "id": "d2819ecb-57ad-4d31-9996-287a6afb9b1f",
   "metadata": {},
   "outputs": [],
   "source": [
    "def create_insert_duplicate(root):\n",
    "    if root == None:\n",
    "        return root\n",
    "        \n",
    "    root_left = root.left\n",
    "    root_duplicate = BinaryTreeNode(root.data)\n",
    "    \n",
    "    root.left = root_duplicate\n",
    "    left_subtree = create_insert_duplicate(root_left)\n",
    "    \n",
    "    root_duplicate.left = left_subtree\n",
    "    root.right = create_insert_duplicate(root.right)\n",
    "    return root"
   ]
  },
  {
   "cell_type": "code",
   "execution_count": 111,
   "id": "3c2ccd85-83b0-4250-87e6-94e0f353c7f2",
   "metadata": {},
   "outputs": [],
   "source": [
    "root1 = create_insert_duplicate(root1)"
   ]
  },
  {
   "cell_type": "code",
   "execution_count": 114,
   "id": "8eefd029-def5-45af-9b53-1a7c1bb4cd24",
   "metadata": {},
   "outputs": [
    {
     "name": "stdout",
     "output_type": "stream",
     "text": [
      "1132372567456488"
     ]
    }
   ],
   "source": [
    "printLevelWise(root1)"
   ]
  },
  {
   "cell_type": "code",
   "execution_count": 115,
   "id": "5a028e67-f531-49ce-9ede-8d92444dfa8c",
   "metadata": {},
   "outputs": [],
   "source": [
    "# Level Order traversal new line\n",
    "# we will store level finished then add null"
   ]
  },
  {
   "cell_type": "code",
   "execution_count": null,
   "id": "e4780d74-401b-44b8-b01a-4e5bb99e2b74",
   "metadata": {},
   "outputs": [],
   "source": [
    "from queue import Queue\n",
    "\n",
    "def printLevelWise(root):\n",
    "    if root == None:\n",
    "        return\n",
    "    q = Queue()\n",
    "    q.put(root) \n",
    "    q.put(None)\n",
    "    \n",
    "    while not q.empty():\n",
    "\n",
    "        current_root = q.get()\n",
    "        \n",
    "        if current_root is None:\n",
    "            print()\n",
    "            q.put(None)\n",
    "            continue\n",
    "            \n",
    "        print(f\"{current_root.data}\")\n",
    "        \n",
    "        left_child = current_root.left\n",
    "        right_child = current_root.right\n",
    "        \n",
    "        if left_child != None:\n",
    "            left_child_data = left_child.data\n",
    "            print(f\"{left_child.data} \",end= \"\")\n",
    "            q.put(left_child)\n",
    "            \n",
    "        if right_child != None:\n",
    "            right_child_data = right_child.data\n",
    "            print(f\"{right_child.data}\", end= \"\")\n",
    "            q.put(right_child)"
   ]
  },
  {
   "cell_type": "code",
   "execution_count": null,
   "id": "2bea6823-afdb-4f49-bfb9-c6f3b163b671",
   "metadata": {},
   "outputs": [],
   "source": [
    "root2 = takeInputLevelWise()"
   ]
  },
  {
   "cell_type": "code",
   "execution_count": 1,
   "id": "51633777-ef0e-4c35-87a4-bfbc402962a0",
   "metadata": {},
   "outputs": [],
   "source": [
    "# print root to leaf path that sum to k\n",
    "# Lets store the path we are traversing in the form of string, "
   ]
  },
  {
   "cell_type": "code",
   "execution_count": 11,
   "id": "3b0eb6ab-fff7-44ac-99b0-1221ead1ebb9",
   "metadata": {},
   "outputs": [],
   "source": [
    "def print_path(root, k, path):\n",
    "    if root == None:\n",
    "        return\n",
    "    path += str(root.data)\n",
    "    if root.left == None and root.right == None:\n",
    "        if root.data == k:\n",
    "            print(path)\n",
    "    k -= root.data\n",
    "    print_path(root.left, k, path)\n",
    "    print_path(root.right, k, path)"
   ]
  },
  {
   "cell_type": "code",
   "execution_count": 7,
   "id": "4ad4667f-91f5-41ed-9fc0-69aaa806d0cb",
   "metadata": {},
   "outputs": [
    {
     "name": "stdout",
     "output_type": "stream",
     "text": [
      "Enter root Data\n"
     ]
    },
    {
     "name": "stdin",
     "output_type": "stream",
     "text": [
      " 6\n",
      "Enter Left child of 6  3\n",
      "Enter Right child of 6  2\n",
      "Enter Left child of 3  1\n",
      "Enter Right child of 3  5\n",
      "Enter Left child of 2  4\n",
      "Enter Right child of 2  1\n",
      "Enter Left child of 1  2\n",
      "Enter Right child of 1  -1\n",
      "Enter Left child of 5  -1\n",
      "Enter Right child of 5  -1\n",
      "Enter Left child of 4  1\n",
      "Enter Right child of 4  -1\n",
      "Enter Left child of 1  3\n",
      "Enter Right child of 1  8\n",
      "Enter Left child of 2  -1\n",
      "Enter Right child of 2  -1\n",
      "Enter Left child of 1  -1\n",
      "Enter Right child of 1  -1\n",
      "Enter Left child of 3  -1\n",
      "Enter Right child of 3  -1\n",
      "Enter Left child of 8  -1\n",
      "Enter Right child of 8  -1\n"
     ]
    }
   ],
   "source": [
    "root2 = takeInputLevelWise()"
   ]
  },
  {
   "cell_type": "code",
   "execution_count": 12,
   "id": "8bb50e8a-b8c9-4a6d-9211-fe74358538e5",
   "metadata": {},
   "outputs": [
    {
     "name": "stdout",
     "output_type": "stream",
     "text": [
      "6312\n",
      "6213\n"
     ]
    }
   ],
   "source": [
    "print_path(root2, k=12, path = \"\")"
   ]
  },
  {
   "cell_type": "code",
   "execution_count": 14,
   "id": "738562c2-a9c4-43a6-a28f-25080b85e570",
   "metadata": {},
   "outputs": [],
   "source": [
    "# Print all Nodes at a distance k from a particular node"
   ]
  },
  {
   "cell_type": "code",
   "execution_count": 1,
   "id": "f1fb567e-ffc7-4ceb-adc3-f095f229d44a",
   "metadata": {},
   "outputs": [],
   "source": [
    "def printAtDistanceK(root, k, value):\n",
    "    if root_data == value:\n",
    "        printNodesAtDepthK(root, k)\n",
    "        return 0\n",
    "    ldist = printAtDistanceK(root.left)\n",
    "    rdist = printAtDistanceK(root.left)\n",
    "    "
   ]
  },
  {
   "cell_type": "code",
   "execution_count": 2,
   "id": "14bbe1f0-2854-48be-969c-5e2e3aa350aa",
   "metadata": {},
   "outputs": [],
   "source": [
    "def print_path(root, k, path):\n",
    "    if root == None:\n",
    "        return\n",
    "    path += str(root.data)\n",
    "    if root.left == None and root.right == None:\n",
    "        if root.data == k:\n",
    "            print(path)\n",
    "    k -= root.data\n",
    "    print_path(root.left, k, path)\n",
    "    print_path(root.right, k, path)"
   ]
  },
  {
   "cell_type": "code",
   "execution_count": 16,
   "id": "c3c6038c-82cc-4901-9288-75cca535b974",
   "metadata": {},
   "outputs": [],
   "source": [
    "def pathToK(root,k):\n",
    "    if root == None:\n",
    "        return root\n",
    "        \n",
    "    if root.data == k:\n",
    "        l = list()\n",
    "        l.append(root.data)\n",
    "        return l\n",
    "    leftOutput = pathToK(root.left, k)\n",
    "    if leftOutput!= None:\n",
    "        leftOutput.append(root.data)\n",
    "        return leftOutput\n",
    "        \n",
    "    rightOutput = pathToK(root.right, k)\n",
    "    if rightOutput!= None:\n",
    "        rightOutput.append(root.data)\n",
    "        return rightOutput\n",
    "    else:\n",
    "        return None"
   ]
  },
  {
   "cell_type": "code",
   "execution_count": 11,
   "id": "90db9155-4a3f-46e2-b490-aee10eece037",
   "metadata": {},
   "outputs": [
    {
     "name": "stdout",
     "output_type": "stream",
     "text": [
      "Enter root Data\n"
     ]
    },
    {
     "name": "stdin",
     "output_type": "stream",
     "text": [
      " 1\n"
     ]
    },
    {
     "name": "stdout",
     "output_type": "stream",
     "text": [
      "Enter root Data\n"
     ]
    },
    {
     "name": "stdin",
     "output_type": "stream",
     "text": [
      " 2\n"
     ]
    },
    {
     "name": "stdout",
     "output_type": "stream",
     "text": [
      "Enter root Data\n"
     ]
    },
    {
     "name": "stdin",
     "output_type": "stream",
     "text": [
      " -1\n"
     ]
    },
    {
     "name": "stdout",
     "output_type": "stream",
     "text": [
      "Enter root Data\n"
     ]
    },
    {
     "name": "stdin",
     "output_type": "stream",
     "text": [
      " -1\n"
     ]
    },
    {
     "name": "stdout",
     "output_type": "stream",
     "text": [
      "Enter root Data\n"
     ]
    },
    {
     "name": "stdin",
     "output_type": "stream",
     "text": [
      " 3\n"
     ]
    },
    {
     "name": "stdout",
     "output_type": "stream",
     "text": [
      "Enter root Data\n"
     ]
    },
    {
     "name": "stdin",
     "output_type": "stream",
     "text": [
      " 4\n"
     ]
    },
    {
     "name": "stdout",
     "output_type": "stream",
     "text": [
      "Enter root Data\n"
     ]
    },
    {
     "name": "stdin",
     "output_type": "stream",
     "text": [
      " -1\n"
     ]
    },
    {
     "name": "stdout",
     "output_type": "stream",
     "text": [
      "Enter root Data\n"
     ]
    },
    {
     "name": "stdin",
     "output_type": "stream",
     "text": [
      " -1\n"
     ]
    },
    {
     "name": "stdout",
     "output_type": "stream",
     "text": [
      "Enter root Data\n"
     ]
    },
    {
     "name": "stdin",
     "output_type": "stream",
     "text": [
      " 6\n"
     ]
    },
    {
     "name": "stdout",
     "output_type": "stream",
     "text": [
      "Enter root Data\n"
     ]
    },
    {
     "name": "stdin",
     "output_type": "stream",
     "text": [
      " 5\n"
     ]
    },
    {
     "name": "stdout",
     "output_type": "stream",
     "text": [
      "Enter root Data\n"
     ]
    },
    {
     "name": "stdin",
     "output_type": "stream",
     "text": [
      " 7\n"
     ]
    },
    {
     "name": "stdout",
     "output_type": "stream",
     "text": [
      "Enter root Data\n"
     ]
    },
    {
     "name": "stdin",
     "output_type": "stream",
     "text": [
      " -1\n"
     ]
    },
    {
     "name": "stdout",
     "output_type": "stream",
     "text": [
      "Enter root Data\n"
     ]
    },
    {
     "name": "stdin",
     "output_type": "stream",
     "text": [
      " -1\n"
     ]
    },
    {
     "name": "stdout",
     "output_type": "stream",
     "text": [
      "Enter root Data\n"
     ]
    },
    {
     "name": "stdin",
     "output_type": "stream",
     "text": [
      " 8\n"
     ]
    },
    {
     "name": "stdout",
     "output_type": "stream",
     "text": [
      "Enter root Data\n"
     ]
    },
    {
     "name": "stdin",
     "output_type": "stream",
     "text": [
      " -1\n"
     ]
    },
    {
     "name": "stdout",
     "output_type": "stream",
     "text": [
      "Enter root Data\n"
     ]
    },
    {
     "name": "stdin",
     "output_type": "stream",
     "text": [
      " -1\n"
     ]
    },
    {
     "name": "stdout",
     "output_type": "stream",
     "text": [
      "Enter root Data\n"
     ]
    },
    {
     "name": "stdin",
     "output_type": "stream",
     "text": [
      " 9\n"
     ]
    },
    {
     "name": "stdout",
     "output_type": "stream",
     "text": [
      "Enter root Data\n"
     ]
    },
    {
     "name": "stdin",
     "output_type": "stream",
     "text": [
      " -1\n"
     ]
    },
    {
     "name": "stdout",
     "output_type": "stream",
     "text": [
      "Enter root Data\n"
     ]
    },
    {
     "name": "stdin",
     "output_type": "stream",
     "text": [
      " -1\n"
     ]
    }
   ],
   "source": [
    "root10 = takeInput()"
   ]
  },
  {
   "cell_type": "code",
   "execution_count": 18,
   "id": "9ab99c8a-3fbe-41fe-96eb-baab2f447144",
   "metadata": {},
   "outputs": [
    {
     "name": "stdout",
     "output_type": "stream",
     "text": [
      "[7, 5, 6, 3, 1]\n"
     ]
    }
   ],
   "source": [
    "print(pathToK(root10,7))"
   ]
  },
  {
   "cell_type": "code",
   "execution_count": null,
   "id": "e3d017c6-0b28-4e42-a3dc-b55f7e241caf",
   "metadata": {},
   "outputs": [],
   "source": []
  }
 ],
 "metadata": {
  "kernelspec": {
   "display_name": "Python 3 (ipykernel)",
   "language": "python",
   "name": "python3"
  },
  "language_info": {
   "codemirror_mode": {
    "name": "ipython",
    "version": 3
   },
   "file_extension": ".py",
   "mimetype": "text/x-python",
   "name": "python",
   "nbconvert_exporter": "python",
   "pygments_lexer": "ipython3",
   "version": "3.11.3"
  }
 },
 "nbformat": 4,
 "nbformat_minor": 5
}
