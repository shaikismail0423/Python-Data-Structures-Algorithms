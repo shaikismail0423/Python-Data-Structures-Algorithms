{
 "cells": [
  {
   "cell_type": "markdown",
   "id": "01503add-9649-4481-93d0-d6132b7c000f",
   "metadata": {},
   "source": [
    "# Time Complexity and Space Complexity\n",
    "\n",
    "Complexity analysis, also known as algorithmic complexity or time and space complexity analysis, is the process of evaluating the performance of an algorithm in terms of its resource usage as the input size grows. In Python, this typically involves analyzing how the runtime and memory usage of an algorithm change as the input data increases.\n",
    "\n",
    "There are two main aspects of complexity analysis: time complexity and space complexity.\n",
    "\n",
    "1. **Time Complexity:** Time complexity refers to the amount of time an algorithm takes to complete as a function of the input size n. It is often expressed using big O notation, which provides an upper bound on the growth rate of the algorithm's runtime. Common notations include O(1) for constant time, O(log n) for logarithmic time, O(n) for linear time, O(n log n) for linearithmic time, O(n^2) for quadratic time, and so on.\n",
    "\n",
    "2. **Space Complexity:** Space complexity refers to the amount of memory an algorithm uses as a function of the input size. It's also often expressed using big O notation, indicating the upper bound on memory usage. This includes both auxiliary memory (for variables, data structures, etc.) and input memory.\n",
    "\n",
    "To perform complexity analysis in Python:\n",
    "\n",
    "1. **Analyze Code:** Study the algorithm and identify its major operations, loops, and recursive calls.\n",
    "\n",
    "2. **Count Operations:** Count the number of basic operations (assignments, comparisons, arithmetic operations) executed by the algorithm.\n",
    "\n",
    "3. **Determine Patterns:** Determine how the number of operations or memory usage changes with respect to the input size.\n",
    "\n",
    "4. **Express Complexity:** Use big O notation to express the time and space complexity based on the patterns observed.\n",
    "\n",
    "5. **Test and Validate:** Use empirical testing on various input sizes to validate the theoretical complexity analysis.\n",
    "\n",
    "Complexity analysis provides a high-level understanding of an algorithm's behavior as the input grows, but constant factors and lower-order terms might not be accurately captured by it. It's a valuable tool for comparing algorithms and making informed decisions about their use."
   ]
  },
  {
   "cell_type": "markdown",
   "id": "77212bc4-67a1-4895-8ba6-3e1fbc69483b",
   "metadata": {},
   "source": [
    "## Merge Sort"
   ]
  },
  {
   "cell_type": "code",
   "execution_count": 1,
   "id": "4863cc70-8c0b-4c3f-95e2-149072d72f68",
   "metadata": {},
   "outputs": [],
   "source": [
    "def merge(s1, s2, a):\n",
    "    i,j,k = 0,0,0\n",
    "    while i <len(s1) and j < len(s2):\n",
    "      if s1[i] <= s2[j]:\n",
    "        a[k] = s1[i]\n",
    "        k += 1\n",
    "        i += 1\n",
    "      else:\n",
    "        a[k] = s2[j]\n",
    "        k += 1\n",
    "        j += 1\n",
    "    \n",
    "    while i < len(s1):\n",
    "      a[k] = s1[i]\n",
    "      k += 1\n",
    "      i += 1\n",
    "    \n",
    "    while j <len(s2):\n",
    "      a[k] = s2[j]\n",
    "      k += 1\n",
    "      j += 1\n",
    "\n",
    "def mergeSort(a):\n",
    "    if len(a) == 0 or len(a) == 1:\n",
    "      return\n",
    "\n",
    "    mid = (len(a)) // 2\n",
    "   \n",
    "    s1 = a[:mid]\n",
    "    s2 = a[mid:]    \n",
    "    mergeSort(s1)\n",
    "    mergeSort(s2)\n",
    "\n",
    "    merge(s1, s2, a) "
   ]
  },
  {
   "cell_type": "markdown",
   "id": "da086f1e-cf2a-4379-80a1-bbb197678f40",
   "metadata": {},
   "source": [
    "## Selection sort"
   ]
  },
  {
   "cell_type": "code",
   "execution_count": 2,
   "id": "d622d638-c4c8-4356-96db-4fe79c65aca8",
   "metadata": {},
   "outputs": [],
   "source": [
    "def selectionSort(a):\n",
    "    for i in range(len(a)):\n",
    "        min_idx = i\n",
    "        for j in range(i+1, len(a)):\n",
    "            if a[min_idx] > a[j]:\n",
    "                min_idx = j\n",
    "        a[i], a[min_idx] = a[min_idx], a[i]\n",
    "    return a"
   ]
  },
  {
   "cell_type": "code",
   "execution_count": 3,
   "id": "bde17de1-7d84-4133-a96d-89ba6a45de17",
   "metadata": {},
   "outputs": [],
   "source": [
    "def create_rev_array(n):\n",
    "    a = []\n",
    "    for i in range(n, 0, -1):\n",
    "        a.append(i)\n",
    "    return a "
   ]
  },
  {
   "cell_type": "markdown",
   "id": "6c298dd9-f627-4155-99a7-d398a168b032",
   "metadata": {},
   "source": [
    "# Experimental Analysis:"
   ]
  },
  {
   "cell_type": "markdown",
   "id": "d559fad3-ec19-4084-8568-7394bc6dfd5f",
   "metadata": {},
   "source": [
    "- Experimental analysis, also known as empirical analysis, involves measuring the actual performance of an algorithm or program using real-world data and hardware. \n",
    "- This approach provides insights into how an algorithm behaves in practice and can help validate or refine the theoretical complexity analysis.\n",
    "- Experimental analysis can be influenced by factors such as hardware, operating system, and Python interpreter optimizations. Therefore, while experimental analysis provides practical insights, it's advisable to combine it with theoretical complexity analysis for a comprehensive understanding of an algorithm's behavior."
   ]
  },
  {
   "cell_type": "code",
   "execution_count": 4,
   "id": "1110b91c-7813-4c1f-aa1b-2a8629439766",
   "metadata": {},
   "outputs": [
    {
     "data": {
      "text/plain": [
       "1692967822.7111595"
      ]
     },
     "execution_count": 4,
     "metadata": {},
     "output_type": "execute_result"
    }
   ],
   "source": [
    "import time\n",
    "time.time() # This gives you the current time in seconds"
   ]
  },
  {
   "cell_type": "code",
   "execution_count": 5,
   "id": "8933725e-8b27-47d9-be56-26453fc5cd6f",
   "metadata": {},
   "outputs": [],
   "source": [
    "n = 1000    # For n = 10, 100, 1000, 10000: check the time taken"
   ]
  },
  {
   "cell_type": "code",
   "execution_count": 6,
   "id": "78dc2704-ff0e-4df1-94cd-b19e16db6a2d",
   "metadata": {},
   "outputs": [],
   "source": [
    "a = create_rev_array(n)"
   ]
  },
  {
   "cell_type": "code",
   "execution_count": 7,
   "id": "d0718e29-5d8e-4fc3-acd5-8b04c528563b",
   "metadata": {},
   "outputs": [
    {
     "name": "stdout",
     "output_type": "stream",
     "text": [
      "Merge Sort Execution time: 0.00498652458190918 seconds\n"
     ]
    }
   ],
   "source": [
    "start_time = time.time()\n",
    "mergeSort(a)\n",
    "end_time = time.time()\n",
    "\n",
    "execution_time = end_time - start_time\n",
    "print(f\"Merge Sort Execution time: {execution_time} seconds\")"
   ]
  },
  {
   "cell_type": "code",
   "execution_count": 8,
   "id": "5635bb29-b538-48c6-acda-c86d71335f79",
   "metadata": {},
   "outputs": [],
   "source": [
    "a = create_rev_array(n)"
   ]
  },
  {
   "cell_type": "code",
   "execution_count": 9,
   "id": "8b2821e3-dd17-44bb-8401-789a23bd2db0",
   "metadata": {},
   "outputs": [
    {
     "name": "stdout",
     "output_type": "stream",
     "text": [
      "Selection Sort Execution time: 0.04084348678588867 seconds\n"
     ]
    }
   ],
   "source": [
    "start_time = time.time()\n",
    "selectionSort(a)\n",
    "end_time = time.time()\n",
    "execution_time = end_time - start_time\n",
    "print(f\"Selection Sort Execution time: {execution_time} seconds\")"
   ]
  },
  {
   "cell_type": "markdown",
   "id": "11aa067f-82d1-471b-a101-acdff6a0931e",
   "metadata": {},
   "source": [
    "# Theoretical Analysis"
   ]
  },
  {
   "cell_type": "markdown",
   "id": "ed24b342-3394-4fa7-89f8-853d43f0610f",
   "metadata": {},
   "source": [
    "Theoretical analysis, also known as algorithmic analysis, involves evaluating the performance of an algorithm based on mathematical reasoning and analysis, rather than actual implementation or experimentation. This approach provides a high-level understanding of an algorithm's behavior as the input size grows. The two main aspects of theoretical analysis are time complexity and space complexity.\n",
    "\n",
    "1. **Time Complexity Analysis:**\n",
    "   Time complexity analysis estimates the amount of time an algorithm takes to complete as a function of the input size. The goal is to understand how the algorithm's runtime increases as the input size grows. The analysis typically focuses on the number of basic operations (such as assignments, comparisons, and arithmetic operations) performed by the algorithm.\n",
    "\n",
    "   Time complexity is often expressed using big O notation, which provides an upper bound on the growth rate of the algorithm's runtime. Some common time complexity notations include:\n",
    "   \n",
    "   - O(1): Constant time\n",
    "   - O(log n): Logarithmic time\n",
    "   - O(n): Linear time\n",
    "   - O(n log n): Linearithmic time\n",
    "   - O(n^2): Quadratic time\n",
    "   - O(n^k): Polynomial time (for some constant k)\n",
    "   - O(2^n) or O(3^n): Exponential time\n",
    "\n",
    "   The goal is to find the tightest possible upper bound on the algorithm's time complexity.\n",
    "\n",
    "2. **Space Complexity Analysis:**\n",
    "   Space complexity analysis estimates the amount of memory an algorithm uses as a function of the input size. It considers the memory required for variables, data structures, and function call stacks. Similar to time complexity, space complexity is also expressed using big O notation.\n",
    "\n",
    "   For space complexity analysis, consider the maximum amount of memory used by the algorithm at any point during its execution. This often involves analyzing the memory required for data structures and auxiliary variables.\n"
   ]
  },
  {
   "cell_type": "markdown",
   "id": "0ed60919-2c87-4ea0-8868-3f800598c6d8",
   "metadata": {},
   "source": [
    "- In theoretical analysis the time factor when determining the efficiency of algorithm is measured by couting the number of unit operations"
   ]
  },
  {
   "cell_type": "markdown",
   "id": "fa8c71d0-c484-485b-80e8-67db069e942f",
   "metadata": {},
   "source": [
    "### Factorial"
   ]
  },
  {
   "cell_type": "code",
   "execution_count": 10,
   "id": "af240c06-be8b-4dc6-a9ac-072d70f56d53",
   "metadata": {},
   "outputs": [
    {
     "name": "stdout",
     "output_type": "stream",
     "text": [
      "362880\n"
     ]
    }
   ],
   "source": [
    "n = 10\n",
    "ans = 1               # 1 unit work\n",
    "for i in range(1, n):          \n",
    "    ans = ans * i     #2 unit work as one for multiplication and one for incrementation of i\n",
    "print(ans)"
   ]
  },
  {
   "cell_type": "markdown",
   "id": "ed818196-cd1f-41a4-9714-77efc7458b5a",
   "metadata": {},
   "source": [
    "- TC: O(n)"
   ]
  },
  {
   "cell_type": "markdown",
   "id": "59d1a9e7-0759-4b24-a61b-aac9644bccc2",
   "metadata": {},
   "source": [
    "# Algorithmic Complexity Components\n",
    "\n",
    "When analyzing algorithmic time complexity, the expression k1 + k2*n + k3*n^3 + k4*log(n) consists of various terms:\n",
    "\n",
    "- **k1**: A constant factor with minimal impact.\n",
    "- **k2*n**: Linear growth (O(n)) that increases steadily with input.\n",
    "- **k3*n^3**: Cubic growth (O(n^3)) dominating for larger inputs.\n",
    "- **k4*log(n)**: Logarithmic growth (O(log(n))) with slower pace.\n",
    "\n",
    "For instance, in the expression k1 + k2*n^2 + k3*n^3 + k4*log(n)*n^2, the cubic term k*n^3 remains dominant for larger 'n'."
   ]
  },
  {
   "cell_type": "markdown",
   "id": "acf27d26-3ec9-48ff-8c17-2b5ea39751a1",
   "metadata": {},
   "source": [
    "# Bubble sort"
   ]
  },
  {
   "cell_type": "code",
   "execution_count": 11,
   "id": "e0d63440-daa9-4a22-b4f8-9e2c60f2b240",
   "metadata": {},
   "outputs": [
    {
     "name": "stdout",
     "output_type": "stream",
     "text": [
      "Sorted array: [11, 12, 22, 25, 34, 64, 90]\n"
     ]
    }
   ],
   "source": [
    "def bubble_sort(arr):\n",
    "    n = len(arr)\n",
    "    for i in range(n):\n",
    "        # Last i elements are already in place, no need to check them\n",
    "        for j in range(n - i - 1):\n",
    "            if arr[j] > arr[j + 1]:\n",
    "                arr[j], arr[j + 1] = arr[j + 1], arr[j]\n",
    "\n",
    "arr = [64, 34, 25, 12, 22, 11, 90]\n",
    "bubble_sort(arr)\n",
    "print(\"Sorted array:\", arr)"
   ]
  },
  {
   "cell_type": "markdown",
   "id": "812d57ed-4340-4953-b43a-97dbceca7669",
   "metadata": {},
   "source": [
    "- Time Complexity\n",
    "```\n",
    " = k1 + k2 *(n-1) +k2*(n-2) + k2*(n-3)+.....k2\n",
    " = k1 + k2*(1+2+3....(n-1))\n",
    " = k1 + k2*((n-1)*(n)/2)\n",
    " = k*n^2+k*n\n",
    " = k*n^2\n",
    " = O(n^2)\n",
    "```"
   ]
  },
  {
   "cell_type": "markdown",
   "id": "441ab90f-a561-495e-897b-18bae6499ae9",
   "metadata": {},
   "source": [
    "- one for loop doesnt mean O(n) , it is what we are working inside"
   ]
  },
  {
   "cell_type": "markdown",
   "id": "a9d48c88-c268-4d42-81f6-7a93e5e6f003",
   "metadata": {},
   "source": [
    "# Insertion Sort"
   ]
  },
  {
   "cell_type": "code",
   "execution_count": 12,
   "id": "a895a75d-3540-44f7-b51a-f102f480f634",
   "metadata": {},
   "outputs": [
    {
     "name": "stdout",
     "output_type": "stream",
     "text": [
      "Sorted array: [5, 6, 11, 12, 13]\n"
     ]
    }
   ],
   "source": [
    "def insertion_sort(arr):\n",
    "    for i in range(1, len(arr)):\n",
    "        key = arr[i]\n",
    "        j = i - 1\n",
    "        while j >= 0 and arr[j] > key:\n",
    "            arr[j + 1] = arr[j]\n",
    "            j -= 1\n",
    "        arr[j + 1] = key\n",
    "\n",
    "arr = [12, 11, 13, 5, 6]\n",
    "insertion_sort(arr)\n",
    "print(\"Sorted array:\", arr)"
   ]
  },
  {
   "cell_type": "markdown",
   "id": "2f01563c-83f1-4400-a8f7-c6c2450053bc",
   "metadata": {},
   "source": [
    "- Time Complexity\n",
    "```\n",
    " = k1 + k2 * 1 +k2*2 + k2*3+.....k2* (n-1)\n",
    " = k1 + k2*(1+2+3....(n-1))\n",
    " = k1 + k2*((n-1)*(n)/2)\n",
    " = k*n^2+k*n\n",
    " = k*n^2\n",
    " = O(n^2)\n",
    "```"
   ]
  },
  {
   "cell_type": "markdown",
   "id": "8ade2cb9-f37f-4729-b578-4efd7620559b",
   "metadata": {},
   "source": [
    "## Selection Sort"
   ]
  },
  {
   "cell_type": "code",
   "execution_count": 13,
   "id": "57a26097-ade9-4b11-b562-394b2cdc5b8e",
   "metadata": {},
   "outputs": [
    {
     "name": "stdout",
     "output_type": "stream",
     "text": [
      "Sorted array: [11, 12, 22, 25, 64]\n"
     ]
    }
   ],
   "source": [
    "def selection_sort(arr):\n",
    "    n = len(arr)\n",
    "    for i in range(n - 1):\n",
    "        min_index = i\n",
    "        for j in range(i + 1, n):\n",
    "            if arr[j] < arr[min_index]:\n",
    "                min_index = j\n",
    "        arr[i], arr[min_index] = arr[min_index], arr[i]\n",
    "\n",
    "arr = [64, 25, 12, 22, 11]\n",
    "selection_sort(arr)\n",
    "print(\"Sorted array:\", arr)"
   ]
  },
  {
   "cell_type": "markdown",
   "id": "c44a2616-2c67-4414-a233-81908a35dc99",
   "metadata": {},
   "source": [
    "- Time Complexity\n",
    "```\n",
    " = k1 + k2 * (n-1) +k2*(n-2) + k2*(n-3)+.....k2* 1\n",
    " = k1 + k2*(1+2+3....(n-1))\n",
    " = k1 + k2*((n-1)*(n)/2)\n",
    " = k*n^2+k*n\n",
    " = k*n^2\n",
    " = O(n^2)\n",
    "```"
   ]
  },
  {
   "cell_type": "markdown",
   "id": "8deafcf4-d5ac-4664-b9b1-a6140ee35981",
   "metadata": {},
   "source": [
    "`Example 1:`"
   ]
  },
  {
   "cell_type": "code",
   "execution_count": 14,
   "id": "3cd8bdd6-d962-41bf-9e1f-b57c7eccfa90",
   "metadata": {},
   "outputs": [
    {
     "name": "stdout",
     "output_type": "stream",
     "text": [
      "0\n",
      "1\n",
      "2\n",
      "3\n"
     ]
    }
   ],
   "source": [
    "i = 0\n",
    "n=4\n",
    "while i<n:\n",
    "    while i<n:\n",
    "        print(i)\n",
    "        i+=1"
   ]
  },
  {
   "cell_type": "markdown",
   "id": "4464afa5-7bab-427b-8e3e-5403dda7b178",
   "metadata": {},
   "source": [
    "- Tc: O(n)"
   ]
  },
  {
   "cell_type": "markdown",
   "id": "38de122d-aded-49cf-85cb-6376755631d0",
   "metadata": {},
   "source": [
    "`Example 2:`"
   ]
  },
  {
   "cell_type": "code",
   "execution_count": 15,
   "id": "287bab5d-c853-454b-aec0-83d216b52369",
   "metadata": {},
   "outputs": [
    {
     "name": "stdout",
     "output_type": "stream",
     "text": [
      "0\n",
      "1\n",
      "1\n",
      "2\n",
      "2\n",
      "3\n",
      "3\n",
      "4\n"
     ]
    }
   ],
   "source": [
    "k=2\n",
    "\n",
    "for i in range(n):\n",
    "    for j in range(k):\n",
    "        print(i+j)"
   ]
  },
  {
   "cell_type": "markdown",
   "id": "38388321-1bcb-4a17-8615-0ae5b1dbb809",
   "metadata": {},
   "source": [
    "- TC: if k is small number compared to n, then O(n)"
   ]
  },
  {
   "cell_type": "markdown",
   "id": "226acaed-5ef0-4244-bed4-307eac8eb749",
   "metadata": {},
   "source": [
    "`Example 3:`"
   ]
  },
  {
   "cell_type": "code",
   "execution_count": 16,
   "id": "fae2b3c0-3540-402b-8de9-e5b42e14ac59",
   "metadata": {},
   "outputs": [],
   "source": [
    "n=10\n",
    "for i in range(n):\n",
    "    k = n\n",
    "    while k>0:\n",
    "        k = k//2"
   ]
  },
  {
   "cell_type": "markdown",
   "id": "dc02244d-aa04-49c2-a39b-cc860c2f3d2c",
   "metadata": {},
   "source": [
    "- Time Complexity\n",
    "```\n",
    " = k1 + k2 * log(n) +k2*log(n) + k2*log(n)+.....k2* log(n)\n",
    " = k1 + k2*log(n)*n\n",
    " = k*log(n)*n\n",
    " = O(n*log(n))\n",
    "```"
   ]
  },
  {
   "cell_type": "markdown",
   "id": "b8ef20d9-ab79-4989-9dee-f8dea3b0bbe7",
   "metadata": {},
   "source": [
    "`Example 4:`"
   ]
  },
  {
   "cell_type": "code",
   "execution_count": 17,
   "id": "2454bbdf-1ee1-4c18-9375-35b5a588595a",
   "metadata": {},
   "outputs": [
    {
     "name": "stdin",
     "output_type": "stream",
     "text": [
      " 1000\n"
     ]
    },
    {
     "name": "stdout",
     "output_type": "stream",
     "text": [
      "\n",
      "1000\n",
      "250\n",
      "62\n",
      "15\n",
      "3\n"
     ]
    }
   ],
   "source": [
    "n = int(input())\n",
    "print()\n",
    "\n",
    "while n >0:\n",
    "    print(n)\n",
    "    n = n//4"
   ]
  },
  {
   "cell_type": "markdown",
   "id": "714d6c1c-2b92-42e5-9d89-496425905a1b",
   "metadata": {},
   "source": [
    "- Time Complexity\n",
    "```\n",
    "log base 4\n",
    " = k1 + k2 * log(n)\n",
    " = k*log(n)\n",
    " = O(log(n))\n",
    "```"
   ]
  },
  {
   "cell_type": "markdown",
   "id": "8b4443d1-81cf-4beb-a3b7-6ae918e6c597",
   "metadata": {},
   "source": [
    "# Recursive functions Complexity\n",
    "\n",
    "When analyzing the time complexity of recursive algorithms, We need to consider the number of recursive calls made and the work done per call.\n",
    "\n",
    "1. **Number of Recursive Calls:** The number of recursive calls made by an algorithm greatly impacts its time complexity. If the number of recursive calls grows significantly with the input size, the algorithm's time complexity can become inefficient.\n",
    "\n",
    "2. **Work Done Per Call:** The work done within each recursive call is also a critical factor. This includes any operations, comparisons, and calculations performed within each call.\n",
    "\n",
    "General approach to analyzing the time complexity of a recursive algorithm:\n",
    "\n",
    "1. **Identify the Recurrence Relation:** Determine how the problem is broken down into smaller instances, and express the time complexity of the problem in terms of the time complexity of those smaller instances.\n",
    "\n",
    "2. **Write the Recurrence Equation:** Formulate a mathematical equation that describes the relationship between the time complexity of the problem and the time complexity of its subproblems.\n",
    "\n",
    "3. **Solve the Recurrence Equation:** Solve the recurrence equation to obtain a closed-form solution that expresses the time complexity in terms of the input size.\n",
    "\n",
    "- O(1): This is rare in recursive algorithms. It indicates constant time complexity, meaning that each recursive call performs a constant amount of work.\n",
    "- O(log n): Common in algorithms that use a binary search or divide-and-conquer strategy, where the problem size is reduced by a constant factor with each recursive call.\n",
    "- O(n): Linear time complexity, often seen in algorithms that involve traversing a data structure or processing each element individually.\n",
    "- O(n log n): Common in algorithms like Merge Sort or Quick Sort, which divide the problem into smaller instances and then merge or combine the results.\n",
    "- O(n^2), O(n^3), ...: Polynomial time complexities, often seen in algorithms with nested recursive calls or multiple nested loops.\n",
    "\n",
    "It's important to note that while recursive algorithms can be elegant and intuitive, they may not always be the most efficient solution. In some cases, they can lead to excessive function calls and redundant work. In such cases, iterative approaches or dynamic programming techniques may provide better performance."
   ]
  },
  {
   "cell_type": "markdown",
   "id": "9260cd47-3db6-4bdb-ae97-9ecb62c82cb7",
   "metadata": {},
   "source": [
    "### Factorial recursive"
   ]
  },
  {
   "cell_type": "code",
   "execution_count": 18,
   "id": "3005f569-dfbc-4eb7-95ff-dbb44b76dce9",
   "metadata": {},
   "outputs": [],
   "source": [
    "def factorial(n):\n",
    "    if n == 0 or n == 1:\n",
    "        return 1\n",
    "    else:\n",
    "        return n * factorial(n - 1)"
   ]
  },
  {
   "cell_type": "code",
   "execution_count": 19,
   "id": "e98072ad-38e7-493e-aaa5-31d553d953c7",
   "metadata": {},
   "outputs": [
    {
     "name": "stdout",
     "output_type": "stream",
     "text": [
      "The factorial of 5 is 120\n"
     ]
    }
   ],
   "source": [
    "num = 5\n",
    "result = factorial(num)\n",
    "print(f\"The factorial of {num} is {result}\")"
   ]
  },
  {
   "cell_type": "markdown",
   "id": "e642090e-79e4-4660-aac3-fe1a37919fa1",
   "metadata": {},
   "source": [
    "- Time Complexity\n",
    "```\n",
    "T(n) = T(n-1) + k -> Recurssive Relation\n",
    "\n",
    "T(n-1) = k + T(n-2)\n",
    "T(n-2) = k + T(n-3)\n",
    "..\n",
    ".\n",
    "T(1) = k \n",
    "\n",
    "Substituting the above value\n",
    "T(N) = k*n + T(0)\n",
    "T(n) = k*n +k\n",
    "T(n) = kn\n",
    " \n",
    "Time complexity: O(n)\n",
    "```\n",
    "\n"
   ]
  },
  {
   "cell_type": "code",
   "execution_count": 20,
   "id": "34cbaf95-537a-4472-ba9f-086c9f93d4c5",
   "metadata": {},
   "outputs": [],
   "source": [
    "def multiplyRec(m, n):\n",
    "    if n==1:\n",
    "        return m\n",
    "    return m + multiplyRec(m,  n - 1)\n",
    "\n",
    "## Time Complexity:- O(n)"
   ]
  },
  {
   "cell_type": "code",
   "execution_count": 21,
   "id": "8a5b13e5-86f8-4e1c-b710-21c7002c96fe",
   "metadata": {},
   "outputs": [],
   "source": [
    "def sumOfDigits(n):\n",
    "    if n<10:\n",
    "        return n\n",
    "    return n%10 + sumOfDigits(n//10)\n",
    "\n",
    "## Time Complexity: O(logN) base 10"
   ]
  },
  {
   "cell_type": "markdown",
   "id": "1456feab-ff0a-40e6-94a3-5ab9a59c23de",
   "metadata": {},
   "source": [
    "# Binary Search"
   ]
  },
  {
   "cell_type": "markdown",
   "id": "df3e08b8-e8ba-42a7-9ddf-bee48b46fb97",
   "metadata": {},
   "source": [
    "1. **Iterative**"
   ]
  },
  {
   "cell_type": "code",
   "execution_count": 22,
   "id": "f48b047c-542a-4284-bb3d-2359dbf65b3c",
   "metadata": {},
   "outputs": [],
   "source": [
    "def binary_search(arr, val):\n",
    "    start = 0 \n",
    "    end= len(arr) - 1\n",
    "    \n",
    "    while start<= end:\n",
    "        mid = (start + end) // 2\n",
    "        if arr[mid] == val:\n",
    "            return mid\n",
    "        elif val <arr[mid]:\n",
    "            end = mid-1\n",
    "        else:\n",
    "            start = mid+1"
   ]
  },
  {
   "cell_type": "code",
   "execution_count": 23,
   "id": "ac956b6b-f16f-4daf-88ac-23c01a9b4dcb",
   "metadata": {},
   "outputs": [
    {
     "data": {
      "text/plain": [
       "8"
      ]
     },
     "execution_count": 23,
     "metadata": {},
     "output_type": "execute_result"
    }
   ],
   "source": [
    "binary_search([1,2,3,4,5,6,7,8,9], 9)"
   ]
  },
  {
   "cell_type": "markdown",
   "id": "2e5257d3-2a5f-4b39-92af-430ed83126a8",
   "metadata": {},
   "source": [
    "2. **Recursive**"
   ]
  },
  {
   "cell_type": "code",
   "execution_count": 24,
   "id": "e16c711c-b4e7-4250-8613-182c74993ac4",
   "metadata": {},
   "outputs": [],
   "source": [
    "def binary_search_recursive(arr, val, start, end):\n",
    "    if start > end:\n",
    "        return -1\n",
    "    mid = (start + end) // 2\n",
    "    if arr[mid] == val:\n",
    "            return mid\n",
    "    elif val < arr[mid]:\n",
    "        return binary_search_recursive(arr, val, start, end = mid-1)\n",
    "    else:\n",
    "        return binary_search_recursive(arr, val, start = mid+1, end= end)"
   ]
  },
  {
   "cell_type": "code",
   "execution_count": 25,
   "id": "85035428-87a0-4f88-a819-eb0dd374b95c",
   "metadata": {},
   "outputs": [
    {
     "name": "stdout",
     "output_type": "stream",
     "text": [
      "Index of  66  is 5\n"
     ]
    }
   ],
   "source": [
    "arr = [1,2,30,45,58,66,70,88,92]\n",
    "start = 0 \n",
    "end = len(arr) - 1\n",
    "val = 66\n",
    "print(\"Index of \",val,\" is\",binary_search_recursive(arr, val,start,end))"
   ]
  },
  {
   "cell_type": "markdown",
   "id": "27df7adf-98d5-4496-822d-9d2ac13cc6f2",
   "metadata": {},
   "source": [
    "### Time Complexity\n",
    "```\n",
    "T(n) = k + T(n/2)     -> Recustive Realtion\n",
    "T(n/2) = T(n/4) + k\n",
    "T(n/4) = T(n/8) +k\n",
    "..\n",
    ".\n",
    "T(1) = k\n",
    "\n",
    "x times to reaach 1\n",
    "\n",
    "n/2 -> n/4 -> n/8 ->....1\n",
    "\n",
    "n/(2^x) = 1\n",
    "logn = x\n",
    "\n",
    "= k*logn\n",
    "Time Complexity = O(n)\n",
    "```"
   ]
  },
  {
   "cell_type": "markdown",
   "id": "737994fb-0d58-402e-8c1d-f2f2aa84e958",
   "metadata": {},
   "source": [
    "# Merge Sort"
   ]
  },
  {
   "cell_type": "code",
   "execution_count": 26,
   "id": "5931a70b-5c05-4567-9d4a-1fd114ae531b",
   "metadata": {},
   "outputs": [],
   "source": [
    "def merge(s1, s2, a):\n",
    "    \n",
    "    i,j,k = 0,0,0\n",
    "    while i <len(s1) and j < len(s2):\n",
    "        if s1[i] <= s2[j]:\n",
    "            a[k] = s1[i]\n",
    "            i += 1\n",
    "        else:\n",
    "            a[k] = s2[j]\n",
    "            j += 1\n",
    "        k += 1\n",
    "          \n",
    "    while i < len(s1):\n",
    "        a[k] = s1[i]\n",
    "        k += 1\n",
    "        i += 1\n",
    "    \n",
    "    while j <len(s2):\n",
    "        a[k] = s2[j]\n",
    "        k += 1\n",
    "        j += 1\n",
    "\n",
    "def mergeSort(a):\n",
    "    if len(a) == 0 or len(a) == 1:\n",
    "        return\n",
    "    mid = (len(a)) // 2\n",
    "    s1 = a[:mid]\n",
    "    s2 = a[mid:] \n",
    "    mergeSort(s1)\n",
    "    mergeSort(s2)\n",
    "    merge(s1, s2, a)"
   ]
  },
  {
   "cell_type": "code",
   "execution_count": 27,
   "id": "d29703c7-df4e-4658-b595-be12edbccb38",
   "metadata": {},
   "outputs": [
    {
     "data": {
      "text/plain": [
       "[1, 12, 45, 56, 232, 345, 4233, 5763]"
      ]
     },
     "execution_count": 27,
     "metadata": {},
     "output_type": "execute_result"
    }
   ],
   "source": [
    "a = [1,45,232,12,345,56,5763,4233]\n",
    "mergeSort(a)\n",
    "a"
   ]
  },
  {
   "cell_type": "markdown",
   "id": "d4291d19-9282-4098-8621-050305683990",
   "metadata": {},
   "source": [
    "### Time Complexity\n",
    "```\n",
    "T(n) = k*n(for splitting) + T(n/2) +T(n/2) + k*n  -> Recustive Realtion\n",
    "T(n/2) = 2*T(n/4) + k*n\n",
    "\n",
    "T(n) = 2*T(n/2) + O(n)\n",
    "T(n/2) = 2T(n/4) +O(n)\n",
    "\n",
    "Time complexity is n* logn\n",
    "```"
   ]
  },
  {
   "cell_type": "code",
   "execution_count": 37,
   "id": "c4c0b2c2-545c-4129-91d4-86718290cecd",
   "metadata": {},
   "outputs": [],
   "source": [
    "# For merging two sorted arrys of size m and n into a sorted array of size m+n\n",
    "# We require operation O(m+n)"
   ]
  },
  {
   "cell_type": "code",
   "execution_count": 28,
   "id": "bd12d788-83c9-4bf4-ae4b-7960c124d5a8",
   "metadata": {},
   "outputs": [],
   "source": [
    "def fib(n):\n",
    "    if n == 0 or n == 1:\n",
    "        return n\n",
    "    return fib(n-1) + fib(n-2)"
   ]
  },
  {
   "cell_type": "markdown",
   "id": "0d4e1701-9ed2-4307-91e9-d7be97b76faf",
   "metadata": {},
   "source": [
    "The recursive formula for the time complexity can be expressed as:\n",
    "\n",
    "T(n) = T(n-1) + T(n-2) + O(1)\n",
    "\n",
    "In other words, the time complexity of `fib(n)` depends on the time complexities of the two recursive calls `fib(n-1)` and `fib(n-2)`, plus the constant time work done within the function itself.\n",
    "\n",
    "To analyze the worst-case time complexity, we'll consider the upper bound scenario where each level of recursion splits into two branches. This forms a binary tree structure with a height of `n`. At each level, the number of nodes doubles compared to the previous level.\n",
    "\n",
    "For each level i (0-based index), there will be approximately 2^i nodes, and since the height of the tree is n, the total number of nodes in the tree will be:\n",
    "\n",
    "1 + 2 + 2^2 + ... + 2^(n-1) = 2^n - 1\n",
    "\n",
    "This is the total number of recursive calls made by the function.\n",
    "\n",
    "Considering that each call takes constant time (`O(1)`), \n",
    "\n",
    "the total time complexity is:\n",
    "\n",
    "T(n) = O(1) * (2^n - 1) = O(2^n)\n",
    "\n",
    "So, the time complexity of this naive recursive Fibonacci function is exponential: `O(2^n)`. This means that the time taken by the function grows exponentially with the input value `n`. This inefficiency is a result of repeated calculations of overlapping subproblems. For larger values of `n`, this recursive approach becomes impractical due to its rapidly increasing time consumption."
   ]
  },
  {
   "cell_type": "markdown",
   "id": "51e27899-336c-46d4-9462-2de38d9eae19",
   "metadata": {},
   "source": [
    "in general we assume , computer can do 10^8 operations in 1 sec\n",
    "for 100 fiboncci we need 2^100 ~ 10^30 operations\n",
    "10^30 / 10^8 = 10^22 seconds"
   ]
  },
  {
   "cell_type": "markdown",
   "id": "7d0fe47f-db7c-4d09-a67a-110c966123f0",
   "metadata": {},
   "source": [
    "# Space Complexity\n",
    "1. The space complexity is maximum space required at any point of time\n",
    "2. Auxillary Space\n",
    "3. Recursion takes space\n",
    "\n",
    "\n",
    "- Dont count input space requirement in your space complexity\n",
    "\n",
    "- Only take the extra space we need "
   ]
  },
  {
   "cell_type": "code",
   "execution_count": 29,
   "id": "0114962a-8d2b-4278-a48e-61522343e038",
   "metadata": {},
   "outputs": [
    {
     "name": "stdout",
     "output_type": "stream",
     "text": [
      "1\n",
      "2\n",
      "3\n",
      "4\n",
      "5\n"
     ]
    }
   ],
   "source": [
    "i = 1\n",
    "n=5\n",
    "\n",
    "while i<=n:\n",
    "    print(i)\n",
    "    i+=1\n",
    "# Space complexity: O(1)"
   ]
  },
  {
   "cell_type": "code",
   "execution_count": 30,
   "id": "5c6e7eed-7e0e-4166-8147-19d3ed5761f1",
   "metadata": {},
   "outputs": [
    {
     "name": "stdout",
     "output_type": "stream",
     "text": [
      "1\n",
      "2\n",
      "3\n",
      "4\n",
      "5\n"
     ]
    }
   ],
   "source": [
    "i = 1\n",
    "n=5\n",
    "while i<=n:\n",
    "    j = 0\n",
    "    print(i)\n",
    "    i+=1\n",
    "# Space complexity: O(1)"
   ]
  },
  {
   "cell_type": "code",
   "execution_count": 81,
   "id": "ad2055c3-f066-4807-8aa5-6c9e1fb1d2b6",
   "metadata": {},
   "outputs": [],
   "source": [
    "a = [ i for i in range(0,n)]\n",
    "\n",
    "# Space complexity: O(n)"
   ]
  },
  {
   "cell_type": "markdown",
   "id": "67914b25-36eb-499b-b055-519fee0af856",
   "metadata": {},
   "source": [
    "## Bubbele Sort"
   ]
  },
  {
   "cell_type": "code",
   "execution_count": 31,
   "id": "6b71304a-0dd6-4779-bae7-35d8d9f90e44",
   "metadata": {},
   "outputs": [
    {
     "name": "stdout",
     "output_type": "stream",
     "text": [
      "Sorted array: [11, 12, 22, 25, 34, 64, 90]\n"
     ]
    }
   ],
   "source": [
    "def bubble_sort(arr):\n",
    "    n = len(arr)\n",
    "    for i in range(n):\n",
    "        for j in range(n - i - 1):\n",
    "            if arr[j] > arr[j + 1]:\n",
    "                arr[j], arr[j + 1] = arr[j + 1], arr[j]\n",
    "\n",
    "arr = [64, 34, 25, 12, 22, 11, 90]\n",
    "bubble_sort(arr)\n",
    "print(\"Sorted array:\", arr)\n",
    "\n",
    "# Space complexity: O(1)"
   ]
  },
  {
   "cell_type": "markdown",
   "id": "2cd5229e-0fe1-4dbf-9831-4f051cc18d70",
   "metadata": {},
   "source": [
    "### Iterative Factorial"
   ]
  },
  {
   "cell_type": "code",
   "execution_count": 32,
   "id": "f87f429d-47a9-4990-ae43-8dfe6d8e819a",
   "metadata": {},
   "outputs": [
    {
     "data": {
      "text/plain": [
       "120"
      ]
     },
     "execution_count": 32,
     "metadata": {},
     "output_type": "execute_result"
    }
   ],
   "source": [
    "def factorial(n):\n",
    "    fact = 1\n",
    "    while n != 0:\n",
    "        fact *= n\n",
    "        n-=1\n",
    "    return fact\n",
    "factorial(5)\n",
    "\n",
    "# Space complexity: O(1)"
   ]
  },
  {
   "cell_type": "markdown",
   "id": "e4bdf87d-afbb-4f2a-875a-83021e5d4619",
   "metadata": {},
   "source": [
    "## Recursive Factorial"
   ]
  },
  {
   "cell_type": "code",
   "execution_count": 33,
   "id": "35a82d67-32a7-456d-bacb-0cfceec5662b",
   "metadata": {},
   "outputs": [
    {
     "data": {
      "text/plain": [
       "120"
      ]
     },
     "execution_count": 33,
     "metadata": {},
     "output_type": "execute_result"
    }
   ],
   "source": [
    "def factorial(n):\n",
    "    if n==0 or n==1:\n",
    "        return 1\n",
    "    return n*factorial(n-1)\n",
    "\n",
    "factorial(5)"
   ]
  },
  {
   "cell_type": "markdown",
   "id": "80b076c0-239b-476b-8bb3-10a77e5b9312",
   "metadata": {},
   "source": [
    "\n",
    "**Space complexity**:\n",
    "```\n",
    "factn -> fact(n-1) -> fact(n-2) -> fact(n-3)\n",
    "```\n",
    "- n+1 functions in memory\n",
    "- each function takes k space\n",
    "- Space Complexity: O(n) \n"
   ]
  },
  {
   "cell_type": "code",
   "execution_count": 34,
   "id": "39b2ea74-1488-4535-97b3-1020b66497d4",
   "metadata": {},
   "outputs": [],
   "source": [
    "def multiplyRec(m, n):\n",
    "    if n==1:\n",
    "        return m\n",
    "    return m + multiplyRec(m,  n - 1)\n",
    "\n",
    "# Space complexity: O(n)"
   ]
  },
  {
   "cell_type": "markdown",
   "id": "24512977-0429-44a7-9e6e-cf249c8f75e5",
   "metadata": {},
   "source": [
    "# Merge Sort"
   ]
  },
  {
   "cell_type": "code",
   "execution_count": 35,
   "id": "7eb47115-e001-4863-aabd-f922b97ce4dd",
   "metadata": {},
   "outputs": [],
   "source": [
    "def merge(s1, s2, a):\n",
    "    i,j,k = 0,0,0\n",
    "    while i <len(s1) and j < len(s2):\n",
    "      if s1[i] <= s2[j]:\n",
    "        a[k] = s1[i]\n",
    "        k += 1\n",
    "        i += 1\n",
    "      else:\n",
    "        a[k] = s2[j]\n",
    "        k += 1\n",
    "        j += 1\n",
    "    \n",
    "    while i < len(s1):\n",
    "      a[k] = s1[i]\n",
    "      k += 1\n",
    "      i += 1\n",
    "\n",
    "    while j <len(s2):\n",
    "      a[k] = s2[j]\n",
    "      k += 1\n",
    "      j += 1\n",
    "\n",
    "def mergeSort(a):\n",
    "    if len(a) == 0 or len(a) == 1:\n",
    "      return\n",
    "\n",
    "    mid = (len(a)) // 2\n",
    "   \n",
    "    s1 = a[:mid]\n",
    "    s2 = a[mid:]  \n",
    "\n",
    "    mergeSort(s1)\n",
    "    mergeSort(s2)\n",
    "\n",
    "    merge(s1, s2, a)\n",
    "\n",
    "# Space complexity: O(n)"
   ]
  },
  {
   "cell_type": "markdown",
   "id": "5c21aa82-e51f-4ecf-a855-8ad4a0d96f62",
   "metadata": {},
   "source": [
    "# Fibanocci"
   ]
  },
  {
   "cell_type": "code",
   "execution_count": 36,
   "id": "077b5a65-db34-4556-9467-75f7a28f8957",
   "metadata": {},
   "outputs": [],
   "source": [
    "def fib(n):\n",
    "    if n == 1 or n == 2:\n",
    "        return 1\n",
    "    return fib(n-1) + fib(n-2)\n",
    "    \n",
    "# At any point of fib(n-1) -> fib(n-2) ....fib(0) : Highest calls\n",
    "# Space complexity: O(n)"
   ]
  },
  {
   "cell_type": "markdown",
   "id": "f485f3c3-5ace-4d94-9282-fccb9890efcb",
   "metadata": {},
   "source": [
    "# Quick Sort"
   ]
  },
  {
   "cell_type": "markdown",
   "id": "485f48ba-2756-4651-bbfd-13e7f921de1a",
   "metadata": {},
   "source": [
    "QuickSort is a widely used sorting algorithm that follows the divide-and-conquer strategy to sort an array or a list of elements.\n",
    "\n",
    "1. Choose a pivot element from the array. The choice of pivot can affect the algorithm's efficiency. Common choices include the first element, the last element, the middle element, or a random element.\n",
    "\n",
    "2. Partition the array into two sub-arrays: elements less than the pivot and elements greater than the pivot. This is typically done using two pointers, one scanning from the left and the other from the right, swapping elements as needed.\n",
    "\n",
    "3. Recursively apply QuickSort to the sub-arrays created in step 2.\n",
    "\n",
    "4. Combine the sorted sub-arrays and the pivot in their correct order to obtain the final sorted array."
   ]
  },
  {
   "cell_type": "code",
   "execution_count": 37,
   "id": "ad821239-521e-45ee-8b81-6e710827e20e",
   "metadata": {},
   "outputs": [
    {
     "name": "stdout",
     "output_type": "stream",
     "text": [
      "[1, 1, 2, 3, 3, 4, 5, 5, 5, 6, 9]\n"
     ]
    }
   ],
   "source": [
    "def quicksort(arr):\n",
    "    if len(arr) <= 1:\n",
    "        return arr\n",
    "    \n",
    "    pivot = arr[len(arr) // 2]  # Choosing the middle element as the pivot\n",
    "    left = [x for x in arr if x < pivot]\n",
    "    middle = [x for x in arr if x == pivot]\n",
    "    right = [x for x in arr if x > pivot]\n",
    "    return quicksort(left) + middle + quicksort(right)\n",
    "\n",
    "arr = [3, 1, 4, 1, 5, 9, 2, 6, 5, 3, 5]\n",
    "sorted_arr = quicksort(arr)\n",
    "print(sorted_arr)"
   ]
  },
  {
   "cell_type": "markdown",
   "id": "7ccfc473-e7e4-432c-ad08-0c8647e254c5",
   "metadata": {},
   "source": [
    "\n",
    "QuickSort is generally efficient and has an average-case time complexity of O(n log n), its worst-case time complexity can be O(n^2) if the pivot choice consistently leads to unbalanced partitions.\n",
    "\n",
    "-  if the pivot we choosen is largest or smallest, then it is not reliable , it leads to O(n^2) time complexity\n",
    "-  T(n) = T(n-1) +kn  = >O(n^2)\n",
    "\n",
    "\n",
    "- If the split in mid,\n",
    "- Then T(N) = T(n/2) +kn = >O(nlogn)\n",
    "\n",
    "\n",
    "However, techniques like choosing a good pivot and randomizing the pivot choice can mitigate this issue in practice.\n",
    "\n",
    "Quick Sort: Example of randomised algorithm"
   ]
  },
  {
   "cell_type": "markdown",
   "id": "c4f8de73-22e2-4111-9a7f-e72b3a7e1d7d",
   "metadata": {},
   "source": [
    "# Problems"
   ]
  },
  {
   "cell_type": "markdown",
   "id": "65cbc791-0b77-494c-8043-d79829f27661",
   "metadata": {},
   "source": [
    "**1. Power** "
   ]
  },
  {
   "cell_type": "code",
   "execution_count": 38,
   "id": "26f9d210-3c9a-4e11-8e58-54f2e5e8c023",
   "metadata": {},
   "outputs": [],
   "source": [
    "def power(x,n):\n",
    "    ans = 1\n",
    "    for i in range(1,n+1):\n",
    "        ans*=x\n",
    "    return ans "
   ]
  },
  {
   "cell_type": "code",
   "execution_count": 39,
   "id": "63ba2221-0663-4a73-9493-3ac09a03f6eb",
   "metadata": {},
   "outputs": [
    {
     "data": {
      "text/plain": [
       "25"
      ]
     },
     "execution_count": 39,
     "metadata": {},
     "output_type": "execute_result"
    }
   ],
   "source": [
    "power(5,2) #iterative\n",
    "# Tc : O(n)\n",
    "# Sc : O(1)"
   ]
  },
  {
   "cell_type": "code",
   "execution_count": 40,
   "id": "7437cf6a-8453-4fcf-84e3-a8ce36b880e7",
   "metadata": {},
   "outputs": [
    {
     "data": {
      "text/plain": [
       "25"
      ]
     },
     "execution_count": 40,
     "metadata": {},
     "output_type": "execute_result"
    }
   ],
   "source": [
    "def power(x,n):\n",
    "    if n == 0:\n",
    "        return 1\n",
    "    return x * power(x,n-1)\n",
    "    \n",
    "power(5,2) #Recursive\n",
    "\n",
    "# Tc : O(n)\n",
    "# Sc : O(n)"
   ]
  },
  {
   "cell_type": "markdown",
   "id": "177dc557-eeb9-42b9-ad15-2e3148ec8e7c",
   "metadata": {},
   "source": [
    "**Improvement Of Power Function**"
   ]
  },
  {
   "cell_type": "markdown",
   "id": "28948f5d-8740-47dd-9502-3e8621f1488a",
   "metadata": {},
   "source": [
    "We can improve time complexity of this function using an approach called \"exponentiation by squaring,\" which reduces the number of recursive calls and thus improves the overall efficiency.\n",
    "\n",
    "This approach is based on the idea that for even values of `n`, we can calculate `x^n` as `(x^(n/2))^2`, and for odd values of `n`, we can calculate `x^n` as `x * (x^((n-1)/2))^2`.\n",
    "\n",
    "In the below implementation, the number of recursive calls is reduced, leading to a significant improvement in the time complexity. \n",
    "- The time complexity of this optimized version is O(log n), where `n` is the exponent. This is because at each step, the exponent is divided by 2, resulting in a logarithmic number of recursive calls.\n",
    "- The space complexity remains O(log n) as well due to the recursive call stack."
   ]
  },
  {
   "cell_type": "code",
   "execution_count": 41,
   "id": "3a144908-d63a-4095-b0f1-65a3c8d72f64",
   "metadata": {},
   "outputs": [
    {
     "name": "stdout",
     "output_type": "stream",
     "text": [
      "25\n"
     ]
    }
   ],
   "source": [
    "def power(x, n):\n",
    "    if n == 0:\n",
    "        return 1\n",
    "    if n % 2 == 0:\n",
    "        temp = power(x, n // 2)\n",
    "        return temp * temp\n",
    "    else:\n",
    "        temp = power(x, (n - 1) // 2)\n",
    "        return x * temp * temp\n",
    "\n",
    "\n",
    "result = power(5, 2)\n",
    "print(result)  # Output: 25\n",
    "\n",
    "# Tc: O(logn)\n",
    "# Sc : O(logn)"
   ]
  },
  {
   "cell_type": "markdown",
   "id": "3424e7c3-1db8-48f1-a408-4bf859803b86",
   "metadata": {},
   "source": [
    "### Note:\n",
    "1. look at constraints\n",
    "2. 1 sec -> 10^8 operations\n",
    "\n",
    "if n <= 10^6,\n",
    "then n^2 <=10^12 "
   ]
  },
  {
   "cell_type": "markdown",
   "id": "f5396b03-ec6a-4097-8088-4f8ac019744f",
   "metadata": {},
   "source": [
    "## Array intersection Problem"
   ]
  },
  {
   "cell_type": "markdown",
   "id": "02ca1c11-1af9-4e3a-b34b-cb14f29b9c13",
   "metadata": {},
   "source": [
    "Approach 1:\n",
    "- Iterate through each element in one array and check its presence in the other array.\n",
    "- Time complexity: O(mn).\n",
    "\n",
    "Approach 2:\n",
    "- If both arrays only contain unique elements, sort the second array and perform binary search on it.\n",
    "- Sorting the second array takes nlogn time, and binary search for m elements takes mlogn time.\n",
    "- Time complexity: O(nlogn + mlogn).\n",
    "\n",
    "Approach 3:\n",
    "- Sort both arrays individually.\n",
    "- Find common elements by comparing elements while traversing both arrays.\n",
    "- Sorting each array takes mlogm and nlogn time respectively, and finding common elements takes O(m + n) time.\n",
    "- Time complexity: O(mlogm + nlogn + m + n) = O(mlogm + nlogn).\n",
    "\n",
    "Approach 4:\n",
    "- Use hashmaps to store elements from one array and then check for their presence in the other array.\n",
    "- Time complexity is dependent on the efficiency of hashmaps, typically around O(m + n).\n",
    "\n",
    "Please note that the time complexities provided here are based on generalizations and might vary depending on implementation details and specific scenarios."
   ]
  },
  {
   "cell_type": "code",
   "execution_count": 42,
   "id": "b72e09ff-5ca7-49ee-9845-51ab49e51415",
   "metadata": {},
   "outputs": [
    {
     "data": {
      "text/plain": [
       "[1, 2, 3, 4]"
      ]
     },
     "execution_count": 42,
     "metadata": {},
     "output_type": "execute_result"
    }
   ],
   "source": [
    "# Approach 3\n",
    "def intersection(nums1, m, nums2, n):\n",
    "    nums1.sort()\n",
    "    nums2.sort()\n",
    "    intersec = []\n",
    "    i, j = 0, 0\n",
    "    while i<m and j<n:\n",
    "        if nums1[i] == nums2[j]:\n",
    "            intersec.append(nums2[j])\n",
    "            i+=1\n",
    "            j+=1\n",
    "        elif nums1[i] < nums2[j]:\n",
    "            i+=1\n",
    "        else:\n",
    "            j+=1\n",
    "    return intersec\n",
    "\n",
    "intersection([1,1,2,3,4,5],5,[1,2,3,4],4)"
   ]
  },
  {
   "cell_type": "markdown",
   "id": "e6e9c70d-b4ff-45b2-a47c-0fe751613ec1",
   "metadata": {},
   "source": [
    "### Equilibrium Index Problem:\n",
    "\n",
    "Approach 1:\n",
    "- For each index, calculate the sum of elements on the left side and the sum of elements on the right side.\n",
    "- Compare the left and right sums for each index to find the equilibrium index.\n",
    "- Time complexity: O(n^2) due to nested loop for sum calculations.\n",
    "\n",
    "Approach 2:\n",
    "- Calculate the total sum of all elements in the array.\n",
    "- Initialize a variable to keep track of the left sum as 0.\n",
    "- Iterate through each index, update the right sum as (total sum - current element - left sum).\n",
    "- Compare the left and right sums for each index to find the equilibrium index.\n",
    "- Time complexity: O(n) as it involves a single pass through the array to calculate left and right sums."
   ]
  },
  {
   "cell_type": "code",
   "execution_count": 43,
   "id": "7709ee8f-7150-4386-a365-77614a44d51f",
   "metadata": {},
   "outputs": [
    {
     "name": "stdout",
     "output_type": "stream",
     "text": [
      "Equilibrium Index: 3\n"
     ]
    }
   ],
   "source": [
    "def find_equilibrium_index(arr):\n",
    "    total_sum = sum(arr)\n",
    "    left_sum = 0\n",
    "    \n",
    "    for index, value in enumerate(arr):\n",
    "        total_sum -= value\n",
    "        if left_sum == total_sum:\n",
    "            return index\n",
    "        left_sum += value\n",
    "    \n",
    "    return -1  # No equilibrium index found\n",
    "\n",
    "arr = [-7, 1, 5, 2, -4, 3, 0]\n",
    "equilibrium_index = find_equilibrium_index(arr)\n",
    "\n",
    "print(\"Equilibrium Index:\", equilibrium_index)"
   ]
  },
  {
   "cell_type": "markdown",
   "id": "0e668bcf-d231-4f16-b528-b81e23680f65",
   "metadata": {},
   "source": [
    "### Unique Element\n",
    "\n",
    "**Approach 1: Using Hash Map**\n",
    "- Create a hash map to store the frequency of each element in the array.\n",
    "- Iterate through the array and update the frequency in the hash map.\n",
    "- Iterate through the hash map and find the element with a frequency of 1.\n",
    "- Time complexity: O(n) - where n is the number of elements in the array.\n",
    "\n",
    "**Approach 2: Using XOR**\n",
    "- XOR all the elements in the array together.\n",
    "- The result will be the unique element since XOR of two same numbers cancels out (resulting in 0).\n",
    "- Time complexity: O(n) - where n is the number of elements in the array.\n",
    "\n",
    "**Approach 3: Using Sorting**\n",
    "- XOR all the elements in the array together.\n",
    "- The result will be the unique element since XOR of two same numbers cancels out (resulting in 0).\n",
    "- Time complexity: O(n) - where n is the number of elements in the array."
   ]
  },
  {
   "cell_type": "code",
   "execution_count": 44,
   "id": "fa4a5191-6953-40d9-9fa7-11bc4e32455b",
   "metadata": {},
   "outputs": [
    {
     "name": "stdout",
     "output_type": "stream",
     "text": [
      "Unique element: 3\n"
     ]
    }
   ],
   "source": [
    "def find_unique_using_dict(arr):\n",
    "    freq_elements = {}\n",
    "    \n",
    "    for num in arr:\n",
    "        freq_elements[num] = freq_elements.get(num,0) +1\n",
    "        \n",
    "    for num,freq in freq_elements.items():\n",
    "        if freq ==1:\n",
    "            return num\n",
    "          \n",
    "arr = [4, 2, 3, 2, 4]\n",
    "unique_element = find_unique_using_dict(arr)\n",
    "print(\"Unique element:\", unique_element)"
   ]
  },
  {
   "cell_type": "code",
   "execution_count": 48,
   "id": "d02777a7-24b9-4ea1-96d9-09110847ad70",
   "metadata": {},
   "outputs": [
    {
     "name": "stdout",
     "output_type": "stream",
     "text": [
      "Unique Element: 3\n"
     ]
    }
   ],
   "source": [
    "def uniqueElement(arr):\n",
    "    xor_result = 0\n",
    "    \n",
    "    for num in arr:\n",
    "        xor_result ^= num\n",
    "    \n",
    "    return xor_result\n",
    "\n",
    "result = uniqueElement([1, 1, 2, 3, 2])\n",
    "print(\"Unique Element:\", result) "
   ]
  },
  {
   "cell_type": "code",
   "execution_count": 46,
   "id": "4a91551e-a204-4201-8df3-d42d5c789e23",
   "metadata": {},
   "outputs": [
    {
     "name": "stdout",
     "output_type": "stream",
     "text": [
      "Unique Element: 3\n"
     ]
    }
   ],
   "source": [
    "def uniqueElement(arr):\n",
    "    arr.sort()\n",
    "    i = 0\n",
    "    while i < len(arr):\n",
    "        if i == len(arr) - 1 or arr[i] != arr[i + 1]:\n",
    "            return arr[i]\n",
    "        i += 2\n",
    "    return -1\n",
    "    \n",
    "result = uniqueElement([1, 1, 2, 3, 2])\n",
    "print(\"Unique Element:\", result) "
   ]
  },
  {
   "cell_type": "code",
   "execution_count": 49,
   "id": "fd114d69-1383-4c5a-998f-937ff4228926",
   "metadata": {},
   "outputs": [
    {
     "name": "stdout",
     "output_type": "stream",
     "text": [
      "Duplicate Element: 9\n"
     ]
    }
   ],
   "source": [
    "# Duplicate in a array\n",
    "def duplicateElement(arr):\n",
    "    arr.sort()\n",
    "    i = 0\n",
    "\n",
    "    while i + 1 < len(arr):\n",
    "        if arr[i] == arr[i + 1]:\n",
    "            return arr[i]\n",
    "        i += 1\n",
    "\n",
    "    return -1\n",
    "result = duplicateElement([1, 2, 3, 5, 9,9])\n",
    "print(\"Duplicate Element:\", result)"
   ]
  },
  {
   "cell_type": "markdown",
   "id": "e7a27bae-8814-4538-be62-457110a0c1bb",
   "metadata": {},
   "source": [
    "# Pair Sum problem:\n",
    "\n",
    "**Approach 1:**\n",
    "- For each element in the array, check the remaining elements to find if there are any other elements that sum up to the required target.\n",
    "- Time complexity: O(n^2), where n is the number of elements in the array.\n",
    "\n",
    "**Approach 2: Two Pointer Approach**\n",
    "- Sort the array.\n",
    "- Initialize two pointers, one at the beginning (left) and one at the end (right) of the sorted array.\n",
    "- Compare the sum of elements pointed by the left and right pointers with the target sum.\n",
    "- If the sum is less than the target, move the left pointer to the right.\n",
    "- If the sum is greater than the target, move the right pointer to the left.\n",
    "- If the sum equals the target, you've found the pair.\n",
    "- Time complexity: O(n log n) due to sorting, but the search part only requires O(n) time.\n",
    "\n",
    "**Approach 3: Using Hash Map**\n",
    "- Iterate through the array, for each element `num`, calculate the `complement` which is `target - num`.\n",
    "- Check if `complement` exists in a hash map that stores elements you've seen so far.\n",
    "- If it does, you've found the pair.\n",
    "- If it doesn't, add the current element to the hash map.\n",
    "- Time complexity: O(n), where n is the number of elements in the array."
   ]
  },
  {
   "cell_type": "code",
   "execution_count": 50,
   "id": "c844fb24-1500-4838-814a-aa1968019ef7",
   "metadata": {},
   "outputs": [],
   "source": [
    "# Approach 2\n",
    "def pair_sum(arr,val):\n",
    "    arr.sort()\n",
    "    print(arr)\n",
    "    pairs = 0\n",
    "    \n",
    "    start, end = 0, len(arr) -1\n",
    "    while start<=end:\n",
    "        sum_start_end = arr[start] + arr[end]\n",
    "        if sum_start_end == val:\n",
    "            pairs+=1\n",
    "            start+=1\n",
    "            end-=1\n",
    "        elif sum_start_end > val:\n",
    "            end-=1\n",
    "        else:\n",
    "            start+=1\n",
    "    \n",
    "    return pairs "
   ]
  },
  {
   "cell_type": "code",
   "execution_count": 51,
   "id": "91244949-2697-466d-aca6-c992de790bf3",
   "metadata": {},
   "outputs": [
    {
     "name": "stdout",
     "output_type": "stream",
     "text": [
      "[2, 3, 4, 6, 7]\n"
     ]
    },
    {
     "data": {
      "text/plain": [
       "2"
      ]
     },
     "execution_count": 51,
     "metadata": {},
     "output_type": "execute_result"
    }
   ],
   "source": [
    "pair_sum([4, 6, 2, 7, 3], 10)"
   ]
  },
  {
   "cell_type": "code",
   "execution_count": 52,
   "id": "6b2d6605-55a5-4b4c-85ab-92fe9aa1eb33",
   "metadata": {},
   "outputs": [
    {
     "name": "stdout",
     "output_type": "stream",
     "text": [
      "Number of pairs: 3\n"
     ]
    }
   ],
   "source": [
    "#Appraoch 3\n",
    "def pair_sum_hash(arr, val):\n",
    "    num_map = {}\n",
    "    pairs = 0\n",
    "    \n",
    "    for num in arr:\n",
    "        complement = val - num\n",
    "        if complement in num_map:\n",
    "            pairs += num_map[complement]\n",
    "        if num in num_map:\n",
    "            num_map[num] += 1\n",
    "        else:\n",
    "            num_map[num] = 1\n",
    "            \n",
    "    return pairs\n",
    "\n",
    "arr = [1, 2, 3, 4, 3, 5]\n",
    "target = 6\n",
    "result = pair_sum_hash(arr, target)\n",
    "print(\"Number of pairs:\", result)"
   ]
  },
  {
   "cell_type": "markdown",
   "id": "7a78e1c5-2649-4898-850b-bfb6826e39fd",
   "metadata": {},
   "source": [
    "## Rotate Array\n",
    "\n",
    "**Approach 1: Using Extra Space**\n",
    "- Create a new array of the same size as the original array.\n",
    "- Copy the elements from the original array to the new array with the appropriate shift.\n",
    "- Copy the new array back to the original array.\n",
    "- Time complexity: O(n), where n is the number of elements in the array.\n",
    "\n",
    "**Approach 2: In-place Rotation**\n",
    "- Reverse the entire array.\n",
    "- Reverse the first `k` elements.\n",
    "- Reverse the remaining `n - k` elements.\n",
    "- Time complexity: O(n), where n is the number of elements in the array."
   ]
  },
  {
   "cell_type": "code",
   "execution_count": 53,
   "id": "418658a6-e586-4c03-ab6d-fc3e0cbd1cfe",
   "metadata": {},
   "outputs": [
    {
     "name": "stdout",
     "output_type": "stream",
     "text": [
      "[5, 6, 7, 1, 2, 3, 4]\n"
     ]
    }
   ],
   "source": [
    "def reverse_array(arr, start, end):\n",
    "    while start < end:\n",
    "        arr[start], arr[end] = arr[end], arr[start]\n",
    "        start += 1\n",
    "        end -= 1\n",
    "\n",
    "def rotate_array_inplace(arr, d):\n",
    "    n = len(arr)\n",
    "    d = d % n\n",
    "    \n",
    "    reverse_array(arr, 0, n - 1) #total elements reverse\n",
    "    reverse_array(arr, 0, d - 1) # first d elements reverse\n",
    "    reverse_array(arr, d, n - 1) # from d to n-1 reverse :(n-d) elements\n",
    "\n",
    "arr = [1, 2, 3, 4, 5, 6, 7]\n",
    "rotate_array_inplace(arr, 3)\n",
    "print(arr)"
   ]
  },
  {
   "cell_type": "code",
   "execution_count": 54,
   "id": "85d1f528-e36e-47e6-8721-2c8457ce8aed",
   "metadata": {},
   "outputs": [],
   "source": [
    "def three_sum(arr, target):\n",
    "    arr.sort()\n",
    "    triplets = []\n",
    "\n",
    "    for i in range(len(arr) - 2):\n",
    "        if i > 0 and arr[i] == arr[i - 1]:\n",
    "            continue\n",
    "        \n",
    "        left, right = i + 1, len(arr) - 1\n",
    "        \n",
    "        while left < right:\n",
    "            total = arr[i] + arr[left] + arr[right]\n",
    "            \n",
    "            if total == target:\n",
    "                triplets.append([arr[i], arr[left], arr[right]])\n",
    "                left += 1\n",
    "                right -= 1\n",
    "                \n",
    "                while left < right and arr[left] == arr[left - 1]:\n",
    "                    left += 1\n",
    "                while left < right and arr[right] == arr[right + 1]:\n",
    "                    right -= 1\n",
    "            \n",
    "            elif total < target:\n",
    "                left += 1\n",
    "            else:\n",
    "                right -= 1\n",
    "                \n",
    "    return triplets"
   ]
  },
  {
   "cell_type": "code",
   "execution_count": 77,
   "id": "f2640e09-af75-467f-88c5-8249fbb11368",
   "metadata": {},
   "outputs": [
    {
     "name": "stdout",
     "output_type": "stream",
     "text": [
      "1 4 7\n",
      "1 5 6\n",
      "2 3 7\n",
      "2 4 6\n",
      "3 4 5\n"
     ]
    }
   ],
   "source": [
    "def find_triplets(arr, target_sum):\n",
    "    arr.sort()  # Sort the array in ascending order\n",
    "    \n",
    "    for i in range(len(arr) - 2):\n",
    "        left = i + 1\n",
    "        right = len(arr) - 1\n",
    "        \n",
    "        while left < right:\n",
    "            current_sum = arr[i] + arr[left] + arr[right]\n",
    "            \n",
    "            if current_sum == target_sum:\n",
    "                print(arr[i], arr[left], arr[right])  # Print the triplet\n",
    "                left += 1\n",
    "                right -= 1\n",
    "            elif current_sum < target_sum:\n",
    "                left += 1\n",
    "            else:\n",
    "                right -= 1\n",
    "\n",
    "arr = [1, 2, 3, 4, 5, 6, 7]\n",
    "target_sum = 12\n",
    "find_triplets(arr, target_sum)\n"
   ]
  }
 ],
 "metadata": {
  "kernelspec": {
   "display_name": "Python 3 (ipykernel)",
   "language": "python",
   "name": "python3"
  },
  "language_info": {
   "codemirror_mode": {
    "name": "ipython",
    "version": 3
   },
   "file_extension": ".py",
   "mimetype": "text/x-python",
   "name": "python",
   "nbconvert_exporter": "python",
   "pygments_lexer": "ipython3",
   "version": "3.11.3"
  }
 },
 "nbformat": 4,
 "nbformat_minor": 5
}
